{
 "cells": [
  {
   "cell_type": "code",
   "execution_count": 1,
   "id": "56f54baa-e000-4fdf-8476-1c2ba81c6f20",
   "metadata": {},
   "outputs": [],
   "source": [
    "import pandas as pd\n",
    "import pytz\n",
    "import datetime as dt\n",
    "import math\n",
    "import seaborn as sns"
   ]
  },
  {
   "cell_type": "code",
   "execution_count": 2,
   "id": "43b106ae-8501-4ec0-a5e6-3d1c562ea003",
   "metadata": {},
   "outputs": [],
   "source": [
    "#shimmer_sensor_path =  \"D:/Datasets/sony_digirelax/shimmer/VP001_251023_Session1_Shimmer_8108_Calibrated_SD.csv\"\n",
    "shimmer_sensor_path = \"/home/muhammad/Desktop/Datasets/data_sony_digiRelax/pilot_study/VP001_251023/Shimmer_data/2023-10-25_07.34.27_VP001_251023_SD_Session1/VP001_251023_Session1_Shimmer_FBA7_Calibrated_SD.csv\""
   ]
  },
  {
   "cell_type": "code",
   "execution_count": 3,
   "id": "8f7b6f7d-9c5d-4bf3-b9b3-9c1ac36bc3b1",
   "metadata": {},
   "outputs": [],
   "source": [
    "time_zone = 'Europe/Berlin'\n",
    "tz = pytz.timezone(time_zone)"
   ]
  },
  {
   "cell_type": "code",
   "execution_count": 4,
   "id": "948e6bbe-37c0-411b-be1b-9cc3d4c13cf7",
   "metadata": {},
   "outputs": [],
   "source": [
    "def read_shimmer_sensor(sensor_file_path):\n",
    "    \n",
    "    shimmer_df = pd.read_csv(sensor_file_path, sep='\\t', low_memory=False)\n",
    "    shimmer_df = shimmer_df.reset_index()\n",
    "    shimmer_df.columns = shimmer_df.iloc[0]\n",
    "    shimmer_df.drop([0, 1], axis=0, inplace=True)\n",
    "    \n",
    "    return shimmer_df"
   ]
  },
  {
   "cell_type": "code",
   "execution_count": 5,
   "id": "40f1fbad-a399-4ac0-a20b-6df154be8def",
   "metadata": {},
   "outputs": [],
   "source": [
    "shimmer_df = read_shimmer_sensor(shimmer_sensor_path)"
   ]
  },
  {
   "cell_type": "code",
   "execution_count": null,
   "id": "4f55460e-a952-4fe3-ab6c-4651df574739",
   "metadata": {},
   "outputs": [],
   "source": []
  },
  {
   "cell_type": "code",
   "execution_count": 24,
   "id": "b2bf3fde-6615-435c-b41e-2f1b9cb053d6",
   "metadata": {},
   "outputs": [
    {
     "data": {
      "text/html": [
       "<div>\n",
       "<style scoped>\n",
       "    .dataframe tbody tr th:only-of-type {\n",
       "        vertical-align: middle;\n",
       "    }\n",
       "\n",
       "    .dataframe tbody tr th {\n",
       "        vertical-align: top;\n",
       "    }\n",
       "\n",
       "    .dataframe thead th {\n",
       "        text-align: right;\n",
       "    }\n",
       "</style>\n",
       "<table border=\"1\" class=\"dataframe\">\n",
       "  <thead>\n",
       "    <tr style=\"text-align: right;\">\n",
       "      <th></th>\n",
       "      <th>Shimmer_FBA7_Timestamp_Unix_CAL</th>\n",
       "      <th>Shimmer_FBA7_Accel_LN_X_CAL</th>\n",
       "      <th>Shimmer_FBA7_Accel_LN_Y_CAL</th>\n",
       "      <th>Shimmer_FBA7_Accel_LN_Z_CAL</th>\n",
       "      <th>Shimmer_FBA7_GSR_Range_CAL</th>\n",
       "      <th>Shimmer_FBA7_GSR_Skin_Conductance_CAL</th>\n",
       "      <th>Shimmer_FBA7_GSR_Skin_Resistance_CAL</th>\n",
       "      <th>NaN</th>\n",
       "    </tr>\n",
       "  </thead>\n",
       "  <tbody>\n",
       "    <tr>\n",
       "      <th>2</th>\n",
       "      <td>1.6982179802870789E12</td>\n",
       "      <td>-2.4216867469879517</td>\n",
       "      <td>9.46987951807229</td>\n",
       "      <td>-0.8674698795180723</td>\n",
       "      <td>0.0</td>\n",
       "      <td>6.724618664917171</td>\n",
       "      <td>148.70731707317077</td>\n",
       "      <td>NaN</td>\n",
       "    </tr>\n",
       "    <tr>\n",
       "      <th>3</th>\n",
       "      <td>1.6982179802948914E12</td>\n",
       "      <td>-2.4216867469879517</td>\n",
       "      <td>9.457831325301205</td>\n",
       "      <td>-0.8915662650602411</td>\n",
       "      <td>0.0</td>\n",
       "      <td>6.724618664917171</td>\n",
       "      <td>148.70731707317077</td>\n",
       "      <td>NaN</td>\n",
       "    </tr>\n",
       "    <tr>\n",
       "      <th>4</th>\n",
       "      <td>1.6982179802987976E12</td>\n",
       "      <td>-2.397590361445783</td>\n",
       "      <td>9.457831325301205</td>\n",
       "      <td>-0.8674698795180723</td>\n",
       "      <td>0.0</td>\n",
       "      <td>6.724618664917171</td>\n",
       "      <td>148.70731707317077</td>\n",
       "      <td>NaN</td>\n",
       "    </tr>\n",
       "    <tr>\n",
       "      <th>5</th>\n",
       "      <td>1.6982179803027039E12</td>\n",
       "      <td>-2.36144578313253</td>\n",
       "      <td>9.421686746987952</td>\n",
       "      <td>-0.8433734939759037</td>\n",
       "      <td>0.0</td>\n",
       "      <td>6.724618664917171</td>\n",
       "      <td>148.70731707317077</td>\n",
       "      <td>NaN</td>\n",
       "    </tr>\n",
       "    <tr>\n",
       "      <th>6</th>\n",
       "      <td>1.69821798030661E12</td>\n",
       "      <td>-2.3734939759036147</td>\n",
       "      <td>9.409638554216867</td>\n",
       "      <td>-0.8795180722891567</td>\n",
       "      <td>0.0</td>\n",
       "      <td>6.724618664917171</td>\n",
       "      <td>148.70731707317077</td>\n",
       "      <td>NaN</td>\n",
       "    </tr>\n",
       "    <tr>\n",
       "      <th>...</th>\n",
       "      <td>...</td>\n",
       "      <td>...</td>\n",
       "      <td>...</td>\n",
       "      <td>...</td>\n",
       "      <td>...</td>\n",
       "      <td>...</td>\n",
       "      <td>...</td>\n",
       "      <td>...</td>\n",
       "    </tr>\n",
       "    <tr>\n",
       "      <th>1079536</th>\n",
       "      <td>1.69822219824411E12</td>\n",
       "      <td>-0.5421686746987953</td>\n",
       "      <td>9.072289156626507</td>\n",
       "      <td>3.662650602409639</td>\n",
       "      <td>1.0</td>\n",
       "      <td>12.70436880192978</td>\n",
       "      <td>78.71308016877636</td>\n",
       "      <td>NaN</td>\n",
       "    </tr>\n",
       "    <tr>\n",
       "      <th>1079537</th>\n",
       "      <td>1.6982221982480164E12</td>\n",
       "      <td>-0.5301204819277109</td>\n",
       "      <td>9.072289156626507</td>\n",
       "      <td>3.6506024096385543</td>\n",
       "      <td>1.0</td>\n",
       "      <td>12.709474033515848</td>\n",
       "      <td>78.68146214099215</td>\n",
       "      <td>NaN</td>\n",
       "    </tr>\n",
       "    <tr>\n",
       "      <th>1079538</th>\n",
       "      <td>1.6982221982519226E12</td>\n",
       "      <td>-0.5421686746987953</td>\n",
       "      <td>9.072289156626507</td>\n",
       "      <td>3.6385542168674703</td>\n",
       "      <td>1.0</td>\n",
       "      <td>12.709474033515848</td>\n",
       "      <td>78.68146214099215</td>\n",
       "      <td>NaN</td>\n",
       "    </tr>\n",
       "    <tr>\n",
       "      <th>1079539</th>\n",
       "      <td>1.6982221982558289E12</td>\n",
       "      <td>-0.5301204819277109</td>\n",
       "      <td>9.060240963855422</td>\n",
       "      <td>3.6144578313253013</td>\n",
       "      <td>1.0</td>\n",
       "      <td>12.714579265101914</td>\n",
       "      <td>78.64986950411563</td>\n",
       "      <td>NaN</td>\n",
       "    </tr>\n",
       "    <tr>\n",
       "      <th>1079540</th>\n",
       "      <td>1.698222198259735E12</td>\n",
       "      <td>-0.5542168674698795</td>\n",
       "      <td>9.060240963855422</td>\n",
       "      <td>3.6385542168674703</td>\n",
       "      <td>1.0</td>\n",
       "      <td>12.714579265101914</td>\n",
       "      <td>78.64986950411563</td>\n",
       "      <td>NaN</td>\n",
       "    </tr>\n",
       "  </tbody>\n",
       "</table>\n",
       "<p>1079539 rows × 8 columns</p>\n",
       "</div>"
      ],
      "text/plain": [
       "0       Shimmer_FBA7_Timestamp_Unix_CAL Shimmer_FBA7_Accel_LN_X_CAL  \\\n",
       "2                 1.6982179802870789E12         -2.4216867469879517   \n",
       "3                 1.6982179802948914E12         -2.4216867469879517   \n",
       "4                 1.6982179802987976E12          -2.397590361445783   \n",
       "5                 1.6982179803027039E12           -2.36144578313253   \n",
       "6                   1.69821798030661E12         -2.3734939759036147   \n",
       "...                                 ...                         ...   \n",
       "1079536             1.69822219824411E12         -0.5421686746987953   \n",
       "1079537           1.6982221982480164E12         -0.5301204819277109   \n",
       "1079538           1.6982221982519226E12         -0.5421686746987953   \n",
       "1079539           1.6982221982558289E12         -0.5301204819277109   \n",
       "1079540            1.698222198259735E12         -0.5542168674698795   \n",
       "\n",
       "0       Shimmer_FBA7_Accel_LN_Y_CAL Shimmer_FBA7_Accel_LN_Z_CAL  \\\n",
       "2                  9.46987951807229         -0.8674698795180723   \n",
       "3                 9.457831325301205         -0.8915662650602411   \n",
       "4                 9.457831325301205         -0.8674698795180723   \n",
       "5                 9.421686746987952         -0.8433734939759037   \n",
       "6                 9.409638554216867         -0.8795180722891567   \n",
       "...                             ...                         ...   \n",
       "1079536           9.072289156626507           3.662650602409639   \n",
       "1079537           9.072289156626507          3.6506024096385543   \n",
       "1079538           9.072289156626507          3.6385542168674703   \n",
       "1079539           9.060240963855422          3.6144578313253013   \n",
       "1079540           9.060240963855422          3.6385542168674703   \n",
       "\n",
       "0       Shimmer_FBA7_GSR_Range_CAL Shimmer_FBA7_GSR_Skin_Conductance_CAL  \\\n",
       "2                              0.0                     6.724618664917171   \n",
       "3                              0.0                     6.724618664917171   \n",
       "4                              0.0                     6.724618664917171   \n",
       "5                              0.0                     6.724618664917171   \n",
       "6                              0.0                     6.724618664917171   \n",
       "...                            ...                                   ...   \n",
       "1079536                        1.0                     12.70436880192978   \n",
       "1079537                        1.0                    12.709474033515848   \n",
       "1079538                        1.0                    12.709474033515848   \n",
       "1079539                        1.0                    12.714579265101914   \n",
       "1079540                        1.0                    12.714579265101914   \n",
       "\n",
       "0       Shimmer_FBA7_GSR_Skin_Resistance_CAL  NaN  \n",
       "2                         148.70731707317077  NaN  \n",
       "3                         148.70731707317077  NaN  \n",
       "4                         148.70731707317077  NaN  \n",
       "5                         148.70731707317077  NaN  \n",
       "6                         148.70731707317077  NaN  \n",
       "...                                      ...  ...  \n",
       "1079536                    78.71308016877636  NaN  \n",
       "1079537                    78.68146214099215  NaN  \n",
       "1079538                    78.68146214099215  NaN  \n",
       "1079539                    78.64986950411563  NaN  \n",
       "1079540                    78.64986950411563  NaN  \n",
       "\n",
       "[1079539 rows x 8 columns]"
      ]
     },
     "execution_count": 24,
     "metadata": {},
     "output_type": "execute_result"
    }
   ],
   "source": [
    "shimmer_df"
   ]
  },
  {
   "cell_type": "code",
   "execution_count": 7,
   "id": "2bff30cd-d559-4c85-90a1-5b1fe80d17af",
   "metadata": {},
   "outputs": [],
   "source": [
    "ref_wrong=float(shimmer_df.iloc[0,0])"
   ]
  },
  {
   "cell_type": "code",
   "execution_count": null,
   "id": "19f90a95-48fd-4ce0-96a7-398b8ecb1ff5",
   "metadata": {},
   "outputs": [],
   "source": []
  },
  {
   "cell_type": "code",
   "execution_count": 8,
   "id": "69035a51-7388-47dc-9072-5219b3e8494c",
   "metadata": {},
   "outputs": [],
   "source": [
    "ref = float(shimmer_df.iloc[0,0])/1000\n",
    "    "
   ]
  },
  {
   "cell_type": "code",
   "execution_count": 9,
   "id": "f8f6758b-d9da-4ad5-b9b9-35548330516d",
   "metadata": {},
   "outputs": [
    {
     "data": {
      "text/plain": [
       "1698217980.2870789"
      ]
     },
     "execution_count": 9,
     "metadata": {},
     "output_type": "execute_result"
    }
   ],
   "source": [
    "ref"
   ]
  },
  {
   "cell_type": "code",
   "execution_count": 10,
   "id": "3fb200fb-0d1f-489b-a59c-7938f376d4a5",
   "metadata": {},
   "outputs": [],
   "source": [
    "\n",
    "end_ = float(shimmer_df.iloc[shimmer_df.shape[0] - 1, 0]) / 1000"
   ]
  },
  {
   "cell_type": "code",
   "execution_count": 11,
   "id": "0c712e42-0d4f-43da-8cbc-d56b3099cd62",
   "metadata": {},
   "outputs": [
    {
     "data": {
      "text/plain": [
       "1698222198.259735"
      ]
     },
     "execution_count": 11,
     "metadata": {},
     "output_type": "execute_result"
    }
   ],
   "source": [
    "end_"
   ]
  },
  {
   "cell_type": "code",
   "execution_count": 12,
   "id": "41356df4-a029-4d10-b0ac-2e712c7f4944",
   "metadata": {},
   "outputs": [],
   "source": [
    "tz = pytz.timezone(time_zone)"
   ]
  },
  {
   "cell_type": "code",
   "execution_count": 13,
   "id": "84c30475-8ef9-4d30-ad15-bf67ccb839fb",
   "metadata": {},
   "outputs": [],
   "source": [
    "exp_onset = dt.datetime.fromtimestamp(ref, tz)"
   ]
  },
  {
   "cell_type": "code",
   "execution_count": 14,
   "id": "8f89b678-d07e-4171-840e-bf9ef43d59f3",
   "metadata": {},
   "outputs": [
    {
     "data": {
      "text/plain": [
       "datetime.datetime(2023, 10, 25, 9, 13, 0, 287079, tzinfo=<DstTzInfo 'Europe/Berlin' CEST+2:00:00 DST>)"
      ]
     },
     "execution_count": 14,
     "metadata": {},
     "output_type": "execute_result"
    }
   ],
   "source": [
    "exp_onset"
   ]
  },
  {
   "cell_type": "code",
   "execution_count": 15,
   "id": "15606a1f-77f8-431f-ac70-ba7a77c755a3",
   "metadata": {},
   "outputs": [],
   "source": [
    "exp_offset = dt.datetime.fromtimestamp(end_, tz)"
   ]
  },
  {
   "cell_type": "code",
   "execution_count": 16,
   "id": "1839f7b9-370f-4718-9c03-c0dd1fb657f9",
   "metadata": {},
   "outputs": [
    {
     "data": {
      "text/plain": [
       "datetime.datetime(2023, 10, 25, 10, 23, 18, 259735, tzinfo=<DstTzInfo 'Europe/Berlin' CEST+2:00:00 DST>)"
      ]
     },
     "execution_count": 16,
     "metadata": {},
     "output_type": "execute_result"
    }
   ],
   "source": [
    "exp_offset"
   ]
  },
  {
   "cell_type": "code",
   "execution_count": 17,
   "id": "cacf66f5-5513-4d4a-9632-50f57e300671",
   "metadata": {},
   "outputs": [],
   "source": [
    "duration = exp_offset - exp_onset"
   ]
  },
  {
   "cell_type": "code",
   "execution_count": 18,
   "id": "e7491141-1b44-42b9-8e89-980fe9c61dc6",
   "metadata": {},
   "outputs": [
    {
     "data": {
      "text/plain": [
       "datetime.timedelta(seconds=4217, microseconds=972656)"
      ]
     },
     "execution_count": 18,
     "metadata": {},
     "output_type": "execute_result"
    }
   ],
   "source": [
    "duration"
   ]
  },
  {
   "cell_type": "code",
   "execution_count": 19,
   "id": "35523e0c-8be3-44ff-b5c6-0c100a4b1eaf",
   "metadata": {},
   "outputs": [],
   "source": [
    "start = str(exp_onset.time())"
   ]
  },
  {
   "cell_type": "code",
   "execution_count": 20,
   "id": "d9879988-586e-44dd-80b1-ea0fc6e6632a",
   "metadata": {},
   "outputs": [
    {
     "data": {
      "text/plain": [
       "'09:13:00.287079'"
      ]
     },
     "execution_count": 20,
     "metadata": {},
     "output_type": "execute_result"
    }
   ],
   "source": [
    "start"
   ]
  },
  {
   "cell_type": "code",
   "execution_count": 21,
   "id": "33838afd-554d-4306-bcd3-d7106991b085",
   "metadata": {},
   "outputs": [],
   "source": [
    "end =  str(exp_offset.time())"
   ]
  },
  {
   "cell_type": "code",
   "execution_count": 22,
   "id": "1f644833-39a0-4097-b3d6-9bf1a35c9789",
   "metadata": {},
   "outputs": [
    {
     "data": {
      "text/plain": [
       "'10:23:18.259735'"
      ]
     },
     "execution_count": 22,
     "metadata": {},
     "output_type": "execute_result"
    }
   ],
   "source": [
    "end"
   ]
  },
  {
   "cell_type": "code",
   "execution_count": 25,
   "id": "2e4a3b7a-4d08-4103-8c9b-84761bed2f03",
   "metadata": {},
   "outputs": [
    {
     "name": "stderr",
     "output_type": "stream",
     "text": [
      "/tmp/ipykernel_101080/1245389435.py:1: UserWarning: \n",
      "\n",
      "`distplot` is a deprecated function and will be removed in seaborn v0.14.0.\n",
      "\n",
      "Please adapt your code to use either `displot` (a figure-level function with\n",
      "similar flexibility) or `histplot` (an axes-level function for histograms).\n",
      "\n",
      "For a guide to updating your code to use the new functions, please see\n",
      "https://gist.github.com/mwaskom/de44147ed2974457ad6372750bbe5751\n",
      "\n",
      "  sns.distplot(shimmer_df[\"Shimmer_FBA7_GSR_Skin_Conductance_CAL\"], hist=True, kde= False, bins=int(180/5), color='blue', hist_kws= {\"edgecolor\":\"black\"} )\n"
     ]
    },
    {
     "data": {
      "text/plain": [
       "<Axes: xlabel='Shimmer_FBA7_GSR_Skin_Conductance_CAL'>"
      ]
     },
     "execution_count": 25,
     "metadata": {},
     "output_type": "execute_result"
    },
    {
     "data": {
      "image/png": "[encoded data removed]",
      "text/plain": [
       "<Figure size 640x480 with 1 Axes>"
      ]
     },
     "metadata": {},
     "output_type": "display_data"
    }
   ],
   "source": [
    "sns.distplot(shimmer_df[\"Shimmer_FBA7_GSR_Skin_Conductance_CAL\"], hist=True, kde= False, bins=int(180/5), color='blue', hist_kws= {\"edgecolor\":\"black\"} )"
   ]
  },
  {
   "cell_type": "code",
   "execution_count": 26,
   "id": "1d47da34-938f-4c80-99c9-fad1ef541d1a",
   "metadata": {},
   "outputs": [
    {
     "name": "stderr",
     "output_type": "stream",
     "text": [
      "/tmp/ipykernel_101080/2166879841.py:1: UserWarning: \n",
      "\n",
      "`distplot` is a deprecated function and will be removed in seaborn v0.14.0.\n",
      "\n",
      "Please adapt your code to use either `displot` (a figure-level function with\n",
      "similar flexibility) or `histplot` (an axes-level function for histograms).\n",
      "\n",
      "For a guide to updating your code to use the new functions, please see\n",
      "https://gist.github.com/mwaskom/de44147ed2974457ad6372750bbe5751\n",
      "\n",
      "  sns.distplot(shimmer_df[\"Shimmer_FBA7_GSR_Skin_Resistance_CAL\"], hist=True, kde= False, bins=int(180/5), color='blue', hist_kws= {\"edgecolor\":\"black\"} )\n"
     ]
    },
    {
     "data": {
      "text/plain": [
       "<Axes: xlabel='Shimmer_FBA7_GSR_Skin_Resistance_CAL'>"
      ]
     },
     "execution_count": 26,
     "metadata": {},
     "output_type": "execute_result"
    },
    {
     "data": {
      "image/png": "[encoded data removed]",
      "text/plain": [
       "<Figure size 640x480 with 1 Axes>"
      ]
     },
     "metadata": {},
     "output_type": "display_data"
    }
   ],
   "source": [
    "sns.distplot(shimmer_df[\"Shimmer_FBA7_GSR_Skin_Resistance_CAL\"], hist=True, kde= False, bins=int(180/5), color='blue', hist_kws= {\"edgecolor\":\"black\"} )"
   ]
  },
  {
   "cell_type": "code",
   "execution_count": null,
   "id": "078bf286-6b95-4b6b-b1c8-2d993f1a09f7",
   "metadata": {},
   "outputs": [
    {
     "data": {
      "text/plain": [
       "<Axes: xlabel='Shimmer_8108_ECG_LL-LA_24BIT_CAL', ylabel='Count'>"
      ]
     },
     "execution_count": 95,
     "metadata": {},
     "output_type": "execute_result"
    }
   ],
   "source": []
  },
  {
   "cell_type": "code",
   "execution_count": 94,
   "id": "6d66d015-99e1-4ecf-98b7-1d714fc310c5",
   "metadata": {},
   "outputs": [
    {
     "name": "stderr",
     "output_type": "stream",
     "text": [
      "/tmp/ipykernel_98793/844455784.py:1: UserWarning: \n",
      "\n",
      "`distplot` is a deprecated function and will be removed in seaborn v0.14.0.\n",
      "\n",
      "Please adapt your code to use either `displot` (a figure-level function with\n",
      "similar flexibility) or `histplot` (an axes-level function for histograms).\n",
      "\n",
      "For a guide to updating your code to use the new functions, please see\n",
      "https://gist.github.com/mwaskom/de44147ed2974457ad6372750bbe5751\n",
      "\n",
      "  sns.distplot(shimmer_df[\"Shimmer_8108_ECG_LL-LA_24BIT_CAL\"], hist=True, kde= False, color='blue', hist_kws= {\"edgecolor\":\"black\"} )\n"
     ]
    },
    {
     "data": {
      "text/plain": [
       "<Axes: xlabel='Shimmer_8108_ECG_LL-LA_24BIT_CAL'>"
      ]
     },
     "execution_count": 94,
     "metadata": {},
     "output_type": "execute_result"
    },
    {
     "data": {
      "image/png": "[encoded data removed]",
      "text/plain": [
       "<Figure size 640x480 with 1 Axes>"
      ]
     },
     "metadata": {},
     "output_type": "display_data"
    }
   ],
   "source": [
    "sns.distplot(shimmer_df[\"Shimmer_8108_ECG_LL-LA_24BIT_CAL\"], hist=True, kde= False, color='blue', hist_kws= {\"edgecolor\":\"black\"} )"
   ]
  },
  {
   "cell_type": "code",
   "execution_count": null,
   "id": "73b5266c-fe78-4854-a9a9-fa9c623ec14d",
   "metadata": {},
   "outputs": [],
   "source": []
  },
  {
   "cell_type": "markdown",
   "id": "336157dc-747a-445a-b1ee-43e1c0fa579d",
   "metadata": {},
   "source": [
    "## Psychopy data"
   ]
  },
  {
   "cell_type": "code",
   "execution_count": 36,
   "id": "6d305956-22c3-4516-82d2-865a75757a96",
   "metadata": {},
   "outputs": [],
   "source": [
    "psychopy_path = \"/home/muhammad/Desktop/Datasets/data_sony_digiRelax/pilot_study/VP001_251023/Psychopy_data/VP001_251023_DigiRelax_Experiment_2023-10-25_09h16.01.523.csv\"\n"
   ]
  },
  {
   "cell_type": "code",
   "execution_count": 37,
   "id": "85750b64-fa30-46b2-a807-5cc3eca4170b",
   "metadata": {},
   "outputs": [],
   "source": [
    "psychopy_df = pd.read_csv(psychopy_path)"
   ]
  },
  {
   "cell_type": "code",
   "execution_count": 38,
   "id": "dfb59802-d58b-4ab6-833c-3a6b6342a3b0",
   "metadata": {},
   "outputs": [
    {
     "data": {
      "text/html": [
       "<div>\n",
       "<style scoped>\n",
       "    .dataframe tbody tr th:only-of-type {\n",
       "        vertical-align: middle;\n",
       "    }\n",
       "\n",
       "    .dataframe tbody tr th {\n",
       "        vertical-align: top;\n",
       "    }\n",
       "\n",
       "    .dataframe thead th {\n",
       "        text-align: right;\n",
       "    }\n",
       "</style>\n",
       "<table border=\"1\" class=\"dataframe\">\n",
       "  <thead>\n",
       "    <tr style=\"text-align: right;\">\n",
       "      <th></th>\n",
       "      <th>Reference_time</th>\n",
       "      <th>sam_e_rt</th>\n",
       "      <th>sam_e_ts</th>\n",
       "      <th>mouse_e.x</th>\n",
       "      <th>mouse_e.y</th>\n",
       "      <th>mouse_e.leftButton</th>\n",
       "      <th>mouse_e.midButton</th>\n",
       "      <th>mouse_e.rightButton</th>\n",
       "      <th>sam_a_rt</th>\n",
       "      <th>sam_a_ts</th>\n",
       "      <th>...</th>\n",
       "      <th>key_resp_3.rt</th>\n",
       "      <th>saliva_probe_4_ts</th>\n",
       "      <th>final_instruction_ts</th>\n",
       "      <th>participant</th>\n",
       "      <th>session</th>\n",
       "      <th>date</th>\n",
       "      <th>expName</th>\n",
       "      <th>psychopyVersion</th>\n",
       "      <th>frameRate</th>\n",
       "      <th>Unnamed: 35</th>\n",
       "    </tr>\n",
       "  </thead>\n",
       "  <tbody>\n",
       "    <tr>\n",
       "      <th>0</th>\n",
       "      <td>1.698218e+09</td>\n",
       "      <td>15.996141</td>\n",
       "      <td>1.698218e+09</td>\n",
       "      <td>-0.406481</td>\n",
       "      <td>-0.139815</td>\n",
       "      <td>0.0</td>\n",
       "      <td>0.0</td>\n",
       "      <td>0.0</td>\n",
       "      <td>NaN</td>\n",
       "      <td>NaN</td>\n",
       "      <td>...</td>\n",
       "      <td>NaN</td>\n",
       "      <td>NaN</td>\n",
       "      <td>NaN</td>\n",
       "      <td>VP001_251023</td>\n",
       "      <td>1.0</td>\n",
       "      <td>2023-10-25_09h16.01.523</td>\n",
       "      <td>DigiRelax_Experiment</td>\n",
       "      <td>2022.2.4</td>\n",
       "      <td>60.124518</td>\n",
       "      <td>NaN</td>\n",
       "    </tr>\n",
       "    <tr>\n",
       "      <th>1</th>\n",
       "      <td>NaN</td>\n",
       "      <td>NaN</td>\n",
       "      <td>NaN</td>\n",
       "      <td>NaN</td>\n",
       "      <td>NaN</td>\n",
       "      <td>NaN</td>\n",
       "      <td>NaN</td>\n",
       "      <td>NaN</td>\n",
       "      <td>32.486024</td>\n",
       "      <td>1.698218e+09</td>\n",
       "      <td>...</td>\n",
       "      <td>NaN</td>\n",
       "      <td>NaN</td>\n",
       "      <td>NaN</td>\n",
       "      <td>VP001_251023</td>\n",
       "      <td>1.0</td>\n",
       "      <td>2023-10-25_09h16.01.523</td>\n",
       "      <td>DigiRelax_Experiment</td>\n",
       "      <td>2022.2.4</td>\n",
       "      <td>60.124518</td>\n",
       "      <td>NaN</td>\n",
       "    </tr>\n",
       "    <tr>\n",
       "      <th>2</th>\n",
       "      <td>NaN</td>\n",
       "      <td>6.714147</td>\n",
       "      <td>1.698220e+09</td>\n",
       "      <td>0.591667</td>\n",
       "      <td>-0.150000</td>\n",
       "      <td>0.0</td>\n",
       "      <td>0.0</td>\n",
       "      <td>0.0</td>\n",
       "      <td>NaN</td>\n",
       "      <td>NaN</td>\n",
       "      <td>...</td>\n",
       "      <td>NaN</td>\n",
       "      <td>NaN</td>\n",
       "      <td>NaN</td>\n",
       "      <td>VP001_251023</td>\n",
       "      <td>1.0</td>\n",
       "      <td>2023-10-25_09h16.01.523</td>\n",
       "      <td>DigiRelax_Experiment</td>\n",
       "      <td>2022.2.4</td>\n",
       "      <td>60.124518</td>\n",
       "      <td>NaN</td>\n",
       "    </tr>\n",
       "    <tr>\n",
       "      <th>3</th>\n",
       "      <td>NaN</td>\n",
       "      <td>NaN</td>\n",
       "      <td>NaN</td>\n",
       "      <td>NaN</td>\n",
       "      <td>NaN</td>\n",
       "      <td>NaN</td>\n",
       "      <td>NaN</td>\n",
       "      <td>NaN</td>\n",
       "      <td>6.564849</td>\n",
       "      <td>1.698220e+09</td>\n",
       "      <td>...</td>\n",
       "      <td>NaN</td>\n",
       "      <td>NaN</td>\n",
       "      <td>NaN</td>\n",
       "      <td>VP001_251023</td>\n",
       "      <td>1.0</td>\n",
       "      <td>2023-10-25_09h16.01.523</td>\n",
       "      <td>DigiRelax_Experiment</td>\n",
       "      <td>2022.2.4</td>\n",
       "      <td>60.124518</td>\n",
       "      <td>NaN</td>\n",
       "    </tr>\n",
       "    <tr>\n",
       "      <th>4</th>\n",
       "      <td>NaN</td>\n",
       "      <td>59.619881</td>\n",
       "      <td>1.698221e+09</td>\n",
       "      <td>-0.411111</td>\n",
       "      <td>-0.159259</td>\n",
       "      <td>0.0</td>\n",
       "      <td>0.0</td>\n",
       "      <td>0.0</td>\n",
       "      <td>NaN</td>\n",
       "      <td>NaN</td>\n",
       "      <td>...</td>\n",
       "      <td>NaN</td>\n",
       "      <td>NaN</td>\n",
       "      <td>NaN</td>\n",
       "      <td>VP001_251023</td>\n",
       "      <td>1.0</td>\n",
       "      <td>2023-10-25_09h16.01.523</td>\n",
       "      <td>DigiRelax_Experiment</td>\n",
       "      <td>2022.2.4</td>\n",
       "      <td>60.124518</td>\n",
       "      <td>NaN</td>\n",
       "    </tr>\n",
       "    <tr>\n",
       "      <th>5</th>\n",
       "      <td>NaN</td>\n",
       "      <td>NaN</td>\n",
       "      <td>NaN</td>\n",
       "      <td>NaN</td>\n",
       "      <td>NaN</td>\n",
       "      <td>NaN</td>\n",
       "      <td>NaN</td>\n",
       "      <td>NaN</td>\n",
       "      <td>5.739751</td>\n",
       "      <td>1.698221e+09</td>\n",
       "      <td>...</td>\n",
       "      <td>NaN</td>\n",
       "      <td>NaN</td>\n",
       "      <td>NaN</td>\n",
       "      <td>VP001_251023</td>\n",
       "      <td>1.0</td>\n",
       "      <td>2023-10-25_09h16.01.523</td>\n",
       "      <td>DigiRelax_Experiment</td>\n",
       "      <td>2022.2.4</td>\n",
       "      <td>60.124518</td>\n",
       "      <td>NaN</td>\n",
       "    </tr>\n",
       "    <tr>\n",
       "      <th>6</th>\n",
       "      <td>NaN</td>\n",
       "      <td>NaN</td>\n",
       "      <td>NaN</td>\n",
       "      <td>NaN</td>\n",
       "      <td>NaN</td>\n",
       "      <td>NaN</td>\n",
       "      <td>NaN</td>\n",
       "      <td>NaN</td>\n",
       "      <td>NaN</td>\n",
       "      <td>NaN</td>\n",
       "      <td>...</td>\n",
       "      <td>602.997034</td>\n",
       "      <td>NaN</td>\n",
       "      <td>NaN</td>\n",
       "      <td>VP001_251023</td>\n",
       "      <td>1.0</td>\n",
       "      <td>2023-10-25_09h16.01.523</td>\n",
       "      <td>DigiRelax_Experiment</td>\n",
       "      <td>2022.2.4</td>\n",
       "      <td>60.124518</td>\n",
       "      <td>NaN</td>\n",
       "    </tr>\n",
       "    <tr>\n",
       "      <th>7</th>\n",
       "      <td>NaN</td>\n",
       "      <td>11.281163</td>\n",
       "      <td>1.698222e+09</td>\n",
       "      <td>-0.104630</td>\n",
       "      <td>-0.315741</td>\n",
       "      <td>0.0</td>\n",
       "      <td>0.0</td>\n",
       "      <td>0.0</td>\n",
       "      <td>NaN</td>\n",
       "      <td>NaN</td>\n",
       "      <td>...</td>\n",
       "      <td>NaN</td>\n",
       "      <td>NaN</td>\n",
       "      <td>NaN</td>\n",
       "      <td>VP001_251023</td>\n",
       "      <td>1.0</td>\n",
       "      <td>2023-10-25_09h16.01.523</td>\n",
       "      <td>DigiRelax_Experiment</td>\n",
       "      <td>2022.2.4</td>\n",
       "      <td>60.124518</td>\n",
       "      <td>NaN</td>\n",
       "    </tr>\n",
       "    <tr>\n",
       "      <th>8</th>\n",
       "      <td>NaN</td>\n",
       "      <td>NaN</td>\n",
       "      <td>NaN</td>\n",
       "      <td>NaN</td>\n",
       "      <td>NaN</td>\n",
       "      <td>NaN</td>\n",
       "      <td>NaN</td>\n",
       "      <td>NaN</td>\n",
       "      <td>12.273688</td>\n",
       "      <td>1.698222e+09</td>\n",
       "      <td>...</td>\n",
       "      <td>NaN</td>\n",
       "      <td>NaN</td>\n",
       "      <td>NaN</td>\n",
       "      <td>VP001_251023</td>\n",
       "      <td>1.0</td>\n",
       "      <td>2023-10-25_09h16.01.523</td>\n",
       "      <td>DigiRelax_Experiment</td>\n",
       "      <td>2022.2.4</td>\n",
       "      <td>60.124518</td>\n",
       "      <td>NaN</td>\n",
       "    </tr>\n",
       "    <tr>\n",
       "      <th>9</th>\n",
       "      <td>NaN</td>\n",
       "      <td>NaN</td>\n",
       "      <td>NaN</td>\n",
       "      <td>NaN</td>\n",
       "      <td>NaN</td>\n",
       "      <td>NaN</td>\n",
       "      <td>NaN</td>\n",
       "      <td>NaN</td>\n",
       "      <td>NaN</td>\n",
       "      <td>NaN</td>\n",
       "      <td>...</td>\n",
       "      <td>NaN</td>\n",
       "      <td>1.698222e+09</td>\n",
       "      <td>1.698222e+09</td>\n",
       "      <td>NaN</td>\n",
       "      <td>NaN</td>\n",
       "      <td>NaN</td>\n",
       "      <td>NaN</td>\n",
       "      <td>NaN</td>\n",
       "      <td>NaN</td>\n",
       "      <td>NaN</td>\n",
       "    </tr>\n",
       "  </tbody>\n",
       "</table>\n",
       "<p>10 rows × 36 columns</p>\n",
       "</div>"
      ],
      "text/plain": [
       "   Reference_time   sam_e_rt      sam_e_ts  mouse_e.x  mouse_e.y  \\\n",
       "0    1.698218e+09  15.996141  1.698218e+09  -0.406481  -0.139815   \n",
       "1             NaN        NaN           NaN        NaN        NaN   \n",
       "2             NaN   6.714147  1.698220e+09   0.591667  -0.150000   \n",
       "3             NaN        NaN           NaN        NaN        NaN   \n",
       "4             NaN  59.619881  1.698221e+09  -0.411111  -0.159259   \n",
       "5             NaN        NaN           NaN        NaN        NaN   \n",
       "6             NaN        NaN           NaN        NaN        NaN   \n",
       "7             NaN  11.281163  1.698222e+09  -0.104630  -0.315741   \n",
       "8             NaN        NaN           NaN        NaN        NaN   \n",
       "9             NaN        NaN           NaN        NaN        NaN   \n",
       "\n",
       "   mouse_e.leftButton  mouse_e.midButton  mouse_e.rightButton   sam_a_rt  \\\n",
       "0                 0.0                0.0                  0.0        NaN   \n",
       "1                 NaN                NaN                  NaN  32.486024   \n",
       "2                 0.0                0.0                  0.0        NaN   \n",
       "3                 NaN                NaN                  NaN   6.564849   \n",
       "4                 0.0                0.0                  0.0        NaN   \n",
       "5                 NaN                NaN                  NaN   5.739751   \n",
       "6                 NaN                NaN                  NaN        NaN   \n",
       "7                 0.0                0.0                  0.0        NaN   \n",
       "8                 NaN                NaN                  NaN  12.273688   \n",
       "9                 NaN                NaN                  NaN        NaN   \n",
       "\n",
       "       sam_a_ts  ...  key_resp_3.rt  saliva_probe_4_ts  final_instruction_ts  \\\n",
       "0           NaN  ...            NaN                NaN                   NaN   \n",
       "1  1.698218e+09  ...            NaN                NaN                   NaN   \n",
       "2           NaN  ...            NaN                NaN                   NaN   \n",
       "3  1.698220e+09  ...            NaN                NaN                   NaN   \n",
       "4           NaN  ...            NaN                NaN                   NaN   \n",
       "5  1.698221e+09  ...            NaN                NaN                   NaN   \n",
       "6           NaN  ...     602.997034                NaN                   NaN   \n",
       "7           NaN  ...            NaN                NaN                   NaN   \n",
       "8  1.698222e+09  ...            NaN                NaN                   NaN   \n",
       "9           NaN  ...            NaN       1.698222e+09          1.698222e+09   \n",
       "\n",
       "    participant  session                     date               expName  \\\n",
       "0  VP001_251023      1.0  2023-10-25_09h16.01.523  DigiRelax_Experiment   \n",
       "1  VP001_251023      1.0  2023-10-25_09h16.01.523  DigiRelax_Experiment   \n",
       "2  VP001_251023      1.0  2023-10-25_09h16.01.523  DigiRelax_Experiment   \n",
       "3  VP001_251023      1.0  2023-10-25_09h16.01.523  DigiRelax_Experiment   \n",
       "4  VP001_251023      1.0  2023-10-25_09h16.01.523  DigiRelax_Experiment   \n",
       "5  VP001_251023      1.0  2023-10-25_09h16.01.523  DigiRelax_Experiment   \n",
       "6  VP001_251023      1.0  2023-10-25_09h16.01.523  DigiRelax_Experiment   \n",
       "7  VP001_251023      1.0  2023-10-25_09h16.01.523  DigiRelax_Experiment   \n",
       "8  VP001_251023      1.0  2023-10-25_09h16.01.523  DigiRelax_Experiment   \n",
       "9           NaN      NaN                      NaN                   NaN   \n",
       "\n",
       "   psychopyVersion  frameRate  Unnamed: 35  \n",
       "0         2022.2.4  60.124518          NaN  \n",
       "1         2022.2.4  60.124518          NaN  \n",
       "2         2022.2.4  60.124518          NaN  \n",
       "3         2022.2.4  60.124518          NaN  \n",
       "4         2022.2.4  60.124518          NaN  \n",
       "5         2022.2.4  60.124518          NaN  \n",
       "6         2022.2.4  60.124518          NaN  \n",
       "7         2022.2.4  60.124518          NaN  \n",
       "8         2022.2.4  60.124518          NaN  \n",
       "9              NaN        NaN          NaN  \n",
       "\n",
       "[10 rows x 36 columns]"
      ]
     },
     "execution_count": 38,
     "metadata": {},
     "output_type": "execute_result"
    }
   ],
   "source": [
    "psychopy_df"
   ]
  },
  {
   "cell_type": "code",
   "execution_count": 39,
   "id": "c35a6ec3-f39b-48df-bf19-fe1b27ed40e5",
   "metadata": {},
   "outputs": [],
   "source": [
    "ref_psy = float(psychopy_df.iloc[0,0])"
   ]
  },
  {
   "cell_type": "code",
   "execution_count": 40,
   "id": "283fc322-d4a6-43dc-b859-877de2c26e50",
   "metadata": {},
   "outputs": [
    {
     "data": {
      "text/plain": [
       "1698218168.1472008"
      ]
     },
     "execution_count": 40,
     "metadata": {},
     "output_type": "execute_result"
    }
   ],
   "source": [
    "ref_psy"
   ]
  },
  {
   "cell_type": "code",
   "execution_count": 41,
   "id": "e38e4cef-168f-42e8-86c9-de46406a8aef",
   "metadata": {},
   "outputs": [],
   "source": [
    "psychopy_start = dt.datetime.fromtimestamp(ref_psy, tz)"
   ]
  },
  {
   "cell_type": "code",
   "execution_count": 42,
   "id": "b2881803-a28d-4f09-8498-5556e3da06bd",
   "metadata": {},
   "outputs": [
    {
     "data": {
      "text/plain": [
       "datetime.datetime(2023, 10, 25, 9, 16, 8, 147201, tzinfo=<DstTzInfo 'Europe/Berlin' CEST+2:00:00 DST>)"
      ]
     },
     "execution_count": 42,
     "metadata": {},
     "output_type": "execute_result"
    }
   ],
   "source": [
    "psychopy_start"
   ]
  },
  {
   "cell_type": "code",
   "execution_count": 44,
   "id": "add524b5-fcea-4852-8ce4-eb0238879252",
   "metadata": {},
   "outputs": [],
   "source": [
    "end_exp = psychopy_df[\"final_instruction_ts\"].values[-1]"
   ]
  },
  {
   "cell_type": "code",
   "execution_count": 45,
   "id": "876228cc-a2e0-4895-9fab-3804fb975c0f",
   "metadata": {},
   "outputs": [
    {
     "data": {
      "text/plain": [
       "1698222138.2349458"
      ]
     },
     "execution_count": 45,
     "metadata": {},
     "output_type": "execute_result"
    }
   ],
   "source": [
    "end_exp"
   ]
  },
  {
   "cell_type": "code",
   "execution_count": 46,
   "id": "385a6ada-f265-4278-888e-e7b9216a44ff",
   "metadata": {},
   "outputs": [],
   "source": [
    "psychopy_end = dt.datetime.fromtimestamp(end_exp, tz)"
   ]
  },
  {
   "cell_type": "code",
   "execution_count": 47,
   "id": "1522bfeb-e115-4398-a1ff-fa1af807fb09",
   "metadata": {},
   "outputs": [
    {
     "data": {
      "text/plain": [
       "datetime.datetime(2023, 10, 25, 10, 22, 18, 234946, tzinfo=<DstTzInfo 'Europe/Berlin' CEST+2:00:00 DST>)"
      ]
     },
     "execution_count": 47,
     "metadata": {},
     "output_type": "execute_result"
    }
   ],
   "source": [
    "psychopy_end"
   ]
  },
  {
   "cell_type": "code",
   "execution_count": 48,
   "id": "e3e1bba1-c325-4863-b0d0-d97c41c34767",
   "metadata": {},
   "outputs": [],
   "source": [
    "ts_end = dt.datetime.timestamp(psychopy_end)"
   ]
  },
  {
   "cell_type": "code",
   "execution_count": 49,
   "id": "2010b5a5-8a5e-4a3a-b297-aef5f7fc7867",
   "metadata": {},
   "outputs": [
    {
     "data": {
      "text/plain": [
       "1698222138.234946"
      ]
     },
     "execution_count": 49,
     "metadata": {},
     "output_type": "execute_result"
    }
   ],
   "source": [
    "ts_end"
   ]
  },
  {
   "cell_type": "code",
   "execution_count": 51,
   "id": "24972d19-f315-40a8-9dd6-3e0d68b6934c",
   "metadata": {},
   "outputs": [],
   "source": [
    "sam_e_ts = [val for val in psychopy_df[\"sam_e_ts\"].to_list() if not(math.isnan(val))]"
   ]
  },
  {
   "cell_type": "code",
   "execution_count": 52,
   "id": "c2e3015c-7a3c-43ea-b43b-8aa66bb686f9",
   "metadata": {},
   "outputs": [
    {
     "data": {
      "text/plain": [
       "[1698218434.7052257, 1698219805.110611, 1698221289.7617822, 1698222004.4851725]"
      ]
     },
     "execution_count": 52,
     "metadata": {},
     "output_type": "execute_result"
    }
   ],
   "source": [
    "sam_e_ts"
   ]
  },
  {
   "cell_type": "code",
   "execution_count": 55,
   "id": "90418c7f-4533-4e4a-b4a4-b8b45f59d637",
   "metadata": {},
   "outputs": [],
   "source": [
    "sam_a_ts =[val for val in psychopy_df[\"sam_a_ts\"].to_list() if not(math.isnan(val))]"
   ]
  },
  {
   "cell_type": "code",
   "execution_count": 56,
   "id": "b77cd332-e6cb-4b03-835f-3a2102acbc05",
   "metadata": {},
   "outputs": [
    {
     "data": {
      "text/plain": [
       "[1698218476.3730214,\n",
       " 1698219814.1707582,\n",
       " 1698221296.9562707,\n",
       " 1698222021.8138652]"
      ]
     },
     "execution_count": 56,
     "metadata": {},
     "output_type": "execute_result"
    }
   ],
   "source": [
    "sam_a_ts"
   ]
  },
  {
   "cell_type": "code",
   "execution_count": 57,
   "id": "6ff72da3-3849-4c81-be48-16283012dfb3",
   "metadata": {},
   "outputs": [
    {
     "data": {
      "text/plain": [
       "datetime.datetime(2023, 10, 25, 9, 20, 34, 705226, tzinfo=<DstTzInfo 'Europe/Berlin' CEST+2:00:00 DST>)"
      ]
     },
     "execution_count": 57,
     "metadata": {},
     "output_type": "execute_result"
    }
   ],
   "source": [
    "dt.datetime.fromtimestamp(sam_e_ts[0], tz)"
   ]
  },
  {
   "cell_type": "code",
   "execution_count": 58,
   "id": "99abda01-2967-4bf3-8966-ed107615d4fa",
   "metadata": {},
   "outputs": [
    {
     "data": {
      "text/plain": [
       "datetime.datetime(2023, 10, 25, 9, 21, 16, 373021, tzinfo=<DstTzInfo 'Europe/Berlin' CEST+2:00:00 DST>)"
      ]
     },
     "execution_count": 58,
     "metadata": {},
     "output_type": "execute_result"
    }
   ],
   "source": [
    "dt.datetime.fromtimestamp(sam_a_ts[0], tz)"
   ]
  },
  {
   "cell_type": "code",
   "execution_count": 59,
   "id": "3b2a5e9b-a321-4779-9ed3-629f7a58c722",
   "metadata": {},
   "outputs": [
    {
     "data": {
      "text/plain": [
       "datetime.datetime(2023, 10, 25, 9, 43, 25, 110611, tzinfo=<DstTzInfo 'Europe/Berlin' CEST+2:00:00 DST>)"
      ]
     },
     "execution_count": 59,
     "metadata": {},
     "output_type": "execute_result"
    }
   ],
   "source": [
    "dt.datetime.fromtimestamp(sam_e_ts[1], tz)"
   ]
  },
  {
   "cell_type": "code",
   "execution_count": 60,
   "id": "434b21fd-44cb-4d5b-aea3-ab02541c9e3d",
   "metadata": {},
   "outputs": [
    {
     "data": {
      "text/plain": [
       "datetime.datetime(2023, 10, 25, 9, 43, 34, 170758, tzinfo=<DstTzInfo 'Europe/Berlin' CEST+2:00:00 DST>)"
      ]
     },
     "execution_count": 60,
     "metadata": {},
     "output_type": "execute_result"
    }
   ],
   "source": [
    "dt.datetime.fromtimestamp(sam_a_ts[1], tz)"
   ]
  },
  {
   "cell_type": "code",
   "execution_count": 62,
   "id": "f44219c2-50af-40f2-9c00-cf36b26a9550",
   "metadata": {},
   "outputs": [
    {
     "data": {
      "text/plain": [
       "datetime.datetime(2023, 10, 25, 10, 8, 9, 761782, tzinfo=<DstTzInfo 'Europe/Berlin' CEST+2:00:00 DST>)"
      ]
     },
     "execution_count": 62,
     "metadata": {},
     "output_type": "execute_result"
    }
   ],
   "source": [
    "dt.datetime.fromtimestamp(sam_e_ts[2], tz)"
   ]
  },
  {
   "cell_type": "code",
   "execution_count": 63,
   "id": "b2b52724-a57e-41a8-8b61-16d70c6a247f",
   "metadata": {},
   "outputs": [
    {
     "data": {
      "text/plain": [
       "datetime.datetime(2023, 10, 25, 10, 8, 16, 956271, tzinfo=<DstTzInfo 'Europe/Berlin' CEST+2:00:00 DST>)"
      ]
     },
     "execution_count": 63,
     "metadata": {},
     "output_type": "execute_result"
    }
   ],
   "source": [
    "dt.datetime.fromtimestamp(sam_a_ts[2], tz)"
   ]
  },
  {
   "cell_type": "code",
   "execution_count": null,
   "id": "2c196b49-0f6f-4eb6-870f-8e834146b367",
   "metadata": {},
   "outputs": [],
   "source": []
  }
 ],
 "metadata": {
  "kernelspec": {
   "display_name": "Python 3 (ipykernel)",
   "language": "python",
   "name": "python3"
  },
  "language_info": {
   "codemirror_mode": {
    "name": "ipython",
    "version": 3
   },
   "file_extension": ".py",
   "mimetype": "text/x-python",
   "name": "python",
   "nbconvert_exporter": "python",
   "pygments_lexer": "ipython3",
   "version": "3.9.16"
  }
 },
 "nbformat": 4,
 "nbformat_minor": 5
}
