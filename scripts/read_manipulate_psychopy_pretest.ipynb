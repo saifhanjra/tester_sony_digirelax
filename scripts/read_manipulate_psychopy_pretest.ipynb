{
 "cells": [
  {
   "cell_type": "code",
   "execution_count": 259,
   "id": "4d0bcae9-813f-40e8-b97d-fdef95c5cfcc",
   "metadata": {},
   "outputs": [],
   "source": [
    "import pandas as pd\n",
    "import pytz\n",
    "import datetime as dt\n",
    "import math\n",
    "import seaborn as sns\n",
    "import matplotlib as mpl\n",
    "mpl.rcParams['path.simplify'] = False\n",
    "import matplotlib.pyplot as plt"
   ]
  },
  {
   "cell_type": "code",
   "execution_count": 260,
   "id": "6dd3373c-9b06-49d2-a2dc-e6922f570949",
   "metadata": {},
   "outputs": [],
   "source": [
    "time_zone = 'Europe/Berlin'\n",
    "tz = pytz.timezone(time_zone)"
   ]
  },
  {
   "cell_type": "code",
   "execution_count": 270,
   "id": "7e904279-50f8-49ce-be53-a1e1590a5a3b",
   "metadata": {},
   "outputs": [],
   "source": [
    "psychopy_file_path = \"/home/muhammad/Desktop/Datasets/data_sony_digiRelax/pilot_study/VP001_251023/Psychopy_data/VP001_251023_DigiRelax_Experiment_2023-10-25_09h16.01.523.csv\"\n",
    "skin_shimmer_file_path =  \"/home/muhammad/Desktop/Datasets/data_sony_digiRelax/pilot_study/VP001_251023/Shimmer_data/2023-10-25_07.34.27_VP001_251023_SD_Session1/VP001_251023_Session1_Shimmer_FBA7_Calibrated_SD.csv\"\n",
    "hr_shimmer_file_path = \"/home/muhammad/Desktop/Datasets/data_sony_digiRelax/pilot_study/VP001_251023/Shimmer_data/2023-10-25_07.34.27_VP001_251023_SD_Session1/VP001_251023_Session1_Shimmer_8108_Calibrated_SD.csv\""
   ]
  },
  {
   "cell_type": "code",
   "execution_count": 271,
   "id": "8cfea675-406d-4f71-8376-1c705b809c4b",
   "metadata": {},
   "outputs": [],
   "source": [
    "#psychopy_file_path = \"/home/muhammad/Desktop/Datasets/data_sony_digiRelax/pilot_study/VP002_261023/Psychopy_data/VP002_261023_DigiRelax_Experiment_2023-10-26_10h12.28.142.csv\"\n",
    "#skin_shimmer_file_path =  \"/home/muhammad/Desktop/Datasets/data_sony_digiRelax/pilot_study/VP002_261023/Shimmer_data/2023-10-26_08.29.09_VP002_261023_SD_Session1/VP002_261023_Session1_Shimmer_FBA7_Calibrated_SD.csv\"\n",
    "#hr_shimmer_file_path = \"/home/muhammad/Desktop/Datasets/data_sony_digiRelax/pilot_study/VP002_261023/Shimmer_data/2023-10-26_08.29.09_VP002_261023_SD_Session1/VP002_261023_Session1_Shimmer_8108_Calibrated_SD.csv\""
   ]
  },
  {
   "cell_type": "code",
   "execution_count": 272,
   "id": "ab9712b0-a2e3-46d3-a7da-bcfe3581e0c7",
   "metadata": {},
   "outputs": [],
   "source": [
    "def read_manipulate_psychopy(psychopy_path):\n",
    "    \n",
    "    psychopy_df = pd.read_csv(psychopy_path)\n",
    "    col_list = [col for col in psychopy_df.columns if col.endswith('_ts')]\n",
    "    col_list.insert(0, \"Reference_time\")\n",
    "    psychopy_df_selected = psychopy_df[col_list]\n",
    "    \n",
    "    return psychopy_df_selected    \n",
    "\n",
    "\n",
    "def read_shimmer_sensor(sensor_file_path):\n",
    "    \n",
    "    shimmer_df = pd.read_csv(sensor_file_path, sep='\\t', low_memory=False)\n",
    "    shimmer_df = shimmer_df.reset_index()\n",
    "    shimmer_df.columns = shimmer_df.iloc[0]\n",
    "    shimmer_df.drop([0, 1], axis=0, inplace=True)\n",
    "    shimmer_df=shimmer_df.reset_index(drop=True)\n",
    "\n",
    "    \n",
    "    return shimmer_df\n",
    "\n",
    "def standardize_timestamps_shimmer(shimmer_df, timestamps_col_name):\n",
    "    \n",
    "    timesstamps_list = shimmer_df[timestamps_col_name].to_list()\n",
    "    new_timestamps_list = [float(val)/1000 for val in  timesstamps_list]\n",
    "    \n",
    "    shimmer_df[timestamps_col_name] = new_timestamps_list\n",
    "    \n",
    "    return shimmer_df\n",
    "\n",
    "def get_nonNan_list_psychopy(psychopy_df, col_name):\n",
    "    \n",
    "    \n",
    "    selected_vals=[val for val in psychopy_df[col_name].to_list() if not(math.isnan(val))]\n",
    "    \n",
    "    return selected_vals\n",
    "    \n",
    "    "
   ]
  },
  {
   "cell_type": "code",
   "execution_count": 273,
   "id": "d8d8d4cb-d9c7-4c0d-b2dd-6e490878ea7e",
   "metadata": {},
   "outputs": [],
   "source": [
    "psychopy_df = read_manipulate_psychopy(psychopy_file_path)"
   ]
  },
  {
   "cell_type": "code",
   "execution_count": 274,
   "id": "931f6e1d-2067-40b7-8273-49f6f502ec2c",
   "metadata": {},
   "outputs": [
    {
     "data": {
      "text/html": [
       "<div>\n",
       "<style scoped>\n",
       "    .dataframe tbody tr th:only-of-type {\n",
       "        vertical-align: middle;\n",
       "    }\n",
       "\n",
       "    .dataframe tbody tr th {\n",
       "        vertical-align: top;\n",
       "    }\n",
       "\n",
       "    .dataframe thead th {\n",
       "        text-align: right;\n",
       "    }\n",
       "</style>\n",
       "<table border=\"1\" class=\"dataframe\">\n",
       "  <thead>\n",
       "    <tr style=\"text-align: right;\">\n",
       "      <th></th>\n",
       "      <th>Reference_time</th>\n",
       "      <th>sam_e_ts</th>\n",
       "      <th>sam_a_ts</th>\n",
       "      <th>saliva_probe_1_ts</th>\n",
       "      <th>change_room_ts</th>\n",
       "      <th>tsst_prep_ts</th>\n",
       "      <th>tsst_end_ts</th>\n",
       "      <th>tsst_end_exp_ts</th>\n",
       "      <th>saliva_probe_2_ts</th>\n",
       "      <th>saliva_probe_3_ts</th>\n",
       "      <th>saliva_probe_4_ts</th>\n",
       "      <th>final_instruction_ts</th>\n",
       "    </tr>\n",
       "  </thead>\n",
       "  <tbody>\n",
       "    <tr>\n",
       "      <th>0</th>\n",
       "      <td>1.698218e+09</td>\n",
       "      <td>1.698218e+09</td>\n",
       "      <td>NaN</td>\n",
       "      <td>NaN</td>\n",
       "      <td>NaN</td>\n",
       "      <td>NaN</td>\n",
       "      <td>NaN</td>\n",
       "      <td>NaN</td>\n",
       "      <td>NaN</td>\n",
       "      <td>NaN</td>\n",
       "      <td>NaN</td>\n",
       "      <td>NaN</td>\n",
       "    </tr>\n",
       "    <tr>\n",
       "      <th>1</th>\n",
       "      <td>NaN</td>\n",
       "      <td>NaN</td>\n",
       "      <td>1.698218e+09</td>\n",
       "      <td>NaN</td>\n",
       "      <td>NaN</td>\n",
       "      <td>NaN</td>\n",
       "      <td>NaN</td>\n",
       "      <td>NaN</td>\n",
       "      <td>NaN</td>\n",
       "      <td>NaN</td>\n",
       "      <td>NaN</td>\n",
       "      <td>NaN</td>\n",
       "    </tr>\n",
       "    <tr>\n",
       "      <th>2</th>\n",
       "      <td>NaN</td>\n",
       "      <td>1.698220e+09</td>\n",
       "      <td>NaN</td>\n",
       "      <td>1.698219e+09</td>\n",
       "      <td>1.698219e+09</td>\n",
       "      <td>1.698219e+09</td>\n",
       "      <td>1.698220e+09</td>\n",
       "      <td>1.698220e+09</td>\n",
       "      <td>NaN</td>\n",
       "      <td>NaN</td>\n",
       "      <td>NaN</td>\n",
       "      <td>NaN</td>\n",
       "    </tr>\n",
       "    <tr>\n",
       "      <th>3</th>\n",
       "      <td>NaN</td>\n",
       "      <td>NaN</td>\n",
       "      <td>1.698220e+09</td>\n",
       "      <td>NaN</td>\n",
       "      <td>NaN</td>\n",
       "      <td>NaN</td>\n",
       "      <td>NaN</td>\n",
       "      <td>NaN</td>\n",
       "      <td>NaN</td>\n",
       "      <td>NaN</td>\n",
       "      <td>NaN</td>\n",
       "      <td>NaN</td>\n",
       "    </tr>\n",
       "    <tr>\n",
       "      <th>4</th>\n",
       "      <td>NaN</td>\n",
       "      <td>1.698221e+09</td>\n",
       "      <td>NaN</td>\n",
       "      <td>NaN</td>\n",
       "      <td>NaN</td>\n",
       "      <td>NaN</td>\n",
       "      <td>NaN</td>\n",
       "      <td>NaN</td>\n",
       "      <td>1.698220e+09</td>\n",
       "      <td>NaN</td>\n",
       "      <td>NaN</td>\n",
       "      <td>NaN</td>\n",
       "    </tr>\n",
       "    <tr>\n",
       "      <th>5</th>\n",
       "      <td>NaN</td>\n",
       "      <td>NaN</td>\n",
       "      <td>1.698221e+09</td>\n",
       "      <td>NaN</td>\n",
       "      <td>NaN</td>\n",
       "      <td>NaN</td>\n",
       "      <td>NaN</td>\n",
       "      <td>NaN</td>\n",
       "      <td>NaN</td>\n",
       "      <td>NaN</td>\n",
       "      <td>NaN</td>\n",
       "      <td>NaN</td>\n",
       "    </tr>\n",
       "    <tr>\n",
       "      <th>6</th>\n",
       "      <td>NaN</td>\n",
       "      <td>NaN</td>\n",
       "      <td>NaN</td>\n",
       "      <td>NaN</td>\n",
       "      <td>NaN</td>\n",
       "      <td>NaN</td>\n",
       "      <td>NaN</td>\n",
       "      <td>NaN</td>\n",
       "      <td>NaN</td>\n",
       "      <td>1.698221e+09</td>\n",
       "      <td>NaN</td>\n",
       "      <td>NaN</td>\n",
       "    </tr>\n",
       "    <tr>\n",
       "      <th>7</th>\n",
       "      <td>NaN</td>\n",
       "      <td>1.698222e+09</td>\n",
       "      <td>NaN</td>\n",
       "      <td>NaN</td>\n",
       "      <td>NaN</td>\n",
       "      <td>NaN</td>\n",
       "      <td>NaN</td>\n",
       "      <td>NaN</td>\n",
       "      <td>NaN</td>\n",
       "      <td>NaN</td>\n",
       "      <td>NaN</td>\n",
       "      <td>NaN</td>\n",
       "    </tr>\n",
       "    <tr>\n",
       "      <th>8</th>\n",
       "      <td>NaN</td>\n",
       "      <td>NaN</td>\n",
       "      <td>1.698222e+09</td>\n",
       "      <td>NaN</td>\n",
       "      <td>NaN</td>\n",
       "      <td>NaN</td>\n",
       "      <td>NaN</td>\n",
       "      <td>NaN</td>\n",
       "      <td>NaN</td>\n",
       "      <td>NaN</td>\n",
       "      <td>NaN</td>\n",
       "      <td>NaN</td>\n",
       "    </tr>\n",
       "    <tr>\n",
       "      <th>9</th>\n",
       "      <td>NaN</td>\n",
       "      <td>NaN</td>\n",
       "      <td>NaN</td>\n",
       "      <td>NaN</td>\n",
       "      <td>NaN</td>\n",
       "      <td>NaN</td>\n",
       "      <td>NaN</td>\n",
       "      <td>NaN</td>\n",
       "      <td>NaN</td>\n",
       "      <td>NaN</td>\n",
       "      <td>1.698222e+09</td>\n",
       "      <td>1.698222e+09</td>\n",
       "    </tr>\n",
       "  </tbody>\n",
       "</table>\n",
       "</div>"
      ],
      "text/plain": [
       "   Reference_time      sam_e_ts      sam_a_ts  saliva_probe_1_ts  \\\n",
       "0    1.698218e+09  1.698218e+09           NaN                NaN   \n",
       "1             NaN           NaN  1.698218e+09                NaN   \n",
       "2             NaN  1.698220e+09           NaN       1.698219e+09   \n",
       "3             NaN           NaN  1.698220e+09                NaN   \n",
       "4             NaN  1.698221e+09           NaN                NaN   \n",
       "5             NaN           NaN  1.698221e+09                NaN   \n",
       "6             NaN           NaN           NaN                NaN   \n",
       "7             NaN  1.698222e+09           NaN                NaN   \n",
       "8             NaN           NaN  1.698222e+09                NaN   \n",
       "9             NaN           NaN           NaN                NaN   \n",
       "\n",
       "   change_room_ts  tsst_prep_ts   tsst_end_ts  tsst_end_exp_ts  \\\n",
       "0             NaN           NaN           NaN              NaN   \n",
       "1             NaN           NaN           NaN              NaN   \n",
       "2    1.698219e+09  1.698219e+09  1.698220e+09     1.698220e+09   \n",
       "3             NaN           NaN           NaN              NaN   \n",
       "4             NaN           NaN           NaN              NaN   \n",
       "5             NaN           NaN           NaN              NaN   \n",
       "6             NaN           NaN           NaN              NaN   \n",
       "7             NaN           NaN           NaN              NaN   \n",
       "8             NaN           NaN           NaN              NaN   \n",
       "9             NaN           NaN           NaN              NaN   \n",
       "\n",
       "   saliva_probe_2_ts  saliva_probe_3_ts  saliva_probe_4_ts  \\\n",
       "0                NaN                NaN                NaN   \n",
       "1                NaN                NaN                NaN   \n",
       "2                NaN                NaN                NaN   \n",
       "3                NaN                NaN                NaN   \n",
       "4       1.698220e+09                NaN                NaN   \n",
       "5                NaN                NaN                NaN   \n",
       "6                NaN       1.698221e+09                NaN   \n",
       "7                NaN                NaN                NaN   \n",
       "8                NaN                NaN                NaN   \n",
       "9                NaN                NaN       1.698222e+09   \n",
       "\n",
       "   final_instruction_ts  \n",
       "0                   NaN  \n",
       "1                   NaN  \n",
       "2                   NaN  \n",
       "3                   NaN  \n",
       "4                   NaN  \n",
       "5                   NaN  \n",
       "6                   NaN  \n",
       "7                   NaN  \n",
       "8                   NaN  \n",
       "9          1.698222e+09  "
      ]
     },
     "execution_count": 274,
     "metadata": {},
     "output_type": "execute_result"
    }
   ],
   "source": [
    "psychopy_df"
   ]
  },
  {
   "cell_type": "markdown",
   "id": "10a43001-b59d-4782-8b07-9abe4b447cbb",
   "metadata": {},
   "source": [
    "## Cols of interest for skin resistance = Shimmer_FBA7_Timestamp_Unix_CAL, Shimmer_FBA7_GSR_Skin_Conductance_CAL, Shimmer_FBA7_GSR_Skin_Resistance_CAL"
   ]
  },
  {
   "cell_type": "code",
   "execution_count": 275,
   "id": "15718562-3e9b-481a-9dd1-6d76f8e74889",
   "metadata": {},
   "outputs": [],
   "source": [
    "skin_resis_shimmer_df = read_shimmer_sensor(skin_shimmer_file_path)\n",
    "skin_resis_shimmer_df = standardize_timestamps_shimmer(skin_resis_shimmer_df, \"Shimmer_FBA7_Timestamp_Unix_CAL\")\n",
    "skin_col_interest  = [\"Shimmer_FBA7_Timestamp_Unix_CAL\", \"Shimmer_FBA7_GSR_Skin_Resistance_CAL\"]\n",
    "skin_resis_shimmer_df_selected =skin_resis_shimmer_df[skin_col_interest]\n"
   ]
  },
  {
   "cell_type": "code",
   "execution_count": null,
   "id": "f067b92c-7145-47d5-944a-4423e7ef8db1",
   "metadata": {},
   "outputs": [],
   "source": []
  },
  {
   "cell_type": "markdown",
   "id": "1fa438a6-7221-4461-bb1b-da0c6ff4e095",
   "metadata": {},
   "source": [
    "## Cols of interest for ecg = Shimmer_8108_Timestamp_Unix_CAL, Shimmer_8108_ECG_LL-LA_24BIT_CAL\t"
   ]
  },
  {
   "cell_type": "code",
   "execution_count": 276,
   "id": "59a358ed-d662-45c5-ba39-6c9edf81f120",
   "metadata": {},
   "outputs": [],
   "source": [
    "hr_shimmer_df = read_shimmer_sensor(hr_shimmer_file_path)\n",
    "hr_shimmer_df  = standardize_timestamps_shimmer(hr_shimmer_df, \"Shimmer_8108_Timestamp_Unix_CAL\")\n",
    "col_interest= [\"Shimmer_8108_Timestamp_Unix_CAL\", \"Shimmer_8108_ECG_LL-LA_24BIT_CAL\"]\n",
    "hr_shimmer_df_selected = hr_shimmer_df[col_interest]"
   ]
  },
  {
   "cell_type": "code",
   "execution_count": 277,
   "id": "75c492cd-d9d6-4b5b-bb2e-6d775503a9d2",
   "metadata": {},
   "outputs": [],
   "source": [
    "events_list = [\"Reference_time\", \"saliva_probe_1_ts\", \"change_room_ts\", \"tsst_prep_ts\", \"tsst_end_ts\", \"tsst_end_exp_ts\", \"saliva_probe_2_ts\", \"saliva_probe_3_ts\",\"saliva_probe_4_ts\"]\n",
    "\n",
    "\n",
    "hr_all_events_list=[]\n",
    "timestamps_all_events_list = []\n",
    "corr_event_list = []\n",
    "\n",
    "\n",
    "\n",
    "for ind, event in enumerate(events_list):\n",
    "    \n",
    "    if ind ==0:\n",
    "        \n",
    "        last_event = event\n",
    "        last_event_timestamp = get_nonNan_list_psychopy(psychopy_df, last_event)[0]\n",
    "    else:\n",
    "        current_event = event\n",
    "        \n",
    "        current_event_timestamp = get_nonNan_list_psychopy(psychopy_df, current_event)[0]\n",
    "        \n",
    "        hr_start_change_roonm_df=hr_shimmer_df_selected[(hr_shimmer_df_selected[\"Shimmer_8108_Timestamp_Unix_CAL\"]>= last_event_timestamp) & (hr_shimmer_df_selected[\"Shimmer_8108_Timestamp_Unix_CAL\"] <= current_event_timestamp)]\n",
    "        \n",
    "        hr_list=hr_start_change_roonm_df[col_interest[1]].values\n",
    "        \n",
    "        hr_list =[float(val) for val in hr_list]\n",
    "        \n",
    "        ts_list = hr_shimmer_df_selected[\"Shimmer_8108_Timestamp_Unix_CAL\"].values\n",
    "        \n",
    "        \n",
    "        hr_all_events_list.append(hr_list)\n",
    "        timestamps_all_events_list.append(ts_list)\n",
    "        corr_event_list.append(event)\n",
    "        \n",
    "        last_event = event\n",
    "        last_event_timestamp = get_nonNan_list_psychopy(psychopy_df, last_event)[0]\n",
    "        \n",
    "\n",
    "    \n",
    "\n"
   ]
  },
  {
   "cell_type": "code",
   "execution_count": null,
   "id": "093b6910-bb0a-433a-b3da-dfe433f25d8f",
   "metadata": {},
   "outputs": [],
   "source": []
  },
  {
   "cell_type": "code",
   "execution_count": 278,
   "id": "ca07a51a-3a00-488f-b2fc-48520ac3032d",
   "metadata": {},
   "outputs": [
    {
     "data": {
      "image/png": "[encoded data removed]",
      "text/plain": [
       "<Figure size 640x480 with 1 Axes>"
      ]
     },
     "metadata": {},
     "output_type": "display_data"
    }
   ],
   "source": [
    "plt.boxplot(hr_all_events_list)\n",
    "plt.xticks([1,2,3,4,5,6,7,8], corr_event_list)\n",
    "plt.xticks(rotation = 45)\n",
    "plt.show()\n"
   ]
  },
  {
   "cell_type": "code",
   "execution_count": null,
   "id": "297f65ad-fbf9-4b66-bbc7-e0b6a97f4971",
   "metadata": {},
   "outputs": [],
   "source": []
  },
  {
   "cell_type": "code",
   "execution_count": null,
   "id": "11a27300-734e-44fd-89d3-6aea78db8922",
   "metadata": {},
   "outputs": [],
   "source": []
  },
  {
   "cell_type": "code",
   "execution_count": null,
   "id": "625e72a6-9a14-47c2-804a-987dcadc3ac6",
   "metadata": {},
   "outputs": [],
   "source": []
  },
  {
   "cell_type": "code",
   "execution_count": null,
   "id": "d8190063-f399-4f4a-a001-b5c554f074d6",
   "metadata": {},
   "outputs": [],
   "source": []
  },
  {
   "cell_type": "code",
   "execution_count": null,
   "id": "13b19dab-1c44-4235-9993-93ab152ec028",
   "metadata": {},
   "outputs": [],
   "source": []
  },
  {
   "cell_type": "code",
   "execution_count": null,
   "id": "f4cdf058-a643-464c-a2cb-85b8fb1430d9",
   "metadata": {},
   "outputs": [],
   "source": []
  },
  {
   "cell_type": "code",
   "execution_count": null,
   "id": "471a215e-1e9d-49c6-be0e-35fab6750474",
   "metadata": {},
   "outputs": [],
   "source": []
  },
  {
   "cell_type": "code",
   "execution_count": null,
   "id": "2711d2b9-13a5-42af-acf1-9d5cf44d5a4e",
   "metadata": {},
   "outputs": [],
   "source": []
  },
  {
   "cell_type": "code",
   "execution_count": null,
   "id": "5804a894-cfea-4cf0-b32e-a3dc84e645c4",
   "metadata": {},
   "outputs": [],
   "source": []
  },
  {
   "cell_type": "code",
   "execution_count": null,
   "id": "1f76fafb-91fb-40e7-839b-cd2a49c5cc2b",
   "metadata": {},
   "outputs": [],
   "source": []
  },
  {
   "cell_type": "code",
   "execution_count": null,
   "id": "21b7db27-849e-4025-b891-233ac33bae29",
   "metadata": {},
   "outputs": [],
   "source": []
  },
  {
   "cell_type": "code",
   "execution_count": null,
   "id": "511321aa-65d2-4e50-bb3a-337bb01132e6",
   "metadata": {},
   "outputs": [],
   "source": []
  },
  {
   "cell_type": "code",
   "execution_count": null,
   "id": "8961c20d-73d2-4daf-872b-df318749270c",
   "metadata": {},
   "outputs": [],
   "source": []
  },
  {
   "cell_type": "code",
   "execution_count": null,
   "id": "0877c910-8524-4792-bf54-fd3b1dcaed0e",
   "metadata": {},
   "outputs": [],
   "source": [
    "\n"
   ]
  },
  {
   "cell_type": "code",
   "execution_count": null,
   "id": "a6deab00-d2d7-4eb4-87dc-949cad5684f2",
   "metadata": {},
   "outputs": [],
   "source": []
  },
  {
   "cell_type": "code",
   "execution_count": null,
   "id": "514ce390-769c-46b9-a6cb-e3f483418707",
   "metadata": {},
   "outputs": [],
   "source": []
  },
  {
   "cell_type": "code",
   "execution_count": 158,
   "id": "953dba5b-3968-4be4-acda-94a108d8d03d",
   "metadata": {},
   "outputs": [],
   "source": []
  },
  {
   "cell_type": "code",
   "execution_count": 159,
   "id": "4f55ca0f-7100-4322-ba8c-88aba946df79",
   "metadata": {},
   "outputs": [],
   "source": []
  },
  {
   "cell_type": "code",
   "execution_count": 160,
   "id": "9721a906-9dc9-4250-97ba-45542cf2a7f9",
   "metadata": {},
   "outputs": [],
   "source": []
  },
  {
   "cell_type": "code",
   "execution_count": null,
   "id": "3ee16fcb-1a1b-4cd5-b503-2cf5cf66745e",
   "metadata": {},
   "outputs": [],
   "source": []
  },
  {
   "cell_type": "code",
   "execution_count": null,
   "id": "c0706bc9-b897-4e2d-a1db-1a3ceb96fbe8",
   "metadata": {},
   "outputs": [],
   "source": []
  },
  {
   "cell_type": "code",
   "execution_count": 236,
   "id": "1ae5ac40-c0b4-4bdc-90d5-7a784135f29e",
   "metadata": {},
   "outputs": [
    {
     "data": {
      "text/plain": [
       "[]"
      ]
     },
     "execution_count": 236,
     "metadata": {},
     "output_type": "execute_result"
    }
   ],
   "source": []
  },
  {
   "cell_type": "code",
   "execution_count": null,
   "id": "0991e45d-e107-4ed5-9a28-56025f4d32e0",
   "metadata": {},
   "outputs": [],
   "source": []
  },
  {
   "cell_type": "code",
   "execution_count": null,
   "id": "da4e2c28-c708-4cb1-a87a-86546944b0f2",
   "metadata": {},
   "outputs": [],
   "source": []
  },
  {
   "cell_type": "code",
   "execution_count": null,
   "id": "9ff5124c-9bcd-473b-9022-602240b4958b",
   "metadata": {},
   "outputs": [],
   "source": []
  },
  {
   "cell_type": "code",
   "execution_count": null,
   "id": "03e550a9-2ef1-418b-afad-4fdfb5f96ec3",
   "metadata": {},
   "outputs": [],
   "source": [
    "\n"
   ]
  },
  {
   "cell_type": "code",
   "execution_count": null,
   "id": "73864493-b24b-4764-90ca-c715792266e5",
   "metadata": {},
   "outputs": [],
   "source": []
  },
  {
   "cell_type": "code",
   "execution_count": null,
   "id": "bd8497ab-a48b-4a23-9d02-b61e27415a54",
   "metadata": {},
   "outputs": [],
   "source": []
  },
  {
   "cell_type": "code",
   "execution_count": null,
   "id": "6378b434-e717-45fc-9c44-57f93ed921aa",
   "metadata": {},
   "outputs": [],
   "source": []
  },
  {
   "cell_type": "code",
   "execution_count": null,
   "id": "ce368086-9671-45d0-8f36-ca8ab3a95004",
   "metadata": {},
   "outputs": [],
   "source": []
  }
 ],
 "metadata": {
  "kernelspec": {
   "display_name": "Python 3 (ipykernel)",
   "language": "python",
   "name": "python3"
  },
  "language_info": {
   "codemirror_mode": {
    "name": "ipython",
    "version": 3
   },
   "file_extension": ".py",
   "mimetype": "text/x-python",
   "name": "python",
   "nbconvert_exporter": "python",
   "pygments_lexer": "ipython3",
   "version": "3.9.16"
  }
 },
 "nbformat": 4,
 "nbformat_minor": 5
}
