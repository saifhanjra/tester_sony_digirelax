{
 "cells": [
  {
   "cell_type": "code",
   "execution_count": 1,
   "id": "f68dfa04-2c13-4ba4-9a6a-572fcdce3e3c",
   "metadata": {},
   "outputs": [],
   "source": [
    "import pandas as pd\n",
    "import pytz\n",
    "import datetime as dt\n",
    "import math\n",
    "import seaborn as sns\n",
    "import matplotlib as mpl\n",
    "#mpl.rcParams['path.simplify'] = False\n",
    "import matplotlib.pyplot as plt\n",
    "import numpy as np\n",
    "import os\n",
    "import glob"
   ]
  },
  {
   "cell_type": "code",
   "execution_count": 2,
   "id": "ed5a863d-318e-49f2-bff6-83cb6bf0f9f9",
   "metadata": {},
   "outputs": [],
   "source": [
    "def read_manipulate_psychopy(psychopy_path, cols_insterest):\n",
    "    \n",
    "    psychopy_df = pd.read_csv(psychopy_path)\n",
    "    #col_list = [\"stress_slider.response\", \"SAM_Number_e\", \"SAM_Number_a\"]\n",
    "    #col_list = [col for col in psychopy_df.columns if col.endswith('_ts')]\n",
    "    #col_list.insert(0, \"Reference_time\")\n",
    "    psychopy_df_selected = psychopy_df[cols_insterest]\n",
    "    \n",
    "    return psychopy_df_selected\n",
    "\n",
    "#---------\n",
    "def get_non_nan_values_cols(p_df, col_name):\n",
    "    \n",
    "    slic_ind=p_df[col_name].isnull()\n",
    "    list_ne=slic_ind.tolist()\n",
    "    false_indices = [i for i in range(len(list_ne)) if not list_ne[i]]\n",
    "    \n",
    "    list_col_interest=p_df[col_name].to_list()\n",
    "    \n",
    "    non_values_list = []\n",
    "    \n",
    "    for false_ind in false_indices:\n",
    "        non_val = list_col_interest[false_ind]\n",
    "        non_values_list.append(non_val)\n",
    "    \n",
    "    return non_values_list"
   ]
  },
  {
   "cell_type": "code",
   "execution_count": 3,
   "id": "e1cffdd6-a486-4fed-acb1-e51092eaebfb",
   "metadata": {},
   "outputs": [
    {
     "ename": "StopIteration",
     "evalue": "",
     "output_type": "error",
     "traceback": [
      "\u001b[1;31m---------------------------------------------------------------------------\u001b[0m",
      "\u001b[1;31mStopIteration\u001b[0m                             Traceback (most recent call last)",
      "\u001b[1;32m~\\AppData\\Local\\Temp\\ipykernel_13688\\347093202.py\u001b[0m in \u001b[0;36m<module>\u001b[1;34m\u001b[0m\n\u001b[0;32m      1\u001b[0m \u001b[0mdata_dir_path\u001b[0m \u001b[1;33m=\u001b[0m \u001b[1;34m\"/home/muhammad/Desktop/Datasets/data_sony_digiRelax/wp3\"\u001b[0m\u001b[1;33m\u001b[0m\u001b[1;33m\u001b[0m\u001b[0m\n\u001b[0;32m      2\u001b[0m \u001b[1;31m#data_dir_path = \"D:/Datasets/data_sony_digiRelax/study\"\u001b[0m\u001b[1;33m\u001b[0m\u001b[1;33m\u001b[0m\u001b[0m\n\u001b[1;32m----> 3\u001b[1;33m \u001b[0msub_dirs\u001b[0m\u001b[1;33m=\u001b[0m\u001b[0mnext\u001b[0m\u001b[1;33m(\u001b[0m\u001b[0mos\u001b[0m\u001b[1;33m.\u001b[0m\u001b[0mwalk\u001b[0m\u001b[1;33m(\u001b[0m\u001b[0mdata_dir_path\u001b[0m\u001b[1;33m)\u001b[0m\u001b[1;33m)\u001b[0m\u001b[1;33m[\u001b[0m\u001b[1;36m1\u001b[0m\u001b[1;33m]\u001b[0m\u001b[1;33m\u001b[0m\u001b[1;33m\u001b[0m\u001b[0m\n\u001b[0m",
      "\u001b[1;31mStopIteration\u001b[0m: "
     ]
    }
   ],
   "source": [
    "data_dir_path = \"/home/muhammad/Desktop/Datasets/data_sony_digiRelax/wp3\"\n",
    "#data_dir_path = \"D:/Datasets/data_sony_digiRelax/study\"\n",
    "sub_dirs=next(os.walk(data_dir_path))[1]"
   ]
  },
  {
   "cell_type": "code",
   "execution_count": null,
   "id": "381bd99b-0c84-4787-beb3-523d944d2c68",
   "metadata": {},
   "outputs": [],
   "source": [
    "sub_dirs.sort(reverse=False)"
   ]
  },
  {
   "cell_type": "code",
   "execution_count": null,
   "id": "2e5165fe-99a4-4b33-96eb-68380989b526",
   "metadata": {},
   "outputs": [],
   "source": [
    "dest_path =\"/home/muhammad/Desktop/repos_ixp/tester_sony_digirelax/scripts/wp3/results_cols\"\n",
    "#dest_path = \"D:/Datasets/analysis_digirelax\"\n",
    "designated_folder = \"extracted_info\"\n",
    "comp_dest_path = os.path.join(dest_path, designated_folder)\n",
    "\n",
    "isexist = os.path.exists(comp_dest_path)\n",
    "\n",
    "if not isexist:\n",
    "    os.makedirs(comp_dest_path)\n",
    "    print(\"The new directory is created\")"
   ]
  }
 ],
 "metadata": {
  "kernelspec": {
   "display_name": "Python 3 (ipykernel)",
   "language": "python",
   "name": "python3"
  },
  "language_info": {
   "codemirror_mode": {
    "name": "ipython",
    "version": 3
   },
   "file_extension": ".py",
   "mimetype": "text/x-python",
   "name": "python",
   "nbconvert_exporter": "python",
   "pygments_lexer": "ipython3",
   "version": "3.9.13"
  }
 },
 "nbformat": 4,
 "nbformat_minor": 5
}
