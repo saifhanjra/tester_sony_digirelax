{
 "cells": [
  {
   "cell_type": "code",
   "execution_count": 35,
   "id": "e6d12850-11e6-46f6-9575-930c9cefe28d",
   "metadata": {},
   "outputs": [],
   "source": [
    "# system imports\n",
    "import os\n",
    "import sys\n",
    "\n",
    "# data science\n",
    "import pandas as pd\n",
    "import numpy as np\n",
    "import matplotlib.pyplot as plt\n",
    "from matplotlib.patches import Ellipse\n",
    "import seaborn as sns\n",
    "\n",
    "# signal processing\n",
    "from scipy import signal\n",
    "from scipy.ndimage import label\n",
    "from scipy.stats import zscore\n",
    "from scipy.interpolate import interp1d\n",
    "from scipy.integrate import trapz\n",
    "\n",
    "\n",
    "# misc\n",
    "import warnings\n",
    "\n",
    "import glob\n",
    "\n",
    "##\n",
    "import pytz\n",
    "import datetime as dt\n",
    "import math\n",
    "import seaborn as sns\n",
    "\n",
    "import pickle"
   ]
  },
  {
   "cell_type": "code",
   "execution_count": 36,
   "id": "a9ccff62-f2be-4185-b764-afee69ad0634",
   "metadata": {},
   "outputs": [],
   "source": [
    "\n",
    "#style settings\n",
    "sns.set(style='whitegrid', rc={'axes.facecolor': 'white'})\n",
    "\n",
    "#sns.set_style({'font.family':'Arial', 'font.serif':'Times New Roman'})"
   ]
  },
  {
   "cell_type": "markdown",
   "id": "f615317f-b5bf-47a8-86db-c71a03ae44c8",
   "metadata": {},
   "source": [
    "## Time Domain analysis"
   ]
  },
  {
   "cell_type": "code",
   "execution_count": 37,
   "id": "d6cba1ba-13af-487e-8bdd-8f8032aecbe0",
   "metadata": {},
   "outputs": [],
   "source": [
    "def timedomain(rr):\n",
    "    results = {}\n",
    "\n",
    "    hr = 60000/rr\n",
    "    \n",
    "    results['Mean RR (ms)'] = np.mean(rr)\n",
    "    results['STD RR/SDNN (ms)'] = np.std(rr)\n",
    "    results['Mean HR (Kubios\\' style) (beats/min)'] = 60000/np.mean(rr)\n",
    "    results['Mean HR (beats/min)'] = np.mean(hr)\n",
    "    results['STD HR (beats/min)'] = np.std(hr)\n",
    "    results['Min HR (beats/min)'] = np.min(hr)\n",
    "    results['Max HR (beats/min)'] = np.max(hr)\n",
    "    results['RMSSD (ms)'] = np.sqrt(np.mean(np.square(np.diff(rr))))\n",
    "    results['NNxx'] = np.sum(np.abs(np.diff(rr)) > 50)*1\n",
    "    results['pNNxx (%)'] = 100 * np.sum((np.abs(np.diff(rr)) > 50)*1) / len(rr)\n",
    "    return results"
   ]
  },
  {
   "cell_type": "markdown",
   "id": "9f78276d-8cc5-412a-b53a-3ff12e2d71eb",
   "metadata": {},
   "source": [
    "## Related functions"
   ]
  },
  {
   "cell_type": "code",
   "execution_count": 126,
   "id": "93676166-f78a-47bc-9841-9ffd570b6472",
   "metadata": {},
   "outputs": [],
   "source": [
    "def get_non_nan_values_cols(p_df, col_name):\n",
    "    \n",
    "    slic_ind=p_df[col_name].isnull()\n",
    "    list_ne=slic_ind.tolist()\n",
    "    false_indices = [i for i in range(len(list_ne)) if not list_ne[i]]\n",
    "    \n",
    "    list_col_interest=p_df[col_name].to_list()\n",
    "    \n",
    "    non_values_list = []\n",
    "    \n",
    "    for false_ind in false_indices:\n",
    "        non_val = list_col_interest[false_ind]\n",
    "        non_values_list.append(non_val)\n",
    "    \n",
    "    return non_values_list\n",
    "\n",
    "\n",
    "def get_file_names_from_ind_list(files_list, inds_list):\n",
    "    \n",
    "    selected_files_list=[files_list[sel_index] for sel_index in inds_list]\n",
    "    \n",
    "    return selected_files_list\n",
    "\n",
    "\n",
    "def from_rr_to_time_freq_anal(sk_hr_files_list, condition_files):\n",
    "\n",
    "    #mean_sk_acc=[]\n",
    "    #std_sk_acc = []\n",
    "\n",
    "    #mean_hr_acc=[]\n",
    "    #std_hr_acc=[]\n",
    "\n",
    "    for selected_path in sk_hr_files_list:\n",
    "        dir_path, file_name=os.path.split(selected_path)\n",
    "        sub_id = file_name[0:12]\n",
    "        #print(sub_id)\n",
    "        for cond_file in condition_files:\n",
    "            if sub_id==cond_file:\n",
    "                #print(selected_path)\n",
    "                \n",
    "                with open(selected_path, 'rb') as f:\n",
    "                    ibi_data = pickle.load(f)\n",
    "                    \n",
    "                #sk_hr_df = pd.read_csv(selected_path)\n",
    "                \n",
    "                subject_id = ibi_data[\"subject_id\"]\n",
    "                event_interst = ibi_data[\"event_interst\"]\n",
    "                \n",
    "                all_rr_one_list = ibi_data[\"all_rr_one_list\"]\n",
    "                \n",
    "                all_rr_sublists = ibi_data[\"all_rr_sublists\"]\n",
    "                \n",
    "                #max_rr = np.max(all_rr_one_list)\n",
    "                #print(max_rr)\n",
    "                #min_rr = np.min(all_rr_one_list)\n",
    "                #print(min_rr)\n",
    "                \n",
    "                #range_rr = max_rr - min_rr\n",
    "                \n",
    "                \n",
    "                for index, selected_event in enumerate(event_interst):\n",
    "                    \n",
    "                    \n",
    "                    print(selected_event)\n",
    "                    sel_rr = all_rr_sublists[index]\n",
    "                    hr_from_rr = 60000/sel_rr\n",
    "                    \n",
    "                    print(np.mean(hr_from_rr))\n",
    "                    \n",
    "                    #print(60000/sel_rr)\n",
    "                    #min_sub = sel_rr - min_rr\n",
    "                    #scaled_data = min_sub/range_rr\n",
    "                    \n",
    "                    #print(scaled_data)\n",
    "                    \n",
    "                    \n",
    "                    #print(results)\n",
    "                    \n",
    "                    \n",
    "                \n",
    "                \n",
    "                \n",
    "                \n",
    "                \n",
    "                \n",
    "\n",
    "                #mean_sk = sk_hr_df[mean_sk_col].values\n",
    "                #std_sk = sk_hr_df[std_sk_col].values\n",
    "                #mean_hr =sk_hr_df[mean_hr_col].values\n",
    "                #std_hr =sk_hr_df[std_hr_col].values\n",
    "\n",
    "\n",
    "                #mean_sk_acc.append(mean_sk)\n",
    "                #std_sk_acc.append(std_sk)\n",
    "                #mean_hr_acc.append(mean_hr)\n",
    "                #std_hr_acc.append(std_hr)\n",
    "\n",
    "\n",
    "\n",
    "    #mean_mean_sk=np.mean(np.array(mean_sk_acc), axis=0) \n",
    "    #std_mean_sk = np.std(np.array(std_sk_acc), axis=0)\n",
    "    #std_mean_sk = np.mean(np.array(std_sk_acc), axis=0)\n",
    "\n",
    "    #mean_mean_hr=np.mean(np.array(mean_hr_acc), axis=0) \n",
    "    #std_mean_hr = np.std(np.array(std_hr_acc), axis=0)\n",
    "    #std_mean_hr = np.mean(np.array(std_hr_acc), axis=0)\n",
    "    \n",
    "    #selected_events = sk_hr_df[event_interst_col].to_list()\n",
    "    \n",
    "    #extracted_data={\"selected_event\": selected_events, \"hr_mean\": mean_mean_hr, \"hr_std\": std_mean_hr, \"sk_mean\": mean_mean_sk, \"sk_std\":std_mean_sk}\n",
    "    \n",
    "    #return extracted_data\n"
   ]
  },
  {
   "cell_type": "code",
   "execution_count": null,
   "id": "e8245c5d-e2ba-4faf-951e-14fde0a13fd1",
   "metadata": {},
   "outputs": [],
   "source": []
  },
  {
   "cell_type": "code",
   "execution_count": 127,
   "id": "8ee0dbad-e458-4e83-aa36-5b66fc044d96",
   "metadata": {},
   "outputs": [],
   "source": [
    "sub_data_path = \"/home/muhammad/Desktop/Datasets/data_sony_digiRelax/subjective_data/subjective_data.xlsx\"\n",
    "#hrv_data_dir = \"/home/muhammad/Desktop/repos_ixp/tester_sony_digirelax/scripts/wp3/results_22sub/hrv_analysis\"\n",
    "hrv_data_dir = \"/home/muhammad/Desktop/repos_ixp/tester_sony_digirelax/scripts/wp4/results_all_sub/hrv/ibi_pkl\"\n"
   ]
  },
  {
   "cell_type": "code",
   "execution_count": 128,
   "id": "321e16fd-29dc-4e42-8bdf-f07ebc54d22f",
   "metadata": {},
   "outputs": [],
   "source": [
    "sk_hr_files_list = glob.glob(hrv_data_dir+ \"/*.pkl\")"
   ]
  },
  {
   "cell_type": "code",
   "execution_count": 129,
   "id": "de039000-8500-477e-bc0c-f7fd0ba8edbf",
   "metadata": {},
   "outputs": [],
   "source": [
    "sub_data_df=pd.read_excel(sub_data_path)\n",
    "file_col = \"subject\"\n",
    "cond_col =\"condition\"\n",
    "\n",
    "file_list = get_non_nan_values_cols(sub_data_df,file_col)\n",
    "cond_list = get_non_nan_values_cols(sub_data_df, cond_col)\n",
    "\n",
    "cond_set=set(cond_list)\n",
    "unique_conds_list= list(cond_set)"
   ]
  },
  {
   "cell_type": "code",
   "execution_count": 130,
   "id": "1fbaa927-2b9f-4aa8-823b-5f683e3bedec",
   "metadata": {},
   "outputs": [
    {
     "name": "stdout",
     "output_type": "stream",
     "text": [
      "['2D_scent', 'VR_scent', 'VR_no_scent', '2D_no_scent']\n"
     ]
    }
   ],
   "source": [
    "print(unique_conds_list)"
   ]
  },
  {
   "cell_type": "code",
   "execution_count": 131,
   "id": "90a4f5cc-b696-414c-9418-ef3056a34bd8",
   "metadata": {},
   "outputs": [
    {
     "data": {
      "text/plain": [
       "['VP004_081123',\n",
       " 'VP005_081123',\n",
       " 'VP006_091123',\n",
       " 'VP007_091123',\n",
       " 'VP008_101123',\n",
       " 'VP009_101123',\n",
       " 'VP010_131123',\n",
       " 'VP011_131123',\n",
       " 'VP012_141123',\n",
       " 'VP013_151123',\n",
       " 'VP014_151123',\n",
       " 'VP015_161123',\n",
       " 'VP016_161123',\n",
       " 'VP017_171123',\n",
       " 'VP018_201123',\n",
       " 'VP019_201123',\n",
       " 'VP020_221123',\n",
       " 'VP021_221123',\n",
       " 'VP022_231123']"
      ]
     },
     "execution_count": 131,
     "metadata": {},
     "output_type": "execute_result"
    }
   ],
   "source": [
    "file_list"
   ]
  },
  {
   "cell_type": "code",
   "execution_count": 132,
   "id": "71384ce8-5ce5-4744-8eac-8c29fe3454eb",
   "metadata": {},
   "outputs": [],
   "source": [
    "no_scent_2d_inds=np.where(np.array(cond_list)==\"2D_no_scent\")\n",
    "no_scent_2d_inds = list(no_scent_2d_inds[0])\n",
    "no_scent_2d_files =get_file_names_from_ind_list(file_list, no_scent_2d_inds)\n",
    "\n",
    "scent_2d_inds=np.where(np.array(cond_list)==\"2D_scent\")\n",
    "scent_2d_inds=list(scent_2d_inds[0])\n",
    "scent_2d_files=get_file_names_from_ind_list(file_list, scent_2d_inds)\n",
    "\n",
    "no_scent_vr_inds = np.where(np.array(cond_list)==\"VR_no_scent\")\n",
    "no_scent_vr_inds=list(no_scent_vr_inds[0])\n",
    "no_scent_vr_files=get_file_names_from_ind_list(file_list, no_scent_vr_inds)\n",
    "\n",
    "scent_vr_inds =np.where(np.array(cond_list)==\"VR_scent\")\n",
    "scent_vr_inds =list(scent_vr_inds[0])\n",
    "scent_vr_files=get_file_names_from_ind_list(file_list, scent_vr_inds)"
   ]
  },
  {
   "cell_type": "code",
   "execution_count": 133,
   "id": "df7d485d-070e-4fb3-909f-54a9fb4169d9",
   "metadata": {},
   "outputs": [
    {
     "data": {
      "text/plain": [
       "'VP006_091123'"
      ]
     },
     "execution_count": 133,
     "metadata": {},
     "output_type": "execute_result"
    }
   ],
   "source": [
    "scent_vr_files[0]"
   ]
  },
  {
   "cell_type": "code",
   "execution_count": 134,
   "id": "cf52d7bf-0aee-401f-bd90-bd93d4f8be52",
   "metadata": {},
   "outputs": [
    {
     "name": "stdout",
     "output_type": "stream",
     "text": [
      "baseline_instruction_ts 3 min\n",
      "94.11043362727311\n",
      "tsst_prep_ts 5 min\n",
      "99.33809598385477\n",
      "tsst_pres_ts 5 min\n",
      "107.35707432519793\n",
      "tsst_pres_ts 10 min\n",
      "99.26596391583186\n",
      "relaxation_prep_ts 5 min\n",
      "87.3354526357195\n",
      "relaxation_prep_ts 10 min\n",
      "87.2434463585723\n",
      "relaxation_prep_ts 15 min\n",
      "88.78520560809919\n",
      "baseline_instruction_ts 3 min\n",
      "68.52684204915856\n",
      "tsst_prep_ts 5 min\n",
      "91.81505088366143\n",
      "tsst_pres_ts 5 min\n",
      "92.23932639860115\n",
      "tsst_pres_ts 10 min\n",
      "84.51399928697774\n",
      "relaxation_prep_ts 5 min\n",
      "72.21675634146874\n",
      "relaxation_prep_ts 10 min\n",
      "72.0129618109361\n",
      "relaxation_prep_ts 15 min\n",
      "72.057100024432\n",
      "baseline_instruction_ts 3 min\n",
      "48.86731941634104\n",
      "tsst_prep_ts 5 min\n",
      "55.50326253346148\n",
      "tsst_pres_ts 5 min\n",
      "60.335698027390826\n",
      "tsst_pres_ts 10 min\n",
      "63.55125856017843\n",
      "relaxation_prep_ts 5 min\n",
      "48.2515937371986\n",
      "relaxation_prep_ts 10 min\n",
      "49.914431200676795\n",
      "relaxation_prep_ts 15 min\n",
      "49.82299309763204\n",
      "baseline_instruction_ts 3 min\n",
      "81.60859747816652\n",
      "tsst_prep_ts 5 min\n",
      "109.01565057705714\n",
      "tsst_pres_ts 5 min\n",
      "122.23623808420884\n",
      "tsst_pres_ts 10 min\n",
      "121.69973460710527\n",
      "relaxation_prep_ts 5 min\n",
      "81.0018087140837\n",
      "relaxation_prep_ts 10 min\n",
      "79.99126359327533\n",
      "relaxation_prep_ts 15 min\n",
      "79.63238140067051\n",
      "baseline_instruction_ts 3 min\n",
      "61.97617590551766\n",
      "tsst_prep_ts 5 min\n",
      "88.97129767381192\n",
      "tsst_pres_ts 5 min\n",
      "85.44733435590133\n",
      "tsst_pres_ts 10 min\n",
      "80.20938618927649\n",
      "relaxation_prep_ts 5 min\n",
      "57.7151572742111\n",
      "relaxation_prep_ts 10 min\n",
      "59.035644852610595\n",
      "relaxation_prep_ts 15 min\n",
      "60.33628844589251\n"
     ]
    }
   ],
   "source": [
    "from_rr_to_time_freq_anal(sk_hr_files_list, scent_vr_files)"
   ]
  },
  {
   "cell_type": "code",
   "execution_count": 105,
   "id": "ae2d8394-b254-4298-bc28-69224c12d3b3",
   "metadata": {},
   "outputs": [
    {
     "data": {
      "text/plain": [
       "['VP006_091123',\n",
       " 'VP007_091123',\n",
       " 'VP010_131123',\n",
       " 'VP011_131123',\n",
       " 'VP017_171123']"
      ]
     },
     "execution_count": 105,
     "metadata": {},
     "output_type": "execute_result"
    }
   ],
   "source": [
    "scent_vr_files"
   ]
  },
  {
   "cell_type": "code",
   "execution_count": 106,
   "id": "db2f6c3a-a631-4f2c-ae59-377c99a4ab49",
   "metadata": {},
   "outputs": [
    {
     "data": {
      "text/plain": [
       "['VP008_101123',\n",
       " 'VP009_101123',\n",
       " 'VP013_151123',\n",
       " 'VP014_151123',\n",
       " 'VP018_201123',\n",
       " 'VP019_201123',\n",
       " 'VP020_221123',\n",
       " 'VP021_221123']"
      ]
     },
     "execution_count": 106,
     "metadata": {},
     "output_type": "execute_result"
    }
   ],
   "source": [
    "no_scent_vr_files\n"
   ]
  },
  {
   "cell_type": "code",
   "execution_count": 107,
   "id": "fd03a9be-09b5-4958-a121-d3880f7b8e45",
   "metadata": {},
   "outputs": [
    {
     "data": {
      "text/plain": [
       "['VP004_081123', 'VP005_081123', 'VP022_231123']"
      ]
     },
     "execution_count": 107,
     "metadata": {},
     "output_type": "execute_result"
    }
   ],
   "source": [
    "scent_2d_files"
   ]
  },
  {
   "cell_type": "code",
   "execution_count": null,
   "id": "5505ea11-dd9d-4ceb-aa4e-522427081328",
   "metadata": {},
   "outputs": [],
   "source": []
  },
  {
   "cell_type": "code",
   "execution_count": null,
   "id": "1fb2e574-6aae-4d52-a029-8e5f9ed6cb45",
   "metadata": {},
   "outputs": [],
   "source": []
  }
 ],
 "metadata": {
  "kernelspec": {
   "display_name": "Python 3 (ipykernel)",
   "language": "python",
   "name": "python3"
  },
  "language_info": {
   "codemirror_mode": {
    "name": "ipython",
    "version": 3
   },
   "file_extension": ".py",
   "mimetype": "text/x-python",
   "name": "python",
   "nbconvert_exporter": "python",
   "pygments_lexer": "ipython3",
   "version": "3.9.13"
  }
 },
 "nbformat": 4,
 "nbformat_minor": 5
}
