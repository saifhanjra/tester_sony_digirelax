{
 "cells": [
  {
   "cell_type": "code",
   "execution_count": 18,
   "id": "e6d12850-11e6-46f6-9575-930c9cefe28d",
   "metadata": {},
   "outputs": [],
   "source": [
    "# system imports\n",
    "import os\n",
    "import sys\n",
    "\n",
    "# data science\n",
    "import pandas as pd\n",
    "import numpy as np\n",
    "import matplotlib.pyplot as plt\n",
    "from matplotlib.patches import Ellipse\n",
    "import seaborn as sns\n",
    "\n",
    "# signal processing\n",
    "from scipy import signal\n",
    "from scipy.ndimage import label\n",
    "from scipy.stats import zscore\n",
    "from scipy.interpolate import interp1d\n",
    "from scipy.integrate import trapz\n",
    "\n",
    "\n",
    "# misc\n",
    "import warnings\n",
    "\n",
    "import glob\n",
    "\n",
    "##\n",
    "import pytz\n",
    "import datetime as dt\n",
    "import math\n",
    "import seaborn as sns\n",
    "\n",
    "import pickle"
   ]
  },
  {
   "cell_type": "code",
   "execution_count": 5,
   "id": "a9ccff62-f2be-4185-b764-afee69ad0634",
   "metadata": {},
   "outputs": [],
   "source": [
    "\n",
    "#style settings\n",
    "sns.set(style='whitegrid', rc={'axes.facecolor': 'white'})\n",
    "\n",
    "#sns.set_style({'font.family':'Arial', 'font.serif':'Times New Roman'})"
   ]
  },
  {
   "cell_type": "markdown",
   "id": "84cebe2e-dc2e-4078-ad38-c66a7e7ca56e",
   "metadata": {},
   "source": [
    "## Related functions"
   ]
  },
  {
   "cell_type": "code",
   "execution_count": 10,
   "id": "93676166-f78a-47bc-9841-9ffd570b6472",
   "metadata": {},
   "outputs": [],
   "source": [
    "def get_non_nan_values_cols(p_df, col_name):\n",
    "    \n",
    "    slic_ind=p_df[col_name].isnull()\n",
    "    list_ne=slic_ind.tolist()\n",
    "    false_indices = [i for i in range(len(list_ne)) if not list_ne[i]]\n",
    "    \n",
    "    list_col_interest=p_df[col_name].to_list()\n",
    "    \n",
    "    non_values_list = []\n",
    "    \n",
    "    for false_ind in false_indices:\n",
    "        non_val = list_col_interest[false_ind]\n",
    "        non_values_list.append(non_val)\n",
    "    \n",
    "    return non_values_list\n",
    "\n",
    "\n",
    "def get_file_names_from_ind_list(files_list, inds_list):\n",
    "    \n",
    "    selected_files_list=[files_list[sel_index] for sel_index in inds_list]\n",
    "    \n",
    "    return selected_files_list\n",
    "\n",
    "\n",
    "def get_sk_hr_std_mean_acc(sk_hr_files_list, condition_files):\n",
    "    #event_interst_col = \"event_interst\"\n",
    "    #mean_sk_col = \"mean_sk_cond\"\n",
    "    #std_sk_col =\"std_sk_cond\"\n",
    "\n",
    "    #mean_hr_col = \"mean_hr\"\n",
    "    #std_hr_col = \"std_hr\"\n",
    "\n",
    "    #mean_sk_acc=[]\n",
    "    #std_sk_acc = []\n",
    "\n",
    "    #mean_hr_acc=[]\n",
    "    #std_hr_acc=[]\n",
    "\n",
    "    for selected_path in sk_hr_files_list:\n",
    "        dir_path, file_name=os.path.split(selected_path)\n",
    "        sub_id = file_name[0:12]\n",
    "        #print(sub_id)\n",
    "        for cond_file in condition_files:\n",
    "            if sub_id==cond_file:\n",
    "                #print(selected_path)\n",
    "                \n",
    "                with open(selected_path, 'rb') as f:\n",
    "                    ibi_data = pickle.load(f)\n",
    "                    \n",
    "                #sk_hr_df = pd.read_csv(selected_path)\n",
    "                \n",
    "                subject_id = ibi_data[\"subject_id\"]\n",
    "                event_interst = ibi_data[\"event_interst\"]\n",
    "                \n",
    "                all_rr_one_list = ibi_data[\"all_rr_one_list\"]\n",
    "                \n",
    "                all_rr_sublists = ibi_data[\"all_rr_sublists\"]\n",
    "                \n",
    "                \n",
    "                \n",
    "                \n",
    "\n",
    "                #mean_sk = sk_hr_df[mean_sk_col].values\n",
    "                std_sk = sk_hr_df[std_sk_col].values\n",
    "                mean_hr =sk_hr_df[mean_hr_col].values\n",
    "                std_hr =sk_hr_df[std_hr_col].values\n",
    "\n",
    "\n",
    "                mean_sk_acc.append(mean_sk)\n",
    "                std_sk_acc.append(std_sk)\n",
    "                mean_hr_acc.append(mean_hr)\n",
    "                std_hr_acc.append(std_hr)\n",
    "\n",
    "\n",
    "\n",
    "    mean_mean_sk=np.mean(np.array(mean_sk_acc), axis=0) \n",
    "    #std_mean_sk = np.std(np.array(std_sk_acc), axis=0)\n",
    "    std_mean_sk = np.mean(np.array(std_sk_acc), axis=0)\n",
    "\n",
    "    mean_mean_hr=np.mean(np.array(mean_hr_acc), axis=0) \n",
    "    #std_mean_hr = np.std(np.array(std_hr_acc), axis=0)\n",
    "    std_mean_hr = np.mean(np.array(std_hr_acc), axis=0)\n",
    "    \n",
    "    selected_events = sk_hr_df[event_interst_col].to_list()\n",
    "    \n",
    "    extracted_data={\"selected_event\": selected_events, \"hr_mean\": mean_mean_hr, \"hr_std\": std_mean_hr, \"sk_mean\": mean_mean_sk, \"sk_std\":std_mean_sk}\n",
    "    \n",
    "    return extracted_data\n"
   ]
  },
  {
   "cell_type": "code",
   "execution_count": null,
   "id": "e8245c5d-e2ba-4faf-951e-14fde0a13fd1",
   "metadata": {},
   "outputs": [],
   "source": [
    "def timedomain(rr):\n",
    "    results = {}\n",
    "\n",
    "    hr = 60000/rr\n",
    "    \n",
    "    results['Mean RR (ms)'] = np.mean(rr)\n",
    "    results['STD RR/SDNN (ms)'] = np.std(rr)\n",
    "    results['Mean HR (Kubios\\' style) (beats/min)'] = 60000/np.mean(rr)\n",
    "    results['Mean HR (beats/min)'] = np.mean(hr)\n",
    "    results['STD HR (beats/min)'] = np.std(hr)\n",
    "    results['Min HR (beats/min)'] = np.min(hr)\n",
    "    results['Max HR (beats/min)'] = np.max(hr)\n",
    "    results['RMSSD (ms)'] = np.sqrt(np.mean(np.square(np.diff(rr))))\n",
    "    results['NNxx'] = np.sum(np.abs(np.diff(rr)) > 50)*1\n",
    "    results['pNNxx (%)'] = 100 * np.sum((np.abs(np.diff(rr)) > 50)*1) / len(rr)\n",
    "    return results"
   ]
  },
  {
   "cell_type": "code",
   "execution_count": 7,
   "id": "8ee0dbad-e458-4e83-aa36-5b66fc044d96",
   "metadata": {},
   "outputs": [],
   "source": [
    "sub_data_path = \"/home/muhammad/Desktop/Datasets/data_sony_digiRelax/subjective_data/subjective_data.xlsx\"\n",
    "#hrv_data_dir = \"/home/muhammad/Desktop/repos_ixp/tester_sony_digirelax/scripts/wp3/results_22sub/hrv_analysis\"\n",
    "hrv_data_dir = \"/home/muhammad/Desktop/repos_ixp/tester_sony_digirelax/scripts/wp4/results_all_sub/hrv/ibi_pkl\"\n"
   ]
  },
  {
   "cell_type": "code",
   "execution_count": 8,
   "id": "321e16fd-29dc-4e42-8bdf-f07ebc54d22f",
   "metadata": {},
   "outputs": [],
   "source": [
    "sk_hr_files_list = glob.glob(hrv_data_dir+ \"/*.pkl\")"
   ]
  },
  {
   "cell_type": "code",
   "execution_count": 11,
   "id": "de039000-8500-477e-bc0c-f7fd0ba8edbf",
   "metadata": {},
   "outputs": [],
   "source": [
    "sub_data_df=pd.read_excel(sub_data_path)\n",
    "file_col = \"subject\"\n",
    "cond_col =\"condition\"\n",
    "\n",
    "file_list = get_non_nan_values_cols(sub_data_df,file_col)\n",
    "cond_list = get_non_nan_values_cols(sub_data_df, cond_col)\n",
    "\n",
    "cond_set=set(cond_list)\n",
    "unique_conds_list= list(cond_set)"
   ]
  },
  {
   "cell_type": "code",
   "execution_count": 12,
   "id": "1fbaa927-2b9f-4aa8-823b-5f683e3bedec",
   "metadata": {},
   "outputs": [
    {
     "name": "stdout",
     "output_type": "stream",
     "text": [
      "['2D_scent', 'VR_scent', 'VR_no_scent', '2D_no_scent']\n"
     ]
    }
   ],
   "source": [
    "print(unique_conds_list)"
   ]
  },
  {
   "cell_type": "code",
   "execution_count": 13,
   "id": "71384ce8-5ce5-4744-8eac-8c29fe3454eb",
   "metadata": {},
   "outputs": [],
   "source": [
    "no_scent_2d_inds=np.where(np.array(cond_list)==\"2D_no_scent\")\n",
    "no_scent_2d_inds = list(no_scent_2d_inds[0])\n",
    "no_scent_2d_files =get_file_names_from_ind_list(file_list, no_scent_2d_inds)\n",
    "\n",
    "scent_2d_inds=np.where(np.array(cond_list)==\"2D_scent\")\n",
    "scent_2d_inds=list(scent_2d_inds[0])\n",
    "scent_2d_files=get_file_names_from_ind_list(file_list, scent_2d_inds)\n",
    "\n",
    "no_scent_vr_inds = np.where(np.array(cond_list)==\"VR_no_scent\")\n",
    "no_scent_vr_inds=list(no_scent_vr_inds[0])\n",
    "no_scent_vr_files=get_file_names_from_ind_list(file_list, no_scent_vr_inds)\n",
    "\n",
    "scent_vr_inds =np.where(np.array(cond_list)==\"VR_scent\")\n",
    "scent_vr_inds =list(scent_vr_inds[0])\n",
    "scent_vr_files=get_file_names_from_ind_list(file_list, scent_vr_inds)"
   ]
  },
  {
   "cell_type": "code",
   "execution_count": 14,
   "id": "df7d485d-070e-4fb3-909f-54a9fb4169d9",
   "metadata": {},
   "outputs": [
    {
     "data": {
      "text/plain": [
       "'VP006_091123'"
      ]
     },
     "execution_count": 14,
     "metadata": {},
     "output_type": "execute_result"
    }
   ],
   "source": [
    "scent_vr_files[0]"
   ]
  },
  {
   "cell_type": "code",
   "execution_count": 19,
   "id": "ae2d8394-b254-4298-bc28-69224c12d3b3",
   "metadata": {},
   "outputs": [],
   "source": [
    "pkl_file = sk_hr_files_list[0]"
   ]
  },
  {
   "cell_type": "code",
   "execution_count": 21,
   "id": "db2f6c3a-a631-4f2c-ae59-377c99a4ab49",
   "metadata": {},
   "outputs": [],
   "source": [
    "with open(pkl_files, 'rb') as f:\n",
    "    ibi_data = pickle.load(f)\n"
   ]
  },
  {
   "cell_type": "code",
   "execution_count": 24,
   "id": "fd03a9be-09b5-4958-a121-d3880f7b8e45",
   "metadata": {},
   "outputs": [
    {
     "data": {
      "text/plain": [
       "dict_keys(['subject_id', 'event_interst', 'all_rr_one_list', 'all_rr_sublists'])"
      ]
     },
     "execution_count": 24,
     "metadata": {},
     "output_type": "execute_result"
    }
   ],
   "source": [
    "ibi_data.keys()"
   ]
  },
  {
   "cell_type": "code",
   "execution_count": null,
   "id": "5505ea11-dd9d-4ceb-aa4e-522427081328",
   "metadata": {},
   "outputs": [],
   "source": []
  }
 ],
 "metadata": {
  "kernelspec": {
   "display_name": "Python 3 (ipykernel)",
   "language": "python",
   "name": "python3"
  },
  "language_info": {
   "codemirror_mode": {
    "name": "ipython",
    "version": 3
   },
   "file_extension": ".py",
   "mimetype": "text/x-python",
   "name": "python",
   "nbconvert_exporter": "python",
   "pygments_lexer": "ipython3",
   "version": "3.9.16"
  }
 },
 "nbformat": 4,
 "nbformat_minor": 5
}
