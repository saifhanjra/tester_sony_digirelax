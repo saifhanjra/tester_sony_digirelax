{
 "cells": [
  {
   "cell_type": "code",
   "execution_count": 1,
   "id": "97c00454-adb4-4ca8-82c5-0df6e2a05944",
   "metadata": {},
   "outputs": [],
   "source": [
    "import pandas as pd\n",
    "import pytz\n",
    "import datetime as dt\n",
    "import math\n",
    "import seaborn as sns\n",
    "import matplotlib as mpl\n",
    "#mpl.rcParams['path.simplify'] = False\n",
    "import matplotlib.pyplot as plt\n",
    "import numpy as np"
   ]
  },
  {
   "cell_type": "code",
   "execution_count": 73,
   "id": "1f5ab95e-e08b-4049-b6b7-fa0be4c034d7",
   "metadata": {},
   "outputs": [],
   "source": [
    "def read_manipulate_psychopy(psychopy_path):\n",
    "    \n",
    "    psychopy_df = pd.read_csv(psychopy_path)\n",
    "    col_list = [col for col in psychopy_df.columns if col.endswith('_ts')]\n",
    "    col_list.insert(0, \"Reference_time\")\n",
    "    psychopy_df_selected = psychopy_df[col_list]\n",
    "    \n",
    "    return psychopy_df_selected\n",
    "\n",
    "\n",
    "def get_nonNan_list_psychopy(psychopy_df, col_name):\n",
    "    \n",
    "    \n",
    "    selected_vals=[val for val in psychopy_df[col_name].to_list() if not(math.isnan(val))]\n",
    "    \n",
    "    return selected_vals\n",
    "\n",
    "\n",
    "def get_offset_timestamp(timestamp, offset_mins):\n",
    "    \n",
    "    time_zone = 'Europe/Berlin'\n",
    "    tz = pytz.timezone(time_zone)\n",
    "    local_time = dt.datetime.fromtimestamp(timestamp, tz)\n",
    "    time_change = dt.timedelta(minutes=offset_mins)\n",
    "    new_time = local_time + time_change\n",
    "    new_timestamp =  dt.datetime.timestamp(new_time)\n",
    "    return new_timestamp\n",
    "\n",
    "\n",
    "def read_shimmer_sensor(sensor_file_path):\n",
    "    \n",
    "    shimmer_df = pd.read_csv(sensor_file_path, sep='\\t', low_memory=False)\n",
    "    shimmer_df = shimmer_df.reset_index()\n",
    "    shimmer_df.columns = shimmer_df.iloc[0]\n",
    "    shimmer_df.drop([0, 1], axis=0, inplace=True)\n",
    "    shimmer_df=shimmer_df.reset_index(drop=True)\n",
    "    \n",
    "    return shimmer_df\n",
    "\n",
    "\n",
    "def slice_df_wrt_timestamps(df, start_timestamp, end_timestamp, timestamps_col):\n",
    "    \n",
    "    sliced_df=df[(df[timestamps_col]>= start_timestamp) & (df[timestamps_col] <= end_timestamp)]\n",
    "    \n",
    "    return sliced_df\n",
    "\n",
    "\n",
    "def standardize_timestamps_shimmer(shimmer_df, timestamps_col_name):\n",
    "    \n",
    "    timesstamps_list = shimmer_df[timestamps_col_name].to_list()\n",
    "    new_timestamps_list = [float(val)/1000 for val in  timesstamps_list]\n",
    "    \n",
    "    shimmer_df[timestamps_col_name] = new_timestamps_list\n",
    "    \n",
    "    return shimmer_df\n",
    "\n",
    "\n",
    "def mean_std_col_df (df, col_name):\n",
    "    \n",
    "    col_list = df[col_name].to_list()\n",
    "    \n",
    "    cols_list_float = [float(val) for val in col_list]\n",
    "    \n",
    "    cols_list_float_np =np.array(cols_list_float)\n",
    "    \n",
    "    mean_col= np.mean(cols_list_float_np)\n",
    "    std_col = np.std(cols_list_float_np)\n",
    "    \n",
    "    return mean_col, std_col\n",
    "\n",
    "\n",
    "def plot_mean_std(mean_list, std_list, label_list, title_figure, y_label_fig):\n",
    "    x_pos = np.arange(len(label_list))\n",
    "    fig, ax = plt.subplots()\n",
    "    ax.bar(x_pos, mean_list, yerr=std_list, align='center', alpha=0.5, capsize=10 )\n",
    "    ax.set_ylabel(y_label_fig)\n",
    "    ax.set_xticks(x_pos)\n",
    "    ax.set_xticklabels(label_list, rotation=45, ha='right', rotation_mode='anchor')\n",
    "    #title_ax = \"VP001_251023_Session1_Shimmer_FBA7_Calibrated_SD\"\n",
    "    ax.set_title(title_figure)\n",
    "    ax.yaxis.grid(True)\n",
    "    plt.tight_layout()\n",
    "    plt.show()\n",
    "    \n",
    "    \n",
    "    \n",
    "def print_start_end_time(timestamp_col):\n",
    "    \n",
    "    time_stamp_list = timestamp_col.values\n",
    "    start_timestamp = time_stamp_list[0]\n",
    "    last_timestamp  = time_stamp_list[-1]\n",
    "    \n",
    "    time_zone = 'Europe/Berlin'\n",
    "    tz = pytz.timezone(time_zone)\n",
    "    \n",
    "    start_time = dt.datetime.fromtimestamp(start_timestamp, tz)\n",
    "    end_time  = dt.datetime.fromtimestamp(last_timestamp, tz)\n",
    "    \n",
    "    print(\"start time:\" + str(start_time))\n",
    "    print(\"end time:\" + str(end_time))\n",
    "    \n",
    "    \n",
    "    \n",
    "\n",
    "def get_mean_std_event_list(psychopy_df, shimmer_df_selected, event_interest_list_new, offset_min_list_new, timestamp_sensor_col_name, data_col_name):\n",
    "\n",
    "    mean_cumm_list = []\n",
    "    std_cumm_list  = []\n",
    "    event_interets_plot = []\n",
    "\n",
    "\n",
    "    ##---outer loop to hnadle muultiple offsets from the selected events \n",
    "    for ind, event_selected in enumerate(event_interest_list_new):\n",
    "\n",
    "        offset_list_selected_event = offset_min_list_new[ind]\n",
    "\n",
    "        #print(event_selected)\n",
    "\n",
    "        current_event_timestamp = get_nonNan_list_psychopy(psychopy_df, event_selected)[0]\n",
    "\n",
    "        offset_min_list_selected = offset_min_list_new[ind]\n",
    "\n",
    "        for offset_min in offset_min_list_selected:\n",
    "\n",
    "            event_plot = event_selected +\" \"+ str(offset_min) + \" min\"\n",
    "            event_interets_plot.append(event_plot)\n",
    "\n",
    "            timestamp_offset = get_offset_timestamp(current_event_timestamp, offset_min)\n",
    "\n",
    "            start_end_time_list = [current_event_timestamp, timestamp_offset]\n",
    "\n",
    "            timestamp_start_slice = min(start_end_time_list)\n",
    "\n",
    "            timestamp_end_slice = max(start_end_time_list)\n",
    "\n",
    "            sensor_df_ii=slice_df_wrt_timestamps(shimmer_df_selected, timestamp_start_slice, timestamp_end_slice, timestamp_sensor_col_name)\n",
    "\n",
    "            mean_val, std_val = mean_std_col_df(sensor_df_ii, data_col_name) \n",
    "            mean_cumm_list.append(mean_val)\n",
    "            std_cumm_list.append(std_val)\n",
    "\n",
    "\n",
    "\n",
    "            current_event_timestamp = timestamp_offset\n",
    "            \n",
    "            \n",
    "    return mean_cumm_list, std_cumm_list, event_interets_plot\n",
    "    \n",
    "\n",
    "\n",
    "\n",
    "\n",
    "\n",
    "\n"
   ]
  },
  {
   "cell_type": "markdown",
   "id": "d6cc769e-d619-4732-907b-05241f4e8258",
   "metadata": {},
   "source": [
    "### linux -------------------------"
   ]
  },
  {
   "cell_type": "code",
   "execution_count": 74,
   "id": "9ce29c2f-d3a4-42e2-aca1-4d058c616d85",
   "metadata": {},
   "outputs": [],
   "source": [
    "#psychopy_path = \"/home/muhammad/Desktop/Datasets/data_sony_digiRelax/study/VP004_081123/Psychopy_data/VP004_081123_DigiRelax_Experiment_2023-11-08_10h28.36.317.csv\"\n",
    "#hr_shimmer_file_path =  \"/home/muhammad/Desktop/Datasets/data_sony_digiRelax/study/VP004_081123/Shimmer_data/2023-11-08_09.49.11_VP004_081123_SD_Session1/VP004_081123_Session1_Shimmer_6B1E_Calibrated_SD.csv\"\n",
    "#skin_shimmer_file_path = \"/home/muhammad/Desktop/Datasets/data_sony_digiRelax/study/VP004_081123/Shimmer_data/2023-11-08_09.49.11_VP004_081123_SD_Session1/VP004_081123_Session1_Shimmer_893E_Calibrated_SD.csv\""
   ]
  },
  {
   "cell_type": "markdown",
   "id": "83ffba84-2ef1-4d6a-8fe9-3a96b669f6b9",
   "metadata": {},
   "source": [
    "### windows ---------------------"
   ]
  },
  {
   "cell_type": "code",
   "execution_count": 75,
   "id": "b44a26e6-09ed-48df-b268-6741dcbbb55a",
   "metadata": {},
   "outputs": [],
   "source": [
    "psychopy_path =\"D:/Datasets/data_sony_digiRelax/study/VP005_081123/Psychopy_data/VP005_081123_DigiRelax_Experiment_2023-11-08_14h17.35.226.csv\"\n",
    "hr_shimmer_file_path = \"D:/Datasets/data_sony_digiRelax/study/VP005_081123/Shimmer_data/2023-11-08_13.52.04_VP005_081123_SD_Session1/VP005_081123_Session1_Shimmer_6B1E_Calibrated_SD.csv\"\n",
    "skin_shimmer_file_path = \"D:/Datasets/data_sony_digiRelax/study/VP005_081123/Shimmer_data/2023-11-08_13.52.04_VP005_081123_SD_Session1/VP005_081123_Session1_Shimmer_893E_Calibrated_SD.csv\""
   ]
  },
  {
   "cell_type": "markdown",
   "id": "dba3b7f4-5193-43a7-b781-2f5da8cfb6fa",
   "metadata": {},
   "source": [
    "## Psychopy"
   ]
  },
  {
   "cell_type": "code",
   "execution_count": 76,
   "id": "11981016-6a91-4ba6-8fc5-5e94b081d675",
   "metadata": {},
   "outputs": [],
   "source": [
    "psychopy_df = read_manipulate_psychopy(psychopy_path)"
   ]
  },
  {
   "cell_type": "markdown",
   "id": "4b1695fd-40ac-4690-8b44-482b91c2a9de",
   "metadata": {},
   "source": [
    "## ----- Skin conductannce"
   ]
  },
  {
   "cell_type": "code",
   "execution_count": 77,
   "id": "8e68538c-7336-4229-8265-2425fe8eedd0",
   "metadata": {},
   "outputs": [],
   "source": [
    "timestamp_sensor_skin = \"Shimmer_893E_Timestamp_Unix_CAL\"\n",
    "conductance_col_name = \"Shimmer_893E_GSR_Skin_Conductance_CAL\""
   ]
  },
  {
   "cell_type": "code",
   "execution_count": 78,
   "id": "6d14ed58-7a22-4fac-ae05-cc4ed99fd74f",
   "metadata": {},
   "outputs": [],
   "source": [
    "sk_cd_df=read_shimmer_sensor(skin_shimmer_file_path)\n",
    "sk_cd_df = standardize_timestamps_shimmer(sk_cd_df, timestamp_sensor_skin)"
   ]
  },
  {
   "cell_type": "code",
   "execution_count": 79,
   "id": "addee3dc-ad1e-4bbe-adf9-53c09a3daf5a",
   "metadata": {},
   "outputs": [
    {
     "name": "stdout",
     "output_type": "stream",
     "text": [
      "start time:2023-11-08 14:15:21.659424+01:00\n",
      "end time:2023-11-08 15:22:12.839111+01:00\n"
     ]
    }
   ],
   "source": [
    "print_start_end_time(sk_cd_df[timestamp_sensor_skin])"
   ]
  },
  {
   "cell_type": "code",
   "execution_count": 80,
   "id": "df04c3c1-5a5d-4be7-a591-de1d4dbabfe1",
   "metadata": {},
   "outputs": [],
   "source": [
    "sk_cd_df_selected = sk_cd_df[[timestamp_sensor_skin, conductance_col_name]]"
   ]
  },
  {
   "cell_type": "code",
   "execution_count": null,
   "id": "80312e3f-35b6-45ac-9c5f-a01ab06fc5dc",
   "metadata": {},
   "outputs": [],
   "source": []
  },
  {
   "cell_type": "code",
   "execution_count": 81,
   "id": "83aed90d-cf57-4bf0-9498-1f2bcbdc2c9f",
   "metadata": {},
   "outputs": [],
   "source": [
    "event_interest_list_new = [\"baseline_instruction_ts\", \"tsst_prep_ts\", \"tsst_pres_ts\", \"relaxation_prep_ts\"]\n",
    "offset_min_list_new  = [[3], [5], [5,5], [10]]"
   ]
  },
  {
   "cell_type": "code",
   "execution_count": 82,
   "id": "067c3f08-47a1-4395-9938-e52fd19fd399",
   "metadata": {},
   "outputs": [],
   "source": [
    "mean_sk_cond_list,std_sk_cond_list, x_label_plolt_sk =get_mean_std_event_list(psychopy_df, sk_cd_df_selected, event_interest_list_new, offset_min_list_new, timestamp_sensor_skin, conductance_col_name)"
   ]
  },
  {
   "cell_type": "code",
   "execution_count": 83,
   "id": "a8c845f6-ed1d-41c9-9411-731afce868f6",
   "metadata": {},
   "outputs": [
    {
     "data": {
      "image/png": "[encoded data removed]",
      "text/plain": [
       "<Figure size 640x480 with 1 Axes>"
      ]
     },
     "metadata": {},
     "output_type": "display_data"
    }
   ],
   "source": [
    "plot_mean_std(mean_sk_cond_list, std_sk_cond_list, x_label_plolt_sk, \"Skin Conductance plots\", \"skin conductance\") \n",
    "        "
   ]
  },
  {
   "cell_type": "markdown",
   "id": "8db11945-674d-4f65-8968-bc507c4140bf",
   "metadata": {},
   "source": [
    "## ---------heart rate analysis"
   ]
  },
  {
   "cell_type": "code",
   "execution_count": 84,
   "id": "17caaad4-02f3-4b13-adec-b2ace5039ad7",
   "metadata": {},
   "outputs": [],
   "source": [
    "hr_df=read_shimmer_sensor(hr_shimmer_file_path)\n"
   ]
  },
  {
   "cell_type": "code",
   "execution_count": 85,
   "id": "4e39c973-3dd9-4a2e-ac35-5d85e12641c5",
   "metadata": {},
   "outputs": [],
   "source": [
    "timestamp_hr_col = \"Shimmer_6B1E_Timestamp_Unix_CAL\"\n",
    "hr_col_name = \"Shimmer_6B1E_ECG_LL-LA_24BIT_CAL\""
   ]
  },
  {
   "cell_type": "code",
   "execution_count": 91,
   "id": "b695c101-d962-4ee1-a809-b310bb3f477b",
   "metadata": {},
   "outputs": [],
   "source": [
    "hr_df = standardize_timestamps_shimmer(hr_df, timestamp_hr_col)\n",
    "hr_df_selected = hr_df[[timestamp_hr_col, hr_col_name]]"
   ]
  },
  {
   "cell_type": "code",
   "execution_count": 95,
   "id": "d7d155ca-831a-4e32-a13c-3d0cac14ded0",
   "metadata": {},
   "outputs": [
    {
     "name": "stdout",
     "output_type": "stream",
     "text": [
      "start time:1970-01-20 17:04:09.322909+01:00\n",
      "end time:1970-01-20 17:04:13.332905+01:00\n"
     ]
    }
   ],
   "source": [
    "print_start_end_time(hr_df_selected[timestamp_hr_col])"
   ]
  },
  {
   "cell_type": "code",
   "execution_count": 96,
   "id": "4cd2f5c1-bc50-475d-8455-e557fb95b8c3",
   "metadata": {},
   "outputs": [],
   "source": [
    "mean_hr_list,std_hr_list, x_label_plots_hr =get_mean_std_event_list(psychopy_df, hr_df_selected, event_interest_list_new, offset_min_list_new, timestamp_hr_col, hr_col_name)"
   ]
  },
  {
   "cell_type": "code",
   "execution_count": 97,
   "id": "f1cc3768-b454-43b0-b006-c71aba305e46",
   "metadata": {},
   "outputs": [
    {
     "data": {
      "text/plain": [
       "[nan, nan, nan, nan, nan]"
      ]
     },
     "execution_count": 97,
     "metadata": {},
     "output_type": "execute_result"
    }
   ],
   "source": [
    "mean_hr_list"
   ]
  },
  {
   "cell_type": "code",
   "execution_count": 89,
   "id": "c4c91b36-60e6-4f46-bbef-a5e7deeac090",
   "metadata": {},
   "outputs": [
    {
     "data": {
      "text/html": [
       "<div>\n",
       "<style scoped>\n",
       "    .dataframe tbody tr th:only-of-type {\n",
       "        vertical-align: middle;\n",
       "    }\n",
       "\n",
       "    .dataframe tbody tr th {\n",
       "        vertical-align: top;\n",
       "    }\n",
       "\n",
       "    .dataframe thead th {\n",
       "        text-align: right;\n",
       "    }\n",
       "</style>\n",
       "<table border=\"1\" class=\"dataframe\">\n",
       "  <thead>\n",
       "    <tr style=\"text-align: right;\">\n",
       "      <th></th>\n",
       "      <th>Shimmer_6B1E_Timestamp_Unix_CAL</th>\n",
       "      <th>Shimmer_6B1E_ECG_LL-LA_24BIT_CAL</th>\n",
       "    </tr>\n",
       "  </thead>\n",
       "  <tbody>\n",
       "    <tr>\n",
       "      <th>0</th>\n",
       "      <td>1.699449e+09</td>\n",
       "      <td>66.21890619026496</td>\n",
       "    </tr>\n",
       "    <tr>\n",
       "      <th>1</th>\n",
       "      <td>1.699449e+09</td>\n",
       "      <td>66.18832661966404</td>\n",
       "    </tr>\n",
       "    <tr>\n",
       "      <th>2</th>\n",
       "      <td>1.699449e+09</td>\n",
       "      <td>66.18573024102811</td>\n",
       "    </tr>\n",
       "    <tr>\n",
       "      <th>3</th>\n",
       "      <td>1.699449e+09</td>\n",
       "      <td>66.18320598402096</td>\n",
       "    </tr>\n",
       "    <tr>\n",
       "      <th>4</th>\n",
       "      <td>1.699449e+09</td>\n",
       "      <td>66.17202713156071</td>\n",
       "    </tr>\n",
       "    <tr>\n",
       "      <th>...</th>\n",
       "      <td>...</td>\n",
       "      <td>...</td>\n",
       "    </tr>\n",
       "    <tr>\n",
       "      <th>1025464</th>\n",
       "      <td>1.699453e+09</td>\n",
       "      <td>93.65382953331824</td>\n",
       "    </tr>\n",
       "    <tr>\n",
       "      <th>1025465</th>\n",
       "      <td>1.699453e+09</td>\n",
       "      <td>93.67258115679995</td>\n",
       "    </tr>\n",
       "    <tr>\n",
       "      <th>1025466</th>\n",
       "      <td>1.699453e+09</td>\n",
       "      <td>93.66839810233095</td>\n",
       "    </tr>\n",
       "    <tr>\n",
       "      <th>1025467</th>\n",
       "      <td>1.699453e+09</td>\n",
       "      <td>93.66371019646051</td>\n",
       "    </tr>\n",
       "    <tr>\n",
       "      <th>1025468</th>\n",
       "      <td>1.699453e+09</td>\n",
       "      <td>93.65108891142475</td>\n",
       "    </tr>\n",
       "  </tbody>\n",
       "</table>\n",
       "<p>1025469 rows × 2 columns</p>\n",
       "</div>"
      ],
      "text/plain": [
       "0        Shimmer_6B1E_Timestamp_Unix_CAL Shimmer_6B1E_ECG_LL-LA_24BIT_CAL\n",
       "0                           1.699449e+09                66.21890619026496\n",
       "1                           1.699449e+09                66.18832661966404\n",
       "2                           1.699449e+09                66.18573024102811\n",
       "3                           1.699449e+09                66.18320598402096\n",
       "4                           1.699449e+09                66.17202713156071\n",
       "...                                  ...                              ...\n",
       "1025464                     1.699453e+09                93.65382953331824\n",
       "1025465                     1.699453e+09                93.67258115679995\n",
       "1025466                     1.699453e+09                93.66839810233095\n",
       "1025467                     1.699453e+09                93.66371019646051\n",
       "1025468                     1.699453e+09                93.65108891142475\n",
       "\n",
       "[1025469 rows x 2 columns]"
      ]
     },
     "execution_count": 89,
     "metadata": {},
     "output_type": "execute_result"
    }
   ],
   "source": []
  },
  {
   "cell_type": "code",
   "execution_count": 71,
   "id": "3c8dc6de-9b6a-4457-8ae6-851161218a2e",
   "metadata": {},
   "outputs": [],
   "source": [
    "mean_cumm_list = []\n",
    "std_cumm_list  = []\n",
    "event_interets_plot = []\n",
    "\n",
    "\n",
    "##---outer loop to hnadle muultiple offsets from the selected events \n",
    "for ind, event_selected in enumerate(event_interest_list_new):\n",
    "\n",
    "    offset_list_selected_event = offset_min_list_new[ind]\n",
    "\n",
    "    #print(event_selected)\n",
    "\n",
    "    current_event_timestamp = get_nonNan_list_psychopy(psychopy_df, event_selected)[0]\n",
    "\n",
    "    offset_min_list_selected = offset_min_list_new[ind]\n",
    "\n",
    "    for offset_min in offset_min_list_selected:\n",
    "\n",
    "        event_plot = event_selected +\" \"+ str(offset_min) + \" min\"\n",
    "        event_interets_plot.append(event_plot)\n",
    "\n",
    "        timestamp_offset = get_offset_timestamp(current_event_timestamp, offset_min)\n",
    "\n",
    "        start_end_time_list = [current_event_timestamp, timestamp_offset]\n",
    "\n",
    "        timestamp_start_slice = min(start_end_time_list)\n",
    "\n",
    "        timestamp_end_slice = max(start_end_time_list)\n",
    "\n",
    "        sensor_df_ii=slice_df_wrt_timestamps(hr_df_selected, timestamp_start_slice, timestamp_end_slice, timestamp_hr_col)\n",
    "\n",
    "        mean_val, std_val = mean_std_col_df(sensor_df_ii, hr_col_name) \n",
    "        mean_cumm_list.append(mean_val)\n",
    "        std_cumm_list.append(std_val)\n",
    "\n",
    "\n",
    "\n",
    "        current_event_timestamp = timestamp_offset\n",
    "            \n",
    "            "
   ]
  },
  {
   "cell_type": "code",
   "execution_count": 72,
   "id": "ddf563e9-656b-40da-a80a-36ba285e237c",
   "metadata": {},
   "outputs": [
    {
     "data": {
      "text/html": [
       "<div>\n",
       "<style scoped>\n",
       "    .dataframe tbody tr th:only-of-type {\n",
       "        vertical-align: middle;\n",
       "    }\n",
       "\n",
       "    .dataframe tbody tr th {\n",
       "        vertical-align: top;\n",
       "    }\n",
       "\n",
       "    .dataframe thead th {\n",
       "        text-align: right;\n",
       "    }\n",
       "</style>\n",
       "<table border=\"1\" class=\"dataframe\">\n",
       "  <thead>\n",
       "    <tr style=\"text-align: right;\">\n",
       "      <th></th>\n",
       "      <th>Shimmer_6B1E_Timestamp_Unix_CAL</th>\n",
       "      <th>Shimmer_6B1E_ECG_LL-LA_24BIT_CAL</th>\n",
       "    </tr>\n",
       "  </thead>\n",
       "  <tbody>\n",
       "    <tr>\n",
       "      <th>545006</th>\n",
       "      <td>1.699451e+09</td>\n",
       "      <td>90.67347534578745</td>\n",
       "    </tr>\n",
       "    <tr>\n",
       "      <th>545007</th>\n",
       "      <td>1.699451e+09</td>\n",
       "      <td>90.68551965779301</td>\n",
       "    </tr>\n",
       "    <tr>\n",
       "      <th>545008</th>\n",
       "      <td>1.699451e+09</td>\n",
       "      <td>90.69330879370081</td>\n",
       "    </tr>\n",
       "    <tr>\n",
       "      <th>545009</th>\n",
       "      <td>1.699451e+09</td>\n",
       "      <td>90.71927258006008</td>\n",
       "    </tr>\n",
       "    <tr>\n",
       "      <th>545010</th>\n",
       "      <td>1.699451e+09</td>\n",
       "      <td>90.72619625642257</td>\n",
       "    </tr>\n",
       "    <tr>\n",
       "      <th>...</th>\n",
       "      <td>...</td>\n",
       "      <td>...</td>\n",
       "    </tr>\n",
       "    <tr>\n",
       "      <th>698479</th>\n",
       "      <td>1.699452e+09</td>\n",
       "      <td>94.68048091894163</td>\n",
       "    </tr>\n",
       "    <tr>\n",
       "      <th>698480</th>\n",
       "      <td>1.699452e+09</td>\n",
       "      <td>94.69021733882636</td>\n",
       "    </tr>\n",
       "    <tr>\n",
       "      <th>698481</th>\n",
       "      <td>1.699452e+09</td>\n",
       "      <td>94.69122704162922</td>\n",
       "    </tr>\n",
       "    <tr>\n",
       "      <th>698482</th>\n",
       "      <td>1.699452e+09</td>\n",
       "      <td>94.67860575659346</td>\n",
       "    </tr>\n",
       "    <tr>\n",
       "      <th>698483</th>\n",
       "      <td>1.699452e+09</td>\n",
       "      <td>94.69440039329534</td>\n",
       "    </tr>\n",
       "  </tbody>\n",
       "</table>\n",
       "<p>153478 rows × 2 columns</p>\n",
       "</div>"
      ],
      "text/plain": [
       "0       Shimmer_6B1E_Timestamp_Unix_CAL Shimmer_6B1E_ECG_LL-LA_24BIT_CAL\n",
       "545006                     1.699451e+09                90.67347534578745\n",
       "545007                     1.699451e+09                90.68551965779301\n",
       "545008                     1.699451e+09                90.69330879370081\n",
       "545009                     1.699451e+09                90.71927258006008\n",
       "545010                     1.699451e+09                90.72619625642257\n",
       "...                                 ...                              ...\n",
       "698479                     1.699452e+09                94.68048091894163\n",
       "698480                     1.699452e+09                94.69021733882636\n",
       "698481                     1.699452e+09                94.69122704162922\n",
       "698482                     1.699452e+09                94.67860575659346\n",
       "698483                     1.699452e+09                94.69440039329534\n",
       "\n",
       "[153478 rows x 2 columns]"
      ]
     },
     "execution_count": 72,
     "metadata": {},
     "output_type": "execute_result"
    }
   ],
   "source": [
    "sensor_df_ii"
   ]
  },
  {
   "cell_type": "code",
   "execution_count": 63,
   "id": "044cef68-fe93-483e-abbb-9e0b8f2a8f73",
   "metadata": {},
   "outputs": [
    {
     "ename": "TypeError",
     "evalue": "cannot unpack non-iterable NoneType object",
     "output_type": "error",
     "traceback": [
      "\u001b[1;31m---------------------------------------------------------------------------\u001b[0m",
      "\u001b[1;31mTypeError\u001b[0m                                 Traceback (most recent call last)",
      "\u001b[1;32m~\\AppData\\Local\\Temp\\ipykernel_24796\\1882759449.py\u001b[0m in \u001b[0;36m<module>\u001b[1;34m\u001b[0m\n\u001b[1;32m----> 1\u001b[1;33m \u001b[0mmean_hr_list\u001b[0m\u001b[1;33m,\u001b[0m\u001b[0mstd_hr_list\u001b[0m\u001b[1;33m,\u001b[0m \u001b[0mx_label_plolt_hr\u001b[0m \u001b[1;33m=\u001b[0m \u001b[0mget_mean_std_event_list\u001b[0m\u001b[1;33m(\u001b[0m\u001b[0mpsychopy_df\u001b[0m\u001b[1;33m,\u001b[0m \u001b[0mhr_df_selected\u001b[0m\u001b[1;33m,\u001b[0m \u001b[0mevent_interest_list_new\u001b[0m\u001b[1;33m,\u001b[0m \u001b[0moffset_min_list_new\u001b[0m\u001b[1;33m,\u001b[0m \u001b[0mtimestamp_hr_col\u001b[0m\u001b[1;33m)\u001b[0m\u001b[1;33m\u001b[0m\u001b[1;33m\u001b[0m\u001b[0m\n\u001b[0m",
      "\u001b[1;31mTypeError\u001b[0m: cannot unpack non-iterable NoneType object"
     ]
    }
   ],
   "source": [
    "mean_hr_list,std_hr_list, x_label_plolt_hr = get_mean_std_event_list(psychopy_df, hr_df_selected, event_interest_list_new, offset_min_list_new, timestamp_hr_col)"
   ]
  },
  {
   "cell_type": "code",
   "execution_count": null,
   "id": "77ca3f79-2308-487e-ad25-69055bbd06a9",
   "metadata": {},
   "outputs": [],
   "source": []
  },
  {
   "cell_type": "code",
   "execution_count": null,
   "id": "d92d325a-d43e-447e-bf92-57821cc6ee62",
   "metadata": {},
   "outputs": [],
   "source": []
  },
  {
   "cell_type": "code",
   "execution_count": 78,
   "id": "a2d60ebd-73ac-4b15-9fdb-a5f8ea356609",
   "metadata": {},
   "outputs": [
    {
     "name": "stdout",
     "output_type": "stream",
     "text": [
      "baseline_instruction_ts\n",
      "Empty DataFrame\n",
      "Columns: [Shimmer_6B1E_Timestamp_Unix_CAL, Shimmer_6B1E_ECG_LL-LA_24BIT_CAL]\n",
      "Index: []\n",
      "tsst_prep_ts\n",
      "Empty DataFrame\n",
      "Columns: [Shimmer_6B1E_Timestamp_Unix_CAL, Shimmer_6B1E_ECG_LL-LA_24BIT_CAL]\n",
      "Index: []\n",
      "tsst_pres_ts\n",
      "Empty DataFrame\n",
      "Columns: [Shimmer_6B1E_Timestamp_Unix_CAL, Shimmer_6B1E_ECG_LL-LA_24BIT_CAL]\n",
      "Index: []\n",
      "Empty DataFrame\n",
      "Columns: [Shimmer_6B1E_Timestamp_Unix_CAL, Shimmer_6B1E_ECG_LL-LA_24BIT_CAL]\n",
      "Index: []\n",
      "relaxation_prep_ts\n",
      "Empty DataFrame\n",
      "Columns: [Shimmer_6B1E_Timestamp_Unix_CAL, Shimmer_6B1E_ECG_LL-LA_24BIT_CAL]\n",
      "Index: []\n"
     ]
    },
    {
     "name": "stderr",
     "output_type": "stream",
     "text": [
      "C:\\Users\\muhammad.saif\\Anaconda3\\lib\\site-packages\\numpy\\core\\fromnumeric.py:3440: RuntimeWarning: Mean of empty slice.\n",
      "  return _methods._mean(a, axis=axis, dtype=dtype,\n",
      "C:\\Users\\muhammad.saif\\Anaconda3\\lib\\site-packages\\numpy\\core\\_methods.py:189: RuntimeWarning: invalid value encountered in double_scalars\n",
      "  ret = ret.dtype.type(ret / rcount)\n",
      "C:\\Users\\muhammad.saif\\Anaconda3\\lib\\site-packages\\numpy\\core\\_methods.py:262: RuntimeWarning: Degrees of freedom <= 0 for slice\n",
      "  ret = _var(a, axis=axis, dtype=dtype, out=out, ddof=ddof,\n",
      "C:\\Users\\muhammad.saif\\Anaconda3\\lib\\site-packages\\numpy\\core\\_methods.py:222: RuntimeWarning: invalid value encountered in true_divide\n",
      "  arrmean = um.true_divide(arrmean, div, out=arrmean, casting='unsafe',\n",
      "C:\\Users\\muhammad.saif\\Anaconda3\\lib\\site-packages\\numpy\\core\\_methods.py:254: RuntimeWarning: invalid value encountered in double_scalars\n",
      "  ret = ret.dtype.type(ret / rcount)\n",
      "C:\\Users\\muhammad.saif\\Anaconda3\\lib\\site-packages\\numpy\\core\\fromnumeric.py:3440: RuntimeWarning: Mean of empty slice.\n",
      "  return _methods._mean(a, axis=axis, dtype=dtype,\n",
      "C:\\Users\\muhammad.saif\\Anaconda3\\lib\\site-packages\\numpy\\core\\_methods.py:189: RuntimeWarning: invalid value encountered in double_scalars\n",
      "  ret = ret.dtype.type(ret / rcount)\n",
      "C:\\Users\\muhammad.saif\\Anaconda3\\lib\\site-packages\\numpy\\core\\_methods.py:262: RuntimeWarning: Degrees of freedom <= 0 for slice\n",
      "  ret = _var(a, axis=axis, dtype=dtype, out=out, ddof=ddof,\n",
      "C:\\Users\\muhammad.saif\\Anaconda3\\lib\\site-packages\\numpy\\core\\_methods.py:222: RuntimeWarning: invalid value encountered in true_divide\n",
      "  arrmean = um.true_divide(arrmean, div, out=arrmean, casting='unsafe',\n",
      "C:\\Users\\muhammad.saif\\Anaconda3\\lib\\site-packages\\numpy\\core\\_methods.py:254: RuntimeWarning: invalid value encountered in double_scalars\n",
      "  ret = ret.dtype.type(ret / rcount)\n",
      "C:\\Users\\muhammad.saif\\Anaconda3\\lib\\site-packages\\numpy\\core\\fromnumeric.py:3440: RuntimeWarning: Mean of empty slice.\n",
      "  return _methods._mean(a, axis=axis, dtype=dtype,\n",
      "C:\\Users\\muhammad.saif\\Anaconda3\\lib\\site-packages\\numpy\\core\\_methods.py:189: RuntimeWarning: invalid value encountered in double_scalars\n",
      "  ret = ret.dtype.type(ret / rcount)\n",
      "C:\\Users\\muhammad.saif\\Anaconda3\\lib\\site-packages\\numpy\\core\\_methods.py:262: RuntimeWarning: Degrees of freedom <= 0 for slice\n",
      "  ret = _var(a, axis=axis, dtype=dtype, out=out, ddof=ddof,\n",
      "C:\\Users\\muhammad.saif\\Anaconda3\\lib\\site-packages\\numpy\\core\\_methods.py:222: RuntimeWarning: invalid value encountered in true_divide\n",
      "  arrmean = um.true_divide(arrmean, div, out=arrmean, casting='unsafe',\n",
      "C:\\Users\\muhammad.saif\\Anaconda3\\lib\\site-packages\\numpy\\core\\_methods.py:254: RuntimeWarning: invalid value encountered in double_scalars\n",
      "  ret = ret.dtype.type(ret / rcount)\n",
      "C:\\Users\\muhammad.saif\\Anaconda3\\lib\\site-packages\\numpy\\core\\fromnumeric.py:3440: RuntimeWarning: Mean of empty slice.\n",
      "  return _methods._mean(a, axis=axis, dtype=dtype,\n",
      "C:\\Users\\muhammad.saif\\Anaconda3\\lib\\site-packages\\numpy\\core\\_methods.py:189: RuntimeWarning: invalid value encountered in double_scalars\n",
      "  ret = ret.dtype.type(ret / rcount)\n",
      "C:\\Users\\muhammad.saif\\Anaconda3\\lib\\site-packages\\numpy\\core\\_methods.py:262: RuntimeWarning: Degrees of freedom <= 0 for slice\n",
      "  ret = _var(a, axis=axis, dtype=dtype, out=out, ddof=ddof,\n",
      "C:\\Users\\muhammad.saif\\Anaconda3\\lib\\site-packages\\numpy\\core\\_methods.py:222: RuntimeWarning: invalid value encountered in true_divide\n",
      "  arrmean = um.true_divide(arrmean, div, out=arrmean, casting='unsafe',\n",
      "C:\\Users\\muhammad.saif\\Anaconda3\\lib\\site-packages\\numpy\\core\\_methods.py:254: RuntimeWarning: invalid value encountered in double_scalars\n",
      "  ret = ret.dtype.type(ret / rcount)\n",
      "C:\\Users\\muhammad.saif\\Anaconda3\\lib\\site-packages\\numpy\\core\\fromnumeric.py:3440: RuntimeWarning: Mean of empty slice.\n",
      "  return _methods._mean(a, axis=axis, dtype=dtype,\n",
      "C:\\Users\\muhammad.saif\\Anaconda3\\lib\\site-packages\\numpy\\core\\_methods.py:189: RuntimeWarning: invalid value encountered in double_scalars\n",
      "  ret = ret.dtype.type(ret / rcount)\n",
      "C:\\Users\\muhammad.saif\\Anaconda3\\lib\\site-packages\\numpy\\core\\_methods.py:262: RuntimeWarning: Degrees of freedom <= 0 for slice\n",
      "  ret = _var(a, axis=axis, dtype=dtype, out=out, ddof=ddof,\n",
      "C:\\Users\\muhammad.saif\\Anaconda3\\lib\\site-packages\\numpy\\core\\_methods.py:222: RuntimeWarning: invalid value encountered in true_divide\n",
      "  arrmean = um.true_divide(arrmean, div, out=arrmean, casting='unsafe',\n",
      "C:\\Users\\muhammad.saif\\Anaconda3\\lib\\site-packages\\numpy\\core\\_methods.py:254: RuntimeWarning: invalid value encountered in double_scalars\n",
      "  ret = ret.dtype.type(ret / rcount)\n"
     ]
    }
   ],
   "source": []
  },
  {
   "cell_type": "code",
   "execution_count": 76,
   "id": "a8cbfb81-f808-4861-ac1a-7491c6fa4054",
   "metadata": {},
   "outputs": [
    {
     "data": {
      "text/plain": [
       "[nan, nan, nan, nan, nan]"
      ]
     },
     "execution_count": 76,
     "metadata": {},
     "output_type": "execute_result"
    }
   ],
   "source": [
    "mean_cumm_list"
   ]
  },
  {
   "cell_type": "code",
   "execution_count": null,
   "id": "a794b9c3-4884-4788-bbae-da7bc9742302",
   "metadata": {},
   "outputs": [],
   "source": []
  }
 ],
 "metadata": {
  "kernelspec": {
   "display_name": "Python 3 (ipykernel)",
   "language": "python",
   "name": "python3"
  },
  "language_info": {
   "codemirror_mode": {
    "name": "ipython",
    "version": 3
   },
   "file_extension": ".py",
   "mimetype": "text/x-python",
   "name": "python",
   "nbconvert_exporter": "python",
   "pygments_lexer": "ipython3",
   "version": "3.9.13"
  }
 },
 "nbformat": 4,
 "nbformat_minor": 5
}
