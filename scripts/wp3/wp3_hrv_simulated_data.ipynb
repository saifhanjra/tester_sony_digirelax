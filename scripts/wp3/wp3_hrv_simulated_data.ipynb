{
 "cells": [
  {
   "cell_type": "code",
   "execution_count": 1,
   "id": "179cc247-5bae-45c8-b509-727914181010",
   "metadata": {},
   "outputs": [],
   "source": [
    "\n"
   ]
  },
  {
   "cell_type": "code",
   "execution_count": 6,
   "id": "0a7a4b8a-1b03-46f5-97b6-89a2f5dd6ad6",
   "metadata": {},
   "outputs": [],
   "source": [
    "# system imports\n",
    "import os\n",
    "import sys\n",
    "\n",
    "# data science\n",
    "import pandas as pd\n",
    "import numpy as np\n",
    "import matplotlib.pyplot as plt\n",
    "from matplotlib.patches import Ellipse\n",
    "import seaborn as sns\n",
    "\n",
    "# signal processing\n",
    "from scipy import signal\n",
    "from scipy.ndimage import label\n",
    "from scipy.stats import zscore\n",
    "from scipy.interpolate import interp1d\n",
    "from scipy.integrate import trapz\n",
    "\n",
    "\n",
    "# misc\n",
    "import warnings"
   ]
  },
  {
   "cell_type": "code",
   "execution_count": 7,
   "id": "85d22177-dec6-4a55-80a3-6d3d927587ed",
   "metadata": {},
   "outputs": [],
   "source": [
    "# style settings\n",
    "sns.set(style='whitegrid', rc={'axes.facecolor': '#EFF2F7'})\n",
    "\n",
    "# sample frequency for ECG sensor\n",
    "settings = {}\n",
    "settings['fs'] = 500"
   ]
  },
  {
   "cell_type": "code",
   "execution_count": 8,
   "id": "6916f5ce-b3ad-4152-b8e5-c765d93f2465",
   "metadata": {},
   "outputs": [],
   "source": [
    "# data recorded with the ECG sensor\n",
    "df = pd.read_csv(\"/home/muhammad/Desktop/Datasets/ecg_hrv_tester_dataset/ecg.csv\", sep=\";\", index_col=\"ms\")"
   ]
  },
  {
   "cell_type": "code",
   "execution_count": 9,
   "id": "d962fe40-05c0-45e5-b5e7-bafa236834bd",
   "metadata": {},
   "outputs": [
    {
     "data": {
      "text/html": [
       "<div>\n",
       "<style scoped>\n",
       "    .dataframe tbody tr th:only-of-type {\n",
       "        vertical-align: middle;\n",
       "    }\n",
       "\n",
       "    .dataframe tbody tr th {\n",
       "        vertical-align: top;\n",
       "    }\n",
       "\n",
       "    .dataframe thead th {\n",
       "        text-align: right;\n",
       "    }\n",
       "</style>\n",
       "<table border=\"1\" class=\"dataframe\">\n",
       "  <thead>\n",
       "    <tr style=\"text-align: right;\">\n",
       "      <th></th>\n",
       "      <th>heartrate</th>\n",
       "    </tr>\n",
       "    <tr>\n",
       "      <th>ms</th>\n",
       "      <th></th>\n",
       "    </tr>\n",
       "  </thead>\n",
       "  <tbody>\n",
       "    <tr>\n",
       "      <th>0</th>\n",
       "      <td>504</td>\n",
       "    </tr>\n",
       "    <tr>\n",
       "      <th>2</th>\n",
       "      <td>504</td>\n",
       "    </tr>\n",
       "    <tr>\n",
       "      <th>4</th>\n",
       "      <td>504</td>\n",
       "    </tr>\n",
       "    <tr>\n",
       "      <th>6</th>\n",
       "      <td>504</td>\n",
       "    </tr>\n",
       "    <tr>\n",
       "      <th>8</th>\n",
       "      <td>506</td>\n",
       "    </tr>\n",
       "    <tr>\n",
       "      <th>...</th>\n",
       "      <td>...</td>\n",
       "    </tr>\n",
       "    <tr>\n",
       "      <th>299992</th>\n",
       "      <td>647</td>\n",
       "    </tr>\n",
       "    <tr>\n",
       "      <th>299994</th>\n",
       "      <td>624</td>\n",
       "    </tr>\n",
       "    <tr>\n",
       "      <th>299996</th>\n",
       "      <td>592</td>\n",
       "    </tr>\n",
       "    <tr>\n",
       "      <th>299998</th>\n",
       "      <td>562</td>\n",
       "    </tr>\n",
       "    <tr>\n",
       "      <th>300000</th>\n",
       "      <td>530</td>\n",
       "    </tr>\n",
       "  </tbody>\n",
       "</table>\n",
       "<p>150001 rows × 1 columns</p>\n",
       "</div>"
      ],
      "text/plain": [
       "        heartrate\n",
       "ms               \n",
       "0             504\n",
       "2             504\n",
       "4             504\n",
       "6             504\n",
       "8             506\n",
       "...           ...\n",
       "299992        647\n",
       "299994        624\n",
       "299996        592\n",
       "299998        562\n",
       "300000        530\n",
       "\n",
       "[150001 rows x 1 columns]"
      ]
     },
     "execution_count": 9,
     "metadata": {},
     "output_type": "execute_result"
    }
   ],
   "source": [
    "df"
   ]
  },
  {
   "cell_type": "code",
   "execution_count": 10,
   "id": "ab50dbba-d5f6-45ee-9dc9-b260191e2841",
   "metadata": {},
   "outputs": [
    {
     "data": {
      "text/plain": [
       "<Figure size 2000x700 with 0 Axes>"
      ]
     },
     "execution_count": 10,
     "metadata": {},
     "output_type": "execute_result"
    },
    {
     "data": {
      "text/plain": [
       "<Figure size 2000x700 with 0 Axes>"
      ]
     },
     "metadata": {},
     "output_type": "display_data"
    }
   ],
   "source": [
    "plt.figure(figsize=(20, 7))"
   ]
  },
  {
   "cell_type": "code",
   "execution_count": 11,
   "id": "248437f9-415e-4d34-81d3-dfcf53e1d1a4",
   "metadata": {},
   "outputs": [],
   "source": [
    "start = 0\n",
    "stop = 5000"
   ]
  },
  {
   "cell_type": "code",
   "execution_count": 12,
   "id": "65396c01-9530-49bc-b280-64e4296b2b8d",
   "metadata": {},
   "outputs": [],
   "source": [
    "duration = (stop-start) / settings['fs']"
   ]
  },
  {
   "cell_type": "code",
   "execution_count": 13,
   "id": "7a702f61-78db-4251-abc0-7df0c6a709db",
   "metadata": {},
   "outputs": [
    {
     "data": {
      "text/plain": [
       "10.0"
      ]
     },
     "execution_count": 13,
     "metadata": {},
     "output_type": "execute_result"
    }
   ],
   "source": [
    "duration"
   ]
  },
  {
   "cell_type": "code",
   "execution_count": 14,
   "id": "7f599e0e-a603-4e84-a2f8-d1d3fb19dc83",
   "metadata": {},
   "outputs": [
    {
     "data": {
      "text/plain": [
       "Text(0.5, 1.0, 'ECG signal, slice of 10.0 seconds')"
      ]
     },
     "execution_count": 14,
     "metadata": {},
     "output_type": "execute_result"
    },
    {
     "data": {
      "image/png": "[encoded data removed]",
      "text/plain": [
       "<Figure size 640x480 with 1 Axes>"
      ]
     },
     "metadata": {},
     "output_type": "display_data"
    }
   ],
   "source": [
    "plt.title(\"ECG signal, slice of %.1f seconds\" % duration)"
   ]
  },
  {
   "cell_type": "code",
   "execution_count": null,
   "id": "4a7840f1-a509-4800-8838-98d957273565",
   "metadata": {},
   "outputs": [],
   "source": []
  }
 ],
 "metadata": {
  "kernelspec": {
   "display_name": "Python 3 (ipykernel)",
   "language": "python",
   "name": "python3"
  },
  "language_info": {
   "codemirror_mode": {
    "name": "ipython",
    "version": 3
   },
   "file_extension": ".py",
   "mimetype": "text/x-python",
   "name": "python",
   "nbconvert_exporter": "python",
   "pygments_lexer": "ipython3",
   "version": "3.9.16"
  }
 },
 "nbformat": 4,
 "nbformat_minor": 5
}
