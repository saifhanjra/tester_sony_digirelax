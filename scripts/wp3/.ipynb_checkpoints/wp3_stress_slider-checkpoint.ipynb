{
 "cells": [
  {
   "cell_type": "code",
   "execution_count": 7,
   "id": "46f85ce2-4fec-4d58-abe8-372483e9f913",
   "metadata": {},
   "outputs": [],
   "source": [
    "import pandas as pd\n",
    "import pytz\n",
    "import datetime as dt\n",
    "import math\n",
    "import seaborn as sns\n",
    "import matplotlib as mpl\n",
    "#mpl.rcParams['path.simplify'] = False\n",
    "import matplotlib.pyplot as plt\n",
    "import numpy as np\n",
    "import os\n",
    "import glob"
   ]
  },
  {
   "cell_type": "code",
   "execution_count": 8,
   "id": "88e8979c-048b-4c51-a157-d34f43bd2b6a",
   "metadata": {},
   "outputs": [],
   "source": [
    "def read_manipulate_psychopy(psychopy_path, cols_insterest):\n",
    "    \n",
    "    psychopy_df = pd.read_csv(psychopy_path)\n",
    "    #col_list = [\"stress_slider.response\", \"SAM_Number_e\", \"SAM_Number_a\"]\n",
    "    #col_list = [col for col in psychopy_df.columns if col.endswith('_ts')]\n",
    "    #col_list.insert(0, \"Reference_time\")\n",
    "    psychopy_df_selected = psychopy_df[cols_insterest]\n",
    "    \n",
    "    return psychopy_df_selected\n",
    "\n",
    "#---------\n",
    "def get_non_nan_values_cols(p_df, col_name):\n",
    "    \n",
    "    slic_ind=p_df[col_name].isnull()\n",
    "    list_ne=slic_ind.tolist()\n",
    "    false_indices = [i for i in range(len(list_ne)) if not list_ne[i]]\n",
    "    \n",
    "    list_col_interest=p_df[col_name].to_list()\n",
    "    \n",
    "    non_values_list = []\n",
    "    \n",
    "    for false_ind in false_indices:\n",
    "        non_val = list_col_interest[false_ind]\n",
    "        non_values_list.append(non_val)\n",
    "    \n",
    "    return non_values_list\n"
   ]
  },
  {
   "cell_type": "code",
   "execution_count": 9,
   "id": "9f4458ec-5b3c-4578-b5d5-778f5dcfd550",
   "metadata": {},
   "outputs": [],
   "source": [
    "data_dir_path = \"/home/muhammad/Desktop/Datasets/data_sony_digiRelax/wp3\"\n",
    "#data_dir_path = \"D:/Datasets/data_sony_digiRelax/study\"\n",
    "sub_dirs=next(os.walk(data_dir_path))[1]"
   ]
  },
  {
   "cell_type": "code",
   "execution_count": 10,
   "id": "ec36655b-dd41-4fc0-bb15-95cb28c3b7b9",
   "metadata": {},
   "outputs": [
    {
     "data": {
      "text/plain": [
       "['VP020_221123',\n",
       " 'VP009_101123',\n",
       " 'VP019_201123',\n",
       " 'VP014_151123',\n",
       " 'VP006_091123',\n",
       " 'VP013_151123',\n",
       " 'VP018_201123',\n",
       " 'VP021_221123',\n",
       " 'VP010_131123',\n",
       " 'VP007_091123',\n",
       " 'VP015_161123',\n",
       " 'VP011_131123',\n",
       " 'VP016_161123',\n",
       " 'VP004_081123',\n",
       " 'VP012_141123',\n",
       " 'VP022_231123',\n",
       " 'VP005_081123',\n",
       " 'VP008_101123',\n",
       " 'VP017_171123']"
      ]
     },
     "execution_count": 10,
     "metadata": {},
     "output_type": "execute_result"
    }
   ],
   "source": [
    "sub_dirs"
   ]
  },
  {
   "cell_type": "code",
   "execution_count": 11,
   "id": "7d434845-3957-4905-b34a-1484bd6690ba",
   "metadata": {},
   "outputs": [],
   "source": [
    "dest_path =\"/home/muhammad/Desktop/repos_ixp/tester_sony_digirelax/scripts/wp3/results_cols\"\n",
    "#dest_path = \"D:/Datasets/analysis_digirelax\"\n",
    "designated_folder = \"extracted_info\"\n",
    "comp_dest_path = os.path.join(dest_path, designated_folder)\n",
    "\n",
    "isexist = os.path.exists(comp_dest_path)\n",
    "\n",
    "if not isexist:\n",
    "    os.makedirs(comp_dest_path)\n",
    "    print(\"The new directory is created\")\n"
   ]
  },
  {
   "cell_type": "code",
   "execution_count": 12,
   "id": "bfb4af34-c872-4b87-a651-720c75354f14",
   "metadata": {},
   "outputs": [],
   "source": [
    "psychopy_file_path = \"/home/muhammad/Desktop/Datasets/data_sony_digiRelax/wp3/VP007_091123/Psychopy_data/VP007_091123_DigiRelax_Experiment_2023-11-09_14h19.56.411.csv\"\n",
    "cols_list = [\"stress_slider.response\", \"SAM_Number_e\", \"SAM_Number_a\"]"
   ]
  },
  {
   "cell_type": "code",
   "execution_count": 14,
   "id": "473b5c99-1278-41b7-a207-553873bbe136",
   "metadata": {},
   "outputs": [
    {
     "name": "stdout",
     "output_type": "stream",
     "text": [
      "VP020_221123_DigiRelax_Experiment_2023-11-22_09h48.04.766\n",
      "VP009_101123_DigiRelax_Experiment_2023-11-10_14h16.47.223\n",
      "VP019_201123_DigiRelax_Experiment_2023-11-20_14h48.37.367\n",
      "VP014_151123_DigiRelax_Experiment_2023-11-15_14h23.06.117\n",
      "VP006_091123_DigiRelax_Experiment_2023-11-09_10h17.40.415\n",
      "VP013_151123_DigiRelax_Experiment_2023-11-15_09h52.50.734\n",
      "VP018_201123_DigiRelax_Experiment_2023-11-20_09h51.59.612\n",
      "VP021_221123_DigiRelax_Experiment_2023-11-22_14h43.57.344\n",
      "VP010_131123_DigiRelax_Experiment_2023-11-13_09h54.08.913\n",
      "VP007_091123_DigiRelax_Experiment_2023-11-09_14h19.56.411\n",
      "VP015_161123_DigiRelax_Experiment_2023-11-16_09h47.53.124\n",
      "VP011_131123_DigiRelax_Experiment_2023-11-13_14h42.51.249\n",
      "VP016_161123_DigiRelax_Experiment_2023-11-16_14h46.57.355\n",
      "VP004_081123_DigiRelax_Experiment_2023-11-08_10h28.36.317\n",
      "VP012_141123_DigiRelax_Experiment_2023-11-14_09h47.48.508\n",
      "VP022_231123_DigiRelax_Experiment_2023-11-23_09h47.27.026\n",
      "VP005_081123_DigiRelax_Experiment_2023-11-08_14h17.35.226\n",
      "VP008_101123_DigiRelax_Experiment_2023-11-10_10h24.14.323\n",
      "VP017_171123_DigiRelax_Experiment_2023-11-17_14h43.13.415\n"
     ]
    }
   ],
   "source": [
    "extracted_info_dict={}\n",
    "\n",
    "extracted_info_dict[\"response_0\"]= []\n",
    "extracted_info_dict[\"response_1\"]= []\n",
    "extracted_info_dict[\"response_2\"]= []\n",
    "extracted_info_dict[\"response_3\"]= []\n",
    "\n",
    "extracted_info_dict[\"SAM_Number_a_0\"]= []\n",
    "extracted_info_dict[\"SAM_Number_a_1\"]= []\n",
    "extracted_info_dict[\"SAM_Number_a_2\"]= []\n",
    "extracted_info_dict[\"SAM_Number_a_3\"]= []\n",
    "\n",
    "extracted_info_dict[\"SAM_Number_e_0\"]= []\n",
    "extracted_info_dict[\"SAM_Number_e_1\"]= []\n",
    "extracted_info_dict[\"SAM_Number_e_2\"]= []\n",
    "extracted_info_dict[\"SAM_Number_e_3\"]= []\n",
    "\n",
    "extracted_info_dict[\"file_name\"]= []\n",
    "\n",
    "\n",
    "for sub_dir in sub_dirs:\n",
    "    \n",
    "    sub_dir_path= os.path.join(data_dir_path, sub_dir)\n",
    "    psychopy_file_path = os.path.join(sub_dir_path, \"Psychopy_data\")\n",
    "    psychopy_file_path = glob.glob(psychopy_file_path+ \"/*.csv\")[0]\n",
    "    \n",
    "    dir_path, file_name=os.path.split(psychopy_file_path)\n",
    "    extracted_info_dict[\"file_name\"].append(file_name)\n",
    "    sub_id=file_name[:-4]\n",
    "    print(sub_id)\n",
    "    \n",
    "    \n",
    "    psychopy_df = read_manipulate_psychopy(psychopy_file_path, cols_list)\n",
    "    \n",
    "    \n",
    "    \n",
    "    \n",
    "    non_nan_values_response = get_non_nan_values_cols(psychopy_df, \"stress_slider.response\")\n",
    "    response_0 = non_nan_values_response[0]\n",
    "    extracted_info_dict[\"response_0\"].append(response_0)\n",
    "    \n",
    "    response_1 = non_nan_values_response[1]\n",
    "    extracted_info_dict[\"response_1\"].append(response_1)\n",
    "    response_2 = non_nan_values_response[2]\n",
    "    extracted_info_dict[\"response_2\"].append(response_2)\n",
    "    response_3 = non_nan_values_response[3]\n",
    "    extracted_info_dict[\"response_3\"].append(response_3)\n",
    "    \n",
    "    non_nan_values_sam_a= get_non_nan_values_cols(psychopy_df, \"SAM_Number_a\")\n",
    "    sam_a_0 = non_nan_values_sam_a[0]\n",
    "    sam_a_1 = non_nan_values_sam_a[1]\n",
    "    sam_a_2 = non_nan_values_sam_a[2]\n",
    "    sam_a_3 = non_nan_values_sam_a[3]\n",
    "    \n",
    "    \n",
    "    \n",
    "    non_nan_values_sam_e= get_non_nan_values_cols(psychopy_df, \"SAM_Number_e\")\n",
    "    sam_e_0 = non_nan_values_sam_e[0]\n",
    "    sam_e_1 = non_nan_values_sam_e[1]\n",
    "    sam_e_2 = non_nan_values_sam_e[2]\n",
    "    sam_e_3 = non_nan_values_sam_e[3]\n",
    "    \n",
    "    \n",
    "    \n",
    "    #for col in cols_list:\n",
    "     #   non_values_list = get_non_nan_values_cols(psychopy_df, col)\n",
    "     #   extracted_info_dict[col]=non_values_list\n",
    "    \n",
    "    #file_name_new = 'ext_info_\" + file_name\n",
    "    \n",
    "    #dest_path_csv = os.path.join(comp_dest_path,file_name)\n",
    "    \n",
    "    #df_export = pd.DataFrame.from_dict(extracted_info_dict)\n",
    "    #df_export.to_csv(dest_path_csv)\n",
    "    \n",
    "    \n",
    "    \n",
    "    "
   ]
  },
  {
   "cell_type": "code",
   "execution_count": 15,
   "id": "8e9250a8-175f-454e-bc4b-e8501f3852b1",
   "metadata": {},
   "outputs": [
    {
     "data": {
      "text/plain": [
       "{'response_0': [],\n",
       " 'response_1': [],\n",
       " 'response_2': [],\n",
       " 'response_3': [],\n",
       " 'SAM_Number_a_0': [],\n",
       " 'SAM_Number_a_1': [],\n",
       " 'SAM_Number_a_2': [],\n",
       " 'SAM_Number_a_3': [],\n",
       " 'SAM_Number_e_0': [],\n",
       " 'SAM_Number_e_1': [],\n",
       " 'SAM_Number_e_2': [],\n",
       " 'SAM_Number_e_3': [],\n",
       " 'file_name': ['VP020_221123_DigiRelax_Experiment_2023-11-22_09h48.04.766.csv',\n",
       "  'VP009_101123_DigiRelax_Experiment_2023-11-10_14h16.47.223.csv',\n",
       "  'VP019_201123_DigiRelax_Experiment_2023-11-20_14h48.37.367.csv',\n",
       "  'VP014_151123_DigiRelax_Experiment_2023-11-15_14h23.06.117.csv',\n",
       "  'VP006_091123_DigiRelax_Experiment_2023-11-09_10h17.40.415.csv',\n",
       "  'VP013_151123_DigiRelax_Experiment_2023-11-15_09h52.50.734.csv',\n",
       "  'VP018_201123_DigiRelax_Experiment_2023-11-20_09h51.59.612.csv',\n",
       "  'VP021_221123_DigiRelax_Experiment_2023-11-22_14h43.57.344.csv',\n",
       "  'VP010_131123_DigiRelax_Experiment_2023-11-13_09h54.08.913.csv',\n",
       "  'VP007_091123_DigiRelax_Experiment_2023-11-09_14h19.56.411.csv',\n",
       "  'VP015_161123_DigiRelax_Experiment_2023-11-16_09h47.53.124.csv',\n",
       "  'VP011_131123_DigiRelax_Experiment_2023-11-13_14h42.51.249.csv',\n",
       "  'VP016_161123_DigiRelax_Experiment_2023-11-16_14h46.57.355.csv',\n",
       "  'VP004_081123_DigiRelax_Experiment_2023-11-08_10h28.36.317.csv',\n",
       "  'VP012_141123_DigiRelax_Experiment_2023-11-14_09h47.48.508.csv',\n",
       "  'VP022_231123_DigiRelax_Experiment_2023-11-23_09h47.27.026.csv',\n",
       "  'VP005_081123_DigiRelax_Experiment_2023-11-08_14h17.35.226.csv',\n",
       "  'VP008_101123_DigiRelax_Experiment_2023-11-10_10h24.14.323.csv',\n",
       "  'VP017_171123_DigiRelax_Experiment_2023-11-17_14h43.13.415.csv']}"
      ]
     },
     "execution_count": 15,
     "metadata": {},
     "output_type": "execute_result"
    }
   ],
   "source": [
    "extracted_info_dict"
   ]
  },
  {
   "cell_type": "code",
   "execution_count": 12,
   "id": "695cf419-f442-4863-814c-276467628867",
   "metadata": {},
   "outputs": [],
   "source": []
  },
  {
   "cell_type": "code",
   "execution_count": null,
   "id": "b16dfd1c-97ed-4202-b326-a18e60123ae7",
   "metadata": {},
   "outputs": [],
   "source": []
  },
  {
   "cell_type": "code",
   "execution_count": null,
   "id": "657bd861-1672-4887-a541-cc53eb67e42e",
   "metadata": {},
   "outputs": [],
   "source": []
  },
  {
   "cell_type": "code",
   "execution_count": null,
   "id": "df9fa86a-8a7e-4370-91cf-2f216c00e064",
   "metadata": {},
   "outputs": [],
   "source": []
  },
  {
   "cell_type": "code",
   "execution_count": null,
   "id": "9316349c-386c-412c-9bce-7fed8c481c32",
   "metadata": {},
   "outputs": [],
   "source": []
  },
  {
   "cell_type": "code",
   "execution_count": 23,
   "id": "b1b64ca2-c4cf-4dea-ad9e-50c6c26acaf1",
   "metadata": {},
   "outputs": [],
   "source": []
  },
  {
   "cell_type": "code",
   "execution_count": 31,
   "id": "64520be4-2228-486d-ba77-9861784cc44e",
   "metadata": {},
   "outputs": [],
   "source": []
  },
  {
   "cell_type": "code",
   "execution_count": 32,
   "id": "41acb8e9-caad-43f1-af2b-5f008a641650",
   "metadata": {},
   "outputs": [],
   "source": []
  },
  {
   "cell_type": "code",
   "execution_count": null,
   "id": "2a1079c6-7903-403d-bce7-f23b43fa02f9",
   "metadata": {},
   "outputs": [],
   "source": []
  },
  {
   "cell_type": "code",
   "execution_count": 35,
   "id": "f99b9697-3f14-49a3-a217-acfbd9fdc2a9",
   "metadata": {},
   "outputs": [],
   "source": [
    "\n",
    "    \n",
    "    "
   ]
  },
  {
   "cell_type": "code",
   "execution_count": null,
   "id": "e06df6d5-2f1b-47c3-8b4e-9c184e9e177e",
   "metadata": {},
   "outputs": [],
   "source": []
  }
 ],
 "metadata": {
  "kernelspec": {
   "display_name": "Python 3 (ipykernel)",
   "language": "python",
   "name": "python3"
  },
  "language_info": {
   "codemirror_mode": {
    "name": "ipython",
    "version": 3
   },
   "file_extension": ".py",
   "mimetype": "text/x-python",
   "name": "python",
   "nbconvert_exporter": "python",
   "pygments_lexer": "ipython3",
   "version": "3.9.16"
  }
 },
 "nbformat": 4,
 "nbformat_minor": 5
}
