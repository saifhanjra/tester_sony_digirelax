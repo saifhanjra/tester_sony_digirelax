{
 "cells": [
  {
   "cell_type": "code",
   "execution_count": 434,
   "id": "1c2cf735-7280-436b-b4d6-cec3dd7acc5e",
   "metadata": {},
   "outputs": [],
   "source": [
    "import numpy as np\n",
    "import pandas as pd\n",
    "import datetime\n",
    "from scipy import signal\n",
    "\n",
    "import matplotlib.pyplot as plt"
   ]
  },
  {
   "cell_type": "markdown",
   "id": "d8d7b246-36e0-4439-b926-2fc3e930b8e6",
   "metadata": {},
   "source": [
    "# read, extract, resampled, sliced"
   ]
  },
  {
   "cell_type": "code",
   "execution_count": 435,
   "id": "c1ee388a-faad-4360-a42a-66bae7ee2e00",
   "metadata": {},
   "outputs": [],
   "source": [
    "def standardize_sensor_raw_info(path_csv_sensor, data_col_names):\n",
    "    \n",
    "    sensor_df = pd.read_csv(path_csv_sensor, names=data_col_names)\n",
    "    unix_time = sensor_df.iloc[0,0]\n",
    "    \n",
    "    sampling_frequency = sensor_df.iloc[1,0]\n",
    "    \n",
    "    sensor_df_sliced = sensor_df.iloc[2 :, :]\n",
    "    \n",
    "    sensor_df_sliced_copy = sensor_df_sliced.copy()\n",
    "    \n",
    "    sensor_df_sliced_copy = sensor_df_sliced_copy.reset_index(drop=True)\n",
    "    \n",
    "    sampling_time = 1/sampling_frequency\n",
    "    \n",
    "    timestamps = unix_time + (sensor_df_sliced_copy.index)*sampling_time\n",
    "    \n",
    "    sensor_df_sliced_copy['timestamps'] = timestamps\n",
    "    \n",
    "    sensor_df_sliced_copy['starting_timestamp'] = ''\n",
    "    \n",
    "    sensor_df_sliced_copy['starting_timestamp'] = [unix_time]+['']*(len(sensor_df_sliced_copy)-1)\n",
    "    \n",
    "    end_time = timestamps[-1]\n",
    "    sensor_df_sliced_copy['ending_timestamp'] = ''\n",
    "    sensor_df_sliced_copy['ending_timestamp'] = [end_time]+['']*(len(sensor_df_sliced_copy)-1)\n",
    "    \n",
    "    \n",
    "    sensor_df_sliced_copy['sampling_frequency'] = ''\n",
    "    \n",
    "    sensor_df_sliced_copy['sampling_frequency'] =[sampling_frequency]+['']*(len(sensor_df_sliced_copy)-1)\n",
    "    \n",
    "    return sensor_df_sliced_copy\n",
    "    \n",
    "    "
   ]
  },
  {
   "cell_type": "code",
   "execution_count": 436,
   "id": "58542527-3591-4345-864c-62c839ae22ab",
   "metadata": {},
   "outputs": [],
   "source": [
    "def resample_sensor_data(original_standardize_df,  sensor_cols, new_sampling_frequency):\n",
    "    \n",
    "    \n",
    "    orignal_sampling_frequecy = original_standardize_df[\"sampling_frequency\"][0]\n",
    "    \n",
    "    multiplier = new_sampling_frequency/orignal_sampling_frequecy\n",
    "    \n",
    "    total_new_samples = multiplier * len(original_standardize_df)\n",
    "    \n",
    "    new_df = pd.DataFrame()\n",
    "    \n",
    "    \n",
    "    for sensor_col in sensor_cols:\n",
    "        \n",
    "        print(sensor_col)\n",
    "        \n",
    "        signal_array=original_standardize_df[sensor_col].values\n",
    "        \n",
    "        signal_array_resampled = signal.resample(signal_array, int(total_new_samples))\n",
    "        \n",
    "        \n",
    "        new_df[sensor_col] = signal_array_resampled\n",
    "        \n",
    "        \n",
    "    new_sampling_time = 1/new_sampling_frequency\n",
    "    \n",
    "    starting_time = original_standardize_df[\"starting_timestamp\"][0]\n",
    "    \n",
    "    timestamps = starting_time + (new_df.index)*new_sampling_time\n",
    "    \n",
    "    \n",
    "    \n",
    "    new_df['timestamps'] = timestamps\n",
    "    \n",
    "    \n",
    "    new_df['starting_timestamp'] = ''\n",
    "    new_df['starting_timestamp'] = [starting_time]+['']*(len(new_df)-1)\n",
    "    \n",
    "    end_time = timestamps[-1]\n",
    "    new_df['ending_timestamp'] = ''\n",
    "    new_df['ending_timestamp'] = [end_time]+['']*(len(new_df)-1)\n",
    "    \n",
    "    new_df['sampling_frequency'] = ''\n",
    "    new_df['sampling_frequency'] =[new_sampling_frequency]+['']*(len(new_df)-1)\n",
    "    \n",
    "    \n",
    "    return new_df\n",
    "        "
   ]
  },
  {
   "cell_type": "code",
   "execution_count": 437,
   "id": "3231c471-5c86-455a-8ee0-fcccb69a7aad",
   "metadata": {},
   "outputs": [],
   "source": [
    "def magnitude_acc_sensor(std_acc_df):\n",
    "    \n",
    "    magnitude= np.sqrt(std_acc_df.iloc[:,0]**2 + std_acc_df.iloc[:,1]**2 + std_acc_df.iloc[:,2]**2)\n",
    "    std_acc_df['magnitude'] = magnitude\n",
    "    return std_acc_df"
   ]
  },
  {
   "cell_type": "code",
   "execution_count": 438,
   "id": "88ad4f1f-abbc-47b8-b0f3-fade7b0b0acb",
   "metadata": {},
   "outputs": [],
   "source": [
    "def normalize_signal (std_df, signal_col):\n",
    "    \n",
    "    signal = std_df[signal_col]\n",
    "    \n",
    "    mean_signal = np.mean(signal)\n",
    "    \n",
    "    mean_sub = signal - mean_signal\n",
    "    \n",
    "    scaled_data =  mean_sub/np.max(np.abs(mean_sub))\n",
    "    \n",
    "    std_df[\"mean_norm\"] = scaled_data\n",
    "    \n",
    "    return std_df\n",
    "    \n"
   ]
  },
  {
   "cell_type": "markdown",
   "id": "4de9d24f-6526-414b-b10f-18be36982824",
   "metadata": {},
   "source": [
    "# Testing on the data "
   ]
  },
  {
   "cell_type": "markdown",
   "id": "e7fea988-e264-4ae6-a088-66d6a790d5da",
   "metadata": {},
   "source": [
    "### Accelorometer data"
   ]
  },
  {
   "cell_type": "code",
   "execution_count": 439,
   "id": "991823fd-2ce8-49a8-882f-47bea2695961",
   "metadata": {},
   "outputs": [],
   "source": [
    "acc_sensor_path =\"C:/Users/muhammad.saif/Desktop/repos_ixp/tester_sony_digirelax/datasets/Empatica/ACC.csv\"\n",
    "data_col_names = ['x', 'y', 'z']"
   ]
  },
  {
   "cell_type": "code",
   "execution_count": 440,
   "id": "195f72e5-4e9e-4cc7-b26d-6d55e5468363",
   "metadata": {},
   "outputs": [],
   "source": [
    "standardize_acc_df=standardize_sensor_raw_info (acc_sensor_path, data_col_names)\n",
    "standardize_acc_df= magnitude_acc_sensor(standardize_acc_df)\n",
    "\n",
    "standardize_acc_df = normalize_signal(standardize_acc_df, 'magnitude')"
   ]
  },
  {
   "cell_type": "code",
   "execution_count": 441,
   "id": "4e85b965-1b42-42a3-beb5-aa0c3b57bea5",
   "metadata": {},
   "outputs": [
    {
     "data": {
      "text/html": [
       "<div>\n",
       "<style scoped>\n",
       "    .dataframe tbody tr th:only-of-type {\n",
       "        vertical-align: middle;\n",
       "    }\n",
       "\n",
       "    .dataframe tbody tr th {\n",
       "        vertical-align: top;\n",
       "    }\n",
       "\n",
       "    .dataframe thead th {\n",
       "        text-align: right;\n",
       "    }\n",
       "</style>\n",
       "<table border=\"1\" class=\"dataframe\">\n",
       "  <thead>\n",
       "    <tr style=\"text-align: right;\">\n",
       "      <th></th>\n",
       "      <th>x</th>\n",
       "      <th>y</th>\n",
       "      <th>z</th>\n",
       "      <th>timestamps</th>\n",
       "      <th>starting_timestamp</th>\n",
       "      <th>ending_timestamp</th>\n",
       "      <th>sampling_frequency</th>\n",
       "      <th>magnitude</th>\n",
       "      <th>mean_norm</th>\n",
       "    </tr>\n",
       "  </thead>\n",
       "  <tbody>\n",
       "    <tr>\n",
       "      <th>0</th>\n",
       "      <td>24.0</td>\n",
       "      <td>-7.0</td>\n",
       "      <td>58.0</td>\n",
       "      <td>1.695387e+09</td>\n",
       "      <td>1695386909.0</td>\n",
       "      <td>1695390797.90625</td>\n",
       "      <td>32.0</td>\n",
       "      <td>63.158531</td>\n",
       "      <td>0.004212</td>\n",
       "    </tr>\n",
       "    <tr>\n",
       "      <th>1</th>\n",
       "      <td>24.0</td>\n",
       "      <td>-7.0</td>\n",
       "      <td>57.0</td>\n",
       "      <td>1.695387e+09</td>\n",
       "      <td></td>\n",
       "      <td></td>\n",
       "      <td></td>\n",
       "      <td>62.241465</td>\n",
       "      <td>-0.006782</td>\n",
       "    </tr>\n",
       "    <tr>\n",
       "      <th>2</th>\n",
       "      <td>24.0</td>\n",
       "      <td>-7.0</td>\n",
       "      <td>57.0</td>\n",
       "      <td>1.695387e+09</td>\n",
       "      <td></td>\n",
       "      <td></td>\n",
       "      <td></td>\n",
       "      <td>62.241465</td>\n",
       "      <td>-0.006782</td>\n",
       "    </tr>\n",
       "    <tr>\n",
       "      <th>3</th>\n",
       "      <td>24.0</td>\n",
       "      <td>-7.0</td>\n",
       "      <td>57.0</td>\n",
       "      <td>1.695387e+09</td>\n",
       "      <td></td>\n",
       "      <td></td>\n",
       "      <td></td>\n",
       "      <td>62.241465</td>\n",
       "      <td>-0.006782</td>\n",
       "    </tr>\n",
       "    <tr>\n",
       "      <th>4</th>\n",
       "      <td>24.0</td>\n",
       "      <td>-7.0</td>\n",
       "      <td>57.0</td>\n",
       "      <td>1.695387e+09</td>\n",
       "      <td></td>\n",
       "      <td></td>\n",
       "      <td></td>\n",
       "      <td>62.241465</td>\n",
       "      <td>-0.006782</td>\n",
       "    </tr>\n",
       "    <tr>\n",
       "      <th>...</th>\n",
       "      <td>...</td>\n",
       "      <td>...</td>\n",
       "      <td>...</td>\n",
       "      <td>...</td>\n",
       "      <td>...</td>\n",
       "      <td>...</td>\n",
       "      <td>...</td>\n",
       "      <td>...</td>\n",
       "      <td>...</td>\n",
       "    </tr>\n",
       "    <tr>\n",
       "      <th>124441</th>\n",
       "      <td>9.0</td>\n",
       "      <td>14.0</td>\n",
       "      <td>61.0</td>\n",
       "      <td>1.695391e+09</td>\n",
       "      <td></td>\n",
       "      <td></td>\n",
       "      <td></td>\n",
       "      <td>63.229740</td>\n",
       "      <td>0.005065</td>\n",
       "    </tr>\n",
       "    <tr>\n",
       "      <th>124442</th>\n",
       "      <td>9.0</td>\n",
       "      <td>14.0</td>\n",
       "      <td>61.0</td>\n",
       "      <td>1.695391e+09</td>\n",
       "      <td></td>\n",
       "      <td></td>\n",
       "      <td></td>\n",
       "      <td>63.229740</td>\n",
       "      <td>0.005065</td>\n",
       "    </tr>\n",
       "    <tr>\n",
       "      <th>124443</th>\n",
       "      <td>9.0</td>\n",
       "      <td>14.0</td>\n",
       "      <td>61.0</td>\n",
       "      <td>1.695391e+09</td>\n",
       "      <td></td>\n",
       "      <td></td>\n",
       "      <td></td>\n",
       "      <td>63.229740</td>\n",
       "      <td>0.005065</td>\n",
       "    </tr>\n",
       "    <tr>\n",
       "      <th>124444</th>\n",
       "      <td>9.0</td>\n",
       "      <td>15.0</td>\n",
       "      <td>61.0</td>\n",
       "      <td>1.695391e+09</td>\n",
       "      <td></td>\n",
       "      <td></td>\n",
       "      <td></td>\n",
       "      <td>63.458648</td>\n",
       "      <td>0.007810</td>\n",
       "    </tr>\n",
       "    <tr>\n",
       "      <th>124445</th>\n",
       "      <td>9.0</td>\n",
       "      <td>13.0</td>\n",
       "      <td>61.0</td>\n",
       "      <td>1.695391e+09</td>\n",
       "      <td></td>\n",
       "      <td></td>\n",
       "      <td></td>\n",
       "      <td>63.015871</td>\n",
       "      <td>0.002501</td>\n",
       "    </tr>\n",
       "  </tbody>\n",
       "</table>\n",
       "<p>124446 rows × 9 columns</p>\n",
       "</div>"
      ],
      "text/plain": [
       "           x     y     z    timestamps starting_timestamp  ending_timestamp  \\\n",
       "0       24.0  -7.0  58.0  1.695387e+09       1695386909.0  1695390797.90625   \n",
       "1       24.0  -7.0  57.0  1.695387e+09                                        \n",
       "2       24.0  -7.0  57.0  1.695387e+09                                        \n",
       "3       24.0  -7.0  57.0  1.695387e+09                                        \n",
       "4       24.0  -7.0  57.0  1.695387e+09                                        \n",
       "...      ...   ...   ...           ...                ...               ...   \n",
       "124441   9.0  14.0  61.0  1.695391e+09                                        \n",
       "124442   9.0  14.0  61.0  1.695391e+09                                        \n",
       "124443   9.0  14.0  61.0  1.695391e+09                                        \n",
       "124444   9.0  15.0  61.0  1.695391e+09                                        \n",
       "124445   9.0  13.0  61.0  1.695391e+09                                        \n",
       "\n",
       "       sampling_frequency  magnitude  mean_norm  \n",
       "0                    32.0  63.158531   0.004212  \n",
       "1                          62.241465  -0.006782  \n",
       "2                          62.241465  -0.006782  \n",
       "3                          62.241465  -0.006782  \n",
       "4                          62.241465  -0.006782  \n",
       "...                   ...        ...        ...  \n",
       "124441                     63.229740   0.005065  \n",
       "124442                     63.229740   0.005065  \n",
       "124443                     63.229740   0.005065  \n",
       "124444                     63.458648   0.007810  \n",
       "124445                     63.015871   0.002501  \n",
       "\n",
       "[124446 rows x 9 columns]"
      ]
     },
     "execution_count": 441,
     "metadata": {},
     "output_type": "execute_result"
    }
   ],
   "source": [
    "standardize_acc_df"
   ]
  },
  {
   "cell_type": "code",
   "execution_count": 442,
   "id": "4f309d04-be67-4558-ac64-93cd95cb28ab",
   "metadata": {},
   "outputs": [
    {
     "data": {
      "text/plain": [
       "[<matplotlib.lines.Line2D at 0x22662f33460>]"
      ]
     },
     "execution_count": 442,
     "metadata": {},
     "output_type": "execute_result"
    },
    {
     "data": {
      "image/png": "[encoded data removed]",
      "text/plain": [
       "<Figure size 640x480 with 1 Axes>"
      ]
     },
     "metadata": {},
     "output_type": "display_data"
    }
   ],
   "source": [
    "plt.plot(standardize_acc_df[\"timestamps\"],standardize_acc_df[\"mean_norm\"])"
   ]
  },
  {
   "cell_type": "markdown",
   "id": "457ebe64-7f3c-4144-814d-39e9fd8f20b8",
   "metadata": {},
   "source": [
    "### Eda Data"
   ]
  },
  {
   "cell_type": "code",
   "execution_count": 412,
   "id": "2bd9b5d3-b227-463d-a564-1d7d11a92a60",
   "metadata": {},
   "outputs": [],
   "source": [
    "eda_sensor_path =\"C:/Users/muhammad.saif/Desktop/repos_ixp/tester_sony_digirelax/datasets/Empatica/EDA.csv\"\n",
    "data_col_names = ['signal']"
   ]
  },
  {
   "cell_type": "code",
   "execution_count": 413,
   "id": "3f9240a3-ee2e-4592-8993-834ff3e11738",
   "metadata": {},
   "outputs": [
    {
     "data": {
      "text/plain": [
       "1695386909.0"
      ]
     },
     "execution_count": 413,
     "metadata": {},
     "output_type": "execute_result"
    }
   ],
   "source": [
    "eda_df_standardize=standardize_sensor_raw_info(eda_sensor_path, data_col_names)\n",
    "eda_df_standardize[\"starting_timestamp\"][0]"
   ]
  },
  {
   "cell_type": "code",
   "execution_count": 414,
   "id": "7bc63df3-74cb-422e-87f6-d432d06d8987",
   "metadata": {},
   "outputs": [
    {
     "data": {
      "text/plain": [
       "True"
      ]
     },
     "execution_count": 414,
     "metadata": {},
     "output_type": "execute_result"
    }
   ],
   "source": [
    "eda_df_standardize[\"starting_timestamp\"][0] == standardize_acc_df[\"starting_timestamp\"][0]"
   ]
  },
  {
   "cell_type": "code",
   "execution_count": 444,
   "id": "9d566302-4a7a-4ed5-b9bc-f38326e38a87",
   "metadata": {},
   "outputs": [
    {
     "name": "stdout",
     "output_type": "stream",
     "text": [
      "signal\n"
     ]
    }
   ],
   "source": [
    "resampled_standardized_eda_df = resample_sensor_data(eda_df_standardize,  [\"signal\"], 32)"
   ]
  },
  {
   "cell_type": "code",
   "execution_count": 445,
   "id": "cb80c908-fea0-4ec1-8a5a-73006daef8f9",
   "metadata": {},
   "outputs": [
    {
     "data": {
      "text/html": [
       "<div>\n",
       "<style scoped>\n",
       "    .dataframe tbody tr th:only-of-type {\n",
       "        vertical-align: middle;\n",
       "    }\n",
       "\n",
       "    .dataframe tbody tr th {\n",
       "        vertical-align: top;\n",
       "    }\n",
       "\n",
       "    .dataframe thead th {\n",
       "        text-align: right;\n",
       "    }\n",
       "</style>\n",
       "<table border=\"1\" class=\"dataframe\">\n",
       "  <thead>\n",
       "    <tr style=\"text-align: right;\">\n",
       "      <th></th>\n",
       "      <th>signal</th>\n",
       "      <th>timestamps</th>\n",
       "      <th>starting_timestamp</th>\n",
       "      <th>ending_timestamp</th>\n",
       "      <th>sampling_frequency</th>\n",
       "    </tr>\n",
       "  </thead>\n",
       "  <tbody>\n",
       "    <tr>\n",
       "      <th>0</th>\n",
       "      <td>1.637465e-15</td>\n",
       "      <td>1.695387e+09</td>\n",
       "      <td>1695386909.0</td>\n",
       "      <td>1695390796.96875</td>\n",
       "      <td>32</td>\n",
       "    </tr>\n",
       "    <tr>\n",
       "      <th>1</th>\n",
       "      <td>-6.030448e-01</td>\n",
       "      <td>1.695387e+09</td>\n",
       "      <td></td>\n",
       "      <td></td>\n",
       "      <td></td>\n",
       "    </tr>\n",
       "    <tr>\n",
       "      <th>2</th>\n",
       "      <td>-9.823771e-01</td>\n",
       "      <td>1.695387e+09</td>\n",
       "      <td></td>\n",
       "      <td></td>\n",
       "      <td></td>\n",
       "    </tr>\n",
       "    <tr>\n",
       "      <th>3</th>\n",
       "      <td>-1.144831e+00</td>\n",
       "      <td>1.695387e+09</td>\n",
       "      <td></td>\n",
       "      <td></td>\n",
       "      <td></td>\n",
       "    </tr>\n",
       "    <tr>\n",
       "      <th>4</th>\n",
       "      <td>-1.115277e+00</td>\n",
       "      <td>1.695387e+09</td>\n",
       "      <td></td>\n",
       "      <td></td>\n",
       "      <td></td>\n",
       "    </tr>\n",
       "    <tr>\n",
       "      <th>...</th>\n",
       "      <td>...</td>\n",
       "      <td>...</td>\n",
       "      <td>...</td>\n",
       "      <td>...</td>\n",
       "      <td>...</td>\n",
       "    </tr>\n",
       "    <tr>\n",
       "      <th>124411</th>\n",
       "      <td>5.314990e+00</td>\n",
       "      <td>1.695391e+09</td>\n",
       "      <td></td>\n",
       "      <td></td>\n",
       "      <td></td>\n",
       "    </tr>\n",
       "    <tr>\n",
       "      <th>124412</th>\n",
       "      <td>4.121475e+00</td>\n",
       "      <td>1.695391e+09</td>\n",
       "      <td></td>\n",
       "      <td></td>\n",
       "      <td></td>\n",
       "    </tr>\n",
       "    <tr>\n",
       "      <th>124413</th>\n",
       "      <td>2.929519e+00</td>\n",
       "      <td>1.695391e+09</td>\n",
       "      <td></td>\n",
       "      <td></td>\n",
       "      <td></td>\n",
       "    </tr>\n",
       "    <tr>\n",
       "      <th>124414</th>\n",
       "      <td>1.806666e+00</td>\n",
       "      <td>1.695391e+09</td>\n",
       "      <td></td>\n",
       "      <td></td>\n",
       "      <td></td>\n",
       "    </tr>\n",
       "    <tr>\n",
       "      <th>124415</th>\n",
       "      <td>8.139204e-01</td>\n",
       "      <td>1.695391e+09</td>\n",
       "      <td></td>\n",
       "      <td></td>\n",
       "      <td></td>\n",
       "    </tr>\n",
       "  </tbody>\n",
       "</table>\n",
       "<p>124416 rows × 5 columns</p>\n",
       "</div>"
      ],
      "text/plain": [
       "              signal    timestamps starting_timestamp  ending_timestamp  \\\n",
       "0       1.637465e-15  1.695387e+09       1695386909.0  1695390796.96875   \n",
       "1      -6.030448e-01  1.695387e+09                                        \n",
       "2      -9.823771e-01  1.695387e+09                                        \n",
       "3      -1.144831e+00  1.695387e+09                                        \n",
       "4      -1.115277e+00  1.695387e+09                                        \n",
       "...              ...           ...                ...               ...   \n",
       "124411  5.314990e+00  1.695391e+09                                        \n",
       "124412  4.121475e+00  1.695391e+09                                        \n",
       "124413  2.929519e+00  1.695391e+09                                        \n",
       "124414  1.806666e+00  1.695391e+09                                        \n",
       "124415  8.139204e-01  1.695391e+09                                        \n",
       "\n",
       "       sampling_frequency  \n",
       "0                      32  \n",
       "1                          \n",
       "2                          \n",
       "3                          \n",
       "4                          \n",
       "...                   ...  \n",
       "124411                     \n",
       "124412                     \n",
       "124413                     \n",
       "124414                     \n",
       "124415                     \n",
       "\n",
       "[124416 rows x 5 columns]"
      ]
     },
     "execution_count": 445,
     "metadata": {},
     "output_type": "execute_result"
    }
   ],
   "source": [
    "resampled_standardized_eda_df"
   ]
  },
  {
   "cell_type": "code",
   "execution_count": 446,
   "id": "a9b5f1cb-0ff7-481f-ad15-9bad73a7d6f8",
   "metadata": {},
   "outputs": [],
   "source": [
    "resampled_standardized_eda_df = normalize_signal (resampled_standardized_eda_df, \"signal\")"
   ]
  },
  {
   "cell_type": "code",
   "execution_count": 447,
   "id": "d14fcfe4-9b3a-4873-ac12-ee79cdea6c0e",
   "metadata": {},
   "outputs": [
    {
     "data": {
      "text/html": [
       "<div>\n",
       "<style scoped>\n",
       "    .dataframe tbody tr th:only-of-type {\n",
       "        vertical-align: middle;\n",
       "    }\n",
       "\n",
       "    .dataframe tbody tr th {\n",
       "        vertical-align: top;\n",
       "    }\n",
       "\n",
       "    .dataframe thead th {\n",
       "        text-align: right;\n",
       "    }\n",
       "</style>\n",
       "<table border=\"1\" class=\"dataframe\">\n",
       "  <thead>\n",
       "    <tr style=\"text-align: right;\">\n",
       "      <th></th>\n",
       "      <th>signal</th>\n",
       "      <th>timestamps</th>\n",
       "      <th>starting_timestamp</th>\n",
       "      <th>ending_timestamp</th>\n",
       "      <th>sampling_frequency</th>\n",
       "      <th>mean_norm</th>\n",
       "    </tr>\n",
       "  </thead>\n",
       "  <tbody>\n",
       "    <tr>\n",
       "      <th>0</th>\n",
       "      <td>1.637465e-15</td>\n",
       "      <td>1.695387e+09</td>\n",
       "      <td>1695386909.0</td>\n",
       "      <td>1695390796.96875</td>\n",
       "      <td>32</td>\n",
       "      <td>-0.329204</td>\n",
       "    </tr>\n",
       "    <tr>\n",
       "      <th>1</th>\n",
       "      <td>-6.030448e-01</td>\n",
       "      <td>1.695387e+09</td>\n",
       "      <td></td>\n",
       "      <td></td>\n",
       "      <td></td>\n",
       "      <td>-0.407053</td>\n",
       "    </tr>\n",
       "    <tr>\n",
       "      <th>2</th>\n",
       "      <td>-9.823771e-01</td>\n",
       "      <td>1.695387e+09</td>\n",
       "      <td></td>\n",
       "      <td></td>\n",
       "      <td></td>\n",
       "      <td>-0.456023</td>\n",
       "    </tr>\n",
       "    <tr>\n",
       "      <th>3</th>\n",
       "      <td>-1.144831e+00</td>\n",
       "      <td>1.695387e+09</td>\n",
       "      <td></td>\n",
       "      <td></td>\n",
       "      <td></td>\n",
       "      <td>-0.476994</td>\n",
       "    </tr>\n",
       "    <tr>\n",
       "      <th>4</th>\n",
       "      <td>-1.115277e+00</td>\n",
       "      <td>1.695387e+09</td>\n",
       "      <td></td>\n",
       "      <td></td>\n",
       "      <td></td>\n",
       "      <td>-0.473179</td>\n",
       "    </tr>\n",
       "    <tr>\n",
       "      <th>...</th>\n",
       "      <td>...</td>\n",
       "      <td>...</td>\n",
       "      <td>...</td>\n",
       "      <td>...</td>\n",
       "      <td>...</td>\n",
       "      <td>...</td>\n",
       "    </tr>\n",
       "    <tr>\n",
       "      <th>124411</th>\n",
       "      <td>5.314990e+00</td>\n",
       "      <td>1.695391e+09</td>\n",
       "      <td></td>\n",
       "      <td></td>\n",
       "      <td></td>\n",
       "      <td>0.356929</td>\n",
       "    </tr>\n",
       "    <tr>\n",
       "      <th>124412</th>\n",
       "      <td>4.121475e+00</td>\n",
       "      <td>1.695391e+09</td>\n",
       "      <td></td>\n",
       "      <td></td>\n",
       "      <td></td>\n",
       "      <td>0.202854</td>\n",
       "    </tr>\n",
       "    <tr>\n",
       "      <th>124413</th>\n",
       "      <td>2.929519e+00</td>\n",
       "      <td>1.695391e+09</td>\n",
       "      <td></td>\n",
       "      <td></td>\n",
       "      <td></td>\n",
       "      <td>0.048979</td>\n",
       "    </tr>\n",
       "    <tr>\n",
       "      <th>124414</th>\n",
       "      <td>1.806666e+00</td>\n",
       "      <td>1.695391e+09</td>\n",
       "      <td></td>\n",
       "      <td></td>\n",
       "      <td></td>\n",
       "      <td>-0.095974</td>\n",
       "    </tr>\n",
       "    <tr>\n",
       "      <th>124415</th>\n",
       "      <td>8.139204e-01</td>\n",
       "      <td>1.695391e+09</td>\n",
       "      <td></td>\n",
       "      <td></td>\n",
       "      <td></td>\n",
       "      <td>-0.224132</td>\n",
       "    </tr>\n",
       "  </tbody>\n",
       "</table>\n",
       "<p>124416 rows × 6 columns</p>\n",
       "</div>"
      ],
      "text/plain": [
       "              signal    timestamps starting_timestamp  ending_timestamp  \\\n",
       "0       1.637465e-15  1.695387e+09       1695386909.0  1695390796.96875   \n",
       "1      -6.030448e-01  1.695387e+09                                        \n",
       "2      -9.823771e-01  1.695387e+09                                        \n",
       "3      -1.144831e+00  1.695387e+09                                        \n",
       "4      -1.115277e+00  1.695387e+09                                        \n",
       "...              ...           ...                ...               ...   \n",
       "124411  5.314990e+00  1.695391e+09                                        \n",
       "124412  4.121475e+00  1.695391e+09                                        \n",
       "124413  2.929519e+00  1.695391e+09                                        \n",
       "124414  1.806666e+00  1.695391e+09                                        \n",
       "124415  8.139204e-01  1.695391e+09                                        \n",
       "\n",
       "       sampling_frequency  mean_norm  \n",
       "0                      32  -0.329204  \n",
       "1                          -0.407053  \n",
       "2                          -0.456023  \n",
       "3                          -0.476994  \n",
       "4                          -0.473179  \n",
       "...                   ...        ...  \n",
       "124411                      0.356929  \n",
       "124412                      0.202854  \n",
       "124413                      0.048979  \n",
       "124414                     -0.095974  \n",
       "124415                     -0.224132  \n",
       "\n",
       "[124416 rows x 6 columns]"
      ]
     },
     "execution_count": 447,
     "metadata": {},
     "output_type": "execute_result"
    }
   ],
   "source": [
    "resampled_standardized_eda_df\n"
   ]
  },
  {
   "cell_type": "code",
   "execution_count": 448,
   "id": "0a5b5043-2d40-46f8-ac7f-0160ef7c8004",
   "metadata": {},
   "outputs": [
    {
     "data": {
      "text/plain": [
       "[<matplotlib.lines.Line2D at 0x22668fdd730>]"
      ]
     },
     "execution_count": 448,
     "metadata": {},
     "output_type": "execute_result"
    },
    {
     "data": {
      "image/png": "[encoded data removed]",
      "text/plain": [
       "<Figure size 640x480 with 1 Axes>"
      ]
     },
     "metadata": {},
     "output_type": "display_data"
    }
   ],
   "source": [
    "plt.plot(resampled_standardized_eda_df[\"timestamps\"], resampled_standardized_eda_df[\"mean_norm\"])"
   ]
  },
  {
   "cell_type": "code",
   "execution_count": 450,
   "id": "1b607def-0a40-4476-9762-4c0c0fcedce0",
   "metadata": {},
   "outputs": [],
   "source": [
    "eda_df_standardize_norm = normalize_signal (eda_df_standardize, \"signal\")"
   ]
  },
  {
   "cell_type": "code",
   "execution_count": 451,
   "id": "99c154c2-9394-4d32-b6b6-92f39e546e37",
   "metadata": {},
   "outputs": [
    {
     "data": {
      "text/html": [
       "<div>\n",
       "<style scoped>\n",
       "    .dataframe tbody tr th:only-of-type {\n",
       "        vertical-align: middle;\n",
       "    }\n",
       "\n",
       "    .dataframe tbody tr th {\n",
       "        vertical-align: top;\n",
       "    }\n",
       "\n",
       "    .dataframe thead th {\n",
       "        text-align: right;\n",
       "    }\n",
       "</style>\n",
       "<table border=\"1\" class=\"dataframe\">\n",
       "  <thead>\n",
       "    <tr style=\"text-align: right;\">\n",
       "      <th></th>\n",
       "      <th>signal</th>\n",
       "      <th>timestamps</th>\n",
       "      <th>starting_timestamp</th>\n",
       "      <th>ending_timestamp</th>\n",
       "      <th>sampling_frequency</th>\n",
       "      <th>mean_norm</th>\n",
       "    </tr>\n",
       "  </thead>\n",
       "  <tbody>\n",
       "    <tr>\n",
       "      <th>0</th>\n",
       "      <td>0.000000</td>\n",
       "      <td>1.695387e+09</td>\n",
       "      <td>1695386909.0</td>\n",
       "      <td>1695390796.75</td>\n",
       "      <td>4.0</td>\n",
       "      <td>-0.329462</td>\n",
       "    </tr>\n",
       "    <tr>\n",
       "      <th>1</th>\n",
       "      <td>0.024342</td>\n",
       "      <td>1.695387e+09</td>\n",
       "      <td></td>\n",
       "      <td></td>\n",
       "      <td></td>\n",
       "      <td>-0.326317</td>\n",
       "    </tr>\n",
       "    <tr>\n",
       "      <th>2</th>\n",
       "      <td>0.052528</td>\n",
       "      <td>1.695387e+09</td>\n",
       "      <td></td>\n",
       "      <td></td>\n",
       "      <td></td>\n",
       "      <td>-0.322676</td>\n",
       "    </tr>\n",
       "    <tr>\n",
       "      <th>3</th>\n",
       "      <td>0.055091</td>\n",
       "      <td>1.695387e+09</td>\n",
       "      <td></td>\n",
       "      <td></td>\n",
       "      <td></td>\n",
       "      <td>-0.322344</td>\n",
       "    </tr>\n",
       "    <tr>\n",
       "      <th>4</th>\n",
       "      <td>0.055091</td>\n",
       "      <td>1.695387e+09</td>\n",
       "      <td></td>\n",
       "      <td></td>\n",
       "      <td></td>\n",
       "      <td>-0.322344</td>\n",
       "    </tr>\n",
       "    <tr>\n",
       "      <th>...</th>\n",
       "      <td>...</td>\n",
       "      <td>...</td>\n",
       "      <td>...</td>\n",
       "      <td>...</td>\n",
       "      <td>...</td>\n",
       "      <td>...</td>\n",
       "    </tr>\n",
       "    <tr>\n",
       "      <th>15547</th>\n",
       "      <td>8.408756</td>\n",
       "      <td>1.695391e+09</td>\n",
       "      <td></td>\n",
       "      <td></td>\n",
       "      <td></td>\n",
       "      <td>0.756909</td>\n",
       "    </tr>\n",
       "    <tr>\n",
       "      <th>15548</th>\n",
       "      <td>8.397226</td>\n",
       "      <td>1.695391e+09</td>\n",
       "      <td></td>\n",
       "      <td></td>\n",
       "      <td></td>\n",
       "      <td>0.755419</td>\n",
       "    </tr>\n",
       "    <tr>\n",
       "      <th>15549</th>\n",
       "      <td>8.380570</td>\n",
       "      <td>1.695391e+09</td>\n",
       "      <td></td>\n",
       "      <td></td>\n",
       "      <td></td>\n",
       "      <td>0.753267</td>\n",
       "    </tr>\n",
       "    <tr>\n",
       "      <th>15550</th>\n",
       "      <td>8.354947</td>\n",
       "      <td>1.695391e+09</td>\n",
       "      <td></td>\n",
       "      <td></td>\n",
       "      <td></td>\n",
       "      <td>0.749957</td>\n",
       "    </tr>\n",
       "    <tr>\n",
       "      <th>15551</th>\n",
       "      <td>8.266546</td>\n",
       "      <td>1.695391e+09</td>\n",
       "      <td></td>\n",
       "      <td></td>\n",
       "      <td></td>\n",
       "      <td>0.738536</td>\n",
       "    </tr>\n",
       "  </tbody>\n",
       "</table>\n",
       "<p>15552 rows × 6 columns</p>\n",
       "</div>"
      ],
      "text/plain": [
       "         signal    timestamps starting_timestamp ending_timestamp  \\\n",
       "0      0.000000  1.695387e+09       1695386909.0    1695390796.75   \n",
       "1      0.024342  1.695387e+09                                       \n",
       "2      0.052528  1.695387e+09                                       \n",
       "3      0.055091  1.695387e+09                                       \n",
       "4      0.055091  1.695387e+09                                       \n",
       "...         ...           ...                ...              ...   \n",
       "15547  8.408756  1.695391e+09                                       \n",
       "15548  8.397226  1.695391e+09                                       \n",
       "15549  8.380570  1.695391e+09                                       \n",
       "15550  8.354947  1.695391e+09                                       \n",
       "15551  8.266546  1.695391e+09                                       \n",
       "\n",
       "      sampling_frequency  mean_norm  \n",
       "0                    4.0  -0.329462  \n",
       "1                         -0.326317  \n",
       "2                         -0.322676  \n",
       "3                         -0.322344  \n",
       "4                         -0.322344  \n",
       "...                  ...        ...  \n",
       "15547                      0.756909  \n",
       "15548                      0.755419  \n",
       "15549                      0.753267  \n",
       "15550                      0.749957  \n",
       "15551                      0.738536  \n",
       "\n",
       "[15552 rows x 6 columns]"
      ]
     },
     "execution_count": 451,
     "metadata": {},
     "output_type": "execute_result"
    }
   ],
   "source": [
    "eda_df_standardize_norm"
   ]
  },
  {
   "cell_type": "code",
   "execution_count": 453,
   "id": "63a721fd-22f5-4996-9e62-dfabe6d91f2b",
   "metadata": {},
   "outputs": [
    {
     "data": {
      "text/plain": [
       "[<matplotlib.lines.Line2D at 0x22663faa2b0>]"
      ]
     },
     "execution_count": 453,
     "metadata": {},
     "output_type": "execute_result"
    },
    {
     "data": {
      "image/png": "[encoded data removed]",
      "text/plain": [
       "<Figure size 640x480 with 1 Axes>"
      ]
     },
     "metadata": {},
     "output_type": "display_data"
    }
   ],
   "source": [
    "plt.plot(eda_df_standardize_norm[\"timestamps\"], eda_df_standardize_norm[\"signal\"])"
   ]
  },
  {
   "cell_type": "markdown",
   "id": "d3393ff7-d0d3-4952-913e-4f2d6b79a1b6",
   "metadata": {},
   "source": [
    "### comparing date and time "
   ]
  },
  {
   "cell_type": "code",
   "execution_count": 455,
   "id": "2a30d705-899b-4dcf-bdd4-e59dcdcff3ca",
   "metadata": {},
   "outputs": [],
   "source": [
    "dt_obj_eda = datetime.datetime.fromtimestamp(eda_df_standardize_norm[\"starting_timestamp\"][0])"
   ]
  },
  {
   "cell_type": "code",
   "execution_count": 456,
   "id": "e3428c47-f1ac-4d90-a039-31ef01e1baf2",
   "metadata": {},
   "outputs": [
    {
     "data": {
      "text/plain": [
       "datetime.datetime(2023, 9, 22, 14, 48, 29)"
      ]
     },
     "execution_count": 456,
     "metadata": {},
     "output_type": "execute_result"
    }
   ],
   "source": [
    "dt_obj"
   ]
  },
  {
   "cell_type": "code",
   "execution_count": null,
   "id": "ad9ce318-2c21-4dfd-a4b5-5704af49f52d",
   "metadata": {},
   "outputs": [],
   "source": [
    "standardize_acc_df"
   ]
  },
  {
   "cell_type": "code",
   "execution_count": 458,
   "id": "297a3999-f9f4-4cd7-89bb-de4cbb193230",
   "metadata": {},
   "outputs": [],
   "source": [
    "dt_obj_acc=datetime.datetime.fromtimestamp(standardize_acc_df[\"starting_timestamp\"][0])"
   ]
  },
  {
   "cell_type": "code",
   "execution_count": 459,
   "id": "16cae039-726c-4e56-8e80-299f9d318bdd",
   "metadata": {},
   "outputs": [
    {
     "data": {
      "text/plain": [
       "datetime.datetime(2023, 9, 22, 14, 48, 29)"
      ]
     },
     "execution_count": 459,
     "metadata": {},
     "output_type": "execute_result"
    }
   ],
   "source": [
    "dt_obj_acc"
   ]
  },
  {
   "cell_type": "code",
   "execution_count": 460,
   "id": "9d6c02e6-db85-48f2-84d4-7324d607658c",
   "metadata": {},
   "outputs": [],
   "source": [
    "hr_sensor_path =\"C:/Users/muhammad.saif/Desktop/repos_ixp/tester_sony_digirelax/datasets/Empatica/HR.csv\"\n",
    "data_col_names = ['signal']"
   ]
  },
  {
   "cell_type": "code",
   "execution_count": 461,
   "id": "3afadd44-3959-4fba-a8d5-5ad2c0c585ad",
   "metadata": {},
   "outputs": [
    {
     "data": {
      "text/plain": [
       "1695386919.0"
      ]
     },
     "execution_count": 461,
     "metadata": {},
     "output_type": "execute_result"
    }
   ],
   "source": [
    "hr_df_standardize=standardize_sensor_raw_info(hr_sensor_path, data_col_names)\n",
    "hr_df_standardize[\"starting_timestamp\"][0]"
   ]
  },
  {
   "cell_type": "code",
   "execution_count": 462,
   "id": "acaaae4a-4364-4e3f-a3ad-b186a23c2896",
   "metadata": {},
   "outputs": [
    {
     "data": {
      "text/html": [
       "<div>\n",
       "<style scoped>\n",
       "    .dataframe tbody tr th:only-of-type {\n",
       "        vertical-align: middle;\n",
       "    }\n",
       "\n",
       "    .dataframe tbody tr th {\n",
       "        vertical-align: top;\n",
       "    }\n",
       "\n",
       "    .dataframe thead th {\n",
       "        text-align: right;\n",
       "    }\n",
       "</style>\n",
       "<table border=\"1\" class=\"dataframe\">\n",
       "  <thead>\n",
       "    <tr style=\"text-align: right;\">\n",
       "      <th></th>\n",
       "      <th>signal</th>\n",
       "      <th>timestamps</th>\n",
       "      <th>starting_timestamp</th>\n",
       "      <th>ending_timestamp</th>\n",
       "      <th>sampling_frequency</th>\n",
       "    </tr>\n",
       "  </thead>\n",
       "  <tbody>\n",
       "    <tr>\n",
       "      <th>0</th>\n",
       "      <td>68.00</td>\n",
       "      <td>1.695387e+09</td>\n",
       "      <td>1695386919.0</td>\n",
       "      <td>1695390797.0</td>\n",
       "      <td>1.0</td>\n",
       "    </tr>\n",
       "    <tr>\n",
       "      <th>1</th>\n",
       "      <td>66.50</td>\n",
       "      <td>1.695387e+09</td>\n",
       "      <td></td>\n",
       "      <td></td>\n",
       "      <td></td>\n",
       "    </tr>\n",
       "    <tr>\n",
       "      <th>2</th>\n",
       "      <td>66.00</td>\n",
       "      <td>1.695387e+09</td>\n",
       "      <td></td>\n",
       "      <td></td>\n",
       "      <td></td>\n",
       "    </tr>\n",
       "    <tr>\n",
       "      <th>3</th>\n",
       "      <td>66.00</td>\n",
       "      <td>1.695387e+09</td>\n",
       "      <td></td>\n",
       "      <td></td>\n",
       "      <td></td>\n",
       "    </tr>\n",
       "    <tr>\n",
       "      <th>4</th>\n",
       "      <td>66.40</td>\n",
       "      <td>1.695387e+09</td>\n",
       "      <td></td>\n",
       "      <td></td>\n",
       "      <td></td>\n",
       "    </tr>\n",
       "    <tr>\n",
       "      <th>...</th>\n",
       "      <td>...</td>\n",
       "      <td>...</td>\n",
       "      <td>...</td>\n",
       "      <td>...</td>\n",
       "      <td>...</td>\n",
       "    </tr>\n",
       "    <tr>\n",
       "      <th>3874</th>\n",
       "      <td>68.62</td>\n",
       "      <td>1.695391e+09</td>\n",
       "      <td></td>\n",
       "      <td></td>\n",
       "      <td></td>\n",
       "    </tr>\n",
       "    <tr>\n",
       "      <th>3875</th>\n",
       "      <td>68.50</td>\n",
       "      <td>1.695391e+09</td>\n",
       "      <td></td>\n",
       "      <td></td>\n",
       "      <td></td>\n",
       "    </tr>\n",
       "    <tr>\n",
       "      <th>3876</th>\n",
       "      <td>68.35</td>\n",
       "      <td>1.695391e+09</td>\n",
       "      <td></td>\n",
       "      <td></td>\n",
       "      <td></td>\n",
       "    </tr>\n",
       "    <tr>\n",
       "      <th>3877</th>\n",
       "      <td>68.18</td>\n",
       "      <td>1.695391e+09</td>\n",
       "      <td></td>\n",
       "      <td></td>\n",
       "      <td></td>\n",
       "    </tr>\n",
       "    <tr>\n",
       "      <th>3878</th>\n",
       "      <td>68.00</td>\n",
       "      <td>1.695391e+09</td>\n",
       "      <td></td>\n",
       "      <td></td>\n",
       "      <td></td>\n",
       "    </tr>\n",
       "  </tbody>\n",
       "</table>\n",
       "<p>3879 rows × 5 columns</p>\n",
       "</div>"
      ],
      "text/plain": [
       "      signal    timestamps starting_timestamp ending_timestamp  \\\n",
       "0      68.00  1.695387e+09       1695386919.0     1695390797.0   \n",
       "1      66.50  1.695387e+09                                       \n",
       "2      66.00  1.695387e+09                                       \n",
       "3      66.00  1.695387e+09                                       \n",
       "4      66.40  1.695387e+09                                       \n",
       "...      ...           ...                ...              ...   \n",
       "3874   68.62  1.695391e+09                                       \n",
       "3875   68.50  1.695391e+09                                       \n",
       "3876   68.35  1.695391e+09                                       \n",
       "3877   68.18  1.695391e+09                                       \n",
       "3878   68.00  1.695391e+09                                       \n",
       "\n",
       "     sampling_frequency  \n",
       "0                   1.0  \n",
       "1                        \n",
       "2                        \n",
       "3                        \n",
       "4                        \n",
       "...                 ...  \n",
       "3874                     \n",
       "3875                     \n",
       "3876                     \n",
       "3877                     \n",
       "3878                     \n",
       "\n",
       "[3879 rows x 5 columns]"
      ]
     },
     "execution_count": 462,
     "metadata": {},
     "output_type": "execute_result"
    }
   ],
   "source": [
    "hr_df_standardize"
   ]
  },
  {
   "cell_type": "code",
   "execution_count": null,
   "id": "60ed64bd-06b8-4d71-82d6-9fc22ff421ca",
   "metadata": {},
   "outputs": [],
   "source": []
  },
  {
   "cell_type": "code",
   "execution_count": 471,
   "id": "2998cd1f-763a-4a1a-913b-3223e3d4bd48",
   "metadata": {},
   "outputs": [],
   "source": [
    "time_stamp_np_array= hr_df_standardize[\"timestamps\"].values"
   ]
  },
  {
   "cell_type": "code",
   "execution_count": 472,
   "id": "281eebff-abfc-4f5e-a15c-d68f5e1b17de",
   "metadata": {},
   "outputs": [
    {
     "data": {
      "text/plain": [
       "True"
      ]
     },
     "execution_count": 472,
     "metadata": {},
     "output_type": "execute_result"
    }
   ],
   "source": [
    "time_stamp_np_array[-1] ==hr_df_standardize[\"ending_timestamp\"][0]"
   ]
  },
  {
   "cell_type": "code",
   "execution_count": 473,
   "id": "a381a500-6319-41d5-83cc-1476515c5abc",
   "metadata": {},
   "outputs": [
    {
     "name": "stdout",
     "output_type": "stream",
     "text": [
      "signal\n"
     ]
    }
   ],
   "source": [
    "resampled_standardized_hr_df = resample_sensor_data(hr_df_standardize,  [\"signal\"], 32)"
   ]
  },
  {
   "cell_type": "code",
   "execution_count": 474,
   "id": "c556ddc5-bbdb-48e7-b2f1-55cab3185758",
   "metadata": {},
   "outputs": [
    {
     "data": {
      "text/html": [
       "<div>\n",
       "<style scoped>\n",
       "    .dataframe tbody tr th:only-of-type {\n",
       "        vertical-align: middle;\n",
       "    }\n",
       "\n",
       "    .dataframe tbody tr th {\n",
       "        vertical-align: top;\n",
       "    }\n",
       "\n",
       "    .dataframe thead th {\n",
       "        text-align: right;\n",
       "    }\n",
       "</style>\n",
       "<table border=\"1\" class=\"dataframe\">\n",
       "  <thead>\n",
       "    <tr style=\"text-align: right;\">\n",
       "      <th></th>\n",
       "      <th>signal</th>\n",
       "      <th>timestamps</th>\n",
       "      <th>starting_timestamp</th>\n",
       "      <th>ending_timestamp</th>\n",
       "      <th>sampling_frequency</th>\n",
       "    </tr>\n",
       "  </thead>\n",
       "  <tbody>\n",
       "    <tr>\n",
       "      <th>0</th>\n",
       "      <td>68.000000</td>\n",
       "      <td>1.695387e+09</td>\n",
       "      <td>1695386919.0</td>\n",
       "      <td>1695390797.96875</td>\n",
       "      <td>32</td>\n",
       "    </tr>\n",
       "    <tr>\n",
       "      <th>1</th>\n",
       "      <td>67.971097</td>\n",
       "      <td>1.695387e+09</td>\n",
       "      <td></td>\n",
       "      <td></td>\n",
       "      <td></td>\n",
       "    </tr>\n",
       "    <tr>\n",
       "      <th>2</th>\n",
       "      <td>67.939934</td>\n",
       "      <td>1.695387e+09</td>\n",
       "      <td></td>\n",
       "      <td></td>\n",
       "      <td></td>\n",
       "    </tr>\n",
       "    <tr>\n",
       "      <th>3</th>\n",
       "      <td>67.906560</td>\n",
       "      <td>1.695387e+09</td>\n",
       "      <td></td>\n",
       "      <td></td>\n",
       "      <td></td>\n",
       "    </tr>\n",
       "    <tr>\n",
       "      <th>4</th>\n",
       "      <td>67.871036</td>\n",
       "      <td>1.695387e+09</td>\n",
       "      <td></td>\n",
       "      <td></td>\n",
       "      <td></td>\n",
       "    </tr>\n",
       "    <tr>\n",
       "      <th>...</th>\n",
       "      <td>...</td>\n",
       "      <td>...</td>\n",
       "      <td>...</td>\n",
       "      <td>...</td>\n",
       "      <td>...</td>\n",
       "    </tr>\n",
       "    <tr>\n",
       "      <th>124123</th>\n",
       "      <td>68.109741</td>\n",
       "      <td>1.695391e+09</td>\n",
       "      <td></td>\n",
       "      <td></td>\n",
       "      <td></td>\n",
       "    </tr>\n",
       "    <tr>\n",
       "      <th>124124</th>\n",
       "      <td>68.092452</td>\n",
       "      <td>1.695391e+09</td>\n",
       "      <td></td>\n",
       "      <td></td>\n",
       "      <td></td>\n",
       "    </tr>\n",
       "    <tr>\n",
       "      <th>124125</th>\n",
       "      <td>68.072838</td>\n",
       "      <td>1.695391e+09</td>\n",
       "      <td></td>\n",
       "      <td></td>\n",
       "      <td></td>\n",
       "    </tr>\n",
       "    <tr>\n",
       "      <th>124126</th>\n",
       "      <td>68.050889</td>\n",
       "      <td>1.695391e+09</td>\n",
       "      <td></td>\n",
       "      <td></td>\n",
       "      <td></td>\n",
       "    </tr>\n",
       "    <tr>\n",
       "      <th>124127</th>\n",
       "      <td>68.026606</td>\n",
       "      <td>1.695391e+09</td>\n",
       "      <td></td>\n",
       "      <td></td>\n",
       "      <td></td>\n",
       "    </tr>\n",
       "  </tbody>\n",
       "</table>\n",
       "<p>124128 rows × 5 columns</p>\n",
       "</div>"
      ],
      "text/plain": [
       "           signal    timestamps starting_timestamp  ending_timestamp  \\\n",
       "0       68.000000  1.695387e+09       1695386919.0  1695390797.96875   \n",
       "1       67.971097  1.695387e+09                                        \n",
       "2       67.939934  1.695387e+09                                        \n",
       "3       67.906560  1.695387e+09                                        \n",
       "4       67.871036  1.695387e+09                                        \n",
       "...           ...           ...                ...               ...   \n",
       "124123  68.109741  1.695391e+09                                        \n",
       "124124  68.092452  1.695391e+09                                        \n",
       "124125  68.072838  1.695391e+09                                        \n",
       "124126  68.050889  1.695391e+09                                        \n",
       "124127  68.026606  1.695391e+09                                        \n",
       "\n",
       "       sampling_frequency  \n",
       "0                      32  \n",
       "1                          \n",
       "2                          \n",
       "3                          \n",
       "4                          \n",
       "...                   ...  \n",
       "124123                     \n",
       "124124                     \n",
       "124125                     \n",
       "124126                     \n",
       "124127                     \n",
       "\n",
       "[124128 rows x 5 columns]"
      ]
     },
     "execution_count": 474,
     "metadata": {},
     "output_type": "execute_result"
    }
   ],
   "source": [
    "resampled_standardized_hr_df"
   ]
  },
  {
   "cell_type": "code",
   "execution_count": 475,
   "id": "028dc3a2-db1e-4a47-b451-0ef96d466669",
   "metadata": {},
   "outputs": [],
   "source": [
    "hr_df_standardize_norm = normalize_signal (resampled_standardized_hr_df, \"signal\")"
   ]
  },
  {
   "cell_type": "code",
   "execution_count": 476,
   "id": "68ab0526-d2ae-4e3b-8f0e-e9d75fac61df",
   "metadata": {},
   "outputs": [
    {
     "data": {
      "text/html": [
       "<div>\n",
       "<style scoped>\n",
       "    .dataframe tbody tr th:only-of-type {\n",
       "        vertical-align: middle;\n",
       "    }\n",
       "\n",
       "    .dataframe tbody tr th {\n",
       "        vertical-align: top;\n",
       "    }\n",
       "\n",
       "    .dataframe thead th {\n",
       "        text-align: right;\n",
       "    }\n",
       "</style>\n",
       "<table border=\"1\" class=\"dataframe\">\n",
       "  <thead>\n",
       "    <tr style=\"text-align: right;\">\n",
       "      <th></th>\n",
       "      <th>signal</th>\n",
       "      <th>timestamps</th>\n",
       "      <th>starting_timestamp</th>\n",
       "      <th>ending_timestamp</th>\n",
       "      <th>sampling_frequency</th>\n",
       "      <th>mean_norm</th>\n",
       "    </tr>\n",
       "  </thead>\n",
       "  <tbody>\n",
       "    <tr>\n",
       "      <th>0</th>\n",
       "      <td>68.000000</td>\n",
       "      <td>1.695387e+09</td>\n",
       "      <td>1695386919.0</td>\n",
       "      <td>1695390797.96875</td>\n",
       "      <td>32</td>\n",
       "      <td>-0.116270</td>\n",
       "    </tr>\n",
       "    <tr>\n",
       "      <th>1</th>\n",
       "      <td>67.971097</td>\n",
       "      <td>1.695387e+09</td>\n",
       "      <td></td>\n",
       "      <td></td>\n",
       "      <td></td>\n",
       "      <td>-0.116733</td>\n",
       "    </tr>\n",
       "    <tr>\n",
       "      <th>2</th>\n",
       "      <td>67.939934</td>\n",
       "      <td>1.695387e+09</td>\n",
       "      <td></td>\n",
       "      <td></td>\n",
       "      <td></td>\n",
       "      <td>-0.117231</td>\n",
       "    </tr>\n",
       "    <tr>\n",
       "      <th>3</th>\n",
       "      <td>67.906560</td>\n",
       "      <td>1.695387e+09</td>\n",
       "      <td></td>\n",
       "      <td></td>\n",
       "      <td></td>\n",
       "      <td>-0.117765</td>\n",
       "    </tr>\n",
       "    <tr>\n",
       "      <th>4</th>\n",
       "      <td>67.871036</td>\n",
       "      <td>1.695387e+09</td>\n",
       "      <td></td>\n",
       "      <td></td>\n",
       "      <td></td>\n",
       "      <td>-0.118333</td>\n",
       "    </tr>\n",
       "    <tr>\n",
       "      <th>...</th>\n",
       "      <td>...</td>\n",
       "      <td>...</td>\n",
       "      <td>...</td>\n",
       "      <td>...</td>\n",
       "      <td>...</td>\n",
       "      <td>...</td>\n",
       "    </tr>\n",
       "    <tr>\n",
       "      <th>124123</th>\n",
       "      <td>68.109741</td>\n",
       "      <td>1.695391e+09</td>\n",
       "      <td></td>\n",
       "      <td></td>\n",
       "      <td></td>\n",
       "      <td>-0.114515</td>\n",
       "    </tr>\n",
       "    <tr>\n",
       "      <th>124124</th>\n",
       "      <td>68.092452</td>\n",
       "      <td>1.695391e+09</td>\n",
       "      <td></td>\n",
       "      <td></td>\n",
       "      <td></td>\n",
       "      <td>-0.114792</td>\n",
       "    </tr>\n",
       "    <tr>\n",
       "      <th>124125</th>\n",
       "      <td>68.072838</td>\n",
       "      <td>1.695391e+09</td>\n",
       "      <td></td>\n",
       "      <td></td>\n",
       "      <td></td>\n",
       "      <td>-0.115105</td>\n",
       "    </tr>\n",
       "    <tr>\n",
       "      <th>124126</th>\n",
       "      <td>68.050889</td>\n",
       "      <td>1.695391e+09</td>\n",
       "      <td></td>\n",
       "      <td></td>\n",
       "      <td></td>\n",
       "      <td>-0.115456</td>\n",
       "    </tr>\n",
       "    <tr>\n",
       "      <th>124127</th>\n",
       "      <td>68.026606</td>\n",
       "      <td>1.695391e+09</td>\n",
       "      <td></td>\n",
       "      <td></td>\n",
       "      <td></td>\n",
       "      <td>-0.115845</td>\n",
       "    </tr>\n",
       "  </tbody>\n",
       "</table>\n",
       "<p>124128 rows × 6 columns</p>\n",
       "</div>"
      ],
      "text/plain": [
       "           signal    timestamps starting_timestamp  ending_timestamp  \\\n",
       "0       68.000000  1.695387e+09       1695386919.0  1695390797.96875   \n",
       "1       67.971097  1.695387e+09                                        \n",
       "2       67.939934  1.695387e+09                                        \n",
       "3       67.906560  1.695387e+09                                        \n",
       "4       67.871036  1.695387e+09                                        \n",
       "...           ...           ...                ...               ...   \n",
       "124123  68.109741  1.695391e+09                                        \n",
       "124124  68.092452  1.695391e+09                                        \n",
       "124125  68.072838  1.695391e+09                                        \n",
       "124126  68.050889  1.695391e+09                                        \n",
       "124127  68.026606  1.695391e+09                                        \n",
       "\n",
       "       sampling_frequency  mean_norm  \n",
       "0                      32  -0.116270  \n",
       "1                          -0.116733  \n",
       "2                          -0.117231  \n",
       "3                          -0.117765  \n",
       "4                          -0.118333  \n",
       "...                   ...        ...  \n",
       "124123                     -0.114515  \n",
       "124124                     -0.114792  \n",
       "124125                     -0.115105  \n",
       "124126                     -0.115456  \n",
       "124127                     -0.115845  \n",
       "\n",
       "[124128 rows x 6 columns]"
      ]
     },
     "execution_count": 476,
     "metadata": {},
     "output_type": "execute_result"
    }
   ],
   "source": [
    "hr_df_standardize_norm"
   ]
  },
  {
   "cell_type": "code",
   "execution_count": 477,
   "id": "6feda9e9-40af-4779-98f9-38033fe89572",
   "metadata": {},
   "outputs": [
    {
     "data": {
      "text/plain": [
       "[<matplotlib.lines.Line2D at 0x22669146f10>]"
      ]
     },
     "execution_count": 477,
     "metadata": {},
     "output_type": "execute_result"
    },
    {
     "data": {
      "image/png": "[encoded data removed]",
      "text/plain": [
       "<Figure size 640x480 with 1 Axes>"
      ]
     },
     "metadata": {},
     "output_type": "display_data"
    }
   ],
   "source": [
    "plt.plot(hr_df_standardize_norm[\"timestamps\"],hr_df_standardize_norm[\"mean_norm\"])"
   ]
  },
  {
   "cell_type": "code",
   "execution_count": 478,
   "id": "f84cd7b0-8339-431b-913f-370044bbb22d",
   "metadata": {},
   "outputs": [
    {
     "data": {
      "text/plain": [
       "[<matplotlib.lines.Line2D at 0x2266b1ee7f0>]"
      ]
     },
     "execution_count": 478,
     "metadata": {},
     "output_type": "execute_result"
    },
    {
     "data": {
      "image/png": "[encoded data removed]",
      "text/plain": [
       "<Figure size 640x480 with 1 Axes>"
      ]
     },
     "metadata": {},
     "output_type": "display_data"
    }
   ],
   "source": [
    "plt.plot(hr_df_standardize_norm[\"timestamps\"],hr_df_standardize_norm[\"signal\"])"
   ]
  },
  {
   "cell_type": "code",
   "execution_count": 481,
   "id": "0970e286-0fdd-4f9b-bca5-a8ff31d2ba35",
   "metadata": {},
   "outputs": [],
   "source": [
    "starting_timestamp_hr = hr_df_standardize_norm[\"starting_timestamp\"][0]\n",
    "starting_timestamp_eda = eda_df_standardize_norm[\"starting_timestamp\"][0]"
   ]
  },
  {
   "cell_type": "code",
   "execution_count": 482,
   "id": "96ebbe19-591a-4e71-aeb6-9613277f4e26",
   "metadata": {},
   "outputs": [
    {
     "data": {
      "text/plain": [
       "False"
      ]
     },
     "execution_count": 482,
     "metadata": {},
     "output_type": "execute_result"
    }
   ],
   "source": [
    "starting_timestamp_hr == starting_timestamp_eda"
   ]
  },
  {
   "cell_type": "code",
   "execution_count": null,
   "id": "e51702f6-be59-41fd-89f5-8e3951fbe978",
   "metadata": {},
   "outputs": [],
   "source": []
  }
 ],
 "metadata": {
  "kernelspec": {
   "display_name": "Python 3 (ipykernel)",
   "language": "python",
   "name": "python3"
  },
  "language_info": {
   "codemirror_mode": {
    "name": "ipython",
    "version": 3
   },
   "file_extension": ".py",
   "mimetype": "text/x-python",
   "name": "python",
   "nbconvert_exporter": "python",
   "pygments_lexer": "ipython3",
   "version": "3.9.13"
  }
 },
 "nbformat": 4,
 "nbformat_minor": 5
}
