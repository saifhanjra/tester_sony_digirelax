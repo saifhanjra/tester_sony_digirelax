{
 "cells": [
  {
   "cell_type": "code",
   "execution_count": 117,
   "id": "1c2cf735-7280-436b-b4d6-cec3dd7acc5e",
   "metadata": {},
   "outputs": [],
   "source": [
    "import numpy as np\n",
    "import pandas as pd\n",
    "import datetime\n",
    "from scipy import signal\n",
    "\n",
    "import matplotlib.pyplot as plt"
   ]
  },
  {
   "cell_type": "markdown",
   "id": "d8d7b246-36e0-4439-b926-2fc3e930b8e6",
   "metadata": {},
   "source": [
    "# read, extract, resampled, sliced"
   ]
  },
  {
   "cell_type": "code",
   "execution_count": 118,
   "id": "c1ee388a-faad-4360-a42a-66bae7ee2e00",
   "metadata": {},
   "outputs": [],
   "source": [
    "def standardize_sensor_raw_info(path_csv_sensor, data_col_names):\n",
    "    \n",
    "    sensor_df = pd.read_csv(path_csv_sensor, names=data_col_names)\n",
    "    unix_time = sensor_df.iloc[0,0]\n",
    "    \n",
    "    sampling_frequency = sensor_df.iloc[1,0]\n",
    "    \n",
    "    sensor_df_sliced = sensor_df.iloc[2 :, :]\n",
    "    \n",
    "    sensor_df_sliced_copy = sensor_df_sliced.copy()\n",
    "    \n",
    "    sensor_df_sliced_copy = sensor_df_sliced_copy.reset_index(drop=True)\n",
    "    \n",
    "    sampling_time = 1/sampling_frequency\n",
    "    \n",
    "    timestamps = unix_time + (sensor_df_sliced_copy.index)*sampling_time\n",
    "    \n",
    "    sensor_df_sliced_copy['timestamps'] = timestamps\n",
    "    \n",
    "    sensor_df_sliced_copy['starting_timestamp'] = ''\n",
    "    \n",
    "    sensor_df_sliced_copy['starting_timestamp'] = [unix_time]+['']*(len(sensor_df_sliced_copy)-1)\n",
    "    \n",
    "    end_time = timestamps[-1]\n",
    "    sensor_df_sliced_copy['ending_timestamp'] = ''\n",
    "    sensor_df_sliced_copy['ending_timestamp'] = [end_time]+['']*(len(sensor_df_sliced_copy)-1)\n",
    "    \n",
    "    \n",
    "    sensor_df_sliced_copy['sampling_frequency'] = ''\n",
    "    \n",
    "    sensor_df_sliced_copy['sampling_frequency'] =[sampling_frequency]+['']*(len(sensor_df_sliced_copy)-1)\n",
    "    \n",
    "    return sensor_df_sliced_copy\n",
    "    \n",
    "    "
   ]
  },
  {
   "cell_type": "code",
   "execution_count": 119,
   "id": "58542527-3591-4345-864c-62c839ae22ab",
   "metadata": {},
   "outputs": [],
   "source": [
    "def resample_sensor_data(original_standardize_df,  sensor_cols, new_sampling_frequency):\n",
    "    \n",
    "    \n",
    "    orignal_sampling_frequecy = original_standardize_df[\"sampling_frequency\"][0]\n",
    "    \n",
    "    multiplier = new_sampling_frequency/orignal_sampling_frequecy\n",
    "    \n",
    "    total_new_samples = multiplier * len(original_standardize_df)\n",
    "    \n",
    "    new_df = pd.DataFrame()\n",
    "    \n",
    "    \n",
    "    for sensor_col in sensor_cols:\n",
    "        \n",
    "        #print(sensor_col)\n",
    "        \n",
    "        signal_array=original_standardize_df[sensor_col].values\n",
    "        \n",
    "        signal_array_resampled = signal.resample(signal_array, int(total_new_samples))\n",
    "        \n",
    "        \n",
    "        new_df[sensor_col] = signal_array_resampled\n",
    "        \n",
    "        \n",
    "    new_sampling_time = 1/new_sampling_frequency\n",
    "    \n",
    "    starting_time = original_standardize_df[\"starting_timestamp\"][0]\n",
    "    \n",
    "    timestamps = starting_time + (new_df.index)*new_sampling_time\n",
    "    \n",
    "    \n",
    "    \n",
    "    new_df['timestamps'] = timestamps\n",
    "    \n",
    "    \n",
    "    new_df['starting_timestamp'] = ''\n",
    "    new_df['starting_timestamp'] = [starting_time]+['']*(len(new_df)-1)\n",
    "    \n",
    "    end_time = timestamps[-1]\n",
    "    new_df['ending_timestamp'] = ''\n",
    "    new_df['ending_timestamp'] = [end_time]+['']*(len(new_df)-1)\n",
    "    \n",
    "    new_df['sampling_frequency'] = ''\n",
    "    new_df['sampling_frequency'] =[new_sampling_frequency]+['']*(len(new_df)-1)\n",
    "    \n",
    "    \n",
    "    return new_df\n",
    "        "
   ]
  },
  {
   "cell_type": "code",
   "execution_count": 120,
   "id": "3231c471-5c86-455a-8ee0-fcccb69a7aad",
   "metadata": {},
   "outputs": [],
   "source": [
    "def magnitude_acc_sensor(std_acc_df):    \n",
    "    magnitude= np.sqrt(std_acc_df.iloc[:,0]**2 + std_acc_df.iloc[:,1]**2 + std_acc_df.iloc[:,2]**2)\n",
    "    std_acc_df['magnitude'] = magnitude\n",
    "    return std_acc_df"
   ]
  },
  {
   "cell_type": "code",
   "execution_count": 121,
   "id": "88ad4f1f-abbc-47b8-b0f3-fade7b0b0acb",
   "metadata": {},
   "outputs": [],
   "source": [
    "def normalize_signal (std_df, signal_col):\n",
    "    \n",
    "    signal = std_df[signal_col]\n",
    "    \n",
    "    mean_signal = np.mean(signal)\n",
    "    \n",
    "    mean_sub = signal - mean_signal\n",
    "    \n",
    "    scaled_data =  mean_sub/np.max(np.abs(mean_sub))\n",
    "    \n",
    "    std_df[\"mean_norm\"] = scaled_data\n",
    "    \n",
    "    return std_df\n",
    "    \n"
   ]
  },
  {
   "cell_type": "code",
   "execution_count": 122,
   "id": "a437d533-db8e-4517-ae65-7d19a520df28",
   "metadata": {},
   "outputs": [],
   "source": [
    "def get_start_stop_timestamps(list_dfs):\n",
    "    \n",
    "    starting_time_list = [df[\"starting_timestamp\"][0] for df in list_dfs]\n",
    "    ending_time_list  = [df[\"ending_timestamp\"][0] for df in list_dfs]\n",
    "    \n",
    "    late_start = max(starting_time_list)\n",
    "    early_stop =min(ending_time_list)\n",
    "    \n",
    "    return late_start, early_stop"
   ]
  },
  {
   "cell_type": "code",
   "execution_count": 123,
   "id": "ee92db87-660b-4eda-ba34-fe96fc59cff7",
   "metadata": {},
   "outputs": [],
   "source": [
    "def sync_slice_df(df, start_time, stop_time):\n",
    "    \n",
    "    sliced_df=df[(df.timestamps>=start_time)&(df.timestamps <= stop_time)]\n",
    "    \n",
    "    sliced_df =sliced_df.copy()\n",
    "    \n",
    "    return sliced_df"
   ]
  },
  {
   "cell_type": "markdown",
   "id": "4de9d24f-6526-414b-b10f-18be36982824",
   "metadata": {},
   "source": [
    "# Testing on the data "
   ]
  },
  {
   "cell_type": "markdown",
   "id": "e7fea988-e264-4ae6-a088-66d6a790d5da",
   "metadata": {},
   "source": [
    "### Accelorometer data"
   ]
  },
  {
   "cell_type": "code",
   "execution_count": 124,
   "id": "991823fd-2ce8-49a8-882f-47bea2695961",
   "metadata": {},
   "outputs": [],
   "source": [
    "acc_sensor_path =\"/home/muhammad/Desktop/repos_ixp/tester_sony_digirelax/datasets/Empatica/ACC.csv\"\n",
    "data_col_names = ['x', 'y', 'z']"
   ]
  },
  {
   "cell_type": "code",
   "execution_count": 125,
   "id": "195f72e5-4e9e-4cc7-b26d-6d55e5468363",
   "metadata": {},
   "outputs": [],
   "source": [
    "acc_df_stand=standardize_sensor_raw_info (acc_sensor_path, data_col_names)\n",
    "acc_df_stand = magnitude_acc_sensor(standardize_acc_df)\n",
    "acc_df_stand_norm = normalize_signal(standardize_acc_df, 'magnitude')"
   ]
  },
  {
   "cell_type": "markdown",
   "id": "5050a124-b25d-488a-87fa-c4e499266210",
   "metadata": {},
   "source": [
    "## Heart rate data"
   ]
  },
  {
   "cell_type": "code",
   "execution_count": 126,
   "id": "40fb6c70-a2a9-442b-b11a-84050d7a9fd8",
   "metadata": {},
   "outputs": [],
   "source": [
    "hr_sensor_path =\"/home/muhammad/Desktop/repos_ixp/tester_sony_digirelax/datasets/Empatica/HR.csv\"\n",
    "data_col_names = ['signal']"
   ]
  },
  {
   "cell_type": "code",
   "execution_count": 127,
   "id": "f029b903-702a-4c7e-a81a-d4e1da91a80f",
   "metadata": {},
   "outputs": [],
   "source": [
    "hr_df_stand=standardize_sensor_raw_info(hr_sensor_path, data_col_names)\n",
    "hr_df_stand_resamp = resample_sensor_data(hr_df_standardize,  [\"signal\"], 32)\n",
    "hr_df_stand_resamp_norm = normalize_signal (resampled_standardized_hr_df, \"signal\")"
   ]
  },
  {
   "cell_type": "markdown",
   "id": "457ebe64-7f3c-4144-814d-39e9fd8f20b8",
   "metadata": {},
   "source": [
    "### Eda Data"
   ]
  },
  {
   "cell_type": "code",
   "execution_count": 128,
   "id": "2bd9b5d3-b227-463d-a564-1d7d11a92a60",
   "metadata": {},
   "outputs": [],
   "source": [
    "eda_sensor_path =\"/home/muhammad/Desktop/repos_ixp/tester_sony_digirelax/datasets/Empatica/EDA.csv\"\n",
    "data_col_names = ['signal']"
   ]
  },
  {
   "cell_type": "code",
   "execution_count": 129,
   "id": "3f9240a3-ee2e-4592-8993-834ff3e11738",
   "metadata": {},
   "outputs": [],
   "source": [
    "eda_df_stand=standardize_sensor_raw_info(eda_sensor_path, data_col_names)\n",
    "eda_df_resamp_stand = resample_sensor_data(eda_df_standardize,  [\"signal\"], 32)\n",
    "eda_df_stand_resamp_norm = normalize_signal (resampled_standardized_eda_df, \"signal\")"
   ]
  },
  {
   "cell_type": "code",
   "execution_count": null,
   "id": "0e92d40f-bc91-4564-b41e-6184b0b72870",
   "metadata": {},
   "outputs": [],
   "source": []
  },
  {
   "cell_type": "markdown",
   "id": "d3393ff7-d0d3-4952-913e-4f2d6b79a1b6",
   "metadata": {},
   "source": [
    "## slicing & Synchronizing data of all the sensors "
   ]
  },
  {
   "cell_type": "code",
   "execution_count": 148,
   "id": "e3428c47-f1ac-4d90-a039-31ef01e1baf2",
   "metadata": {},
   "outputs": [],
   "source": [
    "list_dfs = [acc_df_stand_norm, hr_df_stand_resamp_norm, eda_df_stand_resamp_norm]"
   ]
  },
  {
   "cell_type": "code",
   "execution_count": 149,
   "id": "ad9ce318-2c21-4dfd-a4b5-5704af49f52d",
   "metadata": {},
   "outputs": [],
   "source": [
    "start_time, stop_time = get_start_stop_timestamps(list_dfs)    "
   ]
  },
  {
   "cell_type": "code",
   "execution_count": 150,
   "id": "297a3999-f9f4-4cd7-89bb-de4cbb193230",
   "metadata": {},
   "outputs": [],
   "source": [
    "acc_df_sliced_synced= sync_slice_df(acc_df_stand_norm, start_time, stop_time)"
   ]
  },
  {
   "cell_type": "code",
   "execution_count": 151,
   "id": "16cae039-726c-4e56-8e80-299f9d318bdd",
   "metadata": {},
   "outputs": [],
   "source": [
    "eda_df_sliced_synced = sync_slice_df(eda_df_stand_resamp_norm, start_time, stop_time)"
   ]
  },
  {
   "cell_type": "code",
   "execution_count": 153,
   "id": "66b331ea-1082-4f41-a0c6-c2ff81a7f01a",
   "metadata": {},
   "outputs": [],
   "source": [
    "hr_df_sliced_synced= sync_slice_df(hr_df_stand_resamp_norm, start_time, stop_time)"
   ]
  },
  {
   "cell_type": "code",
   "execution_count": 159,
   "id": "9d6c02e6-db85-48f2-84d4-7324d607658c",
   "metadata": {},
   "outputs": [
    {
     "data": {
      "text/plain": [
       "(124096, 6)"
      ]
     },
     "execution_count": 159,
     "metadata": {},
     "output_type": "execute_result"
    }
   ],
   "source": [
    "hr_df_sliced_synced.shape "
   ]
  },
  {
   "cell_type": "code",
   "execution_count": 160,
   "id": "3afadd44-3959-4fba-a8d5-5ad2c0c585ad",
   "metadata": {},
   "outputs": [
    {
     "data": {
      "text/plain": [
       "(124096, 6)"
      ]
     },
     "execution_count": 160,
     "metadata": {},
     "output_type": "execute_result"
    }
   ],
   "source": [
    "eda_df_sliced_synced.shape"
   ]
  },
  {
   "cell_type": "code",
   "execution_count": 178,
   "id": "b30991cf-6ef5-41c6-8bcc-bfd24385ffbc",
   "metadata": {},
   "outputs": [
    {
     "data": {
      "text/html": [
       "<div>\n",
       "<style scoped>\n",
       "    .dataframe tbody tr th:only-of-type {\n",
       "        vertical-align: middle;\n",
       "    }\n",
       "\n",
       "    .dataframe tbody tr th {\n",
       "        vertical-align: top;\n",
       "    }\n",
       "\n",
       "    .dataframe thead th {\n",
       "        text-align: right;\n",
       "    }\n",
       "</style>\n",
       "<table border=\"1\" class=\"dataframe\">\n",
       "  <thead>\n",
       "    <tr style=\"text-align: right;\">\n",
       "      <th></th>\n",
       "      <th>signal</th>\n",
       "      <th>timestamps</th>\n",
       "      <th>starting_timestamp</th>\n",
       "      <th>ending_timestamp</th>\n",
       "      <th>sampling_frequency</th>\n",
       "      <th>mean_norm</th>\n",
       "    </tr>\n",
       "  </thead>\n",
       "  <tbody>\n",
       "    <tr>\n",
       "      <th>320</th>\n",
       "      <td>0.055091</td>\n",
       "      <td>1.695387e+09</td>\n",
       "      <td></td>\n",
       "      <td></td>\n",
       "      <td></td>\n",
       "      <td>-0.322092</td>\n",
       "    </tr>\n",
       "    <tr>\n",
       "      <th>321</th>\n",
       "      <td>0.042985</td>\n",
       "      <td>1.695387e+09</td>\n",
       "      <td></td>\n",
       "      <td></td>\n",
       "      <td></td>\n",
       "      <td>-0.323655</td>\n",
       "    </tr>\n",
       "    <tr>\n",
       "      <th>322</th>\n",
       "      <td>0.032790</td>\n",
       "      <td>1.695387e+09</td>\n",
       "      <td></td>\n",
       "      <td></td>\n",
       "      <td></td>\n",
       "      <td>-0.324971</td>\n",
       "    </tr>\n",
       "    <tr>\n",
       "      <th>323</th>\n",
       "      <td>0.026044</td>\n",
       "      <td>1.695387e+09</td>\n",
       "      <td></td>\n",
       "      <td></td>\n",
       "      <td></td>\n",
       "      <td>-0.325841</td>\n",
       "    </tr>\n",
       "    <tr>\n",
       "      <th>324</th>\n",
       "      <td>0.023751</td>\n",
       "      <td>1.695387e+09</td>\n",
       "      <td></td>\n",
       "      <td></td>\n",
       "      <td></td>\n",
       "      <td>-0.326138</td>\n",
       "    </tr>\n",
       "    <tr>\n",
       "      <th>...</th>\n",
       "      <td>...</td>\n",
       "      <td>...</td>\n",
       "      <td>...</td>\n",
       "      <td>...</td>\n",
       "      <td>...</td>\n",
       "      <td>...</td>\n",
       "    </tr>\n",
       "    <tr>\n",
       "      <th>124411</th>\n",
       "      <td>5.314990</td>\n",
       "      <td>1.695391e+09</td>\n",
       "      <td></td>\n",
       "      <td></td>\n",
       "      <td></td>\n",
       "      <td>0.356929</td>\n",
       "    </tr>\n",
       "    <tr>\n",
       "      <th>124412</th>\n",
       "      <td>4.121475</td>\n",
       "      <td>1.695391e+09</td>\n",
       "      <td></td>\n",
       "      <td></td>\n",
       "      <td></td>\n",
       "      <td>0.202854</td>\n",
       "    </tr>\n",
       "    <tr>\n",
       "      <th>124413</th>\n",
       "      <td>2.929519</td>\n",
       "      <td>1.695391e+09</td>\n",
       "      <td></td>\n",
       "      <td></td>\n",
       "      <td></td>\n",
       "      <td>0.048979</td>\n",
       "    </tr>\n",
       "    <tr>\n",
       "      <th>124414</th>\n",
       "      <td>1.806666</td>\n",
       "      <td>1.695391e+09</td>\n",
       "      <td></td>\n",
       "      <td></td>\n",
       "      <td></td>\n",
       "      <td>-0.095974</td>\n",
       "    </tr>\n",
       "    <tr>\n",
       "      <th>124415</th>\n",
       "      <td>0.813920</td>\n",
       "      <td>1.695391e+09</td>\n",
       "      <td></td>\n",
       "      <td></td>\n",
       "      <td></td>\n",
       "      <td>-0.224132</td>\n",
       "    </tr>\n",
       "  </tbody>\n",
       "</table>\n",
       "<p>124096 rows × 6 columns</p>\n",
       "</div>"
      ],
      "text/plain": [
       "          signal    timestamps starting_timestamp ending_timestamp  \\\n",
       "320     0.055091  1.695387e+09                                       \n",
       "321     0.042985  1.695387e+09                                       \n",
       "322     0.032790  1.695387e+09                                       \n",
       "323     0.026044  1.695387e+09                                       \n",
       "324     0.023751  1.695387e+09                                       \n",
       "...          ...           ...                ...              ...   \n",
       "124411  5.314990  1.695391e+09                                       \n",
       "124412  4.121475  1.695391e+09                                       \n",
       "124413  2.929519  1.695391e+09                                       \n",
       "124414  1.806666  1.695391e+09                                       \n",
       "124415  0.813920  1.695391e+09                                       \n",
       "\n",
       "       sampling_frequency  mean_norm  \n",
       "320                        -0.322092  \n",
       "321                        -0.323655  \n",
       "322                        -0.324971  \n",
       "323                        -0.325841  \n",
       "324                        -0.326138  \n",
       "...                   ...        ...  \n",
       "124411                      0.356929  \n",
       "124412                      0.202854  \n",
       "124413                      0.048979  \n",
       "124414                     -0.095974  \n",
       "124415                     -0.224132  \n",
       "\n",
       "[124096 rows x 6 columns]"
      ]
     },
     "execution_count": 178,
     "metadata": {},
     "output_type": "execute_result"
    }
   ],
   "source": [
    "eda_df_sliced_synced"
   ]
  },
  {
   "cell_type": "code",
   "execution_count": 161,
   "id": "2998cd1f-763a-4a1a-913b-3223e3d4bd48",
   "metadata": {},
   "outputs": [
    {
     "data": {
      "text/plain": [
       "(124096, 9)"
      ]
     },
     "execution_count": 161,
     "metadata": {},
     "output_type": "execute_result"
    }
   ],
   "source": [
    "acc_df_sliced_synced.shape"
   ]
  },
  {
   "cell_type": "code",
   "execution_count": 169,
   "id": "281eebff-abfc-4f5e-a15c-d68f5e1b17de",
   "metadata": {},
   "outputs": [
    {
     "data": {
      "text/html": [
       "<div>\n",
       "<style scoped>\n",
       "    .dataframe tbody tr th:only-of-type {\n",
       "        vertical-align: middle;\n",
       "    }\n",
       "\n",
       "    .dataframe tbody tr th {\n",
       "        vertical-align: top;\n",
       "    }\n",
       "\n",
       "    .dataframe thead th {\n",
       "        text-align: right;\n",
       "    }\n",
       "</style>\n",
       "<table border=\"1\" class=\"dataframe\">\n",
       "  <thead>\n",
       "    <tr style=\"text-align: right;\">\n",
       "      <th></th>\n",
       "      <th>x</th>\n",
       "      <th>y</th>\n",
       "      <th>z</th>\n",
       "      <th>timestamps</th>\n",
       "      <th>starting_timestamp</th>\n",
       "      <th>ending_timestamp</th>\n",
       "      <th>sampling_frequency</th>\n",
       "      <th>magnitude</th>\n",
       "      <th>mean_norm</th>\n",
       "    </tr>\n",
       "  </thead>\n",
       "  <tbody>\n",
       "    <tr>\n",
       "      <th>320</th>\n",
       "      <td>24.0</td>\n",
       "      <td>-7.0</td>\n",
       "      <td>57.0</td>\n",
       "      <td>1.695387e+09</td>\n",
       "      <td></td>\n",
       "      <td></td>\n",
       "      <td></td>\n",
       "      <td>62.241465</td>\n",
       "      <td>-0.006782</td>\n",
       "    </tr>\n",
       "    <tr>\n",
       "      <th>321</th>\n",
       "      <td>24.0</td>\n",
       "      <td>-7.0</td>\n",
       "      <td>57.0</td>\n",
       "      <td>1.695387e+09</td>\n",
       "      <td></td>\n",
       "      <td></td>\n",
       "      <td></td>\n",
       "      <td>62.241465</td>\n",
       "      <td>-0.006782</td>\n",
       "    </tr>\n",
       "    <tr>\n",
       "      <th>322</th>\n",
       "      <td>25.0</td>\n",
       "      <td>-7.0</td>\n",
       "      <td>57.0</td>\n",
       "      <td>1.695387e+09</td>\n",
       "      <td></td>\n",
       "      <td></td>\n",
       "      <td></td>\n",
       "      <td>62.633857</td>\n",
       "      <td>-0.002078</td>\n",
       "    </tr>\n",
       "    <tr>\n",
       "      <th>323</th>\n",
       "      <td>24.0</td>\n",
       "      <td>-7.0</td>\n",
       "      <td>57.0</td>\n",
       "      <td>1.695387e+09</td>\n",
       "      <td></td>\n",
       "      <td></td>\n",
       "      <td></td>\n",
       "      <td>62.241465</td>\n",
       "      <td>-0.006782</td>\n",
       "    </tr>\n",
       "    <tr>\n",
       "      <th>324</th>\n",
       "      <td>24.0</td>\n",
       "      <td>-7.0</td>\n",
       "      <td>57.0</td>\n",
       "      <td>1.695387e+09</td>\n",
       "      <td></td>\n",
       "      <td></td>\n",
       "      <td></td>\n",
       "      <td>62.241465</td>\n",
       "      <td>-0.006782</td>\n",
       "    </tr>\n",
       "    <tr>\n",
       "      <th>...</th>\n",
       "      <td>...</td>\n",
       "      <td>...</td>\n",
       "      <td>...</td>\n",
       "      <td>...</td>\n",
       "      <td>...</td>\n",
       "      <td>...</td>\n",
       "      <td>...</td>\n",
       "      <td>...</td>\n",
       "      <td>...</td>\n",
       "    </tr>\n",
       "    <tr>\n",
       "      <th>124411</th>\n",
       "      <td>11.0</td>\n",
       "      <td>12.0</td>\n",
       "      <td>61.0</td>\n",
       "      <td>1.695391e+09</td>\n",
       "      <td></td>\n",
       "      <td></td>\n",
       "      <td></td>\n",
       "      <td>63.134776</td>\n",
       "      <td>0.003927</td>\n",
       "    </tr>\n",
       "    <tr>\n",
       "      <th>124412</th>\n",
       "      <td>12.0</td>\n",
       "      <td>12.0</td>\n",
       "      <td>61.0</td>\n",
       "      <td>1.695391e+09</td>\n",
       "      <td></td>\n",
       "      <td></td>\n",
       "      <td></td>\n",
       "      <td>63.316664</td>\n",
       "      <td>0.006107</td>\n",
       "    </tr>\n",
       "    <tr>\n",
       "      <th>124413</th>\n",
       "      <td>13.0</td>\n",
       "      <td>14.0</td>\n",
       "      <td>61.0</td>\n",
       "      <td>1.695391e+09</td>\n",
       "      <td></td>\n",
       "      <td></td>\n",
       "      <td></td>\n",
       "      <td>63.921827</td>\n",
       "      <td>0.013362</td>\n",
       "    </tr>\n",
       "    <tr>\n",
       "      <th>124414</th>\n",
       "      <td>10.0</td>\n",
       "      <td>14.0</td>\n",
       "      <td>60.0</td>\n",
       "      <td>1.695391e+09</td>\n",
       "      <td></td>\n",
       "      <td></td>\n",
       "      <td></td>\n",
       "      <td>62.417946</td>\n",
       "      <td>-0.004667</td>\n",
       "    </tr>\n",
       "    <tr>\n",
       "      <th>124415</th>\n",
       "      <td>9.0</td>\n",
       "      <td>12.0</td>\n",
       "      <td>59.0</td>\n",
       "      <td>1.695391e+09</td>\n",
       "      <td></td>\n",
       "      <td></td>\n",
       "      <td></td>\n",
       "      <td>60.876925</td>\n",
       "      <td>-0.023141</td>\n",
       "    </tr>\n",
       "  </tbody>\n",
       "</table>\n",
       "<p>124096 rows × 9 columns</p>\n",
       "</div>"
      ],
      "text/plain": [
       "           x     y     z    timestamps starting_timestamp ending_timestamp  \\\n",
       "320     24.0  -7.0  57.0  1.695387e+09                                       \n",
       "321     24.0  -7.0  57.0  1.695387e+09                                       \n",
       "322     25.0  -7.0  57.0  1.695387e+09                                       \n",
       "323     24.0  -7.0  57.0  1.695387e+09                                       \n",
       "324     24.0  -7.0  57.0  1.695387e+09                                       \n",
       "...      ...   ...   ...           ...                ...              ...   \n",
       "124411  11.0  12.0  61.0  1.695391e+09                                       \n",
       "124412  12.0  12.0  61.0  1.695391e+09                                       \n",
       "124413  13.0  14.0  61.0  1.695391e+09                                       \n",
       "124414  10.0  14.0  60.0  1.695391e+09                                       \n",
       "124415   9.0  12.0  59.0  1.695391e+09                                       \n",
       "\n",
       "       sampling_frequency  magnitude  mean_norm  \n",
       "320                        62.241465  -0.006782  \n",
       "321                        62.241465  -0.006782  \n",
       "322                        62.633857  -0.002078  \n",
       "323                        62.241465  -0.006782  \n",
       "324                        62.241465  -0.006782  \n",
       "...                   ...        ...        ...  \n",
       "124411                     63.134776   0.003927  \n",
       "124412                     63.316664   0.006107  \n",
       "124413                     63.921827   0.013362  \n",
       "124414                     62.417946  -0.004667  \n",
       "124415                     60.876925  -0.023141  \n",
       "\n",
       "[124096 rows x 9 columns]"
      ]
     },
     "execution_count": 169,
     "metadata": {},
     "output_type": "execute_result"
    }
   ],
   "source": [
    "acc_df_sliced_synced"
   ]
  },
  {
   "cell_type": "code",
   "execution_count": 180,
   "id": "a381a500-6319-41d5-83cc-1476515c5abc",
   "metadata": {},
   "outputs": [
    {
     "data": {
      "text/plain": [
       "[<matplotlib.lines.Line2D at 0x7f0ebd55d4c0>]"
      ]
     },
     "execution_count": 180,
     "metadata": {},
     "output_type": "execute_result"
    },
    {
     "data": {
      "image/png": "[encoded data removed]",
      "text/plain": [
       "<Figure size 640x480 with 1 Axes>"
      ]
     },
     "metadata": {},
     "output_type": "display_data"
    }
   ],
   "source": [
    "fsz = 26\n",
    "fsz_fig= 32\n",
    "fig, ax = plt.subplots()\n",
    "\n",
    "##---------------------------------------------\n",
    "\n",
    "ax.plot(acc_df_sliced_synced[\"mean_norm\"])\n",
    "ax.plot(eda_df_sliced_synced[\"mean_norm\"])\n",
    "ax.plot(hr_df_sliced_synced[\"mean_norm\"])\n"
   ]
  },
  {
   "cell_type": "markdown",
   "id": "d5b1904f-31d1-4170-ae17-8693cb5f5065",
   "metadata": {},
   "source": [
    "## Behavioral Data"
   ]
  },
  {
   "cell_type": "code",
   "execution_count": 185,
   "id": "028dc3a2-db1e-4a47-b451-0ef96d466669",
   "metadata": {},
   "outputs": [],
   "source": [
    "tags_path = \"/home/muhammad/Desktop/repos_ixp/tester_sony_digirelax/datasets/psychopy/WP2_01_IGFW_SAM_Experiment_2023-09-18_11h14.57.361.csv\""
   ]
  },
  {
   "cell_type": "code",
   "execution_count": 186,
   "id": "68ab0526-d2ae-4e3b-8f0e-e9d75fac61df",
   "metadata": {},
   "outputs": [],
   "source": [
    "tags_df = pd.read_csv(tags_path)"
   ]
  },
  {
   "cell_type": "code",
   "execution_count": 188,
   "id": "6feda9e9-40af-4779-98f9-38033fe89572",
   "metadata": {},
   "outputs": [
    {
     "data": {
      "text/plain": [
       "Index(['task', 'correct_response', 'difficulty_level', 'fam_loop.thisRepN',\n",
       "       'fam_loop.thisTrialN', 'fam_loop.thisN', 'fam_loop.thisIndex',\n",
       "       'pa_loop.thisRepN', 'pa_loop.thisTrialN', 'pa_loop.thisN',\n",
       "       ...\n",
       "       'timestamp', 'TotalReward', 'EndofExp', 'participant', 'session',\n",
       "       'date', 'expName', 'psychopyVersion', 'frameRate', 'Unnamed: 193'],\n",
       "      dtype='object', length=194)"
      ]
     },
     "execution_count": 188,
     "metadata": {},
     "output_type": "execute_result"
    }
   ],
   "source": [
    "tags_df.columns"
   ]
  },
  {
   "cell_type": "code",
   "execution_count": null,
   "id": "f84cd7b0-8339-431b-913f-370044bbb22d",
   "metadata": {},
   "outputs": [],
   "source": []
  },
  {
   "cell_type": "code",
   "execution_count": null,
   "id": "0970e286-0fdd-4f9b-bca5-a8ff31d2ba35",
   "metadata": {},
   "outputs": [],
   "source": []
  },
  {
   "cell_type": "code",
   "execution_count": null,
   "id": "96ebbe19-591a-4e71-aeb6-9613277f4e26",
   "metadata": {},
   "outputs": [],
   "source": []
  },
  {
   "cell_type": "code",
   "execution_count": null,
   "id": "e51702f6-be59-41fd-89f5-8e3951fbe978",
   "metadata": {},
   "outputs": [],
   "source": []
  }
 ],
 "metadata": {
  "kernelspec": {
   "display_name": "Python 3 (ipykernel)",
   "language": "python",
   "name": "python3"
  },
  "language_info": {
   "codemirror_mode": {
    "name": "ipython",
    "version": 3
   },
   "file_extension": ".py",
   "mimetype": "text/x-python",
   "name": "python",
   "nbconvert_exporter": "python",
   "pygments_lexer": "ipython3",
   "version": "3.9.16"
  }
 },
 "nbformat": 4,
 "nbformat_minor": 5
}
