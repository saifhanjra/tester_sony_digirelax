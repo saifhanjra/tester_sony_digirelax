{
 "cells": [
  {
   "cell_type": "code",
   "execution_count": 120,
   "id": "1c2cf735-7280-436b-b4d6-cec3dd7acc5e",
   "metadata": {},
   "outputs": [],
   "source": [
    "import numpy as np\n",
    "import pandas as pd\n",
    "import datetime\n",
    "from scipy import signal\n",
    "import math\n",
    "\n",
    "import matplotlib.pyplot as plt"
   ]
  },
  {
   "cell_type": "markdown",
   "id": "d8d7b246-36e0-4439-b926-2fc3e930b8e6",
   "metadata": {},
   "source": [
    "# read, extract, resampled, sliced"
   ]
  },
  {
   "cell_type": "code",
   "execution_count": 87,
   "id": "c1ee388a-faad-4360-a42a-66bae7ee2e00",
   "metadata": {},
   "outputs": [],
   "source": [
    "def standardize_sensor_raw_info(path_csv_sensor, data_col_names):\n",
    "    \n",
    "    sensor_df = pd.read_csv(path_csv_sensor, names=data_col_names)\n",
    "    unix_time = sensor_df.iloc[0,0]\n",
    "    \n",
    "    sampling_frequency = sensor_df.iloc[1,0]\n",
    "    \n",
    "    sensor_df_sliced = sensor_df.iloc[2 :, :]\n",
    "    \n",
    "    sensor_df_sliced_copy = sensor_df_sliced.copy()\n",
    "    \n",
    "    sensor_df_sliced_copy = sensor_df_sliced_copy.reset_index(drop=True)\n",
    "    \n",
    "    sampling_time = 1/sampling_frequency\n",
    "    \n",
    "    timestamps = unix_time + (sensor_df_sliced_copy.index)*sampling_time\n",
    "    \n",
    "    sensor_df_sliced_copy['timestamps'] = timestamps\n",
    "    \n",
    "    sensor_df_sliced_copy['starting_timestamp'] = ''\n",
    "    \n",
    "    sensor_df_sliced_copy['starting_timestamp'] = [unix_time]+['']*(len(sensor_df_sliced_copy)-1)\n",
    "    \n",
    "    end_time = timestamps[-1]\n",
    "    sensor_df_sliced_copy['ending_timestamp'] = ''\n",
    "    sensor_df_sliced_copy['ending_timestamp'] = [end_time]+['']*(len(sensor_df_sliced_copy)-1)\n",
    "    \n",
    "    \n",
    "    sensor_df_sliced_copy['sampling_frequency'] = ''\n",
    "    \n",
    "    sensor_df_sliced_copy['sampling_frequency'] =[sampling_frequency]+['']*(len(sensor_df_sliced_copy)-1)\n",
    "    \n",
    "    return sensor_df_sliced_copy\n",
    "    \n",
    "    "
   ]
  },
  {
   "cell_type": "code",
   "execution_count": 88,
   "id": "58542527-3591-4345-864c-62c839ae22ab",
   "metadata": {},
   "outputs": [],
   "source": [
    "def resample_sensor_data(original_standardize_df,  sensor_cols, new_sampling_frequency):\n",
    "    \n",
    "    \n",
    "    orignal_sampling_frequecy = original_standardize_df[\"sampling_frequency\"][0]\n",
    "    \n",
    "    multiplier = new_sampling_frequency/orignal_sampling_frequecy\n",
    "    \n",
    "    total_new_samples = multiplier * len(original_standardize_df)\n",
    "    \n",
    "    new_df = pd.DataFrame()\n",
    "    \n",
    "    \n",
    "    for sensor_col in sensor_cols:\n",
    "        \n",
    "        #print(sensor_col)\n",
    "        \n",
    "        signal_array=original_standardize_df[sensor_col].values\n",
    "        \n",
    "        signal_array_resampled = signal.resample(signal_array, int(total_new_samples))\n",
    "        \n",
    "        \n",
    "        new_df[sensor_col] = signal_array_resampled\n",
    "        \n",
    "        \n",
    "    new_sampling_time = 1/new_sampling_frequency\n",
    "    \n",
    "    starting_time = original_standardize_df[\"starting_timestamp\"][0]\n",
    "    \n",
    "    timestamps = starting_time + (new_df.index)*new_sampling_time\n",
    "    \n",
    "    \n",
    "    \n",
    "    new_df['timestamps'] = timestamps\n",
    "    \n",
    "    \n",
    "    new_df['starting_timestamp'] = ''\n",
    "    new_df['starting_timestamp'] = [starting_time]+['']*(len(new_df)-1)\n",
    "    \n",
    "    end_time = timestamps[-1]\n",
    "    new_df['ending_timestamp'] = ''\n",
    "    new_df['ending_timestamp'] = [end_time]+['']*(len(new_df)-1)\n",
    "    \n",
    "    new_df['sampling_frequency'] = ''\n",
    "    new_df['sampling_frequency'] =[new_sampling_frequency]+['']*(len(new_df)-1)\n",
    "    \n",
    "    \n",
    "    return new_df\n",
    "        "
   ]
  },
  {
   "cell_type": "code",
   "execution_count": 89,
   "id": "3231c471-5c86-455a-8ee0-fcccb69a7aad",
   "metadata": {},
   "outputs": [],
   "source": [
    "def magnitude_acc_sensor(std_acc_df):    \n",
    "    magnitude= np.sqrt(std_acc_df.iloc[:,0]**2 + std_acc_df.iloc[:,1]**2 + std_acc_df.iloc[:,2]**2)\n",
    "    std_acc_df['magnitude'] = magnitude\n",
    "    return std_acc_df"
   ]
  },
  {
   "cell_type": "code",
   "execution_count": 90,
   "id": "88ad4f1f-abbc-47b8-b0f3-fade7b0b0acb",
   "metadata": {},
   "outputs": [],
   "source": [
    "def normalize_signal (std_df, signal_col):\n",
    "    \n",
    "    signal = std_df[signal_col]\n",
    "    \n",
    "    mean_signal = np.mean(signal)\n",
    "    \n",
    "    mean_sub = signal - mean_signal\n",
    "    \n",
    "    scaled_data =  mean_sub/np.max(np.abs(mean_sub))\n",
    "    \n",
    "    std_df[\"mean_norm\"] = scaled_data\n",
    "    \n",
    "    return std_df\n",
    "    \n"
   ]
  },
  {
   "cell_type": "code",
   "execution_count": 91,
   "id": "a437d533-db8e-4517-ae65-7d19a520df28",
   "metadata": {},
   "outputs": [],
   "source": [
    "def get_start_stop_timestamps(list_dfs):\n",
    "    \n",
    "    starting_time_list = [df[\"starting_timestamp\"][0] for df in list_dfs]\n",
    "    ending_time_list  = [df[\"ending_timestamp\"][0] for df in list_dfs]\n",
    "    \n",
    "    late_start = max(starting_time_list)\n",
    "    early_stop =min(ending_time_list)\n",
    "    \n",
    "    return late_start, early_stop"
   ]
  },
  {
   "cell_type": "code",
   "execution_count": 92,
   "id": "ee92db87-660b-4eda-ba34-fe96fc59cff7",
   "metadata": {},
   "outputs": [],
   "source": [
    "def align_slice_df(df, start_time, stop_time):\n",
    "    \n",
    "    sliced_df=df[(df.timestamps>=start_time)&(df.timestamps <= stop_time)]\n",
    "    \n",
    "    sliced_df =sliced_df.copy()\n",
    "    \n",
    "    return sliced_df"
   ]
  },
  {
   "cell_type": "markdown",
   "id": "4de9d24f-6526-414b-b10f-18be36982824",
   "metadata": {},
   "source": [
    "# Testing on the data "
   ]
  },
  {
   "cell_type": "markdown",
   "id": "e7fea988-e264-4ae6-a088-66d6a790d5da",
   "metadata": {},
   "source": [
    "### Accelorometer data"
   ]
  },
  {
   "cell_type": "code",
   "execution_count": 93,
   "id": "991823fd-2ce8-49a8-882f-47bea2695961",
   "metadata": {},
   "outputs": [],
   "source": [
    "acc_sensor_path =\"/home/muhammad/Desktop/repos_ixp/tester_sony_digirelax/datasets/Empatica/ACC.csv\"\n",
    "data_col_names = ['x', 'y', 'z']"
   ]
  },
  {
   "cell_type": "code",
   "execution_count": 94,
   "id": "195f72e5-4e9e-4cc7-b26d-6d55e5468363",
   "metadata": {},
   "outputs": [],
   "source": [
    "acc_df_stand=standardize_sensor_raw_info (acc_sensor_path, data_col_names)\n",
    "acc_df_stand = magnitude_acc_sensor(acc_df_stand)\n",
    "acc_df_stand_norm = normalize_signal(acc_df_stand, 'magnitude')"
   ]
  },
  {
   "cell_type": "markdown",
   "id": "5050a124-b25d-488a-87fa-c4e499266210",
   "metadata": {},
   "source": [
    "## Heart rate data"
   ]
  },
  {
   "cell_type": "code",
   "execution_count": 95,
   "id": "40fb6c70-a2a9-442b-b11a-84050d7a9fd8",
   "metadata": {},
   "outputs": [],
   "source": [
    "hr_sensor_path =\"/home/muhammad/Desktop/repos_ixp/tester_sony_digirelax/datasets/Empatica/HR.csv\"\n",
    "data_col_names = ['signal']"
   ]
  },
  {
   "cell_type": "code",
   "execution_count": 96,
   "id": "f029b903-702a-4c7e-a81a-d4e1da91a80f",
   "metadata": {},
   "outputs": [],
   "source": [
    "hr_df_stand=standardize_sensor_raw_info(hr_sensor_path, data_col_names)\n",
    "hr_df_stand_resamp = resample_sensor_data(hr_df_stand,  [\"signal\"], 32)\n",
    "hr_df_stand_resamp_norm = normalize_signal (hr_df_stand_resamp, \"signal\")"
   ]
  },
  {
   "cell_type": "markdown",
   "id": "457ebe64-7f3c-4144-814d-39e9fd8f20b8",
   "metadata": {},
   "source": [
    "### Eda Data"
   ]
  },
  {
   "cell_type": "code",
   "execution_count": 97,
   "id": "2bd9b5d3-b227-463d-a564-1d7d11a92a60",
   "metadata": {},
   "outputs": [],
   "source": [
    "eda_sensor_path =\"/home/muhammad/Desktop/repos_ixp/tester_sony_digirelax/datasets/Empatica/EDA.csv\"\n",
    "data_col_names = ['signal']"
   ]
  },
  {
   "cell_type": "code",
   "execution_count": 98,
   "id": "3f9240a3-ee2e-4592-8993-834ff3e11738",
   "metadata": {},
   "outputs": [],
   "source": [
    "eda_df_stand=standardize_sensor_raw_info(eda_sensor_path, data_col_names)\n",
    "eda_df_resamp_stand = resample_sensor_data(eda_df_stand,  [\"signal\"], 32)\n",
    "eda_df_stand_resamp_norm = normalize_signal (eda_df_resamp_stand, \"signal\")"
   ]
  },
  {
   "cell_type": "code",
   "execution_count": null,
   "id": "0e92d40f-bc91-4564-b41e-6184b0b72870",
   "metadata": {},
   "outputs": [],
   "source": []
  },
  {
   "cell_type": "markdown",
   "id": "d3393ff7-d0d3-4952-913e-4f2d6b79a1b6",
   "metadata": {},
   "source": [
    "## Alligning and slicing data of all the sensors "
   ]
  },
  {
   "cell_type": "code",
   "execution_count": 99,
   "id": "e3428c47-f1ac-4d90-a039-31ef01e1baf2",
   "metadata": {},
   "outputs": [],
   "source": [
    "list_dfs = [acc_df_stand_norm, hr_df_stand_resamp_norm, eda_df_stand_resamp_norm]"
   ]
  },
  {
   "cell_type": "code",
   "execution_count": 100,
   "id": "ad9ce318-2c21-4dfd-a4b5-5704af49f52d",
   "metadata": {},
   "outputs": [],
   "source": [
    "start_time, stop_time = get_start_stop_timestamps(list_dfs)    "
   ]
  },
  {
   "cell_type": "code",
   "execution_count": 101,
   "id": "297a3999-f9f4-4cd7-89bb-de4cbb193230",
   "metadata": {},
   "outputs": [],
   "source": [
    "acc_df_sliced_synced= align_slice_df(acc_df_stand_norm, start_time, stop_time)"
   ]
  },
  {
   "cell_type": "code",
   "execution_count": 102,
   "id": "16cae039-726c-4e56-8e80-299f9d318bdd",
   "metadata": {},
   "outputs": [],
   "source": [
    "eda_df_sliced_synced = align_slice_df(eda_df_stand_resamp_norm, start_time, stop_time)"
   ]
  },
  {
   "cell_type": "code",
   "execution_count": 103,
   "id": "66b331ea-1082-4f41-a0c6-c2ff81a7f01a",
   "metadata": {},
   "outputs": [],
   "source": [
    "hr_df_sliced_synced= align_slice_df(hr_df_stand_resamp_norm, start_time, stop_time)"
   ]
  },
  {
   "cell_type": "code",
   "execution_count": 104,
   "id": "9d6c02e6-db85-48f2-84d4-7324d607658c",
   "metadata": {},
   "outputs": [
    {
     "data": {
      "text/plain": [
       "(124096, 6)"
      ]
     },
     "execution_count": 104,
     "metadata": {},
     "output_type": "execute_result"
    }
   ],
   "source": [
    "hr_df_sliced_synced.shape "
   ]
  },
  {
   "cell_type": "code",
   "execution_count": 105,
   "id": "3afadd44-3959-4fba-a8d5-5ad2c0c585ad",
   "metadata": {},
   "outputs": [
    {
     "data": {
      "text/plain": [
       "(124096, 6)"
      ]
     },
     "execution_count": 105,
     "metadata": {},
     "output_type": "execute_result"
    }
   ],
   "source": [
    "eda_df_sliced_synced.shape"
   ]
  },
  {
   "cell_type": "code",
   "execution_count": 106,
   "id": "b30991cf-6ef5-41c6-8bcc-bfd24385ffbc",
   "metadata": {},
   "outputs": [
    {
     "data": {
      "text/html": [
       "<div>\n",
       "<style scoped>\n",
       "    .dataframe tbody tr th:only-of-type {\n",
       "        vertical-align: middle;\n",
       "    }\n",
       "\n",
       "    .dataframe tbody tr th {\n",
       "        vertical-align: top;\n",
       "    }\n",
       "\n",
       "    .dataframe thead th {\n",
       "        text-align: right;\n",
       "    }\n",
       "</style>\n",
       "<table border=\"1\" class=\"dataframe\">\n",
       "  <thead>\n",
       "    <tr style=\"text-align: right;\">\n",
       "      <th></th>\n",
       "      <th>signal</th>\n",
       "      <th>timestamps</th>\n",
       "      <th>starting_timestamp</th>\n",
       "      <th>ending_timestamp</th>\n",
       "      <th>sampling_frequency</th>\n",
       "      <th>mean_norm</th>\n",
       "    </tr>\n",
       "  </thead>\n",
       "  <tbody>\n",
       "    <tr>\n",
       "      <th>320</th>\n",
       "      <td>0.055091</td>\n",
       "      <td>1.695387e+09</td>\n",
       "      <td></td>\n",
       "      <td></td>\n",
       "      <td></td>\n",
       "      <td>-0.322092</td>\n",
       "    </tr>\n",
       "    <tr>\n",
       "      <th>321</th>\n",
       "      <td>0.042985</td>\n",
       "      <td>1.695387e+09</td>\n",
       "      <td></td>\n",
       "      <td></td>\n",
       "      <td></td>\n",
       "      <td>-0.323655</td>\n",
       "    </tr>\n",
       "    <tr>\n",
       "      <th>322</th>\n",
       "      <td>0.032790</td>\n",
       "      <td>1.695387e+09</td>\n",
       "      <td></td>\n",
       "      <td></td>\n",
       "      <td></td>\n",
       "      <td>-0.324971</td>\n",
       "    </tr>\n",
       "    <tr>\n",
       "      <th>323</th>\n",
       "      <td>0.026044</td>\n",
       "      <td>1.695387e+09</td>\n",
       "      <td></td>\n",
       "      <td></td>\n",
       "      <td></td>\n",
       "      <td>-0.325841</td>\n",
       "    </tr>\n",
       "    <tr>\n",
       "      <th>324</th>\n",
       "      <td>0.023751</td>\n",
       "      <td>1.695387e+09</td>\n",
       "      <td></td>\n",
       "      <td></td>\n",
       "      <td></td>\n",
       "      <td>-0.326138</td>\n",
       "    </tr>\n",
       "    <tr>\n",
       "      <th>...</th>\n",
       "      <td>...</td>\n",
       "      <td>...</td>\n",
       "      <td>...</td>\n",
       "      <td>...</td>\n",
       "      <td>...</td>\n",
       "      <td>...</td>\n",
       "    </tr>\n",
       "    <tr>\n",
       "      <th>124411</th>\n",
       "      <td>5.314990</td>\n",
       "      <td>1.695391e+09</td>\n",
       "      <td></td>\n",
       "      <td></td>\n",
       "      <td></td>\n",
       "      <td>0.356929</td>\n",
       "    </tr>\n",
       "    <tr>\n",
       "      <th>124412</th>\n",
       "      <td>4.121475</td>\n",
       "      <td>1.695391e+09</td>\n",
       "      <td></td>\n",
       "      <td></td>\n",
       "      <td></td>\n",
       "      <td>0.202854</td>\n",
       "    </tr>\n",
       "    <tr>\n",
       "      <th>124413</th>\n",
       "      <td>2.929519</td>\n",
       "      <td>1.695391e+09</td>\n",
       "      <td></td>\n",
       "      <td></td>\n",
       "      <td></td>\n",
       "      <td>0.048979</td>\n",
       "    </tr>\n",
       "    <tr>\n",
       "      <th>124414</th>\n",
       "      <td>1.806666</td>\n",
       "      <td>1.695391e+09</td>\n",
       "      <td></td>\n",
       "      <td></td>\n",
       "      <td></td>\n",
       "      <td>-0.095974</td>\n",
       "    </tr>\n",
       "    <tr>\n",
       "      <th>124415</th>\n",
       "      <td>0.813920</td>\n",
       "      <td>1.695391e+09</td>\n",
       "      <td></td>\n",
       "      <td></td>\n",
       "      <td></td>\n",
       "      <td>-0.224132</td>\n",
       "    </tr>\n",
       "  </tbody>\n",
       "</table>\n",
       "<p>124096 rows × 6 columns</p>\n",
       "</div>"
      ],
      "text/plain": [
       "          signal    timestamps starting_timestamp ending_timestamp  \\\n",
       "320     0.055091  1.695387e+09                                       \n",
       "321     0.042985  1.695387e+09                                       \n",
       "322     0.032790  1.695387e+09                                       \n",
       "323     0.026044  1.695387e+09                                       \n",
       "324     0.023751  1.695387e+09                                       \n",
       "...          ...           ...                ...              ...   \n",
       "124411  5.314990  1.695391e+09                                       \n",
       "124412  4.121475  1.695391e+09                                       \n",
       "124413  2.929519  1.695391e+09                                       \n",
       "124414  1.806666  1.695391e+09                                       \n",
       "124415  0.813920  1.695391e+09                                       \n",
       "\n",
       "       sampling_frequency  mean_norm  \n",
       "320                        -0.322092  \n",
       "321                        -0.323655  \n",
       "322                        -0.324971  \n",
       "323                        -0.325841  \n",
       "324                        -0.326138  \n",
       "...                   ...        ...  \n",
       "124411                      0.356929  \n",
       "124412                      0.202854  \n",
       "124413                      0.048979  \n",
       "124414                     -0.095974  \n",
       "124415                     -0.224132  \n",
       "\n",
       "[124096 rows x 6 columns]"
      ]
     },
     "execution_count": 106,
     "metadata": {},
     "output_type": "execute_result"
    }
   ],
   "source": [
    "eda_df_sliced_synced"
   ]
  },
  {
   "cell_type": "code",
   "execution_count": 107,
   "id": "2998cd1f-763a-4a1a-913b-3223e3d4bd48",
   "metadata": {},
   "outputs": [
    {
     "data": {
      "text/plain": [
       "(124096, 9)"
      ]
     },
     "execution_count": 107,
     "metadata": {},
     "output_type": "execute_result"
    }
   ],
   "source": [
    "acc_df_sliced_synced.shape"
   ]
  },
  {
   "cell_type": "code",
   "execution_count": 108,
   "id": "281eebff-abfc-4f5e-a15c-d68f5e1b17de",
   "metadata": {},
   "outputs": [
    {
     "data": {
      "text/html": [
       "<div>\n",
       "<style scoped>\n",
       "    .dataframe tbody tr th:only-of-type {\n",
       "        vertical-align: middle;\n",
       "    }\n",
       "\n",
       "    .dataframe tbody tr th {\n",
       "        vertical-align: top;\n",
       "    }\n",
       "\n",
       "    .dataframe thead th {\n",
       "        text-align: right;\n",
       "    }\n",
       "</style>\n",
       "<table border=\"1\" class=\"dataframe\">\n",
       "  <thead>\n",
       "    <tr style=\"text-align: right;\">\n",
       "      <th></th>\n",
       "      <th>x</th>\n",
       "      <th>y</th>\n",
       "      <th>z</th>\n",
       "      <th>timestamps</th>\n",
       "      <th>starting_timestamp</th>\n",
       "      <th>ending_timestamp</th>\n",
       "      <th>sampling_frequency</th>\n",
       "      <th>magnitude</th>\n",
       "      <th>mean_norm</th>\n",
       "    </tr>\n",
       "  </thead>\n",
       "  <tbody>\n",
       "    <tr>\n",
       "      <th>320</th>\n",
       "      <td>24.0</td>\n",
       "      <td>-7.0</td>\n",
       "      <td>57.0</td>\n",
       "      <td>1.695387e+09</td>\n",
       "      <td></td>\n",
       "      <td></td>\n",
       "      <td></td>\n",
       "      <td>62.241465</td>\n",
       "      <td>-0.006782</td>\n",
       "    </tr>\n",
       "    <tr>\n",
       "      <th>321</th>\n",
       "      <td>24.0</td>\n",
       "      <td>-7.0</td>\n",
       "      <td>57.0</td>\n",
       "      <td>1.695387e+09</td>\n",
       "      <td></td>\n",
       "      <td></td>\n",
       "      <td></td>\n",
       "      <td>62.241465</td>\n",
       "      <td>-0.006782</td>\n",
       "    </tr>\n",
       "    <tr>\n",
       "      <th>322</th>\n",
       "      <td>25.0</td>\n",
       "      <td>-7.0</td>\n",
       "      <td>57.0</td>\n",
       "      <td>1.695387e+09</td>\n",
       "      <td></td>\n",
       "      <td></td>\n",
       "      <td></td>\n",
       "      <td>62.633857</td>\n",
       "      <td>-0.002078</td>\n",
       "    </tr>\n",
       "    <tr>\n",
       "      <th>323</th>\n",
       "      <td>24.0</td>\n",
       "      <td>-7.0</td>\n",
       "      <td>57.0</td>\n",
       "      <td>1.695387e+09</td>\n",
       "      <td></td>\n",
       "      <td></td>\n",
       "      <td></td>\n",
       "      <td>62.241465</td>\n",
       "      <td>-0.006782</td>\n",
       "    </tr>\n",
       "    <tr>\n",
       "      <th>324</th>\n",
       "      <td>24.0</td>\n",
       "      <td>-7.0</td>\n",
       "      <td>57.0</td>\n",
       "      <td>1.695387e+09</td>\n",
       "      <td></td>\n",
       "      <td></td>\n",
       "      <td></td>\n",
       "      <td>62.241465</td>\n",
       "      <td>-0.006782</td>\n",
       "    </tr>\n",
       "    <tr>\n",
       "      <th>...</th>\n",
       "      <td>...</td>\n",
       "      <td>...</td>\n",
       "      <td>...</td>\n",
       "      <td>...</td>\n",
       "      <td>...</td>\n",
       "      <td>...</td>\n",
       "      <td>...</td>\n",
       "      <td>...</td>\n",
       "      <td>...</td>\n",
       "    </tr>\n",
       "    <tr>\n",
       "      <th>124411</th>\n",
       "      <td>11.0</td>\n",
       "      <td>12.0</td>\n",
       "      <td>61.0</td>\n",
       "      <td>1.695391e+09</td>\n",
       "      <td></td>\n",
       "      <td></td>\n",
       "      <td></td>\n",
       "      <td>63.134776</td>\n",
       "      <td>0.003927</td>\n",
       "    </tr>\n",
       "    <tr>\n",
       "      <th>124412</th>\n",
       "      <td>12.0</td>\n",
       "      <td>12.0</td>\n",
       "      <td>61.0</td>\n",
       "      <td>1.695391e+09</td>\n",
       "      <td></td>\n",
       "      <td></td>\n",
       "      <td></td>\n",
       "      <td>63.316664</td>\n",
       "      <td>0.006107</td>\n",
       "    </tr>\n",
       "    <tr>\n",
       "      <th>124413</th>\n",
       "      <td>13.0</td>\n",
       "      <td>14.0</td>\n",
       "      <td>61.0</td>\n",
       "      <td>1.695391e+09</td>\n",
       "      <td></td>\n",
       "      <td></td>\n",
       "      <td></td>\n",
       "      <td>63.921827</td>\n",
       "      <td>0.013362</td>\n",
       "    </tr>\n",
       "    <tr>\n",
       "      <th>124414</th>\n",
       "      <td>10.0</td>\n",
       "      <td>14.0</td>\n",
       "      <td>60.0</td>\n",
       "      <td>1.695391e+09</td>\n",
       "      <td></td>\n",
       "      <td></td>\n",
       "      <td></td>\n",
       "      <td>62.417946</td>\n",
       "      <td>-0.004667</td>\n",
       "    </tr>\n",
       "    <tr>\n",
       "      <th>124415</th>\n",
       "      <td>9.0</td>\n",
       "      <td>12.0</td>\n",
       "      <td>59.0</td>\n",
       "      <td>1.695391e+09</td>\n",
       "      <td></td>\n",
       "      <td></td>\n",
       "      <td></td>\n",
       "      <td>60.876925</td>\n",
       "      <td>-0.023141</td>\n",
       "    </tr>\n",
       "  </tbody>\n",
       "</table>\n",
       "<p>124096 rows × 9 columns</p>\n",
       "</div>"
      ],
      "text/plain": [
       "           x     y     z    timestamps starting_timestamp ending_timestamp  \\\n",
       "320     24.0  -7.0  57.0  1.695387e+09                                       \n",
       "321     24.0  -7.0  57.0  1.695387e+09                                       \n",
       "322     25.0  -7.0  57.0  1.695387e+09                                       \n",
       "323     24.0  -7.0  57.0  1.695387e+09                                       \n",
       "324     24.0  -7.0  57.0  1.695387e+09                                       \n",
       "...      ...   ...   ...           ...                ...              ...   \n",
       "124411  11.0  12.0  61.0  1.695391e+09                                       \n",
       "124412  12.0  12.0  61.0  1.695391e+09                                       \n",
       "124413  13.0  14.0  61.0  1.695391e+09                                       \n",
       "124414  10.0  14.0  60.0  1.695391e+09                                       \n",
       "124415   9.0  12.0  59.0  1.695391e+09                                       \n",
       "\n",
       "       sampling_frequency  magnitude  mean_norm  \n",
       "320                        62.241465  -0.006782  \n",
       "321                        62.241465  -0.006782  \n",
       "322                        62.633857  -0.002078  \n",
       "323                        62.241465  -0.006782  \n",
       "324                        62.241465  -0.006782  \n",
       "...                   ...        ...        ...  \n",
       "124411                     63.134776   0.003927  \n",
       "124412                     63.316664   0.006107  \n",
       "124413                     63.921827   0.013362  \n",
       "124414                     62.417946  -0.004667  \n",
       "124415                     60.876925  -0.023141  \n",
       "\n",
       "[124096 rows x 9 columns]"
      ]
     },
     "execution_count": 108,
     "metadata": {},
     "output_type": "execute_result"
    }
   ],
   "source": [
    "acc_df_sliced_synced"
   ]
  },
  {
   "cell_type": "code",
   "execution_count": 212,
   "id": "a381a500-6319-41d5-83cc-1476515c5abc",
   "metadata": {},
   "outputs": [
    {
     "data": {
      "image/png": "[encoded data removed]",
      "text/plain": [
       "<Figure size 640x480 with 1 Axes>"
      ]
     },
     "metadata": {},
     "output_type": "display_data"
    }
   ],
   "source": [
    "fsz = 26\n",
    "fsz_fig= 32\n",
    "fig, ax = plt.subplots()\n",
    "\n",
    "##---------------------------------------------\n",
    "\n",
    "ax.plot(acc_df_sliced_synced[\"timestamps\"], acc_df_sliced_synced[\"mean_norm\"])\n",
    "ax.plot(eda_df_sliced_synced[\"timestamps\"], eda_df_sliced_synced[\"mean_norm\"])\n",
    "ax.plot(hr_df_sliced_synced[\"timestamps\"],hr_df_sliced_synced[\"mean_norm\"])\n",
    "\n",
    "ax.vlines(acc_df_sliced_synced[\"timestamps\"].values[0], ymin=-1, ymax=4, color = 'red')\n",
    "ax.text(x= acc_df_sliced_synced[\"timestamps\"].values[0], y= 2, s=\"start\", rotation = 90, fontsize = 12)\n",
    "\n",
    "ax.vlines(acc_df_sliced_synced[\"timestamps\"].values[-1], ymin=-1, ymax=4, color = 'black')\n",
    "ax.text(x= acc_df_sliced_synced[\"timestamps\"].values[-1], y= 2, s=\"end\", rotation = 90, fontsize = 12)\n",
    "\n",
    "plt.show()"
   ]
  },
  {
   "cell_type": "code",
   "execution_count": null,
   "id": "4de9f9b2-a55b-47b4-951a-b610fb5261f8",
   "metadata": {},
   "outputs": [],
   "source": []
  },
  {
   "cell_type": "code",
   "execution_count": null,
   "id": "8f7a332c-31ff-4ed2-a53b-6e4460bfedc9",
   "metadata": {},
   "outputs": [],
   "source": []
  },
  {
   "cell_type": "markdown",
   "id": "d5b1904f-31d1-4170-ae17-8693cb5f5065",
   "metadata": {},
   "source": [
    "## Behavioral Data"
   ]
  },
  {
   "cell_type": "code",
   "execution_count": null,
   "id": "a60fc904-de86-44c3-912d-49f57392f1ee",
   "metadata": {},
   "outputs": [],
   "source": []
  },
  {
   "cell_type": "code",
   "execution_count": 213,
   "id": "028dc3a2-db1e-4a47-b451-0ef96d466669",
   "metadata": {},
   "outputs": [],
   "source": [
    "psychopy_csv_path = \"/home/muhammad/Desktop/repos_ixp/tester_sony_digirelax/datasets/psychopy/237035_DigiRelax_Experiment_2023-10-17_16h09.10.215.csv\""
   ]
  },
  {
   "cell_type": "code",
   "execution_count": 214,
   "id": "68ab0526-d2ae-4e3b-8f0e-e9d75fac61df",
   "metadata": {},
   "outputs": [],
   "source": [
    "psychopy_df = pd.read_csv(psychopy_csv_path)"
   ]
  },
  {
   "cell_type": "code",
   "execution_count": null,
   "id": "6feda9e9-40af-4779-98f9-38033fe89572",
   "metadata": {},
   "outputs": [],
   "source": []
  },
  {
   "cell_type": "code",
   "execution_count": 112,
   "id": "c66a2aee-7a21-483d-a787-04f3d4b43bc8",
   "metadata": {},
   "outputs": [
    {
     "data": {
      "text/html": [
       "<div>\n",
       "<style scoped>\n",
       "    .dataframe tbody tr th:only-of-type {\n",
       "        vertical-align: middle;\n",
       "    }\n",
       "\n",
       "    .dataframe tbody tr th {\n",
       "        vertical-align: top;\n",
       "    }\n",
       "\n",
       "    .dataframe thead th {\n",
       "        text-align: right;\n",
       "    }\n",
       "</style>\n",
       "<table border=\"1\" class=\"dataframe\">\n",
       "  <thead>\n",
       "    <tr style=\"text-align: right;\">\n",
       "      <th></th>\n",
       "      <th>Reference_time</th>\n",
       "      <th>baseline_instruction_ts</th>\n",
       "      <th>baseline_ts</th>\n",
       "      <th>sam_e_rt</th>\n",
       "      <th>sam_e_ts</th>\n",
       "      <th>mouse_e.x</th>\n",
       "      <th>mouse_e.y</th>\n",
       "      <th>mouse_e.leftButton</th>\n",
       "      <th>mouse_e.midButton</th>\n",
       "      <th>mouse_e.rightButton</th>\n",
       "      <th>...</th>\n",
       "      <th>relaxation_ts</th>\n",
       "      <th>saliva_probe_4_ts</th>\n",
       "      <th>final_instruction_ts</th>\n",
       "      <th>participant</th>\n",
       "      <th>session</th>\n",
       "      <th>date</th>\n",
       "      <th>expName</th>\n",
       "      <th>psychopyVersion</th>\n",
       "      <th>frameRate</th>\n",
       "      <th>Unnamed: 38</th>\n",
       "    </tr>\n",
       "  </thead>\n",
       "  <tbody>\n",
       "    <tr>\n",
       "      <th>0</th>\n",
       "      <td>1.697552e+09</td>\n",
       "      <td>1.697552e+09</td>\n",
       "      <td>1.697552e+09</td>\n",
       "      <td>9.451555</td>\n",
       "      <td>1.697552e+09</td>\n",
       "      <td>0.191429</td>\n",
       "      <td>-0.148571</td>\n",
       "      <td>1.0</td>\n",
       "      <td>0.0</td>\n",
       "      <td>0.0</td>\n",
       "      <td>...</td>\n",
       "      <td>NaN</td>\n",
       "      <td>NaN</td>\n",
       "      <td>NaN</td>\n",
       "      <td>237035.0</td>\n",
       "      <td>1.0</td>\n",
       "      <td>2023-10-17_16h09.10.215</td>\n",
       "      <td>DigiRelax_Experiment</td>\n",
       "      <td>2022.2.4</td>\n",
       "      <td>121.543112</td>\n",
       "      <td>NaN</td>\n",
       "    </tr>\n",
       "    <tr>\n",
       "      <th>1</th>\n",
       "      <td>NaN</td>\n",
       "      <td>NaN</td>\n",
       "      <td>NaN</td>\n",
       "      <td>NaN</td>\n",
       "      <td>NaN</td>\n",
       "      <td>NaN</td>\n",
       "      <td>NaN</td>\n",
       "      <td>NaN</td>\n",
       "      <td>NaN</td>\n",
       "      <td>NaN</td>\n",
       "      <td>...</td>\n",
       "      <td>NaN</td>\n",
       "      <td>NaN</td>\n",
       "      <td>NaN</td>\n",
       "      <td>237035.0</td>\n",
       "      <td>1.0</td>\n",
       "      <td>2023-10-17_16h09.10.215</td>\n",
       "      <td>DigiRelax_Experiment</td>\n",
       "      <td>2022.2.4</td>\n",
       "      <td>121.543112</td>\n",
       "      <td>NaN</td>\n",
       "    </tr>\n",
       "    <tr>\n",
       "      <th>2</th>\n",
       "      <td>NaN</td>\n",
       "      <td>NaN</td>\n",
       "      <td>NaN</td>\n",
       "      <td>40.658728</td>\n",
       "      <td>1.697552e+09</td>\n",
       "      <td>0.192381</td>\n",
       "      <td>-0.155238</td>\n",
       "      <td>1.0</td>\n",
       "      <td>0.0</td>\n",
       "      <td>0.0</td>\n",
       "      <td>...</td>\n",
       "      <td>NaN</td>\n",
       "      <td>NaN</td>\n",
       "      <td>NaN</td>\n",
       "      <td>237035.0</td>\n",
       "      <td>1.0</td>\n",
       "      <td>2023-10-17_16h09.10.215</td>\n",
       "      <td>DigiRelax_Experiment</td>\n",
       "      <td>2022.2.4</td>\n",
       "      <td>121.543112</td>\n",
       "      <td>NaN</td>\n",
       "    </tr>\n",
       "    <tr>\n",
       "      <th>3</th>\n",
       "      <td>NaN</td>\n",
       "      <td>NaN</td>\n",
       "      <td>NaN</td>\n",
       "      <td>NaN</td>\n",
       "      <td>NaN</td>\n",
       "      <td>NaN</td>\n",
       "      <td>NaN</td>\n",
       "      <td>NaN</td>\n",
       "      <td>NaN</td>\n",
       "      <td>NaN</td>\n",
       "      <td>...</td>\n",
       "      <td>NaN</td>\n",
       "      <td>NaN</td>\n",
       "      <td>NaN</td>\n",
       "      <td>237035.0</td>\n",
       "      <td>1.0</td>\n",
       "      <td>2023-10-17_16h09.10.215</td>\n",
       "      <td>DigiRelax_Experiment</td>\n",
       "      <td>2022.2.4</td>\n",
       "      <td>121.543112</td>\n",
       "      <td>NaN</td>\n",
       "    </tr>\n",
       "    <tr>\n",
       "      <th>4</th>\n",
       "      <td>NaN</td>\n",
       "      <td>NaN</td>\n",
       "      <td>NaN</td>\n",
       "      <td>65.333847</td>\n",
       "      <td>1.697552e+09</td>\n",
       "      <td>0.192381</td>\n",
       "      <td>-0.155238</td>\n",
       "      <td>1.0</td>\n",
       "      <td>0.0</td>\n",
       "      <td>0.0</td>\n",
       "      <td>...</td>\n",
       "      <td>1.697552e+09</td>\n",
       "      <td>NaN</td>\n",
       "      <td>NaN</td>\n",
       "      <td>237035.0</td>\n",
       "      <td>1.0</td>\n",
       "      <td>2023-10-17_16h09.10.215</td>\n",
       "      <td>DigiRelax_Experiment</td>\n",
       "      <td>2022.2.4</td>\n",
       "      <td>121.543112</td>\n",
       "      <td>NaN</td>\n",
       "    </tr>\n",
       "    <tr>\n",
       "      <th>5</th>\n",
       "      <td>NaN</td>\n",
       "      <td>NaN</td>\n",
       "      <td>NaN</td>\n",
       "      <td>NaN</td>\n",
       "      <td>NaN</td>\n",
       "      <td>NaN</td>\n",
       "      <td>NaN</td>\n",
       "      <td>NaN</td>\n",
       "      <td>NaN</td>\n",
       "      <td>NaN</td>\n",
       "      <td>...</td>\n",
       "      <td>NaN</td>\n",
       "      <td>NaN</td>\n",
       "      <td>NaN</td>\n",
       "      <td>237035.0</td>\n",
       "      <td>1.0</td>\n",
       "      <td>2023-10-17_16h09.10.215</td>\n",
       "      <td>DigiRelax_Experiment</td>\n",
       "      <td>2022.2.4</td>\n",
       "      <td>121.543112</td>\n",
       "      <td>NaN</td>\n",
       "    </tr>\n",
       "    <tr>\n",
       "      <th>6</th>\n",
       "      <td>NaN</td>\n",
       "      <td>NaN</td>\n",
       "      <td>NaN</td>\n",
       "      <td>NaN</td>\n",
       "      <td>NaN</td>\n",
       "      <td>NaN</td>\n",
       "      <td>NaN</td>\n",
       "      <td>NaN</td>\n",
       "      <td>NaN</td>\n",
       "      <td>NaN</td>\n",
       "      <td>...</td>\n",
       "      <td>NaN</td>\n",
       "      <td>1.697552e+09</td>\n",
       "      <td>1.697552e+09</td>\n",
       "      <td>NaN</td>\n",
       "      <td>NaN</td>\n",
       "      <td>NaN</td>\n",
       "      <td>NaN</td>\n",
       "      <td>NaN</td>\n",
       "      <td>NaN</td>\n",
       "      <td>NaN</td>\n",
       "    </tr>\n",
       "  </tbody>\n",
       "</table>\n",
       "<p>7 rows × 39 columns</p>\n",
       "</div>"
      ],
      "text/plain": [
       "   Reference_time  baseline_instruction_ts   baseline_ts   sam_e_rt  \\\n",
       "0    1.697552e+09             1.697552e+09  1.697552e+09   9.451555   \n",
       "1             NaN                      NaN           NaN        NaN   \n",
       "2             NaN                      NaN           NaN  40.658728   \n",
       "3             NaN                      NaN           NaN        NaN   \n",
       "4             NaN                      NaN           NaN  65.333847   \n",
       "5             NaN                      NaN           NaN        NaN   \n",
       "6             NaN                      NaN           NaN        NaN   \n",
       "\n",
       "       sam_e_ts  mouse_e.x  mouse_e.y  mouse_e.leftButton  mouse_e.midButton  \\\n",
       "0  1.697552e+09   0.191429  -0.148571                 1.0                0.0   \n",
       "1           NaN        NaN        NaN                 NaN                NaN   \n",
       "2  1.697552e+09   0.192381  -0.155238                 1.0                0.0   \n",
       "3           NaN        NaN        NaN                 NaN                NaN   \n",
       "4  1.697552e+09   0.192381  -0.155238                 1.0                0.0   \n",
       "5           NaN        NaN        NaN                 NaN                NaN   \n",
       "6           NaN        NaN        NaN                 NaN                NaN   \n",
       "\n",
       "   mouse_e.rightButton  ... relaxation_ts  saliva_probe_4_ts  \\\n",
       "0                  0.0  ...           NaN                NaN   \n",
       "1                  NaN  ...           NaN                NaN   \n",
       "2                  0.0  ...           NaN                NaN   \n",
       "3                  NaN  ...           NaN                NaN   \n",
       "4                  0.0  ...  1.697552e+09                NaN   \n",
       "5                  NaN  ...           NaN                NaN   \n",
       "6                  NaN  ...           NaN       1.697552e+09   \n",
       "\n",
       "   final_instruction_ts  participant  session                     date  \\\n",
       "0                   NaN     237035.0      1.0  2023-10-17_16h09.10.215   \n",
       "1                   NaN     237035.0      1.0  2023-10-17_16h09.10.215   \n",
       "2                   NaN     237035.0      1.0  2023-10-17_16h09.10.215   \n",
       "3                   NaN     237035.0      1.0  2023-10-17_16h09.10.215   \n",
       "4                   NaN     237035.0      1.0  2023-10-17_16h09.10.215   \n",
       "5                   NaN     237035.0      1.0  2023-10-17_16h09.10.215   \n",
       "6          1.697552e+09          NaN      NaN                      NaN   \n",
       "\n",
       "                expName  psychopyVersion   frameRate Unnamed: 38  \n",
       "0  DigiRelax_Experiment         2022.2.4  121.543112         NaN  \n",
       "1  DigiRelax_Experiment         2022.2.4  121.543112         NaN  \n",
       "2  DigiRelax_Experiment         2022.2.4  121.543112         NaN  \n",
       "3  DigiRelax_Experiment         2022.2.4  121.543112         NaN  \n",
       "4  DigiRelax_Experiment         2022.2.4  121.543112         NaN  \n",
       "5  DigiRelax_Experiment         2022.2.4  121.543112         NaN  \n",
       "6                   NaN              NaN         NaN         NaN  \n",
       "\n",
       "[7 rows x 39 columns]"
      ]
     },
     "execution_count": 112,
     "metadata": {},
     "output_type": "execute_result"
    }
   ],
   "source": [
    "psychopy_df"
   ]
  },
  {
   "cell_type": "code",
   "execution_count": 117,
   "id": "f84cd7b0-8339-431b-913f-370044bbb22d",
   "metadata": {},
   "outputs": [],
   "source": [
    "psychopy_ref = float(psychopy_df[\"Reference_time\"][0])"
   ]
  },
  {
   "cell_type": "code",
   "execution_count": 118,
   "id": "8fe49e5f-efe8-4cf3-b665-c9af3948a23c",
   "metadata": {},
   "outputs": [
    {
     "data": {
      "text/plain": [
       "1697551753.963336"
      ]
     },
     "execution_count": 118,
     "metadata": {},
     "output_type": "execute_result"
    }
   ],
   "source": [
    "psychopy_ref"
   ]
  },
  {
   "cell_type": "code",
   "execution_count": 130,
   "id": "cb779825-18cf-4019-80f2-ee50d9f441a6",
   "metadata": {},
   "outputs": [],
   "source": [
    "baseline_instruct_time = float([val for val in psychopy_df[\"baseline_instruction_ts\"].tolist() if not(math.isnan(val))][0])"
   ]
  },
  {
   "cell_type": "code",
   "execution_count": 131,
   "id": "50776eb5-8007-44a1-89d7-224a8257fff7",
   "metadata": {},
   "outputs": [
    {
     "data": {
      "text/plain": [
       "1697551759.512417"
      ]
     },
     "execution_count": 131,
     "metadata": {},
     "output_type": "execute_result"
    }
   ],
   "source": [
    "baseline_instruct_time"
   ]
  },
  {
   "cell_type": "code",
   "execution_count": 132,
   "id": "0970e286-0fdd-4f9b-bca5-a8ff31d2ba35",
   "metadata": {},
   "outputs": [],
   "source": [
    "sam_e_ts = [val for val in psychopy_df[\"sam_e_ts\"].tolist() if not(math.isnan(val))]"
   ]
  },
  {
   "cell_type": "code",
   "execution_count": 133,
   "id": "22c025e5-f941-4ea8-9eca-efb13bfd48c1",
   "metadata": {},
   "outputs": [
    {
     "data": {
      "text/plain": [
       "[1697551764.430419, 1697551795.637574, 1697551820.3126771]"
      ]
     },
     "execution_count": 133,
     "metadata": {},
     "output_type": "execute_result"
    }
   ],
   "source": [
    "sam_e_ts"
   ]
  },
  {
   "cell_type": "code",
   "execution_count": 137,
   "id": "96ebbe19-591a-4e71-aeb6-9613277f4e26",
   "metadata": {},
   "outputs": [],
   "source": [
    "relaxtion_ts = float([val for val in psychopy_df[\"relaxation_ts\"].tolist() if not(math.isnan(val))][0])"
   ]
  },
  {
   "cell_type": "code",
   "execution_count": 138,
   "id": "e51702f6-be59-41fd-89f5-8e3951fbe978",
   "metadata": {},
   "outputs": [],
   "source": [
    "saliva_4_ts = float([val for val in psychopy_df[\"saliva_probe_4_ts\"].tolist() if not(math.isnan(val))][0])"
   ]
  },
  {
   "cell_type": "code",
   "execution_count": 139,
   "id": "1708047a-79cb-453a-aa2c-4e1820c4dc87",
   "metadata": {},
   "outputs": [
    {
     "data": {
      "text/plain": [
       "1697551826.718216"
      ]
     },
     "execution_count": 139,
     "metadata": {},
     "output_type": "execute_result"
    }
   ],
   "source": [
    "saliva_4_ts"
   ]
  },
  {
   "cell_type": "code",
   "execution_count": 140,
   "id": "b943d2a9-627b-4d59-b49f-1e7b3a57a470",
   "metadata": {},
   "outputs": [],
   "source": [
    "final_instruction = float([val for val in psychopy_df[\"final_instruction_ts\"].tolist() if not(math.isnan(val))][0])"
   ]
  },
  {
   "cell_type": "code",
   "execution_count": 141,
   "id": "7c16cbd2-5d90-4fd7-baf6-c061895d4ef3",
   "metadata": {},
   "outputs": [
    {
     "data": {
      "text/plain": [
       "1697551833.801795"
      ]
     },
     "execution_count": 141,
     "metadata": {},
     "output_type": "execute_result"
    }
   ],
   "source": [
    "final_instruction"
   ]
  },
  {
   "cell_type": "code",
   "execution_count": 142,
   "id": "55c387f5-e8f4-460b-b8e5-01d7b0c78e93",
   "metadata": {},
   "outputs": [],
   "source": [
    "ts_array =np.arange(psychopy_ref, final_instruction, 1)"
   ]
  },
  {
   "cell_type": "code",
   "execution_count": 151,
   "id": "a0af50c3-7b5c-4439-9141-4ca776c5e7e1",
   "metadata": {},
   "outputs": [],
   "source": [
    "list_ts_array = list(ts_array)"
   ]
  },
  {
   "cell_type": "code",
   "execution_count": null,
   "id": "554827f5-9efe-4a14-a0d7-2c936e495d4c",
   "metadata": {},
   "outputs": [],
   "source": []
  },
  {
   "cell_type": "code",
   "execution_count": 157,
   "id": "65c9d859-45c7-44dc-b3d7-745ef364b220",
   "metadata": {},
   "outputs": [
    {
     "data": {
      "text/plain": [
       "(1697551753.963336, 1697551832.963336)"
      ]
     },
     "execution_count": 157,
     "metadata": {},
     "output_type": "execute_result"
    },
    {
     "data": {
      "image/png": "[encoded data removed]",
      "text/plain": [
       "<Figure size 640x480 with 1 Axes>"
      ]
     },
     "metadata": {},
     "output_type": "display_data"
    }
   ],
   "source": [
    "plt.xlim(list_ts_array[0], list_ts_array[-1])"
   ]
  },
  {
   "cell_type": "code",
   "execution_count": 158,
   "id": "d04d1708-d111-45c9-849a-793ebc711b84",
   "metadata": {},
   "outputs": [
    {
     "data": {
      "text/plain": [
       "<matplotlib.collections.LineCollection at 0x7f0cdeada100>"
      ]
     },
     "execution_count": 158,
     "metadata": {},
     "output_type": "execute_result"
    },
    {
     "data": {
      "image/png": "[encoded data removed]",
      "text/plain": [
       "<Figure size 640x480 with 1 Axes>"
      ]
     },
     "metadata": {},
     "output_type": "display_data"
    }
   ],
   "source": []
  },
  {
   "cell_type": "code",
   "execution_count": 164,
   "id": "e05a5846-6872-45be-87e8-89d47554a0a9",
   "metadata": {},
   "outputs": [
    {
     "data": {
      "image/png": "[encoded data removed]",
      "text/plain": [
       "<Figure size 640x480 with 1 Axes>"
      ]
     },
     "metadata": {},
     "output_type": "display_data"
    }
   ],
   "source": []
  },
  {
   "cell_type": "code",
   "execution_count": 179,
   "id": "dc71d8b0-d53e-4875-9824-b52d0a612338",
   "metadata": {},
   "outputs": [
    {
     "data": {
      "image/png": "[encoded data removed]",
      "text/plain": [
       "<Figure size 640x480 with 1 Axes>"
      ]
     },
     "metadata": {},
     "output_type": "display_data"
    }
   ],
   "source": [
    "fig, ax = plt.subplots(1,1)"
   ]
  },
  {
   "cell_type": "code",
   "execution_count": 184,
   "id": "8e02fa73-d7a3-4680-af48-a5af548f6003",
   "metadata": {},
   "outputs": [
    {
     "data": {
      "text/plain": [
       "Text(1697551753.963336, 2, 'REF')"
      ]
     },
     "execution_count": 184,
     "metadata": {},
     "output_type": "execute_result"
    }
   ],
   "source": [
    "ax.vlines(psychopy_ref, 0, 5, linestyles =\"dashed\", colors =\"k\")\n",
    "ax.text(x = psychopy_ref, y = 2, s = 'REF', rotation=90, fontsize = 26)\n",
    "#plt.show()\n",
    "#plt.text(x = event_df['reference_time(psy)'][0] - offset, y = 2, s = 'REF', rotation=90, fontsize = fsz)\n",
    "#plt.vlines(baseline_instruct_time, 0, 5, linestyles =\"dotted\", colors =\"k\")\n",
    "#plt.vlines(saliva_4_ts, 0, 5, linestyles =\"solid\", colors =\"k\")\n",
    "#plt.show()"
   ]
  },
  {
   "cell_type": "code",
   "execution_count": 190,
   "id": "39236f15-9b84-406b-aae9-df380ddb7211",
   "metadata": {},
   "outputs": [
    {
     "data": {
      "text/plain": [
       "Text(1697551753.963336, 2, 'REF')"
      ]
     },
     "execution_count": 190,
     "metadata": {},
     "output_type": "execute_result"
    }
   ],
   "source": [
    "ax.vlines(psychopy_ref, 0, 5, linestyles =\"dashed\", colors =\"k\")\n",
    "ax.text(x = psychopy_ref, y = 2, s = 'REF', rotation=90, fontsize = 26)\n",
    "#ax.vlines(baseline_instruct_time, 0, 5, linestyles =\"dotted\", colors =\"k\")"
   ]
  },
  {
   "cell_type": "code",
   "execution_count": 192,
   "id": "dc9090dd-453b-46b6-ab14-0c5b0bc1e2ed",
   "metadata": {},
   "outputs": [
    {
     "data": {
      "text/plain": [
       "(1697551753.963336, 1697551832.963336)"
      ]
     },
     "execution_count": 192,
     "metadata": {},
     "output_type": "execute_result"
    },
    {
     "data": {
      "image/png": "[encoded data removed]",
      "text/plain": [
       "<Figure size 640x480 with 1 Axes>"
      ]
     },
     "metadata": {},
     "output_type": "display_data"
    }
   ],
   "source": [
    "plt.xlim(list_ts_array[0], list_ts_array[-1])"
   ]
  },
  {
   "cell_type": "code",
   "execution_count": 193,
   "id": "004b68ba-1451-469b-a260-dd1829c6ce6d",
   "metadata": {},
   "outputs": [],
   "source": [
    "plt.show()"
   ]
  },
  {
   "cell_type": "code",
   "execution_count": null,
   "id": "ed36c810-270b-47b7-861a-db554dae637e",
   "metadata": {},
   "outputs": [],
   "source": []
  },
  {
   "cell_type": "code",
   "execution_count": null,
   "id": "9e4c9ad4-6087-4533-a05f-dc22683cf8c5",
   "metadata": {},
   "outputs": [],
   "source": []
  }
 ],
 "metadata": {
  "kernelspec": {
   "display_name": "Python 3 (ipykernel)",
   "language": "python",
   "name": "python3"
  },
  "language_info": {
   "codemirror_mode": {
    "name": "ipython",
    "version": 3
   },
   "file_extension": ".py",
   "mimetype": "text/x-python",
   "name": "python",
   "nbconvert_exporter": "python",
   "pygments_lexer": "ipython3",
   "version": "3.9.16"
  }
 },
 "nbformat": 4,
 "nbformat_minor": 5
}
