{
 "cells": [
  {
   "cell_type": "code",
   "execution_count": 1,
   "id": "8d75b6b6-a71f-481f-9042-d4763ed31703",
   "metadata": {},
   "outputs": [],
   "source": [
    "import pandas as pd\n",
    "import pytz\n",
    "import datetime as dt\n",
    "import math\n",
    "import seaborn as sns\n",
    "import matplotlib as mpl\n",
    "#mpl.rcParams['path.simplify'] = False\n",
    "import matplotlib.pyplot as plt\n",
    "import numpy as np"
   ]
  },
  {
   "cell_type": "code",
   "execution_count": 101,
   "id": "9af31184-a549-4b53-a789-837a79a03505",
   "metadata": {},
   "outputs": [],
   "source": [
    "def read_manipulate_psychopy(psychopy_path):\n",
    "    \n",
    "    psychopy_df = pd.read_csv(psychopy_path)\n",
    "    col_list = [col for col in psychopy_df.columns if col.endswith('_ts')]\n",
    "    col_list.insert(0, \"Reference_time\")\n",
    "    psychopy_df_selected = psychopy_df[col_list]\n",
    "    \n",
    "    return psychopy_df_selected    \n",
    "\n",
    "\n",
    "def read_shimmer_sensor(sensor_file_path):\n",
    "    \n",
    "    shimmer_df = pd.read_csv(sensor_file_path, sep='\\t', low_memory=False)\n",
    "    shimmer_df = shimmer_df.reset_index()\n",
    "    shimmer_df.columns = shimmer_df.iloc[0]\n",
    "    shimmer_df.drop([0, 1], axis=0, inplace=True)\n",
    "    shimmer_df=shimmer_df.reset_index(drop=True)\n",
    "    \n",
    "    return shimmer_df\n",
    "\n",
    "def standardize_timestamps_shimmer(shimmer_df, timestamps_col_name):\n",
    "    \n",
    "    timesstamps_list = shimmer_df[timestamps_col_name].to_list()\n",
    "    new_timestamps_list = [float(val)/1000 for val in  timesstamps_list]\n",
    "    \n",
    "    shimmer_df[timestamps_col_name] = new_timestamps_list\n",
    "    \n",
    "    return shimmer_df\n",
    "\n",
    "def get_nonNan_list_psychopy(psychopy_df, col_name):\n",
    "    \n",
    "    \n",
    "    selected_vals=[val for val in psychopy_df[col_name].to_list() if not(math.isnan(val))]\n",
    "    \n",
    "    return selected_vals\n",
    "\n",
    "\n",
    "def get_offset_timestamp(timestamp, offset_mins):\n",
    "    \n",
    "    time_zone = 'Europe/Berlin'\n",
    "    tz = pytz.timezone(time_zone)\n",
    "    local_time = dt.datetime.fromtimestamp(timestamp, tz)\n",
    "    time_change = dt.timedelta(minutes=offset_mins)\n",
    "    new_time = local_time + time_change\n",
    "    new_timestamp =  dt.datetime.timestamp(new_time)\n",
    "    return new_timestamp\n",
    "    \n",
    "def slice_df_wrt_timestamps(df, start_timestamp, end_timestamp, timestamps_col):\n",
    "    \n",
    "    sliced_df=df[(df[timestamps_col]>= start_timestamp) & (df[timestamps_col] <= end_timestamp)]\n",
    "    \n",
    "    return sliced_df\n",
    "\n",
    "def normalize_data (std_df, signal_col):\n",
    "    \n",
    "    \n",
    "    signal = std_df[signal_col].to_list()\n",
    "    \n",
    "    \n",
    "    signal_float =[float(val) for val in signal]\n",
    "    \n",
    "    signal_float_np = np.array(signal_float)\n",
    "    \n",
    "    \n",
    "    mean_signal = np.mean(signal_float_np)\n",
    "    \n",
    "    mean_sub = signal_float_np - mean_signal\n",
    "    \n",
    "    scaled_data =  mean_sub/np.max(np.abs(mean_sub))\n",
    "    \n",
    "    std_df[\"mean_norm\"] = scaled_data\n",
    "    \n",
    "    return std_df\n",
    "\n",
    "def mean_std_col_df (df, col_name):\n",
    "    \n",
    "    col_list = df[col_name].to_list()\n",
    "    \n",
    "    cols_list_float = [float(val) for val in col_list]\n",
    "    \n",
    "    cols_list_float_np =np.array(cols_list_float)\n",
    "    \n",
    "    mean_col= np.mean(cols_list_float_np)\n",
    "    std_col = np.std(cols_list_float_np)\n",
    "    \n",
    "    return mean_col, std_col\n",
    "\n",
    "\n",
    "def plot_mean_std(mean_list, std_list, label_list, title_figure, y_label_fig):\n",
    "    x_pos = np.arange(len(label_list))\n",
    "    fig, ax = plt.subplots()\n",
    "    ax.bar(x_pos, mean_list, yerr=std_list, align='center', alpha=0.5, capsize=10 )\n",
    "    ax.set_ylabel(y_label_fig)\n",
    "    ax.set_xticks(x_pos)\n",
    "    ax.set_xticklabels(label_list, rotation=45, ha='right', rotation_mode='anchor')\n",
    "    #title_ax = \"VP001_251023_Session1_Shimmer_FBA7_Calibrated_SD\"\n",
    "    ax.set_title(title_figure)\n",
    "    ax.yaxis.grid(True)\n",
    "    plt.tight_layout()\n",
    "    plt.show()\n",
    "    \n",
    "    \n",
    "    \n",
    "\n",
    "def get_mean_std_list_differrent_events(event_interest_list, offset_min_list,psychopy_df, sensor_df, timestamp_sensor_col_name, data_col_name):\n",
    "\n",
    "\n",
    "    mean_cumm_list =[]\n",
    "    std_cumm_list = []\n",
    "\n",
    "    event_interets_plot = []\n",
    "    \n",
    "    for ii, event_interest in enumerate(event_interest_list):\n",
    "        event_plot = event_interest +\" \"+ (str(offset_min_list[ii])) + \" min\"\n",
    "    \n",
    "        print(event_plot)\n",
    "        event_interets_plot.append(event_plot)\n",
    "    \n",
    "        #add_me = \n",
    "        #event_interest_list_plot = \n",
    "    \n",
    "        current_event_timestamp = get_nonNan_list_psychopy(psychopy_df, event_interest)[0]\n",
    "        offset_min = offset_min_list[ii]\n",
    "        timestamp_offset = get_offset_timestamp(current_event_timestamp, offset_min)\n",
    "    \n",
    "        print(dt.datetime.fromtimestamp(current_event_timestamp, tz))\n",
    "        print(dt.datetime.fromtimestamp(timestamp_offset, tz))\n",
    "    \n",
    "        start_end_time_list = [current_event_timestamp, timestamp_offset]\n",
    "    \n",
    "        timestamp_start_slice = min(start_end_time_list)\n",
    "    \n",
    "        timestamp_end_slice = max(start_end_time_list)\n",
    "    \n",
    "        sensor_df_ii=slice_df_wrt_timestamps(sensor_df, timestamp_start_slice, timestamp_end_slice, timestamp_sensor_col_name)\n",
    "        \n",
    "        mean_val, std_val = mean_std_col_df(sensor_df_ii, data_col_name) \n",
    "        mean_cumm_list.append(mean_val)\n",
    "        std_cumm_list.append(std_val)\n",
    "        \n",
    "    \n",
    "    \n",
    "    return mean_cumm_list, std_cumm_list, event_interets_plot\n",
    "    \n",
    "    \n",
    "    "
   ]
  },
  {
   "cell_type": "markdown",
   "id": "c2481087-2d62-47a4-aef5-7a1a3121f9c1",
   "metadata": {},
   "source": [
    "### Paths"
   ]
  },
  {
   "cell_type": "code",
   "execution_count": 4,
   "id": "93357c79-5125-4421-aeb2-1046218a7fc3",
   "metadata": {},
   "outputs": [],
   "source": [
    "psychopy_file_path = \"D:/Datasets/data_sony_digiRelax/pilot_study/VP003_261023/Psychopy_data/VP003_261023_DigiRelax_Experiment_2023-10-26_14h33.00.225.csv\"\n",
    "skin_shimmer_file_path =  \"D:/Datasets/data_sony_digiRelax/pilot_study/VP001_251023/Shimmer_data/2023-10-25_07.34.27_VP001_251023_SD_Session1/VP001_251023_Session1_Shimmer_FBA7_Calibrated_SD.csv\"\n",
    "hr_shimmer_file_path = \"D:/Datasets\\data_sony_digiRelax/pilot_study/VP001_251023/Shimmer_data/2023-10-25_07.34.27_VP001_251023_SD_Session1/VP001_251023_Session1_Shimmer_8108_Calibrated_SD.csv\""
   ]
  },
  {
   "cell_type": "markdown",
   "id": "f96621f1-e5e5-4e6b-85e5-2ef7dfe62293",
   "metadata": {},
   "source": [
    "## ---- read psychopy df"
   ]
  },
  {
   "cell_type": "code",
   "execution_count": 5,
   "id": "9ab81d46-a675-41bb-9e91-ad57f0f3b26c",
   "metadata": {},
   "outputs": [],
   "source": [
    "psychopy_df = read_manipulate_psychopy(psychopy_file_path)"
   ]
  },
  {
   "cell_type": "code",
   "execution_count": 102,
   "id": "5468613a-b94d-4738-bb14-fd24a2279810",
   "metadata": {},
   "outputs": [],
   "source": [
    "time_zone = 'Europe/Berlin'\n",
    "tz = pytz.timezone(time_zone)"
   ]
  },
  {
   "cell_type": "markdown",
   "id": "a1e3dd43-2059-457f-b94d-d79fa1d71fb1",
   "metadata": {},
   "source": [
    "## skin conductance"
   ]
  },
  {
   "cell_type": "code",
   "execution_count": 121,
   "id": "a21601a3-c99b-4899-afb9-a2f81bee90a5",
   "metadata": {},
   "outputs": [],
   "source": [
    "title_figure = \"VP001_251023_Session1_Shimmer_FBA7_Calibrated_SD\""
   ]
  },
  {
   "cell_type": "code",
   "execution_count": 124,
   "id": "7f977b66-4f91-44bf-8984-22b9b4ec530d",
   "metadata": {},
   "outputs": [
    {
     "name": "stdout",
     "output_type": "stream",
     "text": [
      "sam_e_ts -4 min\n",
      "2023-10-25 09:20:34.705226+02:00\n",
      "2023-10-25 09:16:34.705226+02:00\n",
      "tsst_prep_ts 5 min\n",
      "2023-10-25 09:25:42.867627+02:00\n",
      "2023-10-25 09:30:42.867627+02:00\n",
      "tsst_end_ts -5 min\n",
      "2023-10-25 09:42:51.462185+02:00\n",
      "2023-10-25 09:37:51.462185+02:00\n",
      "tsst_end_ts -10 min\n",
      "2023-10-25 09:42:51.462185+02:00\n",
      "2023-10-25 09:32:51.462185+02:00\n",
      "saliva_probe_3_ts -20 min\n",
      "2023-10-25 10:08:50.151226+02:00\n",
      "2023-10-25 09:48:50.151226+02:00\n",
      "saliva_probe_3_ts -15 min\n",
      "2023-10-25 10:08:50.151226+02:00\n",
      "2023-10-25 09:53:50.151226+02:00\n",
      "saliva_probe_3_ts -10 min\n",
      "2023-10-25 10:08:50.151226+02:00\n",
      "2023-10-25 09:58:50.151226+02:00\n",
      "saliva_probe_3_ts -5 min\n",
      "2023-10-25 10:08:50.151226+02:00\n",
      "2023-10-25 10:03:50.151226+02:00\n"
     ]
    },
    {
     "data": {
      "image/png": "[encoded data removed]",
      "text/plain": [
       "<Figure size 640x480 with 1 Axes>"
      ]
     },
     "metadata": {},
     "output_type": "display_data"
    }
   ],
   "source": [
    "\n",
    "skin_resis_shimmer_df = read_shimmer_sensor(skin_shimmer_file_path)\n",
    "skin_resis_shimmer_df = standardize_timestamps_shimmer(skin_resis_shimmer_df, \"Shimmer_FBA7_Timestamp_Unix_CAL\")\n",
    "skin_col_interest  = [\"Shimmer_FBA7_Timestamp_Unix_CAL\", \"Shimmer_FBA7_GSR_Skin_Conductance_CAL\"]\n",
    "skin_resis_shimmer_df_selected =skin_resis_shimmer_df[skin_col_interest]\n",
    "\n",
    "\n",
    "##-------------------------------\n",
    "event_interest_list = [\"sam_e_ts\", \"tsst_prep_ts\", \"tsst_end_ts\", \"tsst_end_ts\", \"saliva_probe_3_ts\", \"saliva_probe_3_ts\", \"saliva_probe_3_ts\", \"saliva_probe_3_ts\"]\n",
    "offset_min_list = [-4, 5, -5, -10, -20, -15, -10, -5]\n",
    "sensor_df= skin_resis_shimmer_df_selected\n",
    "\n",
    "####----------------------------------------------\n",
    "timestamp_sensor_col_name = \"Shimmer_FBA7_Timestamp_Unix_CAL\"\n",
    "data_col_name = \"Shimmer_FBA7_GSR_Skin_Conductance_CAL\"\n",
    "\n",
    "\n",
    "mean_list_sk, std_list_sk, event_interest_list_sk = get_mean_std_list_differrent_events(event_interest_list, offset_min_list,psychopy_df, sensor_df, timestamp_sensor_col_name, data_col_name)\n",
    "y_label_fig = \"Skin Conductance\"\n",
    "plot_mean_std(mean_list_sk, std_list_sk, event_interest_list_sk, title_figure, y_label_fig)"
   ]
  },
  {
   "cell_type": "code",
   "execution_count": null,
   "id": "b13e9581-c685-4866-a14e-4cc5004f1d84",
   "metadata": {},
   "outputs": [],
   "source": []
  },
  {
   "cell_type": "markdown",
   "id": "bda9574c-b697-4c59-a254-deeca420bd19",
   "metadata": {},
   "source": [
    "## Heart rate data"
   ]
  },
  {
   "cell_type": "code",
   "execution_count": 125,
   "id": "1ac4b786-220a-4653-ab55-3990176a7d6c",
   "metadata": {},
   "outputs": [
    {
     "name": "stdout",
     "output_type": "stream",
     "text": [
      "sam_e_ts -4 min\n",
      "2023-10-25 09:20:34.705226+02:00\n",
      "2023-10-25 09:16:34.705226+02:00\n",
      "tsst_prep_ts 5 min\n",
      "2023-10-25 09:25:42.867627+02:00\n",
      "2023-10-25 09:30:42.867627+02:00\n",
      "tsst_end_ts -5 min\n",
      "2023-10-25 09:42:51.462185+02:00\n",
      "2023-10-25 09:37:51.462185+02:00\n",
      "tsst_end_ts -10 min\n",
      "2023-10-25 09:42:51.462185+02:00\n",
      "2023-10-25 09:32:51.462185+02:00\n",
      "saliva_probe_3_ts -20 min\n",
      "2023-10-25 10:08:50.151226+02:00\n",
      "2023-10-25 09:48:50.151226+02:00\n",
      "saliva_probe_3_ts -15 min\n",
      "2023-10-25 10:08:50.151226+02:00\n",
      "2023-10-25 09:53:50.151226+02:00\n",
      "saliva_probe_3_ts -10 min\n",
      "2023-10-25 10:08:50.151226+02:00\n",
      "2023-10-25 09:58:50.151226+02:00\n",
      "saliva_probe_3_ts -5 min\n",
      "2023-10-25 10:08:50.151226+02:00\n",
      "2023-10-25 10:03:50.151226+02:00\n"
     ]
    },
    {
     "data": {
      "image/png": "[encoded data removed]",
      "text/plain": [
       "<Figure size 640x480 with 1 Axes>"
      ]
     },
     "metadata": {},
     "output_type": "display_data"
    }
   ],
   "source": [
    "hr_shimmer_df = read_shimmer_sensor(hr_shimmer_file_path)\n",
    "hr_shimmer_df = standardize_timestamps_shimmer(hr_shimmer_df, \"Shimmer_8108_Timestamp_Unix_CAL\")\n",
    "hr_col_interest  = [\"Shimmer_8108_Timestamp_Unix_CAL\", \"Shimmer_8108_ECG_LL-LA_24BIT_CAL\"]\n",
    "hr_shimmer_df_selected =hr_shimmer_df[hr_col_interest]\n",
    "\n",
    "####-------------------------------\n",
    "\n",
    "event_interest_list = [\"sam_e_ts\", \"tsst_prep_ts\", \"tsst_end_ts\", \"tsst_end_ts\", \"saliva_probe_3_ts\", \"saliva_probe_3_ts\", \"saliva_probe_3_ts\", \"saliva_probe_3_ts\"]\n",
    "offset_min_list = [-4, 5, -5, -10, -20, -15, -10, -5]\n",
    "sensor_df= hr_shimmer_df_selected\n",
    "timestamp_sensor_col_name = \"Shimmer_8108_Timestamp_Unix_CAL\"\n",
    "data_col_name = \"Shimmer_8108_ECG_LL-LA_24BIT_CAL\"\n",
    "#sensor_df = hr_shimmer_df_selected\n",
    "mean_list_hr, std_list_hr, event_interest_list_hr = get_mean_std_list_differrent_events(event_interest_list, offset_min_list, psychopy_df, sensor_df, timestamp_sensor_col_name, data_col_name)\n",
    "y_label_fig = \"Heart Rate\"\n",
    "plot_mean_std(mean_list_hr, std_list_hr, event_interest_list_hr, title_figure, y_label_fig)"
   ]
  },
  {
   "cell_type": "code",
   "execution_count": null,
   "id": "c54eaf4b-e076-4158-b680-bdbfc8551e58",
   "metadata": {},
   "outputs": [],
   "source": []
  },
  {
   "cell_type": "code",
   "execution_count": 126,
   "id": "41848122-e0f4-4d63-8163-d449954ef841",
   "metadata": {},
   "outputs": [],
   "source": [
    "#### exporting data of interest"
   ]
  },
  {
   "cell_type": "code",
   "execution_count": 130,
   "id": "eba6664c-a5fc-4378-a50b-2c361e91165a",
   "metadata": {},
   "outputs": [],
   "source": [
    "export_dict = {\"subject_id\":title_figure , 'event_interst': event_interest_list_hr, \"mean_sk_cond\":mean_list_sk , \"std_sk_cond\": std_list_hr , \"mean_hr\":mean_list_hr,  \"std_hr\": std_list_hr}"
   ]
  },
  {
   "cell_type": "code",
   "execution_count": 131,
   "id": "183b1b83-da4b-4de7-9cd9-0066e42e9c37",
   "metadata": {},
   "outputs": [
    {
     "data": {
      "text/plain": [
       "{'subject_id': 'VP001_251023_Session1_Shimmer_FBA7_Calibrated_SD',\n",
       " 'event_interst': ['sam_e_ts -4 min',\n",
       "  'tsst_prep_ts 5 min',\n",
       "  'tsst_end_ts -5 min',\n",
       "  'tsst_end_ts -10 min',\n",
       "  'saliva_probe_3_ts -20 min',\n",
       "  'saliva_probe_3_ts -15 min',\n",
       "  'saliva_probe_3_ts -10 min',\n",
       "  'saliva_probe_3_ts -5 min'],\n",
       " 'mean_sk_cond': [1.4692315409607983,\n",
       "  9.784331125325991,\n",
       "  19.12677870302947,\n",
       "  17.792329589021413,\n",
       "  10.933809776779652,\n",
       "  9.444445598539092,\n",
       "  8.795976665953448,\n",
       "  8.124489122177526],\n",
       " 'std_sk_cond': [0.21046845532124822,\n",
       "  2.80230958406295,\n",
       "  2.4826614728282776,\n",
       "  2.7900996453833775,\n",
       "  0.7788551620861335,\n",
       "  0.6636245511432706,\n",
       "  0.4386694156533364,\n",
       "  0.3457127568098296],\n",
       " 'mean_hr': [96.90395448045885,\n",
       "  94.71422506635726,\n",
       "  91.50205734476694,\n",
       "  92.40772795577674,\n",
       "  102.33798799818565,\n",
       "  102.63375867526868,\n",
       "  103.00723658594428,\n",
       "  103.27978896521671],\n",
       " 'std_hr': [0.21046845532124822,\n",
       "  2.80230958406295,\n",
       "  2.4826614728282776,\n",
       "  2.7900996453833775,\n",
       "  0.7788551620861335,\n",
       "  0.6636245511432706,\n",
       "  0.4386694156533364,\n",
       "  0.3457127568098296]}"
      ]
     },
     "execution_count": 131,
     "metadata": {},
     "output_type": "execute_result"
    }
   ],
   "source": [
    "export_dict"
   ]
  },
  {
   "cell_type": "code",
   "execution_count": 132,
   "id": "b2761fe3-4886-454a-b696-ed359868e937",
   "metadata": {},
   "outputs": [],
   "source": [
    "df_export = pd.DataFrame.from_dict(export_dict)"
   ]
  },
  {
   "cell_type": "code",
   "execution_count": 133,
   "id": "35e01246-69c6-44dd-857d-21f82d288121",
   "metadata": {},
   "outputs": [
    {
     "data": {
      "text/html": [
       "<div>\n",
       "<style scoped>\n",
       "    .dataframe tbody tr th:only-of-type {\n",
       "        vertical-align: middle;\n",
       "    }\n",
       "\n",
       "    .dataframe tbody tr th {\n",
       "        vertical-align: top;\n",
       "    }\n",
       "\n",
       "    .dataframe thead th {\n",
       "        text-align: right;\n",
       "    }\n",
       "</style>\n",
       "<table border=\"1\" class=\"dataframe\">\n",
       "  <thead>\n",
       "    <tr style=\"text-align: right;\">\n",
       "      <th></th>\n",
       "      <th>subject_id</th>\n",
       "      <th>event_interst</th>\n",
       "      <th>mean_sk_cond</th>\n",
       "      <th>std_sk_cond</th>\n",
       "      <th>mean_hr</th>\n",
       "      <th>std_hr</th>\n",
       "    </tr>\n",
       "  </thead>\n",
       "  <tbody>\n",
       "    <tr>\n",
       "      <th>0</th>\n",
       "      <td>VP001_251023_Session1_Shimmer_FBA7_Calibrated_SD</td>\n",
       "      <td>sam_e_ts -4 min</td>\n",
       "      <td>1.469232</td>\n",
       "      <td>0.210468</td>\n",
       "      <td>96.903954</td>\n",
       "      <td>0.210468</td>\n",
       "    </tr>\n",
       "    <tr>\n",
       "      <th>1</th>\n",
       "      <td>VP001_251023_Session1_Shimmer_FBA7_Calibrated_SD</td>\n",
       "      <td>tsst_prep_ts 5 min</td>\n",
       "      <td>9.784331</td>\n",
       "      <td>2.802310</td>\n",
       "      <td>94.714225</td>\n",
       "      <td>2.802310</td>\n",
       "    </tr>\n",
       "    <tr>\n",
       "      <th>2</th>\n",
       "      <td>VP001_251023_Session1_Shimmer_FBA7_Calibrated_SD</td>\n",
       "      <td>tsst_end_ts -5 min</td>\n",
       "      <td>19.126779</td>\n",
       "      <td>2.482661</td>\n",
       "      <td>91.502057</td>\n",
       "      <td>2.482661</td>\n",
       "    </tr>\n",
       "    <tr>\n",
       "      <th>3</th>\n",
       "      <td>VP001_251023_Session1_Shimmer_FBA7_Calibrated_SD</td>\n",
       "      <td>tsst_end_ts -10 min</td>\n",
       "      <td>17.792330</td>\n",
       "      <td>2.790100</td>\n",
       "      <td>92.407728</td>\n",
       "      <td>2.790100</td>\n",
       "    </tr>\n",
       "    <tr>\n",
       "      <th>4</th>\n",
       "      <td>VP001_251023_Session1_Shimmer_FBA7_Calibrated_SD</td>\n",
       "      <td>saliva_probe_3_ts -20 min</td>\n",
       "      <td>10.933810</td>\n",
       "      <td>0.778855</td>\n",
       "      <td>102.337988</td>\n",
       "      <td>0.778855</td>\n",
       "    </tr>\n",
       "    <tr>\n",
       "      <th>5</th>\n",
       "      <td>VP001_251023_Session1_Shimmer_FBA7_Calibrated_SD</td>\n",
       "      <td>saliva_probe_3_ts -15 min</td>\n",
       "      <td>9.444446</td>\n",
       "      <td>0.663625</td>\n",
       "      <td>102.633759</td>\n",
       "      <td>0.663625</td>\n",
       "    </tr>\n",
       "    <tr>\n",
       "      <th>6</th>\n",
       "      <td>VP001_251023_Session1_Shimmer_FBA7_Calibrated_SD</td>\n",
       "      <td>saliva_probe_3_ts -10 min</td>\n",
       "      <td>8.795977</td>\n",
       "      <td>0.438669</td>\n",
       "      <td>103.007237</td>\n",
       "      <td>0.438669</td>\n",
       "    </tr>\n",
       "    <tr>\n",
       "      <th>7</th>\n",
       "      <td>VP001_251023_Session1_Shimmer_FBA7_Calibrated_SD</td>\n",
       "      <td>saliva_probe_3_ts -5 min</td>\n",
       "      <td>8.124489</td>\n",
       "      <td>0.345713</td>\n",
       "      <td>103.279789</td>\n",
       "      <td>0.345713</td>\n",
       "    </tr>\n",
       "  </tbody>\n",
       "</table>\n",
       "</div>"
      ],
      "text/plain": [
       "                                         subject_id  \\\n",
       "0  VP001_251023_Session1_Shimmer_FBA7_Calibrated_SD   \n",
       "1  VP001_251023_Session1_Shimmer_FBA7_Calibrated_SD   \n",
       "2  VP001_251023_Session1_Shimmer_FBA7_Calibrated_SD   \n",
       "3  VP001_251023_Session1_Shimmer_FBA7_Calibrated_SD   \n",
       "4  VP001_251023_Session1_Shimmer_FBA7_Calibrated_SD   \n",
       "5  VP001_251023_Session1_Shimmer_FBA7_Calibrated_SD   \n",
       "6  VP001_251023_Session1_Shimmer_FBA7_Calibrated_SD   \n",
       "7  VP001_251023_Session1_Shimmer_FBA7_Calibrated_SD   \n",
       "\n",
       "               event_interst  mean_sk_cond  std_sk_cond     mean_hr    std_hr  \n",
       "0            sam_e_ts -4 min      1.469232     0.210468   96.903954  0.210468  \n",
       "1         tsst_prep_ts 5 min      9.784331     2.802310   94.714225  2.802310  \n",
       "2         tsst_end_ts -5 min     19.126779     2.482661   91.502057  2.482661  \n",
       "3        tsst_end_ts -10 min     17.792330     2.790100   92.407728  2.790100  \n",
       "4  saliva_probe_3_ts -20 min     10.933810     0.778855  102.337988  0.778855  \n",
       "5  saliva_probe_3_ts -15 min      9.444446     0.663625  102.633759  0.663625  \n",
       "6  saliva_probe_3_ts -10 min      8.795977     0.438669  103.007237  0.438669  \n",
       "7   saliva_probe_3_ts -5 min      8.124489     0.345713  103.279789  0.345713  "
      ]
     },
     "execution_count": 133,
     "metadata": {},
     "output_type": "execute_result"
    }
   ],
   "source": [
    "df_export"
   ]
  },
  {
   "cell_type": "code",
   "execution_count": 137,
   "id": "ef0fb8d3-69a5-4742-b261-d95a52cd95a2",
   "metadata": {},
   "outputs": [],
   "source": [
    "df_export.to_csv(title_figure)"
   ]
  },
  {
   "cell_type": "code",
   "execution_count": null,
   "id": "69955a47-adb0-48da-96f1-e7ead57cd5cb",
   "metadata": {},
   "outputs": [],
   "source": [
    "\n"
   ]
  },
  {
   "cell_type": "code",
   "execution_count": null,
   "id": "1e396176-a4d6-413b-ad2a-4968ee9e0f43",
   "metadata": {},
   "outputs": [],
   "source": []
  },
  {
   "cell_type": "code",
   "execution_count": null,
   "id": "0f03b2d4-48c9-4bdd-8960-cbf47108d685",
   "metadata": {},
   "outputs": [],
   "source": []
  },
  {
   "cell_type": "code",
   "execution_count": null,
   "id": "ab287179-1ac7-4038-a684-7a35fd834401",
   "metadata": {},
   "outputs": [],
   "source": []
  },
  {
   "cell_type": "code",
   "execution_count": null,
   "id": "719edfc9-d687-48c7-b258-0bb8d17af718",
   "metadata": {},
   "outputs": [],
   "source": []
  },
  {
   "cell_type": "code",
   "execution_count": null,
   "id": "28dd7e82-3f7c-4e2b-a151-473590b5e707",
   "metadata": {},
   "outputs": [],
   "source": []
  },
  {
   "cell_type": "code",
   "execution_count": null,
   "id": "cd9bf3aa-c490-4768-b73c-bbeac55173d3",
   "metadata": {},
   "outputs": [],
   "source": []
  },
  {
   "cell_type": "code",
   "execution_count": null,
   "id": "7edce04e-8b0e-4d4d-8b2d-79480dd4976d",
   "metadata": {},
   "outputs": [],
   "source": [
    "\n"
   ]
  },
  {
   "cell_type": "code",
   "execution_count": null,
   "id": "78681898-aa59-4589-9b78-6253f3af72ff",
   "metadata": {},
   "outputs": [],
   "source": []
  },
  {
   "cell_type": "code",
   "execution_count": null,
   "id": "8086a7ae-3e46-4b07-8db1-025496ac35f2",
   "metadata": {},
   "outputs": [],
   "source": []
  },
  {
   "cell_type": "code",
   "execution_count": null,
   "id": "e6cd5914-db22-4faa-b0c0-776ae092d521",
   "metadata": {},
   "outputs": [],
   "source": []
  },
  {
   "cell_type": "code",
   "execution_count": null,
   "id": "f82a7018-ee42-4869-92a7-1b056470bac1",
   "metadata": {},
   "outputs": [],
   "source": []
  },
  {
   "cell_type": "code",
   "execution_count": null,
   "id": "dd757723-03cc-43e5-af9f-70da7e204402",
   "metadata": {},
   "outputs": [],
   "source": []
  },
  {
   "cell_type": "code",
   "execution_count": null,
   "id": "514231ec-96a4-4780-8601-b7805cda0ce7",
   "metadata": {},
   "outputs": [],
   "source": []
  },
  {
   "cell_type": "code",
   "execution_count": null,
   "id": "3b4770f5-8037-4a5f-b5d3-c5afb7ad4837",
   "metadata": {},
   "outputs": [],
   "source": []
  },
  {
   "cell_type": "code",
   "execution_count": null,
   "id": "a45545c7-9a44-4114-8ae2-9b02a7cb1de4",
   "metadata": {},
   "outputs": [],
   "source": []
  },
  {
   "cell_type": "code",
   "execution_count": null,
   "id": "f69c8c83-dae8-4d3b-8bd6-c3700995e7fd",
   "metadata": {},
   "outputs": [],
   "source": [
    "\n",
    "    "
   ]
  },
  {
   "cell_type": "code",
   "execution_count": null,
   "id": "15fa87f9-23c2-4a12-bf46-3ccd4c0f1ec2",
   "metadata": {},
   "outputs": [],
   "source": [
    "\n",
    "\n"
   ]
  },
  {
   "cell_type": "code",
   "execution_count": null,
   "id": "15e64780-1b0c-48d9-a861-06f4d03c5486",
   "metadata": {},
   "outputs": [],
   "source": []
  },
  {
   "cell_type": "code",
   "execution_count": null,
   "id": "ff716084-13c9-4653-930e-589aa3b209e9",
   "metadata": {},
   "outputs": [],
   "source": [
    "\n"
   ]
  },
  {
   "cell_type": "code",
   "execution_count": null,
   "id": "8da8e6ea-0e0b-4344-bef2-f470092f2fdb",
   "metadata": {},
   "outputs": [],
   "source": [
    "\n"
   ]
  },
  {
   "cell_type": "code",
   "execution_count": null,
   "id": "64790473-41d3-431d-a211-75416b3b708a",
   "metadata": {},
   "outputs": [],
   "source": []
  },
  {
   "cell_type": "code",
   "execution_count": null,
   "id": "e1bdc364-b936-47cc-a58c-6c5dc078f0f5",
   "metadata": {},
   "outputs": [],
   "source": []
  },
  {
   "cell_type": "code",
   "execution_count": null,
   "id": "750431db-d05d-4e41-b6a2-df8f0ee26d08",
   "metadata": {},
   "outputs": [],
   "source": []
  }
 ],
 "metadata": {
  "kernelspec": {
   "display_name": "Python 3 (ipykernel)",
   "language": "python",
   "name": "python3"
  },
  "language_info": {
   "codemirror_mode": {
    "name": "ipython",
    "version": 3
   },
   "file_extension": ".py",
   "mimetype": "text/x-python",
   "name": "python",
   "nbconvert_exporter": "python",
   "pygments_lexer": "ipython3",
   "version": "3.9.13"
  }
 },
 "nbformat": 4,
 "nbformat_minor": 5
}
