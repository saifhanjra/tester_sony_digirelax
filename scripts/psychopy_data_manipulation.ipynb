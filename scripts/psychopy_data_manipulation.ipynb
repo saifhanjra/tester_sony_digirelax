{
 "cells": [
  {
   "cell_type": "code",
   "execution_count": 39,
   "id": "dd64a5d6-1003-4014-8286-cec031ddd5ae",
   "metadata": {},
   "outputs": [],
   "source": [
    "import pandas as pd\n",
    "import math\n",
    "import numpy as np"
   ]
  },
  {
   "cell_type": "code",
   "execution_count": 40,
   "id": "6aac27b0-1cbf-4422-9d30-a3429ffd5a08",
   "metadata": {},
   "outputs": [],
   "source": [
    "psychopy_file = \"/home/muhammad/Desktop/Datasets/dataset_tester_sony_digirelax/WP1_02_KLDV/Psychopy/WP1_02_KLDV_SAM_Experiment_2023-08-16_11h08.51.673.csv\"\n",
    "psychopy_df = pd.read_csv(psychopy_file, parse_dates=[0], infer_datetime_format=True)"
   ]
  },
  {
   "cell_type": "code",
   "execution_count": 41,
   "id": "c2b2101f-0dbd-4d59-b51b-c6addf4bd354",
   "metadata": {},
   "outputs": [
    {
     "data": {
      "text/html": [
       "<div>\n",
       "<style scoped>\n",
       "    .dataframe tbody tr th:only-of-type {\n",
       "        vertical-align: middle;\n",
       "    }\n",
       "\n",
       "    .dataframe tbody tr th {\n",
       "        vertical-align: top;\n",
       "    }\n",
       "\n",
       "    .dataframe thead th {\n",
       "        text-align: right;\n",
       "    }\n",
       "</style>\n",
       "<table border=\"1\" class=\"dataframe\">\n",
       "  <thead>\n",
       "    <tr style=\"text-align: right;\">\n",
       "      <th></th>\n",
       "      <th>arithmetic</th>\n",
       "      <th>arithmetic_response</th>\n",
       "      <th>number_correct</th>\n",
       "      <th>number_incorrect</th>\n",
       "      <th>arithmetic_fam_loop.thisRepN</th>\n",
       "      <th>arithmetic_fam_loop.thisTrialN</th>\n",
       "      <th>arithmetic_fam_loop.thisN</th>\n",
       "      <th>arithmetic_fam_loop.thisIndex</th>\n",
       "      <th>Arithmetic_trial_Loop.thisRepN</th>\n",
       "      <th>Arithmetic_trial_Loop.thisTrialN</th>\n",
       "      <th>...</th>\n",
       "      <th>key_resp_goodbye.rt</th>\n",
       "      <th>key_resp_goodbye.duration</th>\n",
       "      <th>EndofExp</th>\n",
       "      <th>participant</th>\n",
       "      <th>session</th>\n",
       "      <th>date</th>\n",
       "      <th>expName</th>\n",
       "      <th>psychopyVersion</th>\n",
       "      <th>frameRate</th>\n",
       "      <th>Unnamed: 94</th>\n",
       "    </tr>\n",
       "  </thead>\n",
       "  <tbody>\n",
       "    <tr>\n",
       "      <th>0</th>\n",
       "      <td>NaN</td>\n",
       "      <td>NaN</td>\n",
       "      <td>NaN</td>\n",
       "      <td>NaN</td>\n",
       "      <td>NaN</td>\n",
       "      <td>NaN</td>\n",
       "      <td>NaN</td>\n",
       "      <td>NaN</td>\n",
       "      <td>NaN</td>\n",
       "      <td>NaN</td>\n",
       "      <td>...</td>\n",
       "      <td>NaN</td>\n",
       "      <td>NaN</td>\n",
       "      <td>NaN</td>\n",
       "      <td>WP1_02_KLDV</td>\n",
       "      <td>1.0</td>\n",
       "      <td>2023-08-16_11h08.51.673</td>\n",
       "      <td>SAM_Experiment</td>\n",
       "      <td>2023.1.3</td>\n",
       "      <td>59.878375</td>\n",
       "      <td>NaN</td>\n",
       "    </tr>\n",
       "    <tr>\n",
       "      <th>1</th>\n",
       "      <td>NaN</td>\n",
       "      <td>NaN</td>\n",
       "      <td>NaN</td>\n",
       "      <td>NaN</td>\n",
       "      <td>NaN</td>\n",
       "      <td>NaN</td>\n",
       "      <td>NaN</td>\n",
       "      <td>NaN</td>\n",
       "      <td>NaN</td>\n",
       "      <td>NaN</td>\n",
       "      <td>...</td>\n",
       "      <td>NaN</td>\n",
       "      <td>NaN</td>\n",
       "      <td>NaN</td>\n",
       "      <td>WP1_02_KLDV</td>\n",
       "      <td>1.0</td>\n",
       "      <td>2023-08-16_11h08.51.673</td>\n",
       "      <td>SAM_Experiment</td>\n",
       "      <td>2023.1.3</td>\n",
       "      <td>59.878375</td>\n",
       "      <td>NaN</td>\n",
       "    </tr>\n",
       "    <tr>\n",
       "      <th>2</th>\n",
       "      <td>5 + 2 = 11</td>\n",
       "      <td>y</td>\n",
       "      <td>None</td>\n",
       "      <td>None</td>\n",
       "      <td>0.0</td>\n",
       "      <td>0.0</td>\n",
       "      <td>0.0</td>\n",
       "      <td>3527.0</td>\n",
       "      <td>NaN</td>\n",
       "      <td>NaN</td>\n",
       "      <td>...</td>\n",
       "      <td>NaN</td>\n",
       "      <td>NaN</td>\n",
       "      <td>NaN</td>\n",
       "      <td>WP1_02_KLDV</td>\n",
       "      <td>1.0</td>\n",
       "      <td>2023-08-16_11h08.51.673</td>\n",
       "      <td>SAM_Experiment</td>\n",
       "      <td>2023.1.3</td>\n",
       "      <td>59.878375</td>\n",
       "      <td>NaN</td>\n",
       "    </tr>\n",
       "    <tr>\n",
       "      <th>3</th>\n",
       "      <td>2 - 6 = 2</td>\n",
       "      <td>y</td>\n",
       "      <td>None</td>\n",
       "      <td>None</td>\n",
       "      <td>0.0</td>\n",
       "      <td>1.0</td>\n",
       "      <td>1.0</td>\n",
       "      <td>1443.0</td>\n",
       "      <td>NaN</td>\n",
       "      <td>NaN</td>\n",
       "      <td>...</td>\n",
       "      <td>NaN</td>\n",
       "      <td>NaN</td>\n",
       "      <td>NaN</td>\n",
       "      <td>WP1_02_KLDV</td>\n",
       "      <td>1.0</td>\n",
       "      <td>2023-08-16_11h08.51.673</td>\n",
       "      <td>SAM_Experiment</td>\n",
       "      <td>2023.1.3</td>\n",
       "      <td>59.878375</td>\n",
       "      <td>NaN</td>\n",
       "    </tr>\n",
       "    <tr>\n",
       "      <th>4</th>\n",
       "      <td>2 + 9 = 11</td>\n",
       "      <td>m</td>\n",
       "      <td>None</td>\n",
       "      <td>None</td>\n",
       "      <td>0.0</td>\n",
       "      <td>2.0</td>\n",
       "      <td>2.0</td>\n",
       "      <td>3304.0</td>\n",
       "      <td>NaN</td>\n",
       "      <td>NaN</td>\n",
       "      <td>...</td>\n",
       "      <td>NaN</td>\n",
       "      <td>NaN</td>\n",
       "      <td>NaN</td>\n",
       "      <td>WP1_02_KLDV</td>\n",
       "      <td>1.0</td>\n",
       "      <td>2023-08-16_11h08.51.673</td>\n",
       "      <td>SAM_Experiment</td>\n",
       "      <td>2023.1.3</td>\n",
       "      <td>59.878375</td>\n",
       "      <td>NaN</td>\n",
       "    </tr>\n",
       "    <tr>\n",
       "      <th>...</th>\n",
       "      <td>...</td>\n",
       "      <td>...</td>\n",
       "      <td>...</td>\n",
       "      <td>...</td>\n",
       "      <td>...</td>\n",
       "      <td>...</td>\n",
       "      <td>...</td>\n",
       "      <td>...</td>\n",
       "      <td>...</td>\n",
       "      <td>...</td>\n",
       "      <td>...</td>\n",
       "      <td>...</td>\n",
       "      <td>...</td>\n",
       "      <td>...</td>\n",
       "      <td>...</td>\n",
       "      <td>...</td>\n",
       "      <td>...</td>\n",
       "      <td>...</td>\n",
       "      <td>...</td>\n",
       "      <td>...</td>\n",
       "      <td>...</td>\n",
       "    </tr>\n",
       "    <tr>\n",
       "      <th>144</th>\n",
       "      <td>4 - 1 = 3</td>\n",
       "      <td>m</td>\n",
       "      <td>None</td>\n",
       "      <td>None</td>\n",
       "      <td>NaN</td>\n",
       "      <td>NaN</td>\n",
       "      <td>NaN</td>\n",
       "      <td>NaN</td>\n",
       "      <td>4.0</td>\n",
       "      <td>0.0</td>\n",
       "      <td>...</td>\n",
       "      <td>NaN</td>\n",
       "      <td>NaN</td>\n",
       "      <td>NaN</td>\n",
       "      <td>WP1_02_KLDV</td>\n",
       "      <td>1.0</td>\n",
       "      <td>2023-08-16_11h08.51.673</td>\n",
       "      <td>SAM_Experiment</td>\n",
       "      <td>2023.1.3</td>\n",
       "      <td>59.878375</td>\n",
       "      <td>NaN</td>\n",
       "    </tr>\n",
       "    <tr>\n",
       "      <th>145</th>\n",
       "      <td>4 - 1 = 9</td>\n",
       "      <td>y</td>\n",
       "      <td>None</td>\n",
       "      <td>None</td>\n",
       "      <td>NaN</td>\n",
       "      <td>NaN</td>\n",
       "      <td>NaN</td>\n",
       "      <td>NaN</td>\n",
       "      <td>4.0</td>\n",
       "      <td>0.0</td>\n",
       "      <td>...</td>\n",
       "      <td>NaN</td>\n",
       "      <td>NaN</td>\n",
       "      <td>NaN</td>\n",
       "      <td>WP1_02_KLDV</td>\n",
       "      <td>1.0</td>\n",
       "      <td>2023-08-16_11h08.51.673</td>\n",
       "      <td>SAM_Experiment</td>\n",
       "      <td>2023.1.3</td>\n",
       "      <td>59.878375</td>\n",
       "      <td>NaN</td>\n",
       "    </tr>\n",
       "    <tr>\n",
       "      <th>146</th>\n",
       "      <td>NaN</td>\n",
       "      <td>NaN</td>\n",
       "      <td>NaN</td>\n",
       "      <td>NaN</td>\n",
       "      <td>NaN</td>\n",
       "      <td>NaN</td>\n",
       "      <td>NaN</td>\n",
       "      <td>NaN</td>\n",
       "      <td>4.0</td>\n",
       "      <td>0.0</td>\n",
       "      <td>...</td>\n",
       "      <td>NaN</td>\n",
       "      <td>NaN</td>\n",
       "      <td>NaN</td>\n",
       "      <td>WP1_02_KLDV</td>\n",
       "      <td>1.0</td>\n",
       "      <td>2023-08-16_11h08.51.673</td>\n",
       "      <td>SAM_Experiment</td>\n",
       "      <td>2023.1.3</td>\n",
       "      <td>59.878375</td>\n",
       "      <td>NaN</td>\n",
       "    </tr>\n",
       "    <tr>\n",
       "      <th>147</th>\n",
       "      <td>NaN</td>\n",
       "      <td>NaN</td>\n",
       "      <td>NaN</td>\n",
       "      <td>NaN</td>\n",
       "      <td>NaN</td>\n",
       "      <td>NaN</td>\n",
       "      <td>NaN</td>\n",
       "      <td>NaN</td>\n",
       "      <td>NaN</td>\n",
       "      <td>NaN</td>\n",
       "      <td>...</td>\n",
       "      <td>3.30124</td>\n",
       "      <td>None</td>\n",
       "      <td>NaN</td>\n",
       "      <td>WP1_02_KLDV</td>\n",
       "      <td>1.0</td>\n",
       "      <td>2023-08-16_11h08.51.673</td>\n",
       "      <td>SAM_Experiment</td>\n",
       "      <td>2023.1.3</td>\n",
       "      <td>59.878375</td>\n",
       "      <td>NaN</td>\n",
       "    </tr>\n",
       "    <tr>\n",
       "      <th>148</th>\n",
       "      <td>NaN</td>\n",
       "      <td>NaN</td>\n",
       "      <td>NaN</td>\n",
       "      <td>NaN</td>\n",
       "      <td>NaN</td>\n",
       "      <td>NaN</td>\n",
       "      <td>NaN</td>\n",
       "      <td>NaN</td>\n",
       "      <td>NaN</td>\n",
       "      <td>NaN</td>\n",
       "      <td>...</td>\n",
       "      <td>NaN</td>\n",
       "      <td>NaN</td>\n",
       "      <td>1.692179e+09</td>\n",
       "      <td>NaN</td>\n",
       "      <td>NaN</td>\n",
       "      <td>NaN</td>\n",
       "      <td>NaN</td>\n",
       "      <td>NaN</td>\n",
       "      <td>NaN</td>\n",
       "      <td>NaN</td>\n",
       "    </tr>\n",
       "  </tbody>\n",
       "</table>\n",
       "<p>149 rows × 95 columns</p>\n",
       "</div>"
      ],
      "text/plain": [
       "     arithmetic arithmetic_response number_correct number_incorrect  \\\n",
       "0           NaN                 NaN            NaN              NaN   \n",
       "1           NaN                 NaN            NaN              NaN   \n",
       "2    5 + 2 = 11                   y           None             None   \n",
       "3     2 - 6 = 2                   y           None             None   \n",
       "4    2 + 9 = 11                   m           None             None   \n",
       "..          ...                 ...            ...              ...   \n",
       "144   4 - 1 = 3                   m           None             None   \n",
       "145   4 - 1 = 9                   y           None             None   \n",
       "146         NaN                 NaN            NaN              NaN   \n",
       "147         NaN                 NaN            NaN              NaN   \n",
       "148         NaN                 NaN            NaN              NaN   \n",
       "\n",
       "     arithmetic_fam_loop.thisRepN  arithmetic_fam_loop.thisTrialN  \\\n",
       "0                             NaN                             NaN   \n",
       "1                             NaN                             NaN   \n",
       "2                             0.0                             0.0   \n",
       "3                             0.0                             1.0   \n",
       "4                             0.0                             2.0   \n",
       "..                            ...                             ...   \n",
       "144                           NaN                             NaN   \n",
       "145                           NaN                             NaN   \n",
       "146                           NaN                             NaN   \n",
       "147                           NaN                             NaN   \n",
       "148                           NaN                             NaN   \n",
       "\n",
       "     arithmetic_fam_loop.thisN  arithmetic_fam_loop.thisIndex  \\\n",
       "0                          NaN                            NaN   \n",
       "1                          NaN                            NaN   \n",
       "2                          0.0                         3527.0   \n",
       "3                          1.0                         1443.0   \n",
       "4                          2.0                         3304.0   \n",
       "..                         ...                            ...   \n",
       "144                        NaN                            NaN   \n",
       "145                        NaN                            NaN   \n",
       "146                        NaN                            NaN   \n",
       "147                        NaN                            NaN   \n",
       "148                        NaN                            NaN   \n",
       "\n",
       "     Arithmetic_trial_Loop.thisRepN  Arithmetic_trial_Loop.thisTrialN  ...  \\\n",
       "0                               NaN                               NaN  ...   \n",
       "1                               NaN                               NaN  ...   \n",
       "2                               NaN                               NaN  ...   \n",
       "3                               NaN                               NaN  ...   \n",
       "4                               NaN                               NaN  ...   \n",
       "..                              ...                               ...  ...   \n",
       "144                             4.0                               0.0  ...   \n",
       "145                             4.0                               0.0  ...   \n",
       "146                             4.0                               0.0  ...   \n",
       "147                             NaN                               NaN  ...   \n",
       "148                             NaN                               NaN  ...   \n",
       "\n",
       "     key_resp_goodbye.rt  key_resp_goodbye.duration      EndofExp  \\\n",
       "0                    NaN                        NaN           NaN   \n",
       "1                    NaN                        NaN           NaN   \n",
       "2                    NaN                        NaN           NaN   \n",
       "3                    NaN                        NaN           NaN   \n",
       "4                    NaN                        NaN           NaN   \n",
       "..                   ...                        ...           ...   \n",
       "144                  NaN                        NaN           NaN   \n",
       "145                  NaN                        NaN           NaN   \n",
       "146                  NaN                        NaN           NaN   \n",
       "147              3.30124                       None           NaN   \n",
       "148                  NaN                        NaN  1.692179e+09   \n",
       "\n",
       "     participant  session                     date         expName  \\\n",
       "0    WP1_02_KLDV      1.0  2023-08-16_11h08.51.673  SAM_Experiment   \n",
       "1    WP1_02_KLDV      1.0  2023-08-16_11h08.51.673  SAM_Experiment   \n",
       "2    WP1_02_KLDV      1.0  2023-08-16_11h08.51.673  SAM_Experiment   \n",
       "3    WP1_02_KLDV      1.0  2023-08-16_11h08.51.673  SAM_Experiment   \n",
       "4    WP1_02_KLDV      1.0  2023-08-16_11h08.51.673  SAM_Experiment   \n",
       "..           ...      ...                      ...             ...   \n",
       "144  WP1_02_KLDV      1.0  2023-08-16_11h08.51.673  SAM_Experiment   \n",
       "145  WP1_02_KLDV      1.0  2023-08-16_11h08.51.673  SAM_Experiment   \n",
       "146  WP1_02_KLDV      1.0  2023-08-16_11h08.51.673  SAM_Experiment   \n",
       "147  WP1_02_KLDV      1.0  2023-08-16_11h08.51.673  SAM_Experiment   \n",
       "148          NaN      NaN                      NaN             NaN   \n",
       "\n",
       "     psychopyVersion  frameRate  Unnamed: 94  \n",
       "0           2023.1.3  59.878375          NaN  \n",
       "1           2023.1.3  59.878375          NaN  \n",
       "2           2023.1.3  59.878375          NaN  \n",
       "3           2023.1.3  59.878375          NaN  \n",
       "4           2023.1.3  59.878375          NaN  \n",
       "..               ...        ...          ...  \n",
       "144         2023.1.3  59.878375          NaN  \n",
       "145         2023.1.3  59.878375          NaN  \n",
       "146         2023.1.3  59.878375          NaN  \n",
       "147         2023.1.3  59.878375          NaN  \n",
       "148              NaN        NaN          NaN  \n",
       "\n",
       "[149 rows x 95 columns]"
      ]
     },
     "execution_count": 41,
     "metadata": {},
     "output_type": "execute_result"
    }
   ],
   "source": [
    "psychopy_df"
   ]
  },
  {
   "cell_type": "code",
   "execution_count": 42,
   "id": "5b005c17-a600-4d98-89a4-d30d4ae6a661",
   "metadata": {},
   "outputs": [],
   "source": [
    "psychopy_ref = float(psychopy_df[\"Reference_time\"][0])"
   ]
  },
  {
   "cell_type": "code",
   "execution_count": 72,
   "id": "261e4ec5-70af-4099-ad49-e07ca877c67b",
   "metadata": {},
   "outputs": [
    {
     "data": {
      "text/plain": [
       "1692176935.5216458"
      ]
     },
     "execution_count": 72,
     "metadata": {},
     "output_type": "execute_result"
    }
   ],
   "source": [
    "psychopy_ref"
   ]
  },
  {
   "cell_type": "code",
   "execution_count": 43,
   "id": "adc15f96-ae10-4cb4-ad39-37a0e1c48ccc",
   "metadata": {},
   "outputs": [
    {
     "data": {
      "text/plain": [
       "Index(['arithmetic', 'arithmetic_response', 'number_correct',\n",
       "       'number_incorrect', 'arithmetic_fam_loop.thisRepN',\n",
       "       'arithmetic_fam_loop.thisTrialN', 'arithmetic_fam_loop.thisN',\n",
       "       'arithmetic_fam_loop.thisIndex', 'Arithmetic_trial_Loop.thisRepN',\n",
       "       'Arithmetic_trial_Loop.thisTrialN', 'Arithmetic_trial_Loop.thisN',\n",
       "       'Arithmetic_trial_Loop.thisIndex', 'Arithmetic_Loop.thisRepN',\n",
       "       'Arithmetic_Loop.thisTrialN', 'Arithmetic_Loop.thisN',\n",
       "       'Arithmetic_Loop.thisIndex', 'Reference_time', 'Routine_start_time',\n",
       "       'welcome_text.started', 'key_interrupt_welcome.started',\n",
       "       'key_interrupt_welcome.keys', 'key_interrupt_welcome.rt',\n",
       "       'key_interrupt_welcome.duration', 'Baseline_Instruction_Text.started',\n",
       "       'trigger_time_glbl_baseline', 'global_baseline_.started',\n",
       "       'Instruction_Arithmetic.started', 'key_resp_arithmetic_start.started',\n",
       "       'key_resp_arithmetic_start.keys', 'key_resp_arithmetic_start.rt',\n",
       "       'key_resp_arithmetic_start.duration', 'trigger_time_fam_onset',\n",
       "       'arithmetic_fam_duration', 'arithmetic_task_fam.started',\n",
       "       'key_resp_arithmetic_fam.started', 'key_resp_arithmetic_fam.keys',\n",
       "       'key_resp_arithmetic_fam.corr', 'key_resp_arithmetic_fam.rt',\n",
       "       'key_resp_arithmetic_fam.duration', 'trigger_time_recovery',\n",
       "       'Recovery_.started', 'trigger_time_fam_vas_val',\n",
       "       'VAS_Valence_fam_.started', 'VAS_Valence_Slider_fam.response',\n",
       "       'trigger_time_fam_vas_arousal', 'VAS_Arousal_fam_.started',\n",
       "       'VAS_Arousal_Slider_fam.response', 'Practice_End_text.started',\n",
       "       'key_response_endOfpretest.started', 'key_response_endOfpretest.keys',\n",
       "       'key_response_endOfpretest.rt', 'key_response_endOfpretest.duration',\n",
       "       'trigger_time_task_baseline', 'Baseline_.started',\n",
       "       'trigger_time_task_onset', 'arithmetic_test_duration',\n",
       "       'arithmetic_tasks.started', 'key_resp_arithmetic.started',\n",
       "       'key_resp_arithmetic.keys', 'key_resp_arithmetic.corr',\n",
       "       'key_resp_arithmetic.rt', 'key_resp_arithmetic.duration',\n",
       "       'trigger_time_task_b_vas_val', 'VAS_Valence_b.started',\n",
       "       'VAS_Valence_Slider_b.response', 'trigger_time_task_b_vas_arousal',\n",
       "       'VAS_Arousal_b.started', 'VAS_Arousal_Slider_b.response',\n",
       "       'trigger_time_task_a_vas_val', 'VAS_Valence_a.started',\n",
       "       'VAS_Valence_Slider_a.response', 'trigger_time_task_a_vas_arousal',\n",
       "       'VAS_Arousal_a.started', 'VAS_Arousal_Slider_a.response',\n",
       "       'trigger_time_task_r_vas_val', 'VAS_Valence_r.started',\n",
       "       'VAS_Valence_Slider_r.response', 'trigger_time_task_r_vas_arousal',\n",
       "       'VAS_Arousal_r.started', 'VAS_Arousal_Slider_r.response',\n",
       "       'Baseline_.stopped', 'Recovery_.stopped', 'text_goodbye.started',\n",
       "       'key_resp_goodbye.started', 'key_resp_goodbye.keys',\n",
       "       'key_resp_goodbye.rt', 'key_resp_goodbye.duration', 'EndofExp',\n",
       "       'participant', 'session', 'date', 'expName', 'psychopyVersion',\n",
       "       'frameRate', 'Unnamed: 94'],\n",
       "      dtype='object')"
      ]
     },
     "execution_count": 43,
     "metadata": {},
     "output_type": "execute_result"
    }
   ],
   "source": [
    "psychopy_df.columns"
   ]
  },
  {
   "cell_type": "code",
   "execution_count": 44,
   "id": "7d33e726-5e64-47cd-b8a5-ffb84d7acfba",
   "metadata": {},
   "outputs": [],
   "source": [
    "global_baseline_list = psychopy_df[\"global_baseline_.started\"].tolist()"
   ]
  },
  {
   "cell_type": "code",
   "execution_count": 45,
   "id": "657a0feb-6935-4f28-aef4-36d2be218d58",
   "metadata": {},
   "outputs": [
    {
     "data": {
      "text/plain": [
       "63.46448969999619"
      ]
     },
     "execution_count": 45,
     "metadata": {},
     "output_type": "execute_result"
    }
   ],
   "source": [
    "global_baseline_val=[i for i in global_baseline_list if not(math.isnan(i))][0]\n",
    "global_baseline_val"
   ]
  },
  {
   "cell_type": "code",
   "execution_count": 46,
   "id": "843ec004-8a75-4d51-909e-a9c350bb65db",
   "metadata": {},
   "outputs": [],
   "source": [
    "task_baseline_list = psychopy_df[\"Baseline_.started\"].tolist()"
   ]
  },
  {
   "cell_type": "code",
   "execution_count": 47,
   "id": "8d4f7263-a1e0-478e-96ac-a452ebfff411",
   "metadata": {},
   "outputs": [],
   "source": [
    "task_baseline_val = [val for val in task_baseline_list if not(math.isnan(val))]"
   ]
  },
  {
   "cell_type": "code",
   "execution_count": 48,
   "id": "dd31cceb-dc69-480b-84c5-0288d7dbd941",
   "metadata": {},
   "outputs": [
    {
     "data": {
      "text/plain": [
       "[461.4576565000025,\n",
       " 776.2036936999939,\n",
       " 1107.7701659000013,\n",
       " 1416.9708541,\n",
       " 1756.109966300006]"
      ]
     },
     "execution_count": 48,
     "metadata": {},
     "output_type": "execute_result"
    }
   ],
   "source": [
    "task_baseline_val"
   ]
  },
  {
   "cell_type": "code",
   "execution_count": 49,
   "id": "7d1a759b-5e9b-428d-8643-4c6243013d01",
   "metadata": {},
   "outputs": [],
   "source": [
    "fam_onset_list = psychopy_df[\"arithmetic_task_fam.started\"].tolist()\n",
    "fam_onset_val = [val for val in fam_onset_list if not(math.isnan(val))][0]"
   ]
  },
  {
   "cell_type": "code",
   "execution_count": 50,
   "id": "727d1941-e94c-4a50-8ac0-09af3bf346f8",
   "metadata": {},
   "outputs": [
    {
     "data": {
      "text/plain": [
       "213.50895329999912"
      ]
     },
     "execution_count": 50,
     "metadata": {},
     "output_type": "execute_result"
    }
   ],
   "source": [
    "fam_onset_val"
   ]
  },
  {
   "cell_type": "code",
   "execution_count": 51,
   "id": "87507539-72ea-415a-a377-03681750ffd4",
   "metadata": {},
   "outputs": [],
   "source": [
    "fam_accuracy_list = psychopy_df[\"key_resp_arithmetic_fam.corr\"].tolist()"
   ]
  },
  {
   "cell_type": "code",
   "execution_count": 52,
   "id": "6c8df12d-1595-4584-bd3a-68c2c354d73a",
   "metadata": {},
   "outputs": [],
   "source": [
    "fam_acc = np.mean([fam for fam in fam_accuracy_list if (fam==0 or fam==1)])"
   ]
  },
  {
   "cell_type": "code",
   "execution_count": 53,
   "id": "e1633aa2-88d3-4a86-a30d-f977577b596f",
   "metadata": {},
   "outputs": [
    {
     "data": {
      "text/plain": [
       "0.1875"
      ]
     },
     "execution_count": 53,
     "metadata": {},
     "output_type": "execute_result"
    }
   ],
   "source": [
    "fam_acc"
   ]
  },
  {
   "cell_type": "code",
   "execution_count": 54,
   "id": "69e308d2-26cf-4075-aaf4-7ae35f30d4f0",
   "metadata": {},
   "outputs": [],
   "source": [
    "fam_avg_rt_list = psychopy_df[\"key_resp_arithmetic_fam.rt\"].tolist()"
   ]
  },
  {
   "cell_type": "code",
   "execution_count": 55,
   "id": "b716ea1f-7549-416f-96ad-4743daf2e5c4",
   "metadata": {},
   "outputs": [],
   "source": [
    "fam_avg_rt=[fam for fam in fam_avg_rt_list if not(math.isnan(fam))]"
   ]
  },
  {
   "cell_type": "code",
   "execution_count": 56,
   "id": "71f42567-590e-4515-bb3f-cd5c9bae73f0",
   "metadata": {},
   "outputs": [],
   "source": [
    "fam_avg_rt=np.mean(fam_avg_rt)"
   ]
  },
  {
   "cell_type": "code",
   "execution_count": 57,
   "id": "a6bc5bc2-3f3f-4440-a2bc-b5e0cf9669f6",
   "metadata": {},
   "outputs": [
    {
     "data": {
      "text/plain": [
       "1.294485926667888"
      ]
     },
     "execution_count": 57,
     "metadata": {},
     "output_type": "execute_result"
    }
   ],
   "source": [
    "fam_avg_rt"
   ]
  },
  {
   "cell_type": "markdown",
   "id": "55ba7b06-4566-4aee-88ec-4c1a290716d0",
   "metadata": {},
   "source": [
    "# Task"
   ]
  },
  {
   "cell_type": "code",
   "execution_count": 58,
   "id": "afb68a87-1915-42f6-8fef-70a495f583d9",
   "metadata": {},
   "outputs": [],
   "source": [
    "ind_ =psychopy_df['arithmetic_test_duration'].notnull()"
   ]
  },
  {
   "cell_type": "code",
   "execution_count": 59,
   "id": "b8cdecd3-d434-4428-9216-cbd22ac71633",
   "metadata": {},
   "outputs": [
    {
     "data": {
      "text/plain": [
       "0      False\n",
       "1      False\n",
       "2      False\n",
       "3      False\n",
       "4      False\n",
       "       ...  \n",
       "144    False\n",
       "145    False\n",
       "146    False\n",
       "147    False\n",
       "148    False\n",
       "Name: arithmetic_test_duration, Length: 149, dtype: bool"
      ]
     },
     "execution_count": 59,
     "metadata": {},
     "output_type": "execute_result"
    }
   ],
   "source": [
    "ind_"
   ]
  },
  {
   "cell_type": "code",
   "execution_count": 60,
   "id": "9a6573ef-d169-49f0-b928-fe2f58e3ea05",
   "metadata": {},
   "outputs": [],
   "source": [
    "trial_order = list(psychopy_df['arithmetic_test_duration'][ind_])"
   ]
  },
  {
   "cell_type": "code",
   "execution_count": 61,
   "id": "5c8dffac-d8ca-4304-bbbe-3ad7686d5228",
   "metadata": {},
   "outputs": [
    {
     "data": {
      "text/plain": [
       "[10.0, 40.0, 20.0, 60.0, 5.0]"
      ]
     },
     "execution_count": 61,
     "metadata": {},
     "output_type": "execute_result"
    }
   ],
   "source": [
    "trial_order"
   ]
  },
  {
   "cell_type": "code",
   "execution_count": 62,
   "id": "6f39a441-eb43-482a-9f24-c8de8cf9f14a",
   "metadata": {},
   "outputs": [],
   "source": [
    "trial_onset = list(psychopy_df['arithmetic_tasks.started'][ind_])"
   ]
  },
  {
   "cell_type": "code",
   "execution_count": 63,
   "id": "d6bba0d2-2234-41fa-ba5a-5236b2702e1a",
   "metadata": {},
   "outputs": [
    {
     "data": {
      "text/plain": [
       "[581.7925207999942,\n",
       " 896.4372904000047,\n",
       " 1228.1043776000006,\n",
       " 1537.2012522000005,\n",
       " 1876.4656661000045]"
      ]
     },
     "execution_count": 63,
     "metadata": {},
     "output_type": "execute_result"
    }
   ],
   "source": [
    "trial_onset"
   ]
  },
  {
   "cell_type": "code",
   "execution_count": 64,
   "id": "364b4d05-9eb7-4b57-b7c0-35feb494dcf7",
   "metadata": {},
   "outputs": [],
   "source": [
    "VAS_valence = [i for i in psychopy_df[\"VAS_Valence_b.started\"].tolist() if not(math.isnan(i))]"
   ]
  },
  {
   "cell_type": "code",
   "execution_count": 65,
   "id": "23a82b97-0b41-4f41-bcac-21a4fc713304",
   "metadata": {},
   "outputs": [
    {
     "data": {
      "text/plain": [
       "[711.8124036999943,\n",
       " 1056.449504200005,\n",
       " 1368.1164605999948,\n",
       " 1717.205434100004,\n",
       " 2001.4567646000069]"
      ]
     },
     "execution_count": 65,
     "metadata": {},
     "output_type": "execute_result"
    }
   ],
   "source": [
    "VAS_valence"
   ]
  },
  {
   "cell_type": "code",
   "execution_count": 66,
   "id": "c42c79b4-83f2-42f2-9d46-5a135b899827",
   "metadata": {},
   "outputs": [],
   "source": [
    "goodbye_scr_onset = [i for i in psychopy_df[\"key_resp_goodbye.started\"].tolist() if not(math.isnan(i))][0]"
   ]
  },
  {
   "cell_type": "code",
   "execution_count": 67,
   "id": "0a166f44-e793-4c80-85c7-70ac496e3446",
   "metadata": {},
   "outputs": [
    {
     "data": {
      "text/plain": [
       "2051.035614000008"
      ]
     },
     "execution_count": 67,
     "metadata": {},
     "output_type": "execute_result"
    }
   ],
   "source": [
    "goodbye_scr_onset"
   ]
  },
  {
   "cell_type": "code",
   "execution_count": 68,
   "id": "158e2a62-7858-4ff7-93b6-189e027f9ca4",
   "metadata": {},
   "outputs": [],
   "source": [
    "goodbye_scr_rt = [i for i in psychopy_df[\"key_resp_goodbye.rt\"].tolist() if not (math.isnan(i))][0]"
   ]
  },
  {
   "cell_type": "code",
   "execution_count": 69,
   "id": "aa0ae36b-62c1-470a-82f9-4de24b791989",
   "metadata": {},
   "outputs": [
    {
     "data": {
      "text/plain": [
       "3.301240300002973"
      ]
     },
     "execution_count": 69,
     "metadata": {},
     "output_type": "execute_result"
    }
   ],
   "source": [
    "goodbye_scr_rt"
   ]
  },
  {
   "cell_type": "code",
   "execution_count": 70,
   "id": "0bb2eb1e-f66e-4c4f-81e9-e8a9197beca1",
   "metadata": {},
   "outputs": [],
   "source": [
    "end_exp = goodbye_scr_onset + goodbye_scr_rt"
   ]
  },
  {
   "cell_type": "code",
   "execution_count": 71,
   "id": "6877b898-438a-4067-a012-fa0c5061a187",
   "metadata": {},
   "outputs": [
    {
     "data": {
      "text/plain": [
       "2054.336854300011"
      ]
     },
     "execution_count": 71,
     "metadata": {},
     "output_type": "execute_result"
    }
   ],
   "source": [
    "end_exp"
   ]
  },
  {
   "cell_type": "code",
   "execution_count": 75,
   "id": "e432b982-03ef-455d-8ce2-df40b56d66e4",
   "metadata": {},
   "outputs": [],
   "source": [
    "eof = [i for i in psychopy_df[\"EndofExp\"].tolist() if not(math.isnan(i))][0]"
   ]
  },
  {
   "cell_type": "code",
   "execution_count": 76,
   "id": "b9748121-5b39-4aff-b4fc-04ea549ad5a0",
   "metadata": {},
   "outputs": [
    {
     "data": {
      "text/plain": [
       "1692178953.500763"
      ]
     },
     "execution_count": 76,
     "metadata": {},
     "output_type": "execute_result"
    }
   ],
   "source": [
    "eof"
   ]
  },
  {
   "cell_type": "code",
   "execution_count": 77,
   "id": "e00773dc-150a-4f07-893c-a71d3c1fc6e4",
   "metadata": {},
   "outputs": [],
   "source": [
    "offset = (end_exp + psychopy_ref) -eof"
   ]
  },
  {
   "cell_type": "code",
   "execution_count": 78,
   "id": "e1ae8024-5a0d-4159-8864-e07f53126d38",
   "metadata": {},
   "outputs": [
    {
     "data": {
      "text/plain": [
       "36.35773706436157"
      ]
     },
     "execution_count": 78,
     "metadata": {},
     "output_type": "execute_result"
    }
   ],
   "source": [
    "offset"
   ]
  },
  {
   "cell_type": "code",
   "execution_count": null,
   "id": "24c79877-ecb4-426e-a3eb-138dddfa9c8a",
   "metadata": {},
   "outputs": [],
   "source": []
  }
 ],
 "metadata": {
  "kernelspec": {
   "display_name": "Python 3 (ipykernel)",
   "language": "python",
   "name": "python3"
  },
  "language_info": {
   "codemirror_mode": {
    "name": "ipython",
    "version": 3
   },
   "file_extension": ".py",
   "mimetype": "text/x-python",
   "name": "python",
   "nbconvert_exporter": "python",
   "pygments_lexer": "ipython3",
   "version": "3.9.13"
  }
 },
 "nbformat": 4,
 "nbformat_minor": 5
}
