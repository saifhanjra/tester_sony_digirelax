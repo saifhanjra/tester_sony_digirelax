{
 "cells": [
  {
   "cell_type": "code",
   "execution_count": 125,
   "id": "36a30e7b-9499-42e7-8817-4faf0c43d270",
   "metadata": {},
   "outputs": [],
   "source": [
    "import pandas as pd\n",
    "import numpy as np\n",
    "from datetime import datetime, timezone\n",
    "import matplotlib.pyplot as plt\n"
   ]
  },
  {
   "cell_type": "markdown",
   "id": "ce3445dc-bcf1-47ed-927a-38cae90ed23f",
   "metadata": {},
   "source": [
    "# Reading and manipulating accelrometer data"
   ]
  },
  {
   "cell_type": "code",
   "execution_count": 107,
   "id": "a8dce826-7cda-425b-8dd4-784e0a7b5688",
   "metadata": {},
   "outputs": [],
   "source": [
    "acc_sensor_path =\"/home/muhammad/Desktop/repos_ixp/tester_sony_digirelax/datasets/Empatica/ACC.csv\"\n",
    "acc_df = pd.read_csv(acc_sensor_path)"
   ]
  },
  {
   "cell_type": "code",
   "execution_count": 108,
   "id": "abc5dc1e-5262-41e2-9341-05dd9a4875ae",
   "metadata": {},
   "outputs": [
    {
     "data": {
      "text/html": [
       "<div>\n",
       "<style scoped>\n",
       "    .dataframe tbody tr th:only-of-type {\n",
       "        vertical-align: middle;\n",
       "    }\n",
       "\n",
       "    .dataframe tbody tr th {\n",
       "        vertical-align: top;\n",
       "    }\n",
       "\n",
       "    .dataframe thead th {\n",
       "        text-align: right;\n",
       "    }\n",
       "</style>\n",
       "<table border=\"1\" class=\"dataframe\">\n",
       "  <thead>\n",
       "    <tr style=\"text-align: right;\">\n",
       "      <th></th>\n",
       "      <th>1695386909.000000</th>\n",
       "      <th>1695386909.000000</th>\n",
       "      <th>1695386909.000000.1</th>\n",
       "    </tr>\n",
       "  </thead>\n",
       "  <tbody>\n",
       "    <tr>\n",
       "      <th>0</th>\n",
       "      <td>32.0</td>\n",
       "      <td>32.0</td>\n",
       "      <td>32.0</td>\n",
       "    </tr>\n",
       "    <tr>\n",
       "      <th>1</th>\n",
       "      <td>24.0</td>\n",
       "      <td>-7.0</td>\n",
       "      <td>58.0</td>\n",
       "    </tr>\n",
       "    <tr>\n",
       "      <th>2</th>\n",
       "      <td>24.0</td>\n",
       "      <td>-7.0</td>\n",
       "      <td>57.0</td>\n",
       "    </tr>\n",
       "    <tr>\n",
       "      <th>3</th>\n",
       "      <td>24.0</td>\n",
       "      <td>-7.0</td>\n",
       "      <td>57.0</td>\n",
       "    </tr>\n",
       "    <tr>\n",
       "      <th>4</th>\n",
       "      <td>24.0</td>\n",
       "      <td>-7.0</td>\n",
       "      <td>57.0</td>\n",
       "    </tr>\n",
       "    <tr>\n",
       "      <th>...</th>\n",
       "      <td>...</td>\n",
       "      <td>...</td>\n",
       "      <td>...</td>\n",
       "    </tr>\n",
       "    <tr>\n",
       "      <th>124442</th>\n",
       "      <td>9.0</td>\n",
       "      <td>14.0</td>\n",
       "      <td>61.0</td>\n",
       "    </tr>\n",
       "    <tr>\n",
       "      <th>124443</th>\n",
       "      <td>9.0</td>\n",
       "      <td>14.0</td>\n",
       "      <td>61.0</td>\n",
       "    </tr>\n",
       "    <tr>\n",
       "      <th>124444</th>\n",
       "      <td>9.0</td>\n",
       "      <td>14.0</td>\n",
       "      <td>61.0</td>\n",
       "    </tr>\n",
       "    <tr>\n",
       "      <th>124445</th>\n",
       "      <td>9.0</td>\n",
       "      <td>15.0</td>\n",
       "      <td>61.0</td>\n",
       "    </tr>\n",
       "    <tr>\n",
       "      <th>124446</th>\n",
       "      <td>9.0</td>\n",
       "      <td>13.0</td>\n",
       "      <td>61.0</td>\n",
       "    </tr>\n",
       "  </tbody>\n",
       "</table>\n",
       "<p>124447 rows × 3 columns</p>\n",
       "</div>"
      ],
      "text/plain": [
       "        1695386909.000000   1695386909.000000   1695386909.000000.1\n",
       "0                    32.0                32.0                  32.0\n",
       "1                    24.0                -7.0                  58.0\n",
       "2                    24.0                -7.0                  57.0\n",
       "3                    24.0                -7.0                  57.0\n",
       "4                    24.0                -7.0                  57.0\n",
       "...                   ...                 ...                   ...\n",
       "124442                9.0                14.0                  61.0\n",
       "124443                9.0                14.0                  61.0\n",
       "124444                9.0                14.0                  61.0\n",
       "124445                9.0                15.0                  61.0\n",
       "124446                9.0                13.0                  61.0\n",
       "\n",
       "[124447 rows x 3 columns]"
      ]
     },
     "execution_count": 108,
     "metadata": {},
     "output_type": "execute_result"
    }
   ],
   "source": [
    "acc_df"
   ]
  },
  {
   "cell_type": "code",
   "execution_count": 109,
   "id": "a7adbcf4-a55a-4b5d-9f53-b82f379496f8",
   "metadata": {},
   "outputs": [],
   "source": [
    "acc_df = pd.read_csv(acc_sensor_path, names = ['x', 'y', 'z'])"
   ]
  },
  {
   "cell_type": "code",
   "execution_count": 110,
   "id": "68fa4eb3-2d86-4105-b6c4-91cf16347a87",
   "metadata": {},
   "outputs": [
    {
     "data": {
      "text/html": [
       "<div>\n",
       "<style scoped>\n",
       "    .dataframe tbody tr th:only-of-type {\n",
       "        vertical-align: middle;\n",
       "    }\n",
       "\n",
       "    .dataframe tbody tr th {\n",
       "        vertical-align: top;\n",
       "    }\n",
       "\n",
       "    .dataframe thead th {\n",
       "        text-align: right;\n",
       "    }\n",
       "</style>\n",
       "<table border=\"1\" class=\"dataframe\">\n",
       "  <thead>\n",
       "    <tr style=\"text-align: right;\">\n",
       "      <th></th>\n",
       "      <th>x</th>\n",
       "      <th>y</th>\n",
       "      <th>z</th>\n",
       "    </tr>\n",
       "  </thead>\n",
       "  <tbody>\n",
       "    <tr>\n",
       "      <th>0</th>\n",
       "      <td>1.695387e+09</td>\n",
       "      <td>1.695387e+09</td>\n",
       "      <td>1.695387e+09</td>\n",
       "    </tr>\n",
       "    <tr>\n",
       "      <th>1</th>\n",
       "      <td>3.200000e+01</td>\n",
       "      <td>3.200000e+01</td>\n",
       "      <td>3.200000e+01</td>\n",
       "    </tr>\n",
       "    <tr>\n",
       "      <th>2</th>\n",
       "      <td>2.400000e+01</td>\n",
       "      <td>-7.000000e+00</td>\n",
       "      <td>5.800000e+01</td>\n",
       "    </tr>\n",
       "    <tr>\n",
       "      <th>3</th>\n",
       "      <td>2.400000e+01</td>\n",
       "      <td>-7.000000e+00</td>\n",
       "      <td>5.700000e+01</td>\n",
       "    </tr>\n",
       "    <tr>\n",
       "      <th>4</th>\n",
       "      <td>2.400000e+01</td>\n",
       "      <td>-7.000000e+00</td>\n",
       "      <td>5.700000e+01</td>\n",
       "    </tr>\n",
       "    <tr>\n",
       "      <th>...</th>\n",
       "      <td>...</td>\n",
       "      <td>...</td>\n",
       "      <td>...</td>\n",
       "    </tr>\n",
       "    <tr>\n",
       "      <th>124443</th>\n",
       "      <td>9.000000e+00</td>\n",
       "      <td>1.400000e+01</td>\n",
       "      <td>6.100000e+01</td>\n",
       "    </tr>\n",
       "    <tr>\n",
       "      <th>124444</th>\n",
       "      <td>9.000000e+00</td>\n",
       "      <td>1.400000e+01</td>\n",
       "      <td>6.100000e+01</td>\n",
       "    </tr>\n",
       "    <tr>\n",
       "      <th>124445</th>\n",
       "      <td>9.000000e+00</td>\n",
       "      <td>1.400000e+01</td>\n",
       "      <td>6.100000e+01</td>\n",
       "    </tr>\n",
       "    <tr>\n",
       "      <th>124446</th>\n",
       "      <td>9.000000e+00</td>\n",
       "      <td>1.500000e+01</td>\n",
       "      <td>6.100000e+01</td>\n",
       "    </tr>\n",
       "    <tr>\n",
       "      <th>124447</th>\n",
       "      <td>9.000000e+00</td>\n",
       "      <td>1.300000e+01</td>\n",
       "      <td>6.100000e+01</td>\n",
       "    </tr>\n",
       "  </tbody>\n",
       "</table>\n",
       "<p>124448 rows × 3 columns</p>\n",
       "</div>"
      ],
      "text/plain": [
       "                   x             y             z\n",
       "0       1.695387e+09  1.695387e+09  1.695387e+09\n",
       "1       3.200000e+01  3.200000e+01  3.200000e+01\n",
       "2       2.400000e+01 -7.000000e+00  5.800000e+01\n",
       "3       2.400000e+01 -7.000000e+00  5.700000e+01\n",
       "4       2.400000e+01 -7.000000e+00  5.700000e+01\n",
       "...              ...           ...           ...\n",
       "124443  9.000000e+00  1.400000e+01  6.100000e+01\n",
       "124444  9.000000e+00  1.400000e+01  6.100000e+01\n",
       "124445  9.000000e+00  1.400000e+01  6.100000e+01\n",
       "124446  9.000000e+00  1.500000e+01  6.100000e+01\n",
       "124447  9.000000e+00  1.300000e+01  6.100000e+01\n",
       "\n",
       "[124448 rows x 3 columns]"
      ]
     },
     "execution_count": 110,
     "metadata": {},
     "output_type": "execute_result"
    }
   ],
   "source": [
    "acc_df"
   ]
  },
  {
   "cell_type": "code",
   "execution_count": 111,
   "id": "6cc2ac32-7b59-45ba-9783-604dc6e1ad08",
   "metadata": {},
   "outputs": [],
   "source": [
    "start_time = acc_df.iloc[0,0]\n",
    "sampling_frequency = acc_df.iloc[1,0]\n",
    "sampling_time = 1/sampling_frequency"
   ]
  },
  {
   "cell_type": "code",
   "execution_count": 112,
   "id": "88f03c0d-7a1e-4407-91bd-31f567b38cc4",
   "metadata": {},
   "outputs": [],
   "source": [
    "time_stamps = start_time + (acc_df.index -2)*sampling_time"
   ]
  },
  {
   "cell_type": "code",
   "execution_count": 113,
   "id": "52af3704-e509-40bd-8ef8-103c80da524d",
   "metadata": {},
   "outputs": [
    {
     "data": {
      "text/plain": [
       "Float64Index([ 1695386908.9375, 1695386908.96875,     1695386909.0,\n",
       "              1695386909.03125,  1695386909.0625, 1695386909.09375,\n",
       "                1695386909.125, 1695386909.15625,  1695386909.1875,\n",
       "              1695386909.21875,\n",
       "              ...\n",
       "                1695390797.625, 1695390797.65625,  1695390797.6875,\n",
       "              1695390797.71875,    1695390797.75, 1695390797.78125,\n",
       "               1695390797.8125, 1695390797.84375,   1695390797.875,\n",
       "              1695390797.90625],\n",
       "             dtype='float64', length=124448)"
      ]
     },
     "execution_count": 113,
     "metadata": {},
     "output_type": "execute_result"
    }
   ],
   "source": [
    "time_stamps"
   ]
  },
  {
   "cell_type": "code",
   "execution_count": 114,
   "id": "9e7e1712-98dd-45f0-ad4e-8eca8321cb1f",
   "metadata": {},
   "outputs": [],
   "source": [
    "acc_df[\"timestamps\"] = time_stamps"
   ]
  },
  {
   "cell_type": "code",
   "execution_count": 115,
   "id": "379ba0c8-e2dc-4011-9ec2-ca1c4ae92723",
   "metadata": {},
   "outputs": [],
   "source": [
    "magnitude= np.sqrt(acc_df.iloc[2:,0]**2 + acc_df.iloc[2:,1]**2 + acc_df.iloc[2:,2]**2)"
   ]
  },
  {
   "cell_type": "code",
   "execution_count": 116,
   "id": "c39ec247-d09c-4374-9eec-470d69c14c0a",
   "metadata": {},
   "outputs": [
    {
     "data": {
      "text/plain": [
       "2         63.158531\n",
       "3         62.241465\n",
       "4         62.241465\n",
       "5         62.241465\n",
       "6         62.241465\n",
       "            ...    \n",
       "124443    63.229740\n",
       "124444    63.229740\n",
       "124445    63.229740\n",
       "124446    63.458648\n",
       "124447    63.015871\n",
       "Length: 124446, dtype: float64"
      ]
     },
     "execution_count": 116,
     "metadata": {},
     "output_type": "execute_result"
    }
   ],
   "source": [
    "magnitude"
   ]
  },
  {
   "cell_type": "code",
   "execution_count": 117,
   "id": "1031d232-d755-4573-832c-a8f490d6048b",
   "metadata": {},
   "outputs": [],
   "source": [
    "acc_df[\"magnitude\"] = magnitude"
   ]
  },
  {
   "cell_type": "code",
   "execution_count": 1,
   "id": "08d13936-77a5-43fb-b059-2717d5d3e43c",
   "metadata": {},
   "outputs": [
    {
     "ename": "NameError",
     "evalue": "name 'acc_df' is not defined",
     "output_type": "error",
     "traceback": [
      "\u001b[1;31m---------------------------------------------------------------------------\u001b[0m",
      "\u001b[1;31mNameError\u001b[0m                                 Traceback (most recent call last)",
      "\u001b[1;32m~\\AppData\\Local\\Temp\\ipykernel_25488\\1593728522.py\u001b[0m in \u001b[0;36m<module>\u001b[1;34m\u001b[0m\n\u001b[1;32m----> 1\u001b[1;33m \u001b[0macc_df\u001b[0m\u001b[1;33m\u001b[0m\u001b[1;33m\u001b[0m\u001b[0m\n\u001b[0m",
      "\u001b[1;31mNameError\u001b[0m: name 'acc_df' is not defined"
     ]
    }
   ],
   "source": [
    "acc_df"
   ]
  },
  {
   "cell_type": "code",
   "execution_count": 119,
   "id": "a3e13443-04be-48ba-bf15-1073729bd00f",
   "metadata": {},
   "outputs": [],
   "source": [
    "trace = acc_df[\"magnitude\"]"
   ]
  },
  {
   "cell_type": "code",
   "execution_count": 120,
   "id": "8ddc71bf-5ce5-42d7-8555-2ca8977a1ce3",
   "metadata": {},
   "outputs": [
    {
     "data": {
      "text/plain": [
       "62.80721674689598"
      ]
     },
     "execution_count": 120,
     "metadata": {},
     "output_type": "execute_result"
    }
   ],
   "source": [
    "np.mean(trace)"
   ]
  },
  {
   "cell_type": "code",
   "execution_count": 121,
   "id": "bcf3eaaf-d510-4526-8cea-eaf586533161",
   "metadata": {},
   "outputs": [],
   "source": [
    "trace = trace-np.mean(trace)"
   ]
  },
  {
   "cell_type": "code",
   "execution_count": 122,
   "id": "8ac332cb-3ec5-452e-8064-9210ac855f0e",
   "metadata": {},
   "outputs": [],
   "source": [
    "trace = trace/np.max(np.abs(trace))"
   ]
  },
  {
   "cell_type": "code",
   "execution_count": 124,
   "id": "c379846a-5875-4d5b-bd5c-3fa61fecc3a6",
   "metadata": {},
   "outputs": [],
   "source": [
    "acc_df[\"magnitude_norm\"]=trace"
   ]
  },
  {
   "cell_type": "code",
   "execution_count": 127,
   "id": "d1b37c3a-fde7-457e-bd90-085c7c303399",
   "metadata": {},
   "outputs": [
    {
     "data": {
      "text/plain": [
       "[<matplotlib.lines.Line2D at 0x7f94274d0a30>]"
      ]
     },
     "execution_count": 127,
     "metadata": {},
     "output_type": "execute_result"
    },
    {
     "data": {
      "image/png": "[encoded data removed]",
      "text/plain": [
       "<Figure size 640x480 with 1 Axes>"
      ]
     },
     "metadata": {},
     "output_type": "display_data"
    }
   ],
   "source": [
    "plt.plot(acc_df[\"timestamps\"], acc_df[\"magnitude_norm\"], color = \"red\")"
   ]
  },
  {
   "cell_type": "markdown",
   "id": "17d40971-d39e-4626-96e7-304bc3c7156a",
   "metadata": {},
   "source": [
    "#  Reading and manipulating EDA data"
   ]
  },
  {
   "cell_type": "code",
   "execution_count": 174,
   "id": "1a694fae-c6a9-4de7-b759-5b0d9068bb70",
   "metadata": {},
   "outputs": [],
   "source": [
    "eda_path = \"/home/muhammad/Desktop/repos_ixp/tester_sony_digirelax/datasets/Empatica/EDA.csv\""
   ]
  },
  {
   "cell_type": "code",
   "execution_count": 175,
   "id": "db66cd27-eb18-48ac-9587-501e3f0134ab",
   "metadata": {},
   "outputs": [],
   "source": [
    "eda_df = pd.read_csv(eda_path, names = ['eda'])"
   ]
  },
  {
   "cell_type": "code",
   "execution_count": 176,
   "id": "4ff9f475-ab35-49e3-9a01-a26871c513c5",
   "metadata": {},
   "outputs": [
    {
     "data": {
      "text/html": [
       "<div>\n",
       "<style scoped>\n",
       "    .dataframe tbody tr th:only-of-type {\n",
       "        vertical-align: middle;\n",
       "    }\n",
       "\n",
       "    .dataframe tbody tr th {\n",
       "        vertical-align: top;\n",
       "    }\n",
       "\n",
       "    .dataframe thead th {\n",
       "        text-align: right;\n",
       "    }\n",
       "</style>\n",
       "<table border=\"1\" class=\"dataframe\">\n",
       "  <thead>\n",
       "    <tr style=\"text-align: right;\">\n",
       "      <th></th>\n",
       "      <th>eda</th>\n",
       "    </tr>\n",
       "  </thead>\n",
       "  <tbody>\n",
       "    <tr>\n",
       "      <th>0</th>\n",
       "      <td>1.695387e+09</td>\n",
       "    </tr>\n",
       "    <tr>\n",
       "      <th>1</th>\n",
       "      <td>4.000000e+00</td>\n",
       "    </tr>\n",
       "    <tr>\n",
       "      <th>2</th>\n",
       "      <td>0.000000e+00</td>\n",
       "    </tr>\n",
       "    <tr>\n",
       "      <th>3</th>\n",
       "      <td>2.434200e-02</td>\n",
       "    </tr>\n",
       "    <tr>\n",
       "      <th>4</th>\n",
       "      <td>5.252800e-02</td>\n",
       "    </tr>\n",
       "    <tr>\n",
       "      <th>...</th>\n",
       "      <td>...</td>\n",
       "    </tr>\n",
       "    <tr>\n",
       "      <th>15549</th>\n",
       "      <td>8.408756e+00</td>\n",
       "    </tr>\n",
       "    <tr>\n",
       "      <th>15550</th>\n",
       "      <td>8.397226e+00</td>\n",
       "    </tr>\n",
       "    <tr>\n",
       "      <th>15551</th>\n",
       "      <td>8.380570e+00</td>\n",
       "    </tr>\n",
       "    <tr>\n",
       "      <th>15552</th>\n",
       "      <td>8.354947e+00</td>\n",
       "    </tr>\n",
       "    <tr>\n",
       "      <th>15553</th>\n",
       "      <td>8.266546e+00</td>\n",
       "    </tr>\n",
       "  </tbody>\n",
       "</table>\n",
       "<p>15554 rows × 1 columns</p>\n",
       "</div>"
      ],
      "text/plain": [
       "                eda\n",
       "0      1.695387e+09\n",
       "1      4.000000e+00\n",
       "2      0.000000e+00\n",
       "3      2.434200e-02\n",
       "4      5.252800e-02\n",
       "...             ...\n",
       "15549  8.408756e+00\n",
       "15550  8.397226e+00\n",
       "15551  8.380570e+00\n",
       "15552  8.354947e+00\n",
       "15553  8.266546e+00\n",
       "\n",
       "[15554 rows x 1 columns]"
      ]
     },
     "execution_count": 176,
     "metadata": {},
     "output_type": "execute_result"
    }
   ],
   "source": [
    "eda_df"
   ]
  },
  {
   "cell_type": "code",
   "execution_count": 177,
   "id": "a9ce1ca4-d06a-4e6f-bba1-498bb246f7e9",
   "metadata": {},
   "outputs": [],
   "source": [
    "start_time_eda = eda_df.iloc[0,0]"
   ]
  },
  {
   "cell_type": "code",
   "execution_count": 178,
   "id": "54c4dd6a-a08a-4ec7-ac50-278b1052e442",
   "metadata": {},
   "outputs": [
    {
     "data": {
      "text/plain": [
       "1695386909.0"
      ]
     },
     "execution_count": 178,
     "metadata": {},
     "output_type": "execute_result"
    }
   ],
   "source": [
    "start_time_eda"
   ]
  },
  {
   "cell_type": "code",
   "execution_count": 179,
   "id": "d50102e8-eed3-43bd-8551-f410182861e8",
   "metadata": {},
   "outputs": [],
   "source": [
    "sampling_frequency_eda = eda_df.iloc[1,0]\n",
    "sampling_time_eda = 1/sampling_frequency_eda"
   ]
  },
  {
   "cell_type": "code",
   "execution_count": 180,
   "id": "19b5974b-c5c8-41fe-99e6-47df02d6868c",
   "metadata": {},
   "outputs": [
    {
     "data": {
      "text/plain": [
       "0.25"
      ]
     },
     "execution_count": 180,
     "metadata": {},
     "output_type": "execute_result"
    }
   ],
   "source": [
    "sampling_time_eda"
   ]
  },
  {
   "cell_type": "code",
   "execution_count": 181,
   "id": "770e6514-759b-454d-a945-8b035863a9b2",
   "metadata": {},
   "outputs": [],
   "source": [
    "time_stamps_eda = start_time_eda + (eda_df.index -2)*sampling_time_eda"
   ]
  },
  {
   "cell_type": "code",
   "execution_count": 182,
   "id": "15a26ab4-33ea-4b19-9863-8ed8884e4ccb",
   "metadata": {},
   "outputs": [
    {
     "data": {
      "text/plain": [
       "Float64Index([ 1695386908.5, 1695386908.75,  1695386909.0, 1695386909.25,\n",
       "               1695386909.5, 1695386909.75,  1695386910.0, 1695386910.25,\n",
       "               1695386910.5, 1695386910.75,\n",
       "              ...\n",
       "               1695390794.5, 1695390794.75,  1695390795.0, 1695390795.25,\n",
       "               1695390795.5, 1695390795.75,  1695390796.0, 1695390796.25,\n",
       "               1695390796.5, 1695390796.75],\n",
       "             dtype='float64', length=15554)"
      ]
     },
     "execution_count": 182,
     "metadata": {},
     "output_type": "execute_result"
    }
   ],
   "source": [
    "time_stamps_eda"
   ]
  },
  {
   "cell_type": "code",
   "execution_count": 183,
   "id": "75366c43-09d7-494b-abc1-bf2d413c7be7",
   "metadata": {},
   "outputs": [],
   "source": [
    "eda_df[\"timestamps\"] = time_stamps_eda"
   ]
  },
  {
   "cell_type": "code",
   "execution_count": 184,
   "id": "ef16771d-93e3-40ef-8d2b-4cd2e63a8d7f",
   "metadata": {},
   "outputs": [
    {
     "data": {
      "text/html": [
       "<div>\n",
       "<style scoped>\n",
       "    .dataframe tbody tr th:only-of-type {\n",
       "        vertical-align: middle;\n",
       "    }\n",
       "\n",
       "    .dataframe tbody tr th {\n",
       "        vertical-align: top;\n",
       "    }\n",
       "\n",
       "    .dataframe thead th {\n",
       "        text-align: right;\n",
       "    }\n",
       "</style>\n",
       "<table border=\"1\" class=\"dataframe\">\n",
       "  <thead>\n",
       "    <tr style=\"text-align: right;\">\n",
       "      <th></th>\n",
       "      <th>eda</th>\n",
       "      <th>timestamps</th>\n",
       "    </tr>\n",
       "  </thead>\n",
       "  <tbody>\n",
       "    <tr>\n",
       "      <th>0</th>\n",
       "      <td>1.695387e+09</td>\n",
       "      <td>1.695387e+09</td>\n",
       "    </tr>\n",
       "    <tr>\n",
       "      <th>1</th>\n",
       "      <td>4.000000e+00</td>\n",
       "      <td>1.695387e+09</td>\n",
       "    </tr>\n",
       "    <tr>\n",
       "      <th>2</th>\n",
       "      <td>0.000000e+00</td>\n",
       "      <td>1.695387e+09</td>\n",
       "    </tr>\n",
       "    <tr>\n",
       "      <th>3</th>\n",
       "      <td>2.434200e-02</td>\n",
       "      <td>1.695387e+09</td>\n",
       "    </tr>\n",
       "    <tr>\n",
       "      <th>4</th>\n",
       "      <td>5.252800e-02</td>\n",
       "      <td>1.695387e+09</td>\n",
       "    </tr>\n",
       "    <tr>\n",
       "      <th>...</th>\n",
       "      <td>...</td>\n",
       "      <td>...</td>\n",
       "    </tr>\n",
       "    <tr>\n",
       "      <th>15549</th>\n",
       "      <td>8.408756e+00</td>\n",
       "      <td>1.695391e+09</td>\n",
       "    </tr>\n",
       "    <tr>\n",
       "      <th>15550</th>\n",
       "      <td>8.397226e+00</td>\n",
       "      <td>1.695391e+09</td>\n",
       "    </tr>\n",
       "    <tr>\n",
       "      <th>15551</th>\n",
       "      <td>8.380570e+00</td>\n",
       "      <td>1.695391e+09</td>\n",
       "    </tr>\n",
       "    <tr>\n",
       "      <th>15552</th>\n",
       "      <td>8.354947e+00</td>\n",
       "      <td>1.695391e+09</td>\n",
       "    </tr>\n",
       "    <tr>\n",
       "      <th>15553</th>\n",
       "      <td>8.266546e+00</td>\n",
       "      <td>1.695391e+09</td>\n",
       "    </tr>\n",
       "  </tbody>\n",
       "</table>\n",
       "<p>15554 rows × 2 columns</p>\n",
       "</div>"
      ],
      "text/plain": [
       "                eda    timestamps\n",
       "0      1.695387e+09  1.695387e+09\n",
       "1      4.000000e+00  1.695387e+09\n",
       "2      0.000000e+00  1.695387e+09\n",
       "3      2.434200e-02  1.695387e+09\n",
       "4      5.252800e-02  1.695387e+09\n",
       "...             ...           ...\n",
       "15549  8.408756e+00  1.695391e+09\n",
       "15550  8.397226e+00  1.695391e+09\n",
       "15551  8.380570e+00  1.695391e+09\n",
       "15552  8.354947e+00  1.695391e+09\n",
       "15553  8.266546e+00  1.695391e+09\n",
       "\n",
       "[15554 rows x 2 columns]"
      ]
     },
     "execution_count": 184,
     "metadata": {},
     "output_type": "execute_result"
    }
   ],
   "source": [
    "eda_df"
   ]
  },
  {
   "cell_type": "code",
   "execution_count": 185,
   "id": "3b82539b-b716-4d0e-a615-906c36741170",
   "metadata": {},
   "outputs": [],
   "source": [
    "magnitude= eda_df.iloc[2:,0]"
   ]
  },
  {
   "cell_type": "code",
   "execution_count": 196,
   "id": "632aef0b-9301-4516-b034-1aab000a26f4",
   "metadata": {},
   "outputs": [],
   "source": [
    "eda_df[\"eda\"] = magnitude"
   ]
  },
  {
   "cell_type": "code",
   "execution_count": 197,
   "id": "ff0b4ddd-b596-473b-9390-909d92720567",
   "metadata": {},
   "outputs": [
    {
     "data": {
      "text/html": [
       "<div>\n",
       "<style scoped>\n",
       "    .dataframe tbody tr th:only-of-type {\n",
       "        vertical-align: middle;\n",
       "    }\n",
       "\n",
       "    .dataframe tbody tr th {\n",
       "        vertical-align: top;\n",
       "    }\n",
       "\n",
       "    .dataframe thead th {\n",
       "        text-align: right;\n",
       "    }\n",
       "</style>\n",
       "<table border=\"1\" class=\"dataframe\">\n",
       "  <thead>\n",
       "    <tr style=\"text-align: right;\">\n",
       "      <th></th>\n",
       "      <th>eda</th>\n",
       "      <th>timestamps</th>\n",
       "      <th>eda_norm</th>\n",
       "    </tr>\n",
       "  </thead>\n",
       "  <tbody>\n",
       "    <tr>\n",
       "      <th>0</th>\n",
       "      <td>NaN</td>\n",
       "      <td>1.695387e+09</td>\n",
       "      <td>NaN</td>\n",
       "    </tr>\n",
       "    <tr>\n",
       "      <th>1</th>\n",
       "      <td>NaN</td>\n",
       "      <td>1.695387e+09</td>\n",
       "      <td>NaN</td>\n",
       "    </tr>\n",
       "    <tr>\n",
       "      <th>2</th>\n",
       "      <td>0.000000</td>\n",
       "      <td>1.695387e+09</td>\n",
       "      <td>-0.329462</td>\n",
       "    </tr>\n",
       "    <tr>\n",
       "      <th>3</th>\n",
       "      <td>0.024342</td>\n",
       "      <td>1.695387e+09</td>\n",
       "      <td>-0.326317</td>\n",
       "    </tr>\n",
       "    <tr>\n",
       "      <th>4</th>\n",
       "      <td>0.052528</td>\n",
       "      <td>1.695387e+09</td>\n",
       "      <td>-0.322676</td>\n",
       "    </tr>\n",
       "    <tr>\n",
       "      <th>...</th>\n",
       "      <td>...</td>\n",
       "      <td>...</td>\n",
       "      <td>...</td>\n",
       "    </tr>\n",
       "    <tr>\n",
       "      <th>15549</th>\n",
       "      <td>8.408756</td>\n",
       "      <td>1.695391e+09</td>\n",
       "      <td>0.756909</td>\n",
       "    </tr>\n",
       "    <tr>\n",
       "      <th>15550</th>\n",
       "      <td>8.397226</td>\n",
       "      <td>1.695391e+09</td>\n",
       "      <td>0.755419</td>\n",
       "    </tr>\n",
       "    <tr>\n",
       "      <th>15551</th>\n",
       "      <td>8.380570</td>\n",
       "      <td>1.695391e+09</td>\n",
       "      <td>0.753267</td>\n",
       "    </tr>\n",
       "    <tr>\n",
       "      <th>15552</th>\n",
       "      <td>8.354947</td>\n",
       "      <td>1.695391e+09</td>\n",
       "      <td>0.749957</td>\n",
       "    </tr>\n",
       "    <tr>\n",
       "      <th>15553</th>\n",
       "      <td>8.266546</td>\n",
       "      <td>1.695391e+09</td>\n",
       "      <td>0.738536</td>\n",
       "    </tr>\n",
       "  </tbody>\n",
       "</table>\n",
       "<p>15554 rows × 3 columns</p>\n",
       "</div>"
      ],
      "text/plain": [
       "            eda    timestamps  eda_norm\n",
       "0           NaN  1.695387e+09       NaN\n",
       "1           NaN  1.695387e+09       NaN\n",
       "2      0.000000  1.695387e+09 -0.329462\n",
       "3      0.024342  1.695387e+09 -0.326317\n",
       "4      0.052528  1.695387e+09 -0.322676\n",
       "...         ...           ...       ...\n",
       "15549  8.408756  1.695391e+09  0.756909\n",
       "15550  8.397226  1.695391e+09  0.755419\n",
       "15551  8.380570  1.695391e+09  0.753267\n",
       "15552  8.354947  1.695391e+09  0.749957\n",
       "15553  8.266546  1.695391e+09  0.738536\n",
       "\n",
       "[15554 rows x 3 columns]"
      ]
     },
     "execution_count": 197,
     "metadata": {},
     "output_type": "execute_result"
    }
   ],
   "source": [
    "eda_df"
   ]
  },
  {
   "cell_type": "code",
   "execution_count": 198,
   "id": "817e95c3-4b35-46e9-8d10-dd11c9d5debb",
   "metadata": {},
   "outputs": [
    {
     "data": {
      "text/plain": [
       "[<matplotlib.lines.Line2D at 0x7f942343dbe0>]"
      ]
     },
     "execution_count": 198,
     "metadata": {},
     "output_type": "execute_result"
    },
    {
     "data": {
      "image/png": "[encoded data removed]",
      "text/plain": [
       "<Figure size 640x480 with 1 Axes>"
      ]
     },
     "metadata": {},
     "output_type": "display_data"
    }
   ],
   "source": [
    "plt.plot(eda_df[\"timestamps\"], eda_df[\"eda\"])"
   ]
  },
  {
   "cell_type": "code",
   "execution_count": 186,
   "id": "b5b9375f-d9ed-44d2-8e53-9c8f82bf2fa5",
   "metadata": {},
   "outputs": [
    {
     "data": {
      "text/plain": [
       "2        0.000000\n",
       "3        0.024342\n",
       "4        0.052528\n",
       "5        0.055091\n",
       "6        0.055091\n",
       "           ...   \n",
       "15549    8.408756\n",
       "15550    8.397226\n",
       "15551    8.380570\n",
       "15552    8.354947\n",
       "15553    8.266546\n",
       "Name: eda, Length: 15552, dtype: float64"
      ]
     },
     "execution_count": 186,
     "metadata": {},
     "output_type": "execute_result"
    }
   ],
   "source": [
    "magnitude"
   ]
  },
  {
   "cell_type": "code",
   "execution_count": 187,
   "id": "1a7ddb14-86e4-4a82-8e43-b31b7d38fe73",
   "metadata": {},
   "outputs": [],
   "source": [
    "magnitude_norm =magnitude - np.mean(magnitude)"
   ]
  },
  {
   "cell_type": "code",
   "execution_count": 188,
   "id": "0443b6bf-1314-417b-a91b-d567e7feabde",
   "metadata": {},
   "outputs": [],
   "source": [
    "magnitude_norm = magnitude_norm / np.max(np.abs(magnitude_norm))"
   ]
  },
  {
   "cell_type": "code",
   "execution_count": 190,
   "id": "946cdbe0-11a1-49f4-b1c3-84f6ba75ea97",
   "metadata": {},
   "outputs": [],
   "source": [
    "eda_df['eda_norm'] = magnitude_norm"
   ]
  },
  {
   "cell_type": "code",
   "execution_count": 192,
   "id": "7a281898-0286-4b93-96ed-7deff9369cb0",
   "metadata": {},
   "outputs": [
    {
     "data": {
      "text/html": [
       "<div>\n",
       "<style scoped>\n",
       "    .dataframe tbody tr th:only-of-type {\n",
       "        vertical-align: middle;\n",
       "    }\n",
       "\n",
       "    .dataframe tbody tr th {\n",
       "        vertical-align: top;\n",
       "    }\n",
       "\n",
       "    .dataframe thead th {\n",
       "        text-align: right;\n",
       "    }\n",
       "</style>\n",
       "<table border=\"1\" class=\"dataframe\">\n",
       "  <thead>\n",
       "    <tr style=\"text-align: right;\">\n",
       "      <th></th>\n",
       "      <th>eda</th>\n",
       "      <th>timestamps</th>\n",
       "      <th>eda_norm</th>\n",
       "    </tr>\n",
       "  </thead>\n",
       "  <tbody>\n",
       "    <tr>\n",
       "      <th>0</th>\n",
       "      <td>1.695387e+09</td>\n",
       "      <td>1.695387e+09</td>\n",
       "      <td>NaN</td>\n",
       "    </tr>\n",
       "    <tr>\n",
       "      <th>1</th>\n",
       "      <td>4.000000e+00</td>\n",
       "      <td>1.695387e+09</td>\n",
       "      <td>NaN</td>\n",
       "    </tr>\n",
       "    <tr>\n",
       "      <th>2</th>\n",
       "      <td>0.000000e+00</td>\n",
       "      <td>1.695387e+09</td>\n",
       "      <td>-0.329462</td>\n",
       "    </tr>\n",
       "    <tr>\n",
       "      <th>3</th>\n",
       "      <td>2.434200e-02</td>\n",
       "      <td>1.695387e+09</td>\n",
       "      <td>-0.326317</td>\n",
       "    </tr>\n",
       "    <tr>\n",
       "      <th>4</th>\n",
       "      <td>5.252800e-02</td>\n",
       "      <td>1.695387e+09</td>\n",
       "      <td>-0.322676</td>\n",
       "    </tr>\n",
       "    <tr>\n",
       "      <th>...</th>\n",
       "      <td>...</td>\n",
       "      <td>...</td>\n",
       "      <td>...</td>\n",
       "    </tr>\n",
       "    <tr>\n",
       "      <th>15549</th>\n",
       "      <td>8.408756e+00</td>\n",
       "      <td>1.695391e+09</td>\n",
       "      <td>0.756909</td>\n",
       "    </tr>\n",
       "    <tr>\n",
       "      <th>15550</th>\n",
       "      <td>8.397226e+00</td>\n",
       "      <td>1.695391e+09</td>\n",
       "      <td>0.755419</td>\n",
       "    </tr>\n",
       "    <tr>\n",
       "      <th>15551</th>\n",
       "      <td>8.380570e+00</td>\n",
       "      <td>1.695391e+09</td>\n",
       "      <td>0.753267</td>\n",
       "    </tr>\n",
       "    <tr>\n",
       "      <th>15552</th>\n",
       "      <td>8.354947e+00</td>\n",
       "      <td>1.695391e+09</td>\n",
       "      <td>0.749957</td>\n",
       "    </tr>\n",
       "    <tr>\n",
       "      <th>15553</th>\n",
       "      <td>8.266546e+00</td>\n",
       "      <td>1.695391e+09</td>\n",
       "      <td>0.738536</td>\n",
       "    </tr>\n",
       "  </tbody>\n",
       "</table>\n",
       "<p>15554 rows × 3 columns</p>\n",
       "</div>"
      ],
      "text/plain": [
       "                eda    timestamps  eda_norm\n",
       "0      1.695387e+09  1.695387e+09       NaN\n",
       "1      4.000000e+00  1.695387e+09       NaN\n",
       "2      0.000000e+00  1.695387e+09 -0.329462\n",
       "3      2.434200e-02  1.695387e+09 -0.326317\n",
       "4      5.252800e-02  1.695387e+09 -0.322676\n",
       "...             ...           ...       ...\n",
       "15549  8.408756e+00  1.695391e+09  0.756909\n",
       "15550  8.397226e+00  1.695391e+09  0.755419\n",
       "15551  8.380570e+00  1.695391e+09  0.753267\n",
       "15552  8.354947e+00  1.695391e+09  0.749957\n",
       "15553  8.266546e+00  1.695391e+09  0.738536\n",
       "\n",
       "[15554 rows x 3 columns]"
      ]
     },
     "execution_count": 192,
     "metadata": {},
     "output_type": "execute_result"
    }
   ],
   "source": [
    "eda_df"
   ]
  },
  {
   "cell_type": "code",
   "execution_count": 194,
   "id": "84ef4ba1-2936-4091-aa6b-8b5497c340ed",
   "metadata": {},
   "outputs": [
    {
     "data": {
      "text/plain": [
       "[<matplotlib.lines.Line2D at 0x7f942654d3d0>]"
      ]
     },
     "execution_count": 194,
     "metadata": {},
     "output_type": "execute_result"
    },
    {
     "data": {
      "image/png": "[encoded data removed]",
      "text/plain": [
       "<Figure size 640x480 with 1 Axes>"
      ]
     },
     "metadata": {},
     "output_type": "display_data"
    }
   ],
   "source": [
    "plt.plot(eda_df[\"timestamps\"], eda_df[\"eda_norm\"])"
   ]
  },
  {
   "cell_type": "markdown",
   "id": "e9024ca5-bb68-4b93-bde2-dc1dd1dc010d",
   "metadata": {},
   "source": [
    "## BVP -------"
   ]
  },
  {
   "cell_type": "code",
   "execution_count": 207,
   "id": "4dc4e1f5-bb38-426a-8267-76de82d25c3f",
   "metadata": {},
   "outputs": [],
   "source": [
    "bvp_path = \"/home/muhammad/Desktop/repos_ixp/tester_sony_digirelax/datasets/Empatica/BVP.csv\"\n",
    "bvp_df= pd.read_csv(bvp_path)"
   ]
  },
  {
   "cell_type": "code",
   "execution_count": 209,
   "id": "9df8a9c3-8912-4373-8cd4-88bbf54a6a56",
   "metadata": {},
   "outputs": [],
   "source": [
    "start_time = bvp_df.iloc[0,0]\n",
    "sampling_frquency = "
   ]
  },
  {
   "cell_type": "code",
   "execution_count": 210,
   "id": "e3fdef31-7e77-4f1c-8a16-a5430cbe42b6",
   "metadata": {},
   "outputs": [
    {
     "data": {
      "text/plain": [
       "64.0"
      ]
     },
     "execution_count": 210,
     "metadata": {},
     "output_type": "execute_result"
    }
   ],
   "source": [
    "start_time"
   ]
  },
  {
   "cell_type": "code",
   "execution_count": null,
   "id": "a9e843ee-8eda-4b8c-99f9-61e37273afd5",
   "metadata": {},
   "outputs": [],
   "source": []
  }
 ],
 "metadata": {
  "kernelspec": {
   "display_name": "Python 3 (ipykernel)",
   "language": "python",
   "name": "python3"
  },
  "language_info": {
   "codemirror_mode": {
    "name": "ipython",
    "version": 3
   },
   "file_extension": ".py",
   "mimetype": "text/x-python",
   "name": "python",
   "nbconvert_exporter": "python",
   "pygments_lexer": "ipython3",
   "version": "3.9.13"
  }
 },
 "nbformat": 4,
 "nbformat_minor": 5
}
