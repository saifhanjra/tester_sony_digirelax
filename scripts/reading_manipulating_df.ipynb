{
 "cells": [
  {
   "cell_type": "code",
   "execution_count": 56,
   "id": "36a30e7b-9499-42e7-8817-4faf0c43d270",
   "metadata": {},
   "outputs": [],
   "source": [
    "import pandas as pd\n",
    "import numpy as np\n",
    "from datetime import datetime, timezone\n",
    "import matplotlib.pyplot as plt"
   ]
  },
  {
   "cell_type": "markdown",
   "id": "ce3445dc-bcf1-47ed-927a-38cae90ed23f",
   "metadata": {},
   "source": [
    "# Reading and manipulating accelrometer data"
   ]
  },
  {
   "cell_type": "code",
   "execution_count": 57,
   "id": "a8dce826-7cda-425b-8dd4-784e0a7b5688",
   "metadata": {},
   "outputs": [],
   "source": [
    "acc_sensor_path =\"/home/muhammad/Desktop/repos_ixp/tester_sony_digirelax/datasets/Empatica/ACC.csv\"\n",
    "acc_df = pd.read_csv(acc_sensor_path)"
   ]
  },
  {
   "cell_type": "code",
   "execution_count": 3,
   "id": "abc5dc1e-5262-41e2-9341-05dd9a4875ae",
   "metadata": {},
   "outputs": [
    {
     "data": {
      "text/html": [
       "<div>\n",
       "<style scoped>\n",
       "    .dataframe tbody tr th:only-of-type {\n",
       "        vertical-align: middle;\n",
       "    }\n",
       "\n",
       "    .dataframe tbody tr th {\n",
       "        vertical-align: top;\n",
       "    }\n",
       "\n",
       "    .dataframe thead th {\n",
       "        text-align: right;\n",
       "    }\n",
       "</style>\n",
       "<table border=\"1\" class=\"dataframe\">\n",
       "  <thead>\n",
       "    <tr style=\"text-align: right;\">\n",
       "      <th></th>\n",
       "      <th>1695386909.000000</th>\n",
       "      <th>1695386909.000000</th>\n",
       "      <th>1695386909.000000.1</th>\n",
       "    </tr>\n",
       "  </thead>\n",
       "  <tbody>\n",
       "    <tr>\n",
       "      <th>0</th>\n",
       "      <td>32.0</td>\n",
       "      <td>32.0</td>\n",
       "      <td>32.0</td>\n",
       "    </tr>\n",
       "    <tr>\n",
       "      <th>1</th>\n",
       "      <td>24.0</td>\n",
       "      <td>-7.0</td>\n",
       "      <td>58.0</td>\n",
       "    </tr>\n",
       "    <tr>\n",
       "      <th>2</th>\n",
       "      <td>24.0</td>\n",
       "      <td>-7.0</td>\n",
       "      <td>57.0</td>\n",
       "    </tr>\n",
       "    <tr>\n",
       "      <th>3</th>\n",
       "      <td>24.0</td>\n",
       "      <td>-7.0</td>\n",
       "      <td>57.0</td>\n",
       "    </tr>\n",
       "    <tr>\n",
       "      <th>4</th>\n",
       "      <td>24.0</td>\n",
       "      <td>-7.0</td>\n",
       "      <td>57.0</td>\n",
       "    </tr>\n",
       "    <tr>\n",
       "      <th>...</th>\n",
       "      <td>...</td>\n",
       "      <td>...</td>\n",
       "      <td>...</td>\n",
       "    </tr>\n",
       "    <tr>\n",
       "      <th>124442</th>\n",
       "      <td>9.0</td>\n",
       "      <td>14.0</td>\n",
       "      <td>61.0</td>\n",
       "    </tr>\n",
       "    <tr>\n",
       "      <th>124443</th>\n",
       "      <td>9.0</td>\n",
       "      <td>14.0</td>\n",
       "      <td>61.0</td>\n",
       "    </tr>\n",
       "    <tr>\n",
       "      <th>124444</th>\n",
       "      <td>9.0</td>\n",
       "      <td>14.0</td>\n",
       "      <td>61.0</td>\n",
       "    </tr>\n",
       "    <tr>\n",
       "      <th>124445</th>\n",
       "      <td>9.0</td>\n",
       "      <td>15.0</td>\n",
       "      <td>61.0</td>\n",
       "    </tr>\n",
       "    <tr>\n",
       "      <th>124446</th>\n",
       "      <td>9.0</td>\n",
       "      <td>13.0</td>\n",
       "      <td>61.0</td>\n",
       "    </tr>\n",
       "  </tbody>\n",
       "</table>\n",
       "<p>124447 rows × 3 columns</p>\n",
       "</div>"
      ],
      "text/plain": [
       "        1695386909.000000   1695386909.000000   1695386909.000000.1\n",
       "0                    32.0                32.0                  32.0\n",
       "1                    24.0                -7.0                  58.0\n",
       "2                    24.0                -7.0                  57.0\n",
       "3                    24.0                -7.0                  57.0\n",
       "4                    24.0                -7.0                  57.0\n",
       "...                   ...                 ...                   ...\n",
       "124442                9.0                14.0                  61.0\n",
       "124443                9.0                14.0                  61.0\n",
       "124444                9.0                14.0                  61.0\n",
       "124445                9.0                15.0                  61.0\n",
       "124446                9.0                13.0                  61.0\n",
       "\n",
       "[124447 rows x 3 columns]"
      ]
     },
     "execution_count": 3,
     "metadata": {},
     "output_type": "execute_result"
    }
   ],
   "source": [
    "acc_df"
   ]
  },
  {
   "cell_type": "code",
   "execution_count": 4,
   "id": "a7adbcf4-a55a-4b5d-9f53-b82f379496f8",
   "metadata": {},
   "outputs": [],
   "source": [
    "acc_df = pd.read_csv(acc_sensor_path, names = ['x', 'y', 'z'])"
   ]
  },
  {
   "cell_type": "code",
   "execution_count": 5,
   "id": "68fa4eb3-2d86-4105-b6c4-91cf16347a87",
   "metadata": {},
   "outputs": [
    {
     "data": {
      "text/html": [
       "<div>\n",
       "<style scoped>\n",
       "    .dataframe tbody tr th:only-of-type {\n",
       "        vertical-align: middle;\n",
       "    }\n",
       "\n",
       "    .dataframe tbody tr th {\n",
       "        vertical-align: top;\n",
       "    }\n",
       "\n",
       "    .dataframe thead th {\n",
       "        text-align: right;\n",
       "    }\n",
       "</style>\n",
       "<table border=\"1\" class=\"dataframe\">\n",
       "  <thead>\n",
       "    <tr style=\"text-align: right;\">\n",
       "      <th></th>\n",
       "      <th>x</th>\n",
       "      <th>y</th>\n",
       "      <th>z</th>\n",
       "    </tr>\n",
       "  </thead>\n",
       "  <tbody>\n",
       "    <tr>\n",
       "      <th>0</th>\n",
       "      <td>1.695387e+09</td>\n",
       "      <td>1.695387e+09</td>\n",
       "      <td>1.695387e+09</td>\n",
       "    </tr>\n",
       "    <tr>\n",
       "      <th>1</th>\n",
       "      <td>3.200000e+01</td>\n",
       "      <td>3.200000e+01</td>\n",
       "      <td>3.200000e+01</td>\n",
       "    </tr>\n",
       "    <tr>\n",
       "      <th>2</th>\n",
       "      <td>2.400000e+01</td>\n",
       "      <td>-7.000000e+00</td>\n",
       "      <td>5.800000e+01</td>\n",
       "    </tr>\n",
       "    <tr>\n",
       "      <th>3</th>\n",
       "      <td>2.400000e+01</td>\n",
       "      <td>-7.000000e+00</td>\n",
       "      <td>5.700000e+01</td>\n",
       "    </tr>\n",
       "    <tr>\n",
       "      <th>4</th>\n",
       "      <td>2.400000e+01</td>\n",
       "      <td>-7.000000e+00</td>\n",
       "      <td>5.700000e+01</td>\n",
       "    </tr>\n",
       "    <tr>\n",
       "      <th>...</th>\n",
       "      <td>...</td>\n",
       "      <td>...</td>\n",
       "      <td>...</td>\n",
       "    </tr>\n",
       "    <tr>\n",
       "      <th>124443</th>\n",
       "      <td>9.000000e+00</td>\n",
       "      <td>1.400000e+01</td>\n",
       "      <td>6.100000e+01</td>\n",
       "    </tr>\n",
       "    <tr>\n",
       "      <th>124444</th>\n",
       "      <td>9.000000e+00</td>\n",
       "      <td>1.400000e+01</td>\n",
       "      <td>6.100000e+01</td>\n",
       "    </tr>\n",
       "    <tr>\n",
       "      <th>124445</th>\n",
       "      <td>9.000000e+00</td>\n",
       "      <td>1.400000e+01</td>\n",
       "      <td>6.100000e+01</td>\n",
       "    </tr>\n",
       "    <tr>\n",
       "      <th>124446</th>\n",
       "      <td>9.000000e+00</td>\n",
       "      <td>1.500000e+01</td>\n",
       "      <td>6.100000e+01</td>\n",
       "    </tr>\n",
       "    <tr>\n",
       "      <th>124447</th>\n",
       "      <td>9.000000e+00</td>\n",
       "      <td>1.300000e+01</td>\n",
       "      <td>6.100000e+01</td>\n",
       "    </tr>\n",
       "  </tbody>\n",
       "</table>\n",
       "<p>124448 rows × 3 columns</p>\n",
       "</div>"
      ],
      "text/plain": [
       "                   x             y             z\n",
       "0       1.695387e+09  1.695387e+09  1.695387e+09\n",
       "1       3.200000e+01  3.200000e+01  3.200000e+01\n",
       "2       2.400000e+01 -7.000000e+00  5.800000e+01\n",
       "3       2.400000e+01 -7.000000e+00  5.700000e+01\n",
       "4       2.400000e+01 -7.000000e+00  5.700000e+01\n",
       "...              ...           ...           ...\n",
       "124443  9.000000e+00  1.400000e+01  6.100000e+01\n",
       "124444  9.000000e+00  1.400000e+01  6.100000e+01\n",
       "124445  9.000000e+00  1.400000e+01  6.100000e+01\n",
       "124446  9.000000e+00  1.500000e+01  6.100000e+01\n",
       "124447  9.000000e+00  1.300000e+01  6.100000e+01\n",
       "\n",
       "[124448 rows x 3 columns]"
      ]
     },
     "execution_count": 5,
     "metadata": {},
     "output_type": "execute_result"
    }
   ],
   "source": [
    "acc_df"
   ]
  },
  {
   "cell_type": "code",
   "execution_count": 6,
   "id": "6cc2ac32-7b59-45ba-9783-604dc6e1ad08",
   "metadata": {},
   "outputs": [],
   "source": [
    "start_time = acc_df.iloc[0,0]\n",
    "sampling_frequency = acc_df.iloc[1,0]\n",
    "sampling_time = 1/sampling_frequency"
   ]
  },
  {
   "cell_type": "code",
   "execution_count": 7,
   "id": "88f03c0d-7a1e-4407-91bd-31f567b38cc4",
   "metadata": {},
   "outputs": [],
   "source": [
    "time_stamps = start_time + (acc_df.index -2)*sampling_time"
   ]
  },
  {
   "cell_type": "code",
   "execution_count": 8,
   "id": "52af3704-e509-40bd-8ef8-103c80da524d",
   "metadata": {},
   "outputs": [
    {
     "data": {
      "text/plain": [
       "Float64Index([ 1695386908.9375, 1695386908.96875,     1695386909.0,\n",
       "              1695386909.03125,  1695386909.0625, 1695386909.09375,\n",
       "                1695386909.125, 1695386909.15625,  1695386909.1875,\n",
       "              1695386909.21875,\n",
       "              ...\n",
       "                1695390797.625, 1695390797.65625,  1695390797.6875,\n",
       "              1695390797.71875,    1695390797.75, 1695390797.78125,\n",
       "               1695390797.8125, 1695390797.84375,   1695390797.875,\n",
       "              1695390797.90625],\n",
       "             dtype='float64', length=124448)"
      ]
     },
     "execution_count": 8,
     "metadata": {},
     "output_type": "execute_result"
    }
   ],
   "source": [
    "time_stamps"
   ]
  },
  {
   "cell_type": "code",
   "execution_count": 9,
   "id": "9e7e1712-98dd-45f0-ad4e-8eca8321cb1f",
   "metadata": {},
   "outputs": [],
   "source": [
    "acc_df[\"timestamps\"] = time_stamps"
   ]
  },
  {
   "cell_type": "code",
   "execution_count": 10,
   "id": "379ba0c8-e2dc-4011-9ec2-ca1c4ae92723",
   "metadata": {},
   "outputs": [],
   "source": [
    "magnitude= np.sqrt(acc_df.iloc[2:,0]**2 + acc_df.iloc[2:,1]**2 + acc_df.iloc[2:,2]**2)"
   ]
  },
  {
   "cell_type": "code",
   "execution_count": 11,
   "id": "c39ec247-d09c-4374-9eec-470d69c14c0a",
   "metadata": {},
   "outputs": [
    {
     "data": {
      "text/plain": [
       "2         63.158531\n",
       "3         62.241465\n",
       "4         62.241465\n",
       "5         62.241465\n",
       "6         62.241465\n",
       "            ...    \n",
       "124443    63.229740\n",
       "124444    63.229740\n",
       "124445    63.229740\n",
       "124446    63.458648\n",
       "124447    63.015871\n",
       "Length: 124446, dtype: float64"
      ]
     },
     "execution_count": 11,
     "metadata": {},
     "output_type": "execute_result"
    }
   ],
   "source": [
    "magnitude"
   ]
  },
  {
   "cell_type": "code",
   "execution_count": 12,
   "id": "1031d232-d755-4573-832c-a8f490d6048b",
   "metadata": {},
   "outputs": [],
   "source": [
    "acc_df[\"magnitude\"] = magnitude"
   ]
  },
  {
   "cell_type": "code",
<<<<<<< HEAD
   "execution_count": 13,
=======
   "execution_count": 1,
>>>>>>> 3f2b5074904d877d4baad53b30cb89c8c8ab9b3b
   "id": "08d13936-77a5-43fb-b059-2717d5d3e43c",
   "metadata": {},
   "outputs": [
    {
<<<<<<< HEAD
     "data": {
      "text/html": [
       "<div>\n",
       "<style scoped>\n",
       "    .dataframe tbody tr th:only-of-type {\n",
       "        vertical-align: middle;\n",
       "    }\n",
       "\n",
       "    .dataframe tbody tr th {\n",
       "        vertical-align: top;\n",
       "    }\n",
       "\n",
       "    .dataframe thead th {\n",
       "        text-align: right;\n",
       "    }\n",
       "</style>\n",
       "<table border=\"1\" class=\"dataframe\">\n",
       "  <thead>\n",
       "    <tr style=\"text-align: right;\">\n",
       "      <th></th>\n",
       "      <th>x</th>\n",
       "      <th>y</th>\n",
       "      <th>z</th>\n",
       "      <th>timestamps</th>\n",
       "      <th>magnitude</th>\n",
       "    </tr>\n",
       "  </thead>\n",
       "  <tbody>\n",
       "    <tr>\n",
       "      <th>0</th>\n",
       "      <td>1.695387e+09</td>\n",
       "      <td>1.695387e+09</td>\n",
       "      <td>1.695387e+09</td>\n",
       "      <td>1.695387e+09</td>\n",
       "      <td>NaN</td>\n",
       "    </tr>\n",
       "    <tr>\n",
       "      <th>1</th>\n",
       "      <td>3.200000e+01</td>\n",
       "      <td>3.200000e+01</td>\n",
       "      <td>3.200000e+01</td>\n",
       "      <td>1.695387e+09</td>\n",
       "      <td>NaN</td>\n",
       "    </tr>\n",
       "    <tr>\n",
       "      <th>2</th>\n",
       "      <td>2.400000e+01</td>\n",
       "      <td>-7.000000e+00</td>\n",
       "      <td>5.800000e+01</td>\n",
       "      <td>1.695387e+09</td>\n",
       "      <td>63.158531</td>\n",
       "    </tr>\n",
       "    <tr>\n",
       "      <th>3</th>\n",
       "      <td>2.400000e+01</td>\n",
       "      <td>-7.000000e+00</td>\n",
       "      <td>5.700000e+01</td>\n",
       "      <td>1.695387e+09</td>\n",
       "      <td>62.241465</td>\n",
       "    </tr>\n",
       "    <tr>\n",
       "      <th>4</th>\n",
       "      <td>2.400000e+01</td>\n",
       "      <td>-7.000000e+00</td>\n",
       "      <td>5.700000e+01</td>\n",
       "      <td>1.695387e+09</td>\n",
       "      <td>62.241465</td>\n",
       "    </tr>\n",
       "    <tr>\n",
       "      <th>...</th>\n",
       "      <td>...</td>\n",
       "      <td>...</td>\n",
       "      <td>...</td>\n",
       "      <td>...</td>\n",
       "      <td>...</td>\n",
       "    </tr>\n",
       "    <tr>\n",
       "      <th>124443</th>\n",
       "      <td>9.000000e+00</td>\n",
       "      <td>1.400000e+01</td>\n",
       "      <td>6.100000e+01</td>\n",
       "      <td>1.695391e+09</td>\n",
       "      <td>63.229740</td>\n",
       "    </tr>\n",
       "    <tr>\n",
       "      <th>124444</th>\n",
       "      <td>9.000000e+00</td>\n",
       "      <td>1.400000e+01</td>\n",
       "      <td>6.100000e+01</td>\n",
       "      <td>1.695391e+09</td>\n",
       "      <td>63.229740</td>\n",
       "    </tr>\n",
       "    <tr>\n",
       "      <th>124445</th>\n",
       "      <td>9.000000e+00</td>\n",
       "      <td>1.400000e+01</td>\n",
       "      <td>6.100000e+01</td>\n",
       "      <td>1.695391e+09</td>\n",
       "      <td>63.229740</td>\n",
       "    </tr>\n",
       "    <tr>\n",
       "      <th>124446</th>\n",
       "      <td>9.000000e+00</td>\n",
       "      <td>1.500000e+01</td>\n",
       "      <td>6.100000e+01</td>\n",
       "      <td>1.695391e+09</td>\n",
       "      <td>63.458648</td>\n",
       "    </tr>\n",
       "    <tr>\n",
       "      <th>124447</th>\n",
       "      <td>9.000000e+00</td>\n",
       "      <td>1.300000e+01</td>\n",
       "      <td>6.100000e+01</td>\n",
       "      <td>1.695391e+09</td>\n",
       "      <td>63.015871</td>\n",
       "    </tr>\n",
       "  </tbody>\n",
       "</table>\n",
       "<p>124448 rows × 5 columns</p>\n",
       "</div>"
      ],
      "text/plain": [
       "                   x             y             z    timestamps  magnitude\n",
       "0       1.695387e+09  1.695387e+09  1.695387e+09  1.695387e+09        NaN\n",
       "1       3.200000e+01  3.200000e+01  3.200000e+01  1.695387e+09        NaN\n",
       "2       2.400000e+01 -7.000000e+00  5.800000e+01  1.695387e+09  63.158531\n",
       "3       2.400000e+01 -7.000000e+00  5.700000e+01  1.695387e+09  62.241465\n",
       "4       2.400000e+01 -7.000000e+00  5.700000e+01  1.695387e+09  62.241465\n",
       "...              ...           ...           ...           ...        ...\n",
       "124443  9.000000e+00  1.400000e+01  6.100000e+01  1.695391e+09  63.229740\n",
       "124444  9.000000e+00  1.400000e+01  6.100000e+01  1.695391e+09  63.229740\n",
       "124445  9.000000e+00  1.400000e+01  6.100000e+01  1.695391e+09  63.229740\n",
       "124446  9.000000e+00  1.500000e+01  6.100000e+01  1.695391e+09  63.458648\n",
       "124447  9.000000e+00  1.300000e+01  6.100000e+01  1.695391e+09  63.015871\n",
       "\n",
       "[124448 rows x 5 columns]"
      ]
     },
     "execution_count": 13,
     "metadata": {},
     "output_type": "execute_result"
=======
     "ename": "NameError",
     "evalue": "name 'acc_df' is not defined",
     "output_type": "error",
     "traceback": [
      "\u001b[1;31m---------------------------------------------------------------------------\u001b[0m",
      "\u001b[1;31mNameError\u001b[0m                                 Traceback (most recent call last)",
      "\u001b[1;32m~\\AppData\\Local\\Temp\\ipykernel_25488\\1593728522.py\u001b[0m in \u001b[0;36m<module>\u001b[1;34m\u001b[0m\n\u001b[1;32m----> 1\u001b[1;33m \u001b[0macc_df\u001b[0m\u001b[1;33m\u001b[0m\u001b[1;33m\u001b[0m\u001b[0m\n\u001b[0m",
      "\u001b[1;31mNameError\u001b[0m: name 'acc_df' is not defined"
     ]
>>>>>>> 3f2b5074904d877d4baad53b30cb89c8c8ab9b3b
    }
   ],
   "source": [
    "acc_df"
   ]
  },
  {
   "cell_type": "code",
   "execution_count": 14,
   "id": "a3e13443-04be-48ba-bf15-1073729bd00f",
   "metadata": {},
   "outputs": [],
   "source": [
    "trace = acc_df[\"magnitude\"]"
   ]
  },
  {
   "cell_type": "code",
   "execution_count": 15,
   "id": "8ddc71bf-5ce5-42d7-8555-2ca8977a1ce3",
   "metadata": {},
   "outputs": [
    {
     "data": {
      "text/plain": [
       "62.80721674689598"
      ]
     },
     "execution_count": 15,
     "metadata": {},
     "output_type": "execute_result"
    }
   ],
   "source": [
    "np.mean(trace)"
   ]
  },
  {
   "cell_type": "code",
   "execution_count": 16,
   "id": "bcf3eaaf-d510-4526-8cea-eaf586533161",
   "metadata": {},
   "outputs": [],
   "source": [
    "trace = trace-np.mean(trace)"
   ]
  },
  {
   "cell_type": "code",
   "execution_count": 17,
   "id": "8ac332cb-3ec5-452e-8064-9210ac855f0e",
   "metadata": {},
   "outputs": [],
   "source": [
    "trace = trace/np.max(np.abs(trace))"
   ]
  },
  {
   "cell_type": "code",
   "execution_count": 18,
   "id": "c379846a-5875-4d5b-bd5c-3fa61fecc3a6",
   "metadata": {},
   "outputs": [],
   "source": [
    "acc_df[\"magnitude_norm\"]=trace"
   ]
  },
  {
   "cell_type": "code",
   "execution_count": 19,
   "id": "d1b37c3a-fde7-457e-bd90-085c7c303399",
   "metadata": {},
   "outputs": [
    {
     "data": {
      "text/plain": [
       "[<matplotlib.lines.Line2D at 0x7ff5a6941490>]"
      ]
     },
     "execution_count": 19,
     "metadata": {},
     "output_type": "execute_result"
    },
    {
     "data": {
      "image/png": "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",
      "text/plain": [
       "<Figure size 640x480 with 1 Axes>"
      ]
     },
     "metadata": {},
     "output_type": "display_data"
    }
   ],
   "source": [
    "plt.plot(acc_df[\"timestamps\"], acc_df[\"magnitude_norm\"], color = \"red\")"
   ]
  },
  {
   "cell_type": "markdown",
   "id": "17d40971-d39e-4626-96e7-304bc3c7156a",
   "metadata": {},
   "source": [
    "#  Reading and manipulating EDA data"
   ]
  },
  {
   "cell_type": "code",
   "execution_count": 20,
   "id": "1a694fae-c6a9-4de7-b759-5b0d9068bb70",
   "metadata": {},
   "outputs": [],
   "source": [
    "eda_path = \"/home/muhammad/Desktop/repos_ixp/tester_sony_digirelax/datasets/Empatica/EDA.csv\""
   ]
  },
  {
   "cell_type": "code",
   "execution_count": 21,
   "id": "db66cd27-eb18-48ac-9587-501e3f0134ab",
   "metadata": {},
   "outputs": [],
   "source": [
    "eda_df = pd.read_csv(eda_path, names = ['eda'])"
   ]
  },
  {
   "cell_type": "code",
   "execution_count": 22,
   "id": "4ff9f475-ab35-49e3-9a01-a26871c513c5",
   "metadata": {},
   "outputs": [
    {
     "data": {
      "text/html": [
       "<div>\n",
       "<style scoped>\n",
       "    .dataframe tbody tr th:only-of-type {\n",
       "        vertical-align: middle;\n",
       "    }\n",
       "\n",
       "    .dataframe tbody tr th {\n",
       "        vertical-align: top;\n",
       "    }\n",
       "\n",
       "    .dataframe thead th {\n",
       "        text-align: right;\n",
       "    }\n",
       "</style>\n",
       "<table border=\"1\" class=\"dataframe\">\n",
       "  <thead>\n",
       "    <tr style=\"text-align: right;\">\n",
       "      <th></th>\n",
       "      <th>eda</th>\n",
       "    </tr>\n",
       "  </thead>\n",
       "  <tbody>\n",
       "    <tr>\n",
       "      <th>0</th>\n",
       "      <td>1.695387e+09</td>\n",
       "    </tr>\n",
       "    <tr>\n",
       "      <th>1</th>\n",
       "      <td>4.000000e+00</td>\n",
       "    </tr>\n",
       "    <tr>\n",
       "      <th>2</th>\n",
       "      <td>0.000000e+00</td>\n",
       "    </tr>\n",
       "    <tr>\n",
       "      <th>3</th>\n",
       "      <td>2.434200e-02</td>\n",
       "    </tr>\n",
       "    <tr>\n",
       "      <th>4</th>\n",
       "      <td>5.252800e-02</td>\n",
       "    </tr>\n",
       "    <tr>\n",
       "      <th>...</th>\n",
       "      <td>...</td>\n",
       "    </tr>\n",
       "    <tr>\n",
       "      <th>15549</th>\n",
       "      <td>8.408756e+00</td>\n",
       "    </tr>\n",
       "    <tr>\n",
       "      <th>15550</th>\n",
       "      <td>8.397226e+00</td>\n",
       "    </tr>\n",
       "    <tr>\n",
       "      <th>15551</th>\n",
       "      <td>8.380570e+00</td>\n",
       "    </tr>\n",
       "    <tr>\n",
       "      <th>15552</th>\n",
       "      <td>8.354947e+00</td>\n",
       "    </tr>\n",
       "    <tr>\n",
       "      <th>15553</th>\n",
       "      <td>8.266546e+00</td>\n",
       "    </tr>\n",
       "  </tbody>\n",
       "</table>\n",
       "<p>15554 rows × 1 columns</p>\n",
       "</div>"
      ],
      "text/plain": [
       "                eda\n",
       "0      1.695387e+09\n",
       "1      4.000000e+00\n",
       "2      0.000000e+00\n",
       "3      2.434200e-02\n",
       "4      5.252800e-02\n",
       "...             ...\n",
       "15549  8.408756e+00\n",
       "15550  8.397226e+00\n",
       "15551  8.380570e+00\n",
       "15552  8.354947e+00\n",
       "15553  8.266546e+00\n",
       "\n",
       "[15554 rows x 1 columns]"
      ]
     },
     "execution_count": 22,
     "metadata": {},
     "output_type": "execute_result"
    }
   ],
   "source": [
    "eda_df"
   ]
  },
  {
   "cell_type": "code",
   "execution_count": 23,
   "id": "a9ce1ca4-d06a-4e6f-bba1-498bb246f7e9",
   "metadata": {},
   "outputs": [],
   "source": [
    "start_time_eda = eda_df.iloc[0,0]"
   ]
  },
  {
   "cell_type": "code",
   "execution_count": 24,
   "id": "54c4dd6a-a08a-4ec7-ac50-278b1052e442",
   "metadata": {},
   "outputs": [
    {
     "data": {
      "text/plain": [
       "1695386909.0"
      ]
     },
     "execution_count": 24,
     "metadata": {},
     "output_type": "execute_result"
    }
   ],
   "source": [
    "start_time_eda"
   ]
  },
  {
   "cell_type": "code",
   "execution_count": 25,
   "id": "d50102e8-eed3-43bd-8551-f410182861e8",
   "metadata": {},
   "outputs": [],
   "source": [
    "sampling_frequency_eda = eda_df.iloc[1,0]\n",
    "sampling_time_eda = 1/sampling_frequency_eda"
   ]
  },
  {
   "cell_type": "code",
   "execution_count": 26,
   "id": "19b5974b-c5c8-41fe-99e6-47df02d6868c",
   "metadata": {},
   "outputs": [
    {
     "data": {
      "text/plain": [
       "0.25"
      ]
     },
     "execution_count": 26,
     "metadata": {},
     "output_type": "execute_result"
    }
   ],
   "source": [
    "sampling_time_eda"
   ]
  },
  {
   "cell_type": "code",
   "execution_count": 27,
   "id": "770e6514-759b-454d-a945-8b035863a9b2",
   "metadata": {},
   "outputs": [],
   "source": [
    "time_stamps_eda = start_time_eda + (eda_df.index -2)*sampling_time_eda"
   ]
  },
  {
   "cell_type": "code",
   "execution_count": 28,
   "id": "15a26ab4-33ea-4b19-9863-8ed8884e4ccb",
   "metadata": {},
   "outputs": [
    {
     "data": {
      "text/plain": [
       "Float64Index([ 1695386908.5, 1695386908.75,  1695386909.0, 1695386909.25,\n",
       "               1695386909.5, 1695386909.75,  1695386910.0, 1695386910.25,\n",
       "               1695386910.5, 1695386910.75,\n",
       "              ...\n",
       "               1695390794.5, 1695390794.75,  1695390795.0, 1695390795.25,\n",
       "               1695390795.5, 1695390795.75,  1695390796.0, 1695390796.25,\n",
       "               1695390796.5, 1695390796.75],\n",
       "             dtype='float64', length=15554)"
      ]
     },
     "execution_count": 28,
     "metadata": {},
     "output_type": "execute_result"
    }
   ],
   "source": [
    "time_stamps_eda"
   ]
  },
  {
   "cell_type": "code",
   "execution_count": 29,
   "id": "75366c43-09d7-494b-abc1-bf2d413c7be7",
   "metadata": {},
   "outputs": [],
   "source": [
    "eda_df[\"timestamps\"] = time_stamps_eda"
   ]
  },
  {
   "cell_type": "code",
   "execution_count": 30,
   "id": "ef16771d-93e3-40ef-8d2b-4cd2e63a8d7f",
   "metadata": {},
   "outputs": [
    {
     "data": {
      "text/html": [
       "<div>\n",
       "<style scoped>\n",
       "    .dataframe tbody tr th:only-of-type {\n",
       "        vertical-align: middle;\n",
       "    }\n",
       "\n",
       "    .dataframe tbody tr th {\n",
       "        vertical-align: top;\n",
       "    }\n",
       "\n",
       "    .dataframe thead th {\n",
       "        text-align: right;\n",
       "    }\n",
       "</style>\n",
       "<table border=\"1\" class=\"dataframe\">\n",
       "  <thead>\n",
       "    <tr style=\"text-align: right;\">\n",
       "      <th></th>\n",
       "      <th>eda</th>\n",
       "      <th>timestamps</th>\n",
       "    </tr>\n",
       "  </thead>\n",
       "  <tbody>\n",
       "    <tr>\n",
       "      <th>0</th>\n",
       "      <td>1.695387e+09</td>\n",
       "      <td>1.695387e+09</td>\n",
       "    </tr>\n",
       "    <tr>\n",
       "      <th>1</th>\n",
       "      <td>4.000000e+00</td>\n",
       "      <td>1.695387e+09</td>\n",
       "    </tr>\n",
       "    <tr>\n",
       "      <th>2</th>\n",
       "      <td>0.000000e+00</td>\n",
       "      <td>1.695387e+09</td>\n",
       "    </tr>\n",
       "    <tr>\n",
       "      <th>3</th>\n",
       "      <td>2.434200e-02</td>\n",
       "      <td>1.695387e+09</td>\n",
       "    </tr>\n",
       "    <tr>\n",
       "      <th>4</th>\n",
       "      <td>5.252800e-02</td>\n",
       "      <td>1.695387e+09</td>\n",
       "    </tr>\n",
       "    <tr>\n",
       "      <th>...</th>\n",
       "      <td>...</td>\n",
       "      <td>...</td>\n",
       "    </tr>\n",
       "    <tr>\n",
       "      <th>15549</th>\n",
       "      <td>8.408756e+00</td>\n",
       "      <td>1.695391e+09</td>\n",
       "    </tr>\n",
       "    <tr>\n",
       "      <th>15550</th>\n",
       "      <td>8.397226e+00</td>\n",
       "      <td>1.695391e+09</td>\n",
       "    </tr>\n",
       "    <tr>\n",
       "      <th>15551</th>\n",
       "      <td>8.380570e+00</td>\n",
       "      <td>1.695391e+09</td>\n",
       "    </tr>\n",
       "    <tr>\n",
       "      <th>15552</th>\n",
       "      <td>8.354947e+00</td>\n",
       "      <td>1.695391e+09</td>\n",
       "    </tr>\n",
       "    <tr>\n",
       "      <th>15553</th>\n",
       "      <td>8.266546e+00</td>\n",
       "      <td>1.695391e+09</td>\n",
       "    </tr>\n",
       "  </tbody>\n",
       "</table>\n",
       "<p>15554 rows × 2 columns</p>\n",
       "</div>"
      ],
      "text/plain": [
       "                eda    timestamps\n",
       "0      1.695387e+09  1.695387e+09\n",
       "1      4.000000e+00  1.695387e+09\n",
       "2      0.000000e+00  1.695387e+09\n",
       "3      2.434200e-02  1.695387e+09\n",
       "4      5.252800e-02  1.695387e+09\n",
       "...             ...           ...\n",
       "15549  8.408756e+00  1.695391e+09\n",
       "15550  8.397226e+00  1.695391e+09\n",
       "15551  8.380570e+00  1.695391e+09\n",
       "15552  8.354947e+00  1.695391e+09\n",
       "15553  8.266546e+00  1.695391e+09\n",
       "\n",
       "[15554 rows x 2 columns]"
      ]
     },
     "execution_count": 30,
     "metadata": {},
     "output_type": "execute_result"
    }
   ],
   "source": [
    "eda_df"
   ]
  },
  {
   "cell_type": "code",
   "execution_count": 31,
   "id": "3b82539b-b716-4d0e-a615-906c36741170",
   "metadata": {},
   "outputs": [],
   "source": [
    "magnitude= eda_df.iloc[2:,0]"
   ]
  },
  {
   "cell_type": "code",
   "execution_count": 32,
   "id": "632aef0b-9301-4516-b034-1aab000a26f4",
   "metadata": {},
   "outputs": [],
   "source": [
    "eda_df[\"eda\"] = magnitude"
   ]
  },
  {
   "cell_type": "code",
   "execution_count": 33,
   "id": "ff0b4ddd-b596-473b-9390-909d92720567",
   "metadata": {},
   "outputs": [
    {
     "data": {
      "text/html": [
       "<div>\n",
       "<style scoped>\n",
       "    .dataframe tbody tr th:only-of-type {\n",
       "        vertical-align: middle;\n",
       "    }\n",
       "\n",
       "    .dataframe tbody tr th {\n",
       "        vertical-align: top;\n",
       "    }\n",
       "\n",
       "    .dataframe thead th {\n",
       "        text-align: right;\n",
       "    }\n",
       "</style>\n",
       "<table border=\"1\" class=\"dataframe\">\n",
       "  <thead>\n",
       "    <tr style=\"text-align: right;\">\n",
       "      <th></th>\n",
       "      <th>eda</th>\n",
       "      <th>timestamps</th>\n",
       "    </tr>\n",
       "  </thead>\n",
       "  <tbody>\n",
       "    <tr>\n",
       "      <th>0</th>\n",
       "      <td>NaN</td>\n",
       "      <td>1.695387e+09</td>\n",
       "    </tr>\n",
       "    <tr>\n",
       "      <th>1</th>\n",
       "      <td>NaN</td>\n",
       "      <td>1.695387e+09</td>\n",
       "    </tr>\n",
       "    <tr>\n",
       "      <th>2</th>\n",
       "      <td>0.000000</td>\n",
       "      <td>1.695387e+09</td>\n",
       "    </tr>\n",
       "    <tr>\n",
       "      <th>3</th>\n",
       "      <td>0.024342</td>\n",
       "      <td>1.695387e+09</td>\n",
       "    </tr>\n",
       "    <tr>\n",
       "      <th>4</th>\n",
       "      <td>0.052528</td>\n",
       "      <td>1.695387e+09</td>\n",
       "    </tr>\n",
       "    <tr>\n",
       "      <th>...</th>\n",
       "      <td>...</td>\n",
       "      <td>...</td>\n",
       "    </tr>\n",
       "    <tr>\n",
       "      <th>15549</th>\n",
       "      <td>8.408756</td>\n",
       "      <td>1.695391e+09</td>\n",
       "    </tr>\n",
       "    <tr>\n",
       "      <th>15550</th>\n",
       "      <td>8.397226</td>\n",
       "      <td>1.695391e+09</td>\n",
       "    </tr>\n",
       "    <tr>\n",
       "      <th>15551</th>\n",
       "      <td>8.380570</td>\n",
       "      <td>1.695391e+09</td>\n",
       "    </tr>\n",
       "    <tr>\n",
       "      <th>15552</th>\n",
       "      <td>8.354947</td>\n",
       "      <td>1.695391e+09</td>\n",
       "    </tr>\n",
       "    <tr>\n",
       "      <th>15553</th>\n",
       "      <td>8.266546</td>\n",
       "      <td>1.695391e+09</td>\n",
       "    </tr>\n",
       "  </tbody>\n",
       "</table>\n",
       "<p>15554 rows × 2 columns</p>\n",
       "</div>"
      ],
      "text/plain": [
       "            eda    timestamps\n",
       "0           NaN  1.695387e+09\n",
       "1           NaN  1.695387e+09\n",
       "2      0.000000  1.695387e+09\n",
       "3      0.024342  1.695387e+09\n",
       "4      0.052528  1.695387e+09\n",
       "...         ...           ...\n",
       "15549  8.408756  1.695391e+09\n",
       "15550  8.397226  1.695391e+09\n",
       "15551  8.380570  1.695391e+09\n",
       "15552  8.354947  1.695391e+09\n",
       "15553  8.266546  1.695391e+09\n",
       "\n",
       "[15554 rows x 2 columns]"
      ]
     },
     "execution_count": 33,
     "metadata": {},
     "output_type": "execute_result"
    }
   ],
   "source": [
    "eda_df"
   ]
  },
  {
   "cell_type": "code",
   "execution_count": 34,
   "id": "817e95c3-4b35-46e9-8d10-dd11c9d5debb",
   "metadata": {},
   "outputs": [
    {
     "data": {
      "text/plain": [
       "[<matplotlib.lines.Line2D at 0x7ff5a685b880>]"
      ]
     },
     "execution_count": 34,
     "metadata": {},
     "output_type": "execute_result"
    },
    {
     "data": {
      "image/png": "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",
      "text/plain": [
       "<Figure size 640x480 with 1 Axes>"
      ]
     },
     "metadata": {},
     "output_type": "display_data"
    }
   ],
   "source": [
    "plt.plot(eda_df[\"timestamps\"], eda_df[\"eda\"])"
   ]
  },
  {
   "cell_type": "code",
   "execution_count": 35,
   "id": "b5b9375f-d9ed-44d2-8e53-9c8f82bf2fa5",
   "metadata": {},
   "outputs": [
    {
     "data": {
      "text/plain": [
       "2        0.000000\n",
       "3        0.024342\n",
       "4        0.052528\n",
       "5        0.055091\n",
       "6        0.055091\n",
       "           ...   \n",
       "15549    8.408756\n",
       "15550    8.397226\n",
       "15551    8.380570\n",
       "15552    8.354947\n",
       "15553    8.266546\n",
       "Name: eda, Length: 15552, dtype: float64"
      ]
     },
     "execution_count": 35,
     "metadata": {},
     "output_type": "execute_result"
    }
   ],
   "source": [
    "magnitude"
   ]
  },
  {
   "cell_type": "code",
   "execution_count": 36,
   "id": "1a7ddb14-86e4-4a82-8e43-b31b7d38fe73",
   "metadata": {},
   "outputs": [],
   "source": [
    "magnitude_norm =magnitude - np.mean(magnitude)"
   ]
  },
  {
   "cell_type": "code",
   "execution_count": 37,
   "id": "0443b6bf-1314-417b-a91b-d567e7feabde",
   "metadata": {},
   "outputs": [],
   "source": [
    "magnitude_norm = magnitude_norm / np.max(np.abs(magnitude_norm))"
   ]
  },
  {
   "cell_type": "code",
   "execution_count": 38,
   "id": "946cdbe0-11a1-49f4-b1c3-84f6ba75ea97",
   "metadata": {},
   "outputs": [],
   "source": [
    "eda_df['eda_norm'] = magnitude_norm"
   ]
  },
  {
   "cell_type": "code",
   "execution_count": 39,
   "id": "7a281898-0286-4b93-96ed-7deff9369cb0",
   "metadata": {},
   "outputs": [
    {
     "data": {
      "text/html": [
       "<div>\n",
       "<style scoped>\n",
       "    .dataframe tbody tr th:only-of-type {\n",
       "        vertical-align: middle;\n",
       "    }\n",
       "\n",
       "    .dataframe tbody tr th {\n",
       "        vertical-align: top;\n",
       "    }\n",
       "\n",
       "    .dataframe thead th {\n",
       "        text-align: right;\n",
       "    }\n",
       "</style>\n",
       "<table border=\"1\" class=\"dataframe\">\n",
       "  <thead>\n",
       "    <tr style=\"text-align: right;\">\n",
       "      <th></th>\n",
       "      <th>eda</th>\n",
       "      <th>timestamps</th>\n",
       "      <th>eda_norm</th>\n",
       "    </tr>\n",
       "  </thead>\n",
       "  <tbody>\n",
       "    <tr>\n",
       "      <th>0</th>\n",
       "      <td>NaN</td>\n",
       "      <td>1.695387e+09</td>\n",
       "      <td>NaN</td>\n",
       "    </tr>\n",
       "    <tr>\n",
       "      <th>1</th>\n",
       "      <td>NaN</td>\n",
       "      <td>1.695387e+09</td>\n",
       "      <td>NaN</td>\n",
       "    </tr>\n",
       "    <tr>\n",
       "      <th>2</th>\n",
       "      <td>0.000000</td>\n",
       "      <td>1.695387e+09</td>\n",
       "      <td>-0.329462</td>\n",
       "    </tr>\n",
       "    <tr>\n",
       "      <th>3</th>\n",
       "      <td>0.024342</td>\n",
       "      <td>1.695387e+09</td>\n",
       "      <td>-0.326317</td>\n",
       "    </tr>\n",
       "    <tr>\n",
       "      <th>4</th>\n",
       "      <td>0.052528</td>\n",
       "      <td>1.695387e+09</td>\n",
       "      <td>-0.322676</td>\n",
       "    </tr>\n",
       "    <tr>\n",
       "      <th>...</th>\n",
       "      <td>...</td>\n",
       "      <td>...</td>\n",
       "      <td>...</td>\n",
       "    </tr>\n",
       "    <tr>\n",
       "      <th>15549</th>\n",
       "      <td>8.408756</td>\n",
       "      <td>1.695391e+09</td>\n",
       "      <td>0.756909</td>\n",
       "    </tr>\n",
       "    <tr>\n",
       "      <th>15550</th>\n",
       "      <td>8.397226</td>\n",
       "      <td>1.695391e+09</td>\n",
       "      <td>0.755419</td>\n",
       "    </tr>\n",
       "    <tr>\n",
       "      <th>15551</th>\n",
       "      <td>8.380570</td>\n",
       "      <td>1.695391e+09</td>\n",
       "      <td>0.753267</td>\n",
       "    </tr>\n",
       "    <tr>\n",
       "      <th>15552</th>\n",
       "      <td>8.354947</td>\n",
       "      <td>1.695391e+09</td>\n",
       "      <td>0.749957</td>\n",
       "    </tr>\n",
       "    <tr>\n",
       "      <th>15553</th>\n",
       "      <td>8.266546</td>\n",
       "      <td>1.695391e+09</td>\n",
       "      <td>0.738536</td>\n",
       "    </tr>\n",
       "  </tbody>\n",
       "</table>\n",
       "<p>15554 rows × 3 columns</p>\n",
       "</div>"
      ],
      "text/plain": [
       "            eda    timestamps  eda_norm\n",
       "0           NaN  1.695387e+09       NaN\n",
       "1           NaN  1.695387e+09       NaN\n",
       "2      0.000000  1.695387e+09 -0.329462\n",
       "3      0.024342  1.695387e+09 -0.326317\n",
       "4      0.052528  1.695387e+09 -0.322676\n",
       "...         ...           ...       ...\n",
       "15549  8.408756  1.695391e+09  0.756909\n",
       "15550  8.397226  1.695391e+09  0.755419\n",
       "15551  8.380570  1.695391e+09  0.753267\n",
       "15552  8.354947  1.695391e+09  0.749957\n",
       "15553  8.266546  1.695391e+09  0.738536\n",
       "\n",
       "[15554 rows x 3 columns]"
      ]
     },
     "execution_count": 39,
     "metadata": {},
     "output_type": "execute_result"
    }
   ],
   "source": [
    "eda_df"
   ]
  },
  {
   "cell_type": "code",
   "execution_count": 40,
   "id": "84ef4ba1-2936-4091-aa6b-8b5497c340ed",
   "metadata": {},
   "outputs": [
    {
     "data": {
      "text/plain": [
       "[<matplotlib.lines.Line2D at 0x7ff5a67e41c0>]"
      ]
     },
     "execution_count": 40,
     "metadata": {},
     "output_type": "execute_result"
    },
    {
     "data": {
      "image/png": "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",
      "text/plain": [
       "<Figure size 640x480 with 1 Axes>"
      ]
     },
     "metadata": {},
     "output_type": "display_data"
    }
   ],
   "source": [
    "plt.plot(eda_df[\"timestamps\"], eda_df[\"eda_norm\"])"
   ]
  },
  {
   "cell_type": "markdown",
   "id": "e9024ca5-bb68-4b93-bde2-dc1dd1dc010d",
   "metadata": {},
   "source": [
    "## Reading and Manipulating BVP Data"
   ]
  },
  {
   "cell_type": "code",
   "execution_count": 80,
   "id": "4dc4e1f5-bb38-426a-8267-76de82d25c3f",
   "metadata": {},
   "outputs": [],
   "source": [
    "bvp_path = \"/home/muhammad/Desktop/repos_ixp/tester_sony_digirelax/datasets/Empatica/BVP.csv\"\n",
    "bvp_df= pd.read_csv(bvp_path, names=['bvp_val'] )"
   ]
  },
  {
   "cell_type": "code",
   "execution_count": 92,
   "id": "0cb7c61b-c6a7-4577-8e6f-35d039ed50e7",
   "metadata": {},
   "outputs": [],
   "source": [
    "start_time_bvp = bvp_df.iloc[0,0]"
   ]
  },
  {
   "cell_type": "code",
   "execution_count": 93,
   "id": "a39ae55f-3fc7-4548-b6b6-9c3aa818ce88",
   "metadata": {},
   "outputs": [],
   "source": [
    "sampling_frequency_bvp =bvp_df.iloc[1,0]\n",
    "sampling_time_bvp = 1/sampling_frequency_bvp"
   ]
  },
  {
   "cell_type": "code",
   "execution_count": 94,
   "id": "9df8a9c3-8912-4373-8cd4-88bbf54a6a56",
   "metadata": {},
   "outputs": [],
   "source": [
    "timestamps_bvp = start_time_bvp + (bvp_df.index -2)*sampling_time_bvp"
   ]
  },
  {
   "cell_type": "code",
   "execution_count": 95,
   "id": "e3fdef31-7e77-4f1c-8a16-a5430cbe42b6",
   "metadata": {},
   "outputs": [
    {
     "data": {
      "text/plain": [
       "Float64Index([ 1695386908.96875, 1695386908.984375,      1695386909.0,\n",
       "              1695386909.015625,  1695386909.03125, 1695386909.046875,\n",
       "                1695386909.0625, 1695386909.078125,  1695386909.09375,\n",
       "              1695386909.109375,\n",
       "              ...\n",
       "              1695390797.859375,    1695390797.875, 1695390797.890625,\n",
       "               1695390797.90625, 1695390797.921875,   1695390797.9375,\n",
       "              1695390797.953125,  1695390797.96875, 1695390797.984375,\n",
       "                   1695390798.0],\n",
       "             dtype='float64', length=248899)"
      ]
     },
     "execution_count": 95,
     "metadata": {},
     "output_type": "execute_result"
    }
   ],
   "source": [
    "timestamps_bvp"
   ]
  },
  {
   "cell_type": "code",
   "execution_count": 96,
   "id": "a9e843ee-8eda-4b8c-99f9-61e37273afd5",
   "metadata": {},
   "outputs": [],
   "source": [
    "bvp_df['timestamps'] = timestamps_bvp"
   ]
  },
  {
   "cell_type": "code",
   "execution_count": 98,
   "id": "d566069c-4a26-455d-826a-a339c1f4dfd7",
   "metadata": {},
   "outputs": [],
   "source": [
    "bvp_df[\"bvp_val\"] = bvp_df[\"bvp_val\"].iloc[2:] "
   ]
  },
  {
   "cell_type": "code",
   "execution_count": 99,
   "id": "9536ecfd-f686-4c70-8198-d654b49886a3",
   "metadata": {},
   "outputs": [
    {
     "data": {
      "text/html": [
       "<div>\n",
       "<style scoped>\n",
       "    .dataframe tbody tr th:only-of-type {\n",
       "        vertical-align: middle;\n",
       "    }\n",
       "\n",
       "    .dataframe tbody tr th {\n",
       "        vertical-align: top;\n",
       "    }\n",
       "\n",
       "    .dataframe thead th {\n",
       "        text-align: right;\n",
       "    }\n",
       "</style>\n",
       "<table border=\"1\" class=\"dataframe\">\n",
       "  <thead>\n",
       "    <tr style=\"text-align: right;\">\n",
       "      <th></th>\n",
       "      <th>bvp_val</th>\n",
       "      <th>timestamps</th>\n",
       "    </tr>\n",
       "  </thead>\n",
       "  <tbody>\n",
       "    <tr>\n",
       "      <th>0</th>\n",
       "      <td>NaN</td>\n",
       "      <td>1.695387e+09</td>\n",
       "    </tr>\n",
       "    <tr>\n",
       "      <th>1</th>\n",
       "      <td>NaN</td>\n",
       "      <td>1.695387e+09</td>\n",
       "    </tr>\n",
       "    <tr>\n",
       "      <th>2</th>\n",
       "      <td>-0.00</td>\n",
       "      <td>1.695387e+09</td>\n",
       "    </tr>\n",
       "    <tr>\n",
       "      <th>3</th>\n",
       "      <td>-0.00</td>\n",
       "      <td>1.695387e+09</td>\n",
       "    </tr>\n",
       "    <tr>\n",
       "      <th>4</th>\n",
       "      <td>-0.00</td>\n",
       "      <td>1.695387e+09</td>\n",
       "    </tr>\n",
       "    <tr>\n",
       "      <th>...</th>\n",
       "      <td>...</td>\n",
       "      <td>...</td>\n",
       "    </tr>\n",
       "    <tr>\n",
       "      <th>248894</th>\n",
       "      <td>-79.38</td>\n",
       "      <td>1.695391e+09</td>\n",
       "    </tr>\n",
       "    <tr>\n",
       "      <th>248895</th>\n",
       "      <td>-100.97</td>\n",
       "      <td>1.695391e+09</td>\n",
       "    </tr>\n",
       "    <tr>\n",
       "      <th>248896</th>\n",
       "      <td>-126.46</td>\n",
       "      <td>1.695391e+09</td>\n",
       "    </tr>\n",
       "    <tr>\n",
       "      <th>248897</th>\n",
       "      <td>-154.78</td>\n",
       "      <td>1.695391e+09</td>\n",
       "    </tr>\n",
       "    <tr>\n",
       "      <th>248898</th>\n",
       "      <td>-183.09</td>\n",
       "      <td>1.695391e+09</td>\n",
       "    </tr>\n",
       "  </tbody>\n",
       "</table>\n",
       "<p>248899 rows × 2 columns</p>\n",
       "</div>"
      ],
      "text/plain": [
       "        bvp_val    timestamps\n",
       "0           NaN  1.695387e+09\n",
       "1           NaN  1.695387e+09\n",
       "2         -0.00  1.695387e+09\n",
       "3         -0.00  1.695387e+09\n",
       "4         -0.00  1.695387e+09\n",
       "...         ...           ...\n",
       "248894   -79.38  1.695391e+09\n",
       "248895  -100.97  1.695391e+09\n",
       "248896  -126.46  1.695391e+09\n",
       "248897  -154.78  1.695391e+09\n",
       "248898  -183.09  1.695391e+09\n",
       "\n",
       "[248899 rows x 2 columns]"
      ]
     },
     "execution_count": 99,
     "metadata": {},
     "output_type": "execute_result"
    }
   ],
   "source": [
    "bvp_df"
   ]
  },
  {
   "cell_type": "code",
   "execution_count": 101,
   "id": "f76ed0fe-5202-44c6-9485-f492e55ea8b9",
   "metadata": {},
   "outputs": [],
   "source": [
    "mean_bvp = bvp_df['bvp_val'].mean()"
   ]
  },
  {
   "cell_type": "code",
   "execution_count": 102,
   "id": "4520d094-2ec5-4487-8b3b-811877e7a97f",
   "metadata": {},
   "outputs": [
    {
     "data": {
      "text/plain": [
       "0.003196101198487743"
      ]
     },
     "execution_count": 102,
     "metadata": {},
     "output_type": "execute_result"
    }
   ],
   "source": [
    "mean_bvp"
   ]
  },
  {
   "cell_type": "code",
   "execution_count": 104,
   "id": "2c71805c-a245-4207-bf7c-288feb4cc994",
   "metadata": {},
   "outputs": [
    {
     "data": {
      "text/plain": [
       "[<matplotlib.lines.Line2D at 0x7ff59fb9e310>]"
      ]
     },
     "execution_count": 104,
     "metadata": {},
     "output_type": "execute_result"
    },
    {
     "data": {
      "image/png": "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",
      "text/plain": [
       "<Figure size 640x480 with 1 Axes>"
      ]
     },
     "metadata": {},
     "output_type": "display_data"
    }
   ],
   "source": [
    "plt.plot(bvp_df['timestamps'], bvp_df['bvp_val'])"
   ]
  },
  {
   "cell_type": "markdown",
   "id": "17128fd1-9898-4b04-98eb-b0872757415a",
   "metadata": {},
   "source": [
    "## Reading data from IBI"
   ]
  },
  {
   "cell_type": "code",
   "execution_count": 129,
   "id": "ae279551-1ca6-4f76-aa28-e97a43e6ba26",
   "metadata": {},
   "outputs": [],
   "source": [
    "ibi_csv_path = \"/home/muhammad/Desktop/repos_ixp/tester_sony_digirelax/datasets/Empatica/IBI.csv\"\n",
    "ibi_df = pd.read_csv(ibi_csv_path, names=[\"time\", \"IBI\"])"
   ]
  },
  {
   "cell_type": "code",
   "execution_count": 130,
   "id": "27b4371f-6acb-4506-8a9e-f6fb3fb54306",
   "metadata": {},
   "outputs": [
    {
     "data": {
      "text/html": [
       "<div>\n",
       "<style scoped>\n",
       "    .dataframe tbody tr th:only-of-type {\n",
       "        vertical-align: middle;\n",
       "    }\n",
       "\n",
       "    .dataframe tbody tr th {\n",
       "        vertical-align: top;\n",
       "    }\n",
       "\n",
       "    .dataframe thead th {\n",
       "        text-align: right;\n",
       "    }\n",
       "</style>\n",
       "<table border=\"1\" class=\"dataframe\">\n",
       "  <thead>\n",
       "    <tr style=\"text-align: right;\">\n",
       "      <th></th>\n",
       "      <th>time</th>\n",
       "      <th>IBI</th>\n",
       "    </tr>\n",
       "  </thead>\n",
       "  <tbody>\n",
       "    <tr>\n",
       "      <th>0</th>\n",
       "      <td>1.695387e+09</td>\n",
       "      <td>IBI</td>\n",
       "    </tr>\n",
       "    <tr>\n",
       "      <th>1</th>\n",
       "      <td>1.046875e+01</td>\n",
       "      <td>0.828125</td>\n",
       "    </tr>\n",
       "    <tr>\n",
       "      <th>2</th>\n",
       "      <td>1.131250e+01</td>\n",
       "      <td>0.843750</td>\n",
       "    </tr>\n",
       "    <tr>\n",
       "      <th>3</th>\n",
       "      <td>1.214062e+01</td>\n",
       "      <td>0.828125</td>\n",
       "    </tr>\n",
       "    <tr>\n",
       "      <th>4</th>\n",
       "      <td>1.292188e+01</td>\n",
       "      <td>0.781250</td>\n",
       "    </tr>\n",
       "    <tr>\n",
       "      <th>...</th>\n",
       "      <td>...</td>\n",
       "      <td>...</td>\n",
       "    </tr>\n",
       "    <tr>\n",
       "      <th>3694</th>\n",
       "      <td>3.858750e+03</td>\n",
       "      <td>0.812500</td>\n",
       "    </tr>\n",
       "    <tr>\n",
       "      <th>3695</th>\n",
       "      <td>3.859578e+03</td>\n",
       "      <td>0.828125</td>\n",
       "    </tr>\n",
       "    <tr>\n",
       "      <th>3696</th>\n",
       "      <td>3.860406e+03</td>\n",
       "      <td>0.828125</td>\n",
       "    </tr>\n",
       "    <tr>\n",
       "      <th>3697</th>\n",
       "      <td>3.861297e+03</td>\n",
       "      <td>0.890625</td>\n",
       "    </tr>\n",
       "    <tr>\n",
       "      <th>3698</th>\n",
       "      <td>3.862094e+03</td>\n",
       "      <td>0.796875</td>\n",
       "    </tr>\n",
       "  </tbody>\n",
       "</table>\n",
       "<p>3699 rows × 2 columns</p>\n",
       "</div>"
      ],
      "text/plain": [
       "              time       IBI\n",
       "0     1.695387e+09       IBI\n",
       "1     1.046875e+01  0.828125\n",
       "2     1.131250e+01  0.843750\n",
       "3     1.214062e+01  0.828125\n",
       "4     1.292188e+01  0.781250\n",
       "...            ...       ...\n",
       "3694  3.858750e+03  0.812500\n",
       "3695  3.859578e+03  0.828125\n",
       "3696  3.860406e+03  0.828125\n",
       "3697  3.861297e+03  0.890625\n",
       "3698  3.862094e+03  0.796875\n",
       "\n",
       "[3699 rows x 2 columns]"
      ]
     },
     "execution_count": 130,
     "metadata": {},
     "output_type": "execute_result"
    }
   ],
   "source": []
  },
  {
   "cell_type": "markdown",
   "id": "fa1dd8a4-c81f-4d83-b42e-84edafd70940",
   "metadata": {},
   "source": [
    "## Reading data from temperature sensor"
   ]
  },
  {
   "cell_type": "code",
   "execution_count": 115,
   "id": "af5e5a9f-19a4-428f-b304-74fd1ca0aa74",
   "metadata": {},
   "outputs": [],
   "source": [
    "temp_csv_path = \"/home/muhammad/Desktop/repos_ixp/tester_sony_digirelax/datasets/Empatica/TEMP.csv\"\n",
    "temp_df = pd.read_csv(temp_csv_path, names=['temp'])"
   ]
  },
  {
   "cell_type": "code",
   "execution_count": 116,
   "id": "fa1e4705-9972-4a9d-a8a6-9593aa3358ac",
   "metadata": {},
   "outputs": [],
   "source": [
    "starting_time_temp = temp_df.iloc[0,0]"
   ]
  },
  {
   "cell_type": "code",
   "execution_count": 117,
   "id": "398374bd-ae86-4982-953b-8c710d1134b3",
   "metadata": {},
   "outputs": [],
   "source": [
    "samp_freq_temp = temp_df.iloc[1,0]"
   ]
  },
  {
   "cell_type": "code",
   "execution_count": 118,
   "id": "03066c35-0ecb-4c95-8b49-608bddefcdf6",
   "metadata": {},
   "outputs": [],
   "source": [
    "samp_time_temp = 1/samp_freq_temp"
   ]
  },
  {
   "cell_type": "code",
   "execution_count": 120,
   "id": "9856e3d4-58b4-490b-9bd5-514b1ea0ae02",
   "metadata": {},
   "outputs": [],
   "source": [
    "timestamps_temp = starting_time_temp + (temp_df.index-2)*samp_time_temp"
   ]
  },
  {
   "cell_type": "code",
   "execution_count": 121,
   "id": "c91f343f-65f3-4b43-840c-e69c066bfa08",
   "metadata": {},
   "outputs": [
    {
     "data": {
      "text/plain": [
       "Float64Index([ 1695386908.5, 1695386908.75,  1695386909.0, 1695386909.25,\n",
       "               1695386909.5, 1695386909.75,  1695386910.0, 1695386910.25,\n",
       "               1695386910.5, 1695386910.75,\n",
       "              ...\n",
       "               1695390794.5, 1695390794.75,  1695390795.0, 1695390795.25,\n",
       "               1695390795.5, 1695390795.75,  1695390796.0, 1695390796.25,\n",
       "               1695390796.5, 1695390796.75],\n",
       "             dtype='float64', length=15554)"
      ]
     },
     "execution_count": 121,
     "metadata": {},
     "output_type": "execute_result"
    }
   ],
   "source": [
    "timestamps_temp"
   ]
  },
  {
   "cell_type": "code",
   "execution_count": 122,
   "id": "6af04cdd-1726-4568-b84d-a997c05221fc",
   "metadata": {},
   "outputs": [],
   "source": [
    "temp_df[\"timestamps\"] = timestamps_temp"
   ]
  },
  {
   "cell_type": "code",
   "execution_count": 123,
   "id": "0c3603fe-47e6-4c41-a7d6-0e49782a1410",
   "metadata": {},
   "outputs": [
    {
     "data": {
      "text/html": [
       "<div>\n",
       "<style scoped>\n",
       "    .dataframe tbody tr th:only-of-type {\n",
       "        vertical-align: middle;\n",
       "    }\n",
       "\n",
       "    .dataframe tbody tr th {\n",
       "        vertical-align: top;\n",
       "    }\n",
       "\n",
       "    .dataframe thead th {\n",
       "        text-align: right;\n",
       "    }\n",
       "</style>\n",
       "<table border=\"1\" class=\"dataframe\">\n",
       "  <thead>\n",
       "    <tr style=\"text-align: right;\">\n",
       "      <th></th>\n",
       "      <th>temp</th>\n",
       "      <th>timestamps</th>\n",
       "    </tr>\n",
       "  </thead>\n",
       "  <tbody>\n",
       "    <tr>\n",
       "      <th>0</th>\n",
       "      <td>1.695387e+09</td>\n",
       "      <td>1.695387e+09</td>\n",
       "    </tr>\n",
       "    <tr>\n",
       "      <th>1</th>\n",
       "      <td>4.000000e+00</td>\n",
       "      <td>1.695387e+09</td>\n",
       "    </tr>\n",
       "    <tr>\n",
       "      <th>2</th>\n",
       "      <td>3.475000e+01</td>\n",
       "      <td>1.695387e+09</td>\n",
       "    </tr>\n",
       "    <tr>\n",
       "      <th>3</th>\n",
       "      <td>3.475000e+01</td>\n",
       "      <td>1.695387e+09</td>\n",
       "    </tr>\n",
       "    <tr>\n",
       "      <th>4</th>\n",
       "      <td>3.475000e+01</td>\n",
       "      <td>1.695387e+09</td>\n",
       "    </tr>\n",
       "    <tr>\n",
       "      <th>...</th>\n",
       "      <td>...</td>\n",
       "      <td>...</td>\n",
       "    </tr>\n",
       "    <tr>\n",
       "      <th>15549</th>\n",
       "      <td>3.309000e+01</td>\n",
       "      <td>1.695391e+09</td>\n",
       "    </tr>\n",
       "    <tr>\n",
       "      <th>15550</th>\n",
       "      <td>3.309000e+01</td>\n",
       "      <td>1.695391e+09</td>\n",
       "    </tr>\n",
       "    <tr>\n",
       "      <th>15551</th>\n",
       "      <td>3.309000e+01</td>\n",
       "      <td>1.695391e+09</td>\n",
       "    </tr>\n",
       "    <tr>\n",
       "      <th>15552</th>\n",
       "      <td>3.309000e+01</td>\n",
       "      <td>1.695391e+09</td>\n",
       "    </tr>\n",
       "    <tr>\n",
       "      <th>15553</th>\n",
       "      <td>3.309000e+01</td>\n",
       "      <td>1.695391e+09</td>\n",
       "    </tr>\n",
       "  </tbody>\n",
       "</table>\n",
       "<p>15554 rows × 2 columns</p>\n",
       "</div>"
      ],
      "text/plain": [
       "               temp    timestamps\n",
       "0      1.695387e+09  1.695387e+09\n",
       "1      4.000000e+00  1.695387e+09\n",
       "2      3.475000e+01  1.695387e+09\n",
       "3      3.475000e+01  1.695387e+09\n",
       "4      3.475000e+01  1.695387e+09\n",
       "...             ...           ...\n",
       "15549  3.309000e+01  1.695391e+09\n",
       "15550  3.309000e+01  1.695391e+09\n",
       "15551  3.309000e+01  1.695391e+09\n",
       "15552  3.309000e+01  1.695391e+09\n",
       "15553  3.309000e+01  1.695391e+09\n",
       "\n",
       "[15554 rows x 2 columns]"
      ]
     },
     "execution_count": 123,
     "metadata": {},
     "output_type": "execute_result"
    }
   ],
   "source": [
    "temp_df"
   ]
  },
  {
   "cell_type": "code",
   "execution_count": 124,
   "id": "bced0ee7-d22e-46b5-afa9-f5b5c7f50714",
   "metadata": {},
   "outputs": [],
   "source": [
    "temp_df[\"temp\"] = temp_df[\"temp\"].iloc[2:]"
   ]
  },
  {
   "cell_type": "code",
   "execution_count": 125,
   "id": "0948dd0e-bb61-4cea-848c-c1fb407ab053",
   "metadata": {},
   "outputs": [
    {
     "data": {
      "text/html": [
       "<div>\n",
       "<style scoped>\n",
       "    .dataframe tbody tr th:only-of-type {\n",
       "        vertical-align: middle;\n",
       "    }\n",
       "\n",
       "    .dataframe tbody tr th {\n",
       "        vertical-align: top;\n",
       "    }\n",
       "\n",
       "    .dataframe thead th {\n",
       "        text-align: right;\n",
       "    }\n",
       "</style>\n",
       "<table border=\"1\" class=\"dataframe\">\n",
       "  <thead>\n",
       "    <tr style=\"text-align: right;\">\n",
       "      <th></th>\n",
       "      <th>temp</th>\n",
       "      <th>timestamps</th>\n",
       "    </tr>\n",
       "  </thead>\n",
       "  <tbody>\n",
       "    <tr>\n",
       "      <th>0</th>\n",
       "      <td>NaN</td>\n",
       "      <td>1.695387e+09</td>\n",
       "    </tr>\n",
       "    <tr>\n",
       "      <th>1</th>\n",
       "      <td>NaN</td>\n",
       "      <td>1.695387e+09</td>\n",
       "    </tr>\n",
       "    <tr>\n",
       "      <th>2</th>\n",
       "      <td>34.75</td>\n",
       "      <td>1.695387e+09</td>\n",
       "    </tr>\n",
       "    <tr>\n",
       "      <th>3</th>\n",
       "      <td>34.75</td>\n",
       "      <td>1.695387e+09</td>\n",
       "    </tr>\n",
       "    <tr>\n",
       "      <th>4</th>\n",
       "      <td>34.75</td>\n",
       "      <td>1.695387e+09</td>\n",
       "    </tr>\n",
       "    <tr>\n",
       "      <th>...</th>\n",
       "      <td>...</td>\n",
       "      <td>...</td>\n",
       "    </tr>\n",
       "    <tr>\n",
       "      <th>15549</th>\n",
       "      <td>33.09</td>\n",
       "      <td>1.695391e+09</td>\n",
       "    </tr>\n",
       "    <tr>\n",
       "      <th>15550</th>\n",
       "      <td>33.09</td>\n",
       "      <td>1.695391e+09</td>\n",
       "    </tr>\n",
       "    <tr>\n",
       "      <th>15551</th>\n",
       "      <td>33.09</td>\n",
       "      <td>1.695391e+09</td>\n",
       "    </tr>\n",
       "    <tr>\n",
       "      <th>15552</th>\n",
       "      <td>33.09</td>\n",
       "      <td>1.695391e+09</td>\n",
       "    </tr>\n",
       "    <tr>\n",
       "      <th>15553</th>\n",
       "      <td>33.09</td>\n",
       "      <td>1.695391e+09</td>\n",
       "    </tr>\n",
       "  </tbody>\n",
       "</table>\n",
       "<p>15554 rows × 2 columns</p>\n",
       "</div>"
      ],
      "text/plain": [
       "        temp    timestamps\n",
       "0        NaN  1.695387e+09\n",
       "1        NaN  1.695387e+09\n",
       "2      34.75  1.695387e+09\n",
       "3      34.75  1.695387e+09\n",
       "4      34.75  1.695387e+09\n",
       "...      ...           ...\n",
       "15549  33.09  1.695391e+09\n",
       "15550  33.09  1.695391e+09\n",
       "15551  33.09  1.695391e+09\n",
       "15552  33.09  1.695391e+09\n",
       "15553  33.09  1.695391e+09\n",
       "\n",
       "[15554 rows x 2 columns]"
      ]
     },
     "execution_count": 125,
     "metadata": {},
     "output_type": "execute_result"
    }
   ],
   "source": [
    "temp_df"
   ]
  },
  {
   "cell_type": "code",
   "execution_count": 126,
   "id": "c2a8616e-b4e4-4f02-bbe3-9936d5ca477b",
   "metadata": {},
   "outputs": [
    {
     "data": {
      "text/plain": [
       "[<matplotlib.lines.Line2D at 0x7ff59f150400>]"
      ]
     },
     "execution_count": 126,
     "metadata": {},
     "output_type": "execute_result"
    },
    {
     "data": {
      "image/png": "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",
      "text/plain": [
       "<Figure size 640x480 with 1 Axes>"
      ]
     },
     "metadata": {},
     "output_type": "display_data"
    }
   ],
   "source": [
    "plt.plot(temp_df[\"timestamps\"], temp_df[\"temp\"])"
   ]
  },
  {
   "cell_type": "markdown",
   "id": "ae1b971a-bee4-47cd-b894-f6dd6a08a77a",
   "metadata": {},
   "source": [
    "## Reading and manipulating tags"
   ]
  },
  {
   "cell_type": "code",
   "execution_count": 135,
   "id": "80199674-bbb3-45ae-9196-7f6bf45cd112",
   "metadata": {},
   "outputs": [],
   "source": [
    "tags_csv_path = \"/home/muhammad/Desktop/repos_ixp/tester_sony_digirelax/datasets/Empatica/tags.csv\"\n"
   ]
  },
  {
   "cell_type": "code",
   "execution_count": 136,
   "id": "99f14394-553c-4923-9e0c-47c44caf5bf1",
   "metadata": {},
   "outputs": [
    {
     "ename": "EmptyDataError",
     "evalue": "No columns to parse from file",
     "output_type": "error",
     "traceback": [
      "\u001b[0;31m---------------------------------------------------------------------------\u001b[0m",
      "\u001b[0;31mEmptyDataError\u001b[0m                            Traceback (most recent call last)",
      "Cell \u001b[0;32mIn[136], line 1\u001b[0m\n\u001b[0;32m----> 1\u001b[0m \u001b[43mpd\u001b[49m\u001b[38;5;241;43m.\u001b[39;49m\u001b[43mread_csv\u001b[49m\u001b[43m(\u001b[49m\u001b[43mtags_csv_path\u001b[49m\u001b[43m)\u001b[49m\n",
      "File \u001b[0;32m~/miniconda3/envs/sql_dep/lib/python3.9/site-packages/pandas/util/_decorators.py:211\u001b[0m, in \u001b[0;36mdeprecate_kwarg.<locals>._deprecate_kwarg.<locals>.wrapper\u001b[0;34m(*args, **kwargs)\u001b[0m\n\u001b[1;32m    209\u001b[0m     \u001b[38;5;28;01melse\u001b[39;00m:\n\u001b[1;32m    210\u001b[0m         kwargs[new_arg_name] \u001b[38;5;241m=\u001b[39m new_arg_value\n\u001b[0;32m--> 211\u001b[0m \u001b[38;5;28;01mreturn\u001b[39;00m \u001b[43mfunc\u001b[49m\u001b[43m(\u001b[49m\u001b[38;5;241;43m*\u001b[39;49m\u001b[43margs\u001b[49m\u001b[43m,\u001b[49m\u001b[43m \u001b[49m\u001b[38;5;241;43m*\u001b[39;49m\u001b[38;5;241;43m*\u001b[39;49m\u001b[43mkwargs\u001b[49m\u001b[43m)\u001b[49m\n",
      "File \u001b[0;32m~/miniconda3/envs/sql_dep/lib/python3.9/site-packages/pandas/util/_decorators.py:331\u001b[0m, in \u001b[0;36mdeprecate_nonkeyword_arguments.<locals>.decorate.<locals>.wrapper\u001b[0;34m(*args, **kwargs)\u001b[0m\n\u001b[1;32m    325\u001b[0m \u001b[38;5;28;01mif\u001b[39;00m \u001b[38;5;28mlen\u001b[39m(args) \u001b[38;5;241m>\u001b[39m num_allow_args:\n\u001b[1;32m    326\u001b[0m     warnings\u001b[38;5;241m.\u001b[39mwarn(\n\u001b[1;32m    327\u001b[0m         msg\u001b[38;5;241m.\u001b[39mformat(arguments\u001b[38;5;241m=\u001b[39m_format_argument_list(allow_args)),\n\u001b[1;32m    328\u001b[0m         \u001b[38;5;167;01mFutureWarning\u001b[39;00m,\n\u001b[1;32m    329\u001b[0m         stacklevel\u001b[38;5;241m=\u001b[39mfind_stack_level(),\n\u001b[1;32m    330\u001b[0m     )\n\u001b[0;32m--> 331\u001b[0m \u001b[38;5;28;01mreturn\u001b[39;00m \u001b[43mfunc\u001b[49m\u001b[43m(\u001b[49m\u001b[38;5;241;43m*\u001b[39;49m\u001b[43margs\u001b[49m\u001b[43m,\u001b[49m\u001b[43m \u001b[49m\u001b[38;5;241;43m*\u001b[39;49m\u001b[38;5;241;43m*\u001b[39;49m\u001b[43mkwargs\u001b[49m\u001b[43m)\u001b[49m\n",
      "File \u001b[0;32m~/miniconda3/envs/sql_dep/lib/python3.9/site-packages/pandas/io/parsers/readers.py:950\u001b[0m, in \u001b[0;36mread_csv\u001b[0;34m(filepath_or_buffer, sep, delimiter, header, names, index_col, usecols, squeeze, prefix, mangle_dupe_cols, dtype, engine, converters, true_values, false_values, skipinitialspace, skiprows, skipfooter, nrows, na_values, keep_default_na, na_filter, verbose, skip_blank_lines, parse_dates, infer_datetime_format, keep_date_col, date_parser, dayfirst, cache_dates, iterator, chunksize, compression, thousands, decimal, lineterminator, quotechar, quoting, doublequote, escapechar, comment, encoding, encoding_errors, dialect, error_bad_lines, warn_bad_lines, on_bad_lines, delim_whitespace, low_memory, memory_map, float_precision, storage_options)\u001b[0m\n\u001b[1;32m    935\u001b[0m kwds_defaults \u001b[38;5;241m=\u001b[39m _refine_defaults_read(\n\u001b[1;32m    936\u001b[0m     dialect,\n\u001b[1;32m    937\u001b[0m     delimiter,\n\u001b[0;32m   (...)\u001b[0m\n\u001b[1;32m    946\u001b[0m     defaults\u001b[38;5;241m=\u001b[39m{\u001b[38;5;124m\"\u001b[39m\u001b[38;5;124mdelimiter\u001b[39m\u001b[38;5;124m\"\u001b[39m: \u001b[38;5;124m\"\u001b[39m\u001b[38;5;124m,\u001b[39m\u001b[38;5;124m\"\u001b[39m},\n\u001b[1;32m    947\u001b[0m )\n\u001b[1;32m    948\u001b[0m kwds\u001b[38;5;241m.\u001b[39mupdate(kwds_defaults)\n\u001b[0;32m--> 950\u001b[0m \u001b[38;5;28;01mreturn\u001b[39;00m \u001b[43m_read\u001b[49m\u001b[43m(\u001b[49m\u001b[43mfilepath_or_buffer\u001b[49m\u001b[43m,\u001b[49m\u001b[43m \u001b[49m\u001b[43mkwds\u001b[49m\u001b[43m)\u001b[49m\n",
      "File \u001b[0;32m~/miniconda3/envs/sql_dep/lib/python3.9/site-packages/pandas/io/parsers/readers.py:605\u001b[0m, in \u001b[0;36m_read\u001b[0;34m(filepath_or_buffer, kwds)\u001b[0m\n\u001b[1;32m    602\u001b[0m _validate_names(kwds\u001b[38;5;241m.\u001b[39mget(\u001b[38;5;124m\"\u001b[39m\u001b[38;5;124mnames\u001b[39m\u001b[38;5;124m\"\u001b[39m, \u001b[38;5;28;01mNone\u001b[39;00m))\n\u001b[1;32m    604\u001b[0m \u001b[38;5;66;03m# Create the parser.\u001b[39;00m\n\u001b[0;32m--> 605\u001b[0m parser \u001b[38;5;241m=\u001b[39m \u001b[43mTextFileReader\u001b[49m\u001b[43m(\u001b[49m\u001b[43mfilepath_or_buffer\u001b[49m\u001b[43m,\u001b[49m\u001b[43m \u001b[49m\u001b[38;5;241;43m*\u001b[39;49m\u001b[38;5;241;43m*\u001b[39;49m\u001b[43mkwds\u001b[49m\u001b[43m)\u001b[49m\n\u001b[1;32m    607\u001b[0m \u001b[38;5;28;01mif\u001b[39;00m chunksize \u001b[38;5;129;01mor\u001b[39;00m iterator:\n\u001b[1;32m    608\u001b[0m     \u001b[38;5;28;01mreturn\u001b[39;00m parser\n",
      "File \u001b[0;32m~/miniconda3/envs/sql_dep/lib/python3.9/site-packages/pandas/io/parsers/readers.py:1442\u001b[0m, in \u001b[0;36mTextFileReader.__init__\u001b[0;34m(self, f, engine, **kwds)\u001b[0m\n\u001b[1;32m   1439\u001b[0m     \u001b[38;5;28mself\u001b[39m\u001b[38;5;241m.\u001b[39moptions[\u001b[38;5;124m\"\u001b[39m\u001b[38;5;124mhas_index_names\u001b[39m\u001b[38;5;124m\"\u001b[39m] \u001b[38;5;241m=\u001b[39m kwds[\u001b[38;5;124m\"\u001b[39m\u001b[38;5;124mhas_index_names\u001b[39m\u001b[38;5;124m\"\u001b[39m]\n\u001b[1;32m   1441\u001b[0m \u001b[38;5;28mself\u001b[39m\u001b[38;5;241m.\u001b[39mhandles: IOHandles \u001b[38;5;241m|\u001b[39m \u001b[38;5;28;01mNone\u001b[39;00m \u001b[38;5;241m=\u001b[39m \u001b[38;5;28;01mNone\u001b[39;00m\n\u001b[0;32m-> 1442\u001b[0m \u001b[38;5;28mself\u001b[39m\u001b[38;5;241m.\u001b[39m_engine \u001b[38;5;241m=\u001b[39m \u001b[38;5;28;43mself\u001b[39;49m\u001b[38;5;241;43m.\u001b[39;49m\u001b[43m_make_engine\u001b[49m\u001b[43m(\u001b[49m\u001b[43mf\u001b[49m\u001b[43m,\u001b[49m\u001b[43m \u001b[49m\u001b[38;5;28;43mself\u001b[39;49m\u001b[38;5;241;43m.\u001b[39;49m\u001b[43mengine\u001b[49m\u001b[43m)\u001b[49m\n",
      "File \u001b[0;32m~/miniconda3/envs/sql_dep/lib/python3.9/site-packages/pandas/io/parsers/readers.py:1753\u001b[0m, in \u001b[0;36mTextFileReader._make_engine\u001b[0;34m(self, f, engine)\u001b[0m\n\u001b[1;32m   1750\u001b[0m     \u001b[38;5;28;01mraise\u001b[39;00m \u001b[38;5;167;01mValueError\u001b[39;00m(msg)\n\u001b[1;32m   1752\u001b[0m \u001b[38;5;28;01mtry\u001b[39;00m:\n\u001b[0;32m-> 1753\u001b[0m     \u001b[38;5;28;01mreturn\u001b[39;00m \u001b[43mmapping\u001b[49m\u001b[43m[\u001b[49m\u001b[43mengine\u001b[49m\u001b[43m]\u001b[49m\u001b[43m(\u001b[49m\u001b[43mf\u001b[49m\u001b[43m,\u001b[49m\u001b[43m \u001b[49m\u001b[38;5;241;43m*\u001b[39;49m\u001b[38;5;241;43m*\u001b[39;49m\u001b[38;5;28;43mself\u001b[39;49m\u001b[38;5;241;43m.\u001b[39;49m\u001b[43moptions\u001b[49m\u001b[43m)\u001b[49m\n\u001b[1;32m   1754\u001b[0m \u001b[38;5;28;01mexcept\u001b[39;00m \u001b[38;5;167;01mException\u001b[39;00m:\n\u001b[1;32m   1755\u001b[0m     \u001b[38;5;28;01mif\u001b[39;00m \u001b[38;5;28mself\u001b[39m\u001b[38;5;241m.\u001b[39mhandles \u001b[38;5;129;01mis\u001b[39;00m \u001b[38;5;129;01mnot\u001b[39;00m \u001b[38;5;28;01mNone\u001b[39;00m:\n",
      "File \u001b[0;32m~/miniconda3/envs/sql_dep/lib/python3.9/site-packages/pandas/io/parsers/c_parser_wrapper.py:79\u001b[0m, in \u001b[0;36mCParserWrapper.__init__\u001b[0;34m(self, src, **kwds)\u001b[0m\n\u001b[1;32m     76\u001b[0m     kwds\u001b[38;5;241m.\u001b[39mpop(key, \u001b[38;5;28;01mNone\u001b[39;00m)\n\u001b[1;32m     78\u001b[0m kwds[\u001b[38;5;124m\"\u001b[39m\u001b[38;5;124mdtype\u001b[39m\u001b[38;5;124m\"\u001b[39m] \u001b[38;5;241m=\u001b[39m ensure_dtype_objs(kwds\u001b[38;5;241m.\u001b[39mget(\u001b[38;5;124m\"\u001b[39m\u001b[38;5;124mdtype\u001b[39m\u001b[38;5;124m\"\u001b[39m, \u001b[38;5;28;01mNone\u001b[39;00m))\n\u001b[0;32m---> 79\u001b[0m \u001b[38;5;28mself\u001b[39m\u001b[38;5;241m.\u001b[39m_reader \u001b[38;5;241m=\u001b[39m \u001b[43mparsers\u001b[49m\u001b[38;5;241;43m.\u001b[39;49m\u001b[43mTextReader\u001b[49m\u001b[43m(\u001b[49m\u001b[43msrc\u001b[49m\u001b[43m,\u001b[49m\u001b[43m \u001b[49m\u001b[38;5;241;43m*\u001b[39;49m\u001b[38;5;241;43m*\u001b[39;49m\u001b[43mkwds\u001b[49m\u001b[43m)\u001b[49m\n\u001b[1;32m     81\u001b[0m \u001b[38;5;28mself\u001b[39m\u001b[38;5;241m.\u001b[39munnamed_cols \u001b[38;5;241m=\u001b[39m \u001b[38;5;28mself\u001b[39m\u001b[38;5;241m.\u001b[39m_reader\u001b[38;5;241m.\u001b[39munnamed_cols\n\u001b[1;32m     83\u001b[0m \u001b[38;5;66;03m# error: Cannot determine type of 'names'\u001b[39;00m\n",
      "File \u001b[0;32m~/miniconda3/envs/sql_dep/lib/python3.9/site-packages/pandas/_libs/parsers.pyx:554\u001b[0m, in \u001b[0;36mpandas._libs.parsers.TextReader.__cinit__\u001b[0;34m()\u001b[0m\n",
      "\u001b[0;31mEmptyDataError\u001b[0m: No columns to parse from file"
     ]
    }
   ],
   "source": [
    "pd.read_csv(tags_csv_path)"
   ]
  },
  {
   "cell_type": "code",
   "execution_count": null,
   "id": "30079751-8c19-4c44-9d50-4ad44a2bf4b9",
   "metadata": {},
   "outputs": [],
   "source": []
  }
 ],
 "metadata": {
  "kernelspec": {
   "display_name": "Python 3 (ipykernel)",
   "language": "python",
   "name": "python3"
  },
  "language_info": {
   "codemirror_mode": {
    "name": "ipython",
    "version": 3
   },
   "file_extension": ".py",
   "mimetype": "text/x-python",
   "name": "python",
   "nbconvert_exporter": "python",
   "pygments_lexer": "ipython3",
   "version": "3.9.13"
  }
 },
 "nbformat": 4,
 "nbformat_minor": 5
}
